{
 "cells": [
  {
   "cell_type": "markdown",
   "metadata": {},
   "source": [
    "# Поиск клиентов с неоптимальными тарифами (телеком)."
   ]
  },
  {
   "cell_type": "markdown",
   "metadata": {},
   "source": [
    "Дополнительные задания:\n",
    "\n",
    "[__Дашборд__](https://public.tableau.com/app/profile/stepan8203/viz/Telecom_2_0/Dashboard1?publish=yes)\n",
    "\n",
    "[__Презентация__](https://drive.google.com/file/d/1kwIIfhVVLbWIswBrzr3Ychm4ZSjPYDyI/view?usp=sharing)"
   ]
  },
  {
   "cell_type": "markdown",
   "metadata": {},
   "source": [
    "Проект предполагает исследование данных по использованию услуг телефонии. Клиенты компании - колл-центры. \n",
    "\n",
    "__Цель проекта - определить стратегию перевода клиентов использующих неоптимальные тарифы на более выгодные для уменьшения оттока и увеличения LTV с минимальными потерями выручки для компании.__\n",
    "\n"
   ]
  },
  {
   "cell_type": "markdown",
   "metadata": {},
   "source": [
    "__Содержание:__"
   ]
  },
  {
   "cell_type": "markdown",
   "metadata": {},
   "source": [
    "Проект предполагает следующие этапы:\n",
    "\n",
    "* **1. Загрузка и предобработка данных.**\n",
    " * 1.1. Общая информация о данных.\n",
    " * 2.1. Работа с дубликатами и пропусками\n",
    " * 3.1. Изменение формата данных\n",
    "\n",
    "* **2. EDA Исследовательский анализ.**\n",
    " * 2.1. Временной промежуток исследования\n",
    " * 2.2. Продолжительность и количество звонков\n",
    " * 3.2. Количество операторов\n",
    " * 4.2. Пропущенные звонки\n",
    " * 5.2. Вывод\n",
    "\n",
    "* **3. Определение числа активных клиентов**\n",
    " * 3.1.Вывод\n",
    "  \n",
    "* **4. Расчет выручки и определение перспективного тарифа**\n",
    " * 4.1. Расчет стоимости минут\n",
    " * 4.2. Расчет абонентской платы\n",
    "   * 4.2.1 Текущий тариф\n",
    "   * 4.2.2. Все тарифы\n",
    " * 4.3. Определение более выгодного тарифа\n",
    " * 4.4. Выручка на текущем тарифе\n",
    " * 4.5. Определение выручки по остальным тарифам\n",
    " * 4.6. Вывод\n",
    "  \n",
    "* **5.Минимизация потери выручки**\n",
    " * 5.1. Вывод\n",
    "\n",
    "* **6. Проверка статистиеских гипотез**\n",
    " * 6.1. Выручка компании не изменится при полном переводе клиентов на оптимальные тарифы\n",
    " * 6.2. Выручка компании не изменится при частичном переводе клиентов на оптимальные тарифы\n",
    "\n",
    "\n",
    "* **7. Общий вывод и ркомендации**"
   ]
  },
  {
   "cell_type": "markdown",
   "metadata": {},
   "source": [
    "## Загрузка и предобработка данных."
   ]
  },
  {
   "cell_type": "markdown",
   "metadata": {},
   "source": [
    "### Общая информация о данных"
   ]
  },
  {
   "cell_type": "code",
   "execution_count": 1,
   "metadata": {},
   "outputs": [],
   "source": [
    "#импортируем необходимые библиотеки\n",
    "import pandas as pd\n",
    "import numpy as np\n",
    "from datetime import datetime, timedelta\n",
    "import seaborn as sns\n",
    "import matplotlib.pyplot as plt\n",
    "import warnings\n",
    "warnings.filterwarnings(\"ignore\")\n",
    "sns.set(rc={'figure.figsize':(15,5)}, font_scale=1.2, palette='GnBu_d')\n",
    "import calendar \n",
    "from scipy import stats as st\n",
    "from scipy.stats import levene\n",
    "import math"
   ]
  },
  {
   "cell_type": "markdown",
   "metadata": {},
   "source": [
    "Не получилось загрузить данные из архива через pd.read_csv('telecom_dataset.csv.zip') поэтому оставляю свои ссылки."
   ]
  },
  {
   "cell_type": "code",
   "execution_count": 2,
   "metadata": {},
   "outputs": [],
   "source": [
    "#загрузим данные\n",
    "#df = pd.read_csv(r\"C:\\Users\\79520\\Downloads\\telecom_dataset (1).csv\")\n",
    "#df_clients = pd.read_csv(r\"C:\\Users\\79520\\Downloads\\telecom_clients (1).csv\")\n",
    "\n",
    "df = pd.read_csv(\"/datasets/telecom_dataset.csv\")\n",
    "df_clients = pd.read_csv(\"/datasets/telecom_clients.csv\")"
   ]
  },
  {
   "cell_type": "markdown",
   "metadata": {},
   "source": [
    " **Описание данных:**\n",
    "\n",
    "Датасеты содержат данные об использовании услуг виртуальной телефонии \"Нупозвони\". Клиентами \"Нупозвони\" являются организации, которым нужно распределять множество входящих вызовов на различных операторов, либо осуществлять исходящие вызовы силами операторов. Также операторы могут осуществлять внутренние вызовы, то есть вызовы друг между другом, которые осуществляются внутри сети виртуальной телефонии.\n",
    "\n",
    "Колонки в *telecom_dataset.csv.zip*:\n",
    "\n",
    "- `user_id` — идентификатор клиента,\n",
    "- `date` — дата статистики;\n",
    "- `direction` — направление вызовов: `out` — исходящий вызов, `in` — входящий;\n",
    "- `internal` — маркер внутренних и внешних вызовов;\n",
    "- `operator_id` — идентификатор оператора;\n",
    "- `is_missed_call` — маркер пропущенных вызовов;\n",
    "- `calls_count` — количество звонков;\n",
    "- `call_duration` — длительность звонка без учёта времени ожидания;\n",
    "- `total_call_duration` — длительность звонка с учётом времени ожидания.\n",
    "\n",
    "Колонки в *telecom_clients.csv:*\n",
    "\n",
    "- `user_id` — идентификатор клиента,\n",
    "- `tariff_plan` — тарифный план клиента,\n",
    "- `date_start` — дата регистрации клиента в сервисе.\n"
   ]
  },
  {
   "cell_type": "code",
   "execution_count": 3,
   "metadata": {},
   "outputs": [
    {
     "data": {
      "text/html": [
       "<div>\n",
       "<style scoped>\n",
       "    .dataframe tbody tr th:only-of-type {\n",
       "        vertical-align: middle;\n",
       "    }\n",
       "\n",
       "    .dataframe tbody tr th {\n",
       "        vertical-align: top;\n",
       "    }\n",
       "\n",
       "    .dataframe thead th {\n",
       "        text-align: right;\n",
       "    }\n",
       "</style>\n",
       "<table border=\"1\" class=\"dataframe\">\n",
       "  <thead>\n",
       "    <tr style=\"text-align: right;\">\n",
       "      <th></th>\n",
       "      <th>user_id</th>\n",
       "      <th>date</th>\n",
       "      <th>direction</th>\n",
       "      <th>internal</th>\n",
       "      <th>operator_id</th>\n",
       "      <th>is_missed_call</th>\n",
       "      <th>calls_count</th>\n",
       "      <th>call_duration</th>\n",
       "      <th>total_call_duration</th>\n",
       "    </tr>\n",
       "  </thead>\n",
       "  <tbody>\n",
       "    <tr>\n",
       "      <td>0</td>\n",
       "      <td>166377</td>\n",
       "      <td>2019-08-04 00:00:00+03:00</td>\n",
       "      <td>in</td>\n",
       "      <td>False</td>\n",
       "      <td>NaN</td>\n",
       "      <td>True</td>\n",
       "      <td>2</td>\n",
       "      <td>0</td>\n",
       "      <td>4</td>\n",
       "    </tr>\n",
       "    <tr>\n",
       "      <td>1</td>\n",
       "      <td>166377</td>\n",
       "      <td>2019-08-05 00:00:00+03:00</td>\n",
       "      <td>out</td>\n",
       "      <td>True</td>\n",
       "      <td>880022.0</td>\n",
       "      <td>True</td>\n",
       "      <td>3</td>\n",
       "      <td>0</td>\n",
       "      <td>5</td>\n",
       "    </tr>\n",
       "    <tr>\n",
       "      <td>2</td>\n",
       "      <td>166377</td>\n",
       "      <td>2019-08-05 00:00:00+03:00</td>\n",
       "      <td>out</td>\n",
       "      <td>True</td>\n",
       "      <td>880020.0</td>\n",
       "      <td>True</td>\n",
       "      <td>1</td>\n",
       "      <td>0</td>\n",
       "      <td>1</td>\n",
       "    </tr>\n",
       "  </tbody>\n",
       "</table>\n",
       "</div>"
      ],
      "text/plain": [
       "   user_id                       date direction internal  operator_id  \\\n",
       "0   166377  2019-08-04 00:00:00+03:00        in    False          NaN   \n",
       "1   166377  2019-08-05 00:00:00+03:00       out     True     880022.0   \n",
       "2   166377  2019-08-05 00:00:00+03:00       out     True     880020.0   \n",
       "\n",
       "   is_missed_call  calls_count  call_duration  total_call_duration  \n",
       "0            True            2              0                    4  \n",
       "1            True            3              0                    5  \n",
       "2            True            1              0                    1  "
      ]
     },
     "execution_count": 3,
     "metadata": {},
     "output_type": "execute_result"
    }
   ],
   "source": [
    "df.head(3)"
   ]
  },
  {
   "cell_type": "code",
   "execution_count": 4,
   "metadata": {},
   "outputs": [
    {
     "name": "stdout",
     "output_type": "stream",
     "text": [
      "<class 'pandas.core.frame.DataFrame'>\n",
      "RangeIndex: 53902 entries, 0 to 53901\n",
      "Data columns (total 9 columns):\n",
      "user_id                53902 non-null int64\n",
      "date                   53902 non-null object\n",
      "direction              53902 non-null object\n",
      "internal               53785 non-null object\n",
      "operator_id            45730 non-null float64\n",
      "is_missed_call         53902 non-null bool\n",
      "calls_count            53902 non-null int64\n",
      "call_duration          53902 non-null int64\n",
      "total_call_duration    53902 non-null int64\n",
      "dtypes: bool(1), float64(1), int64(4), object(3)\n",
      "memory usage: 3.3+ MB\n"
     ]
    }
   ],
   "source": [
    "df.info()"
   ]
  },
  {
   "cell_type": "markdown",
   "metadata": {},
   "source": [
    "### Работа с дубликатами и пропусками"
   ]
  },
  {
   "cell_type": "code",
   "execution_count": 5,
   "metadata": {},
   "outputs": [
    {
     "name": "stdout",
     "output_type": "stream",
     "text": [
      "<class 'pandas.core.frame.DataFrame'>\n",
      "RangeIndex: 732 entries, 0 to 731\n",
      "Data columns (total 3 columns):\n",
      "user_id        732 non-null int64\n",
      "tariff_plan    732 non-null object\n",
      "date_start     732 non-null object\n",
      "dtypes: int64(1), object(2)\n",
      "memory usage: 17.3+ KB\n"
     ]
    }
   ],
   "source": [
    "df_clients.info()"
   ]
  },
  {
   "cell_type": "code",
   "execution_count": 6,
   "metadata": {},
   "outputs": [
    {
     "data": {
      "text/plain": [
       "0"
      ]
     },
     "execution_count": 6,
     "metadata": {},
     "output_type": "execute_result"
    }
   ],
   "source": [
    "df_clients.duplicated().sum()"
   ]
  },
  {
   "cell_type": "code",
   "execution_count": 7,
   "metadata": {},
   "outputs": [
    {
     "data": {
      "text/html": [
       "<div>\n",
       "<style scoped>\n",
       "    .dataframe tbody tr th:only-of-type {\n",
       "        vertical-align: middle;\n",
       "    }\n",
       "\n",
       "    .dataframe tbody tr th {\n",
       "        vertical-align: top;\n",
       "    }\n",
       "\n",
       "    .dataframe thead th {\n",
       "        text-align: right;\n",
       "    }\n",
       "</style>\n",
       "<table border=\"1\" class=\"dataframe\">\n",
       "  <thead>\n",
       "    <tr style=\"text-align: right;\">\n",
       "      <th></th>\n",
       "      <th>user_id</th>\n",
       "      <th>date</th>\n",
       "      <th>direction</th>\n",
       "      <th>internal</th>\n",
       "      <th>operator_id</th>\n",
       "      <th>is_missed_call</th>\n",
       "      <th>calls_count</th>\n",
       "      <th>call_duration</th>\n",
       "      <th>total_call_duration</th>\n",
       "    </tr>\n",
       "  </thead>\n",
       "  <tbody>\n",
       "    <tr>\n",
       "      <td>1007</td>\n",
       "      <td>166405</td>\n",
       "      <td>2019-09-18 00:00:00+03:00</td>\n",
       "      <td>in</td>\n",
       "      <td>NaN</td>\n",
       "      <td>NaN</td>\n",
       "      <td>True</td>\n",
       "      <td>1</td>\n",
       "      <td>0</td>\n",
       "      <td>59</td>\n",
       "    </tr>\n",
       "    <tr>\n",
       "      <td>1090</td>\n",
       "      <td>166405</td>\n",
       "      <td>2019-10-01 00:00:00+03:00</td>\n",
       "      <td>in</td>\n",
       "      <td>NaN</td>\n",
       "      <td>NaN</td>\n",
       "      <td>True</td>\n",
       "      <td>1</td>\n",
       "      <td>0</td>\n",
       "      <td>1</td>\n",
       "    </tr>\n",
       "    <tr>\n",
       "      <td>1864</td>\n",
       "      <td>166406</td>\n",
       "      <td>2019-08-20 00:00:00+03:00</td>\n",
       "      <td>in</td>\n",
       "      <td>NaN</td>\n",
       "      <td>NaN</td>\n",
       "      <td>True</td>\n",
       "      <td>1</td>\n",
       "      <td>0</td>\n",
       "      <td>36</td>\n",
       "    </tr>\n",
       "    <tr>\n",
       "      <td>1924</td>\n",
       "      <td>166406</td>\n",
       "      <td>2019-09-02 00:00:00+03:00</td>\n",
       "      <td>in</td>\n",
       "      <td>NaN</td>\n",
       "      <td>879898.0</td>\n",
       "      <td>False</td>\n",
       "      <td>1</td>\n",
       "      <td>2</td>\n",
       "      <td>9</td>\n",
       "    </tr>\n",
       "    <tr>\n",
       "      <td>6210</td>\n",
       "      <td>166541</td>\n",
       "      <td>2019-09-26 00:00:00+03:00</td>\n",
       "      <td>in</td>\n",
       "      <td>NaN</td>\n",
       "      <td>908960.0</td>\n",
       "      <td>False</td>\n",
       "      <td>1</td>\n",
       "      <td>393</td>\n",
       "      <td>423</td>\n",
       "    </tr>\n",
       "    <tr>\n",
       "      <td>...</td>\n",
       "      <td>...</td>\n",
       "      <td>...</td>\n",
       "      <td>...</td>\n",
       "      <td>...</td>\n",
       "      <td>...</td>\n",
       "      <td>...</td>\n",
       "      <td>...</td>\n",
       "      <td>...</td>\n",
       "      <td>...</td>\n",
       "    </tr>\n",
       "    <tr>\n",
       "      <td>52462</td>\n",
       "      <td>168361</td>\n",
       "      <td>2019-11-09 00:00:00+03:00</td>\n",
       "      <td>in</td>\n",
       "      <td>NaN</td>\n",
       "      <td>NaN</td>\n",
       "      <td>True</td>\n",
       "      <td>6</td>\n",
       "      <td>0</td>\n",
       "      <td>14</td>\n",
       "    </tr>\n",
       "    <tr>\n",
       "      <td>52590</td>\n",
       "      <td>168361</td>\n",
       "      <td>2019-11-13 00:00:00+03:00</td>\n",
       "      <td>in</td>\n",
       "      <td>NaN</td>\n",
       "      <td>NaN</td>\n",
       "      <td>True</td>\n",
       "      <td>2</td>\n",
       "      <td>0</td>\n",
       "      <td>6</td>\n",
       "    </tr>\n",
       "    <tr>\n",
       "      <td>52621</td>\n",
       "      <td>168361</td>\n",
       "      <td>2019-11-14 00:00:00+03:00</td>\n",
       "      <td>in</td>\n",
       "      <td>NaN</td>\n",
       "      <td>NaN</td>\n",
       "      <td>True</td>\n",
       "      <td>1</td>\n",
       "      <td>0</td>\n",
       "      <td>2</td>\n",
       "    </tr>\n",
       "    <tr>\n",
       "      <td>53717</td>\n",
       "      <td>168579</td>\n",
       "      <td>2019-11-09 00:00:00+03:00</td>\n",
       "      <td>in</td>\n",
       "      <td>NaN</td>\n",
       "      <td>NaN</td>\n",
       "      <td>True</td>\n",
       "      <td>1</td>\n",
       "      <td>0</td>\n",
       "      <td>18</td>\n",
       "    </tr>\n",
       "    <tr>\n",
       "      <td>53799</td>\n",
       "      <td>168598</td>\n",
       "      <td>2019-11-22 00:00:00+03:00</td>\n",
       "      <td>in</td>\n",
       "      <td>NaN</td>\n",
       "      <td>958394.0</td>\n",
       "      <td>False</td>\n",
       "      <td>1</td>\n",
       "      <td>11</td>\n",
       "      <td>17</td>\n",
       "    </tr>\n",
       "  </tbody>\n",
       "</table>\n",
       "<p>117 rows × 9 columns</p>\n",
       "</div>"
      ],
      "text/plain": [
       "       user_id                       date direction internal  operator_id  \\\n",
       "1007    166405  2019-09-18 00:00:00+03:00        in      NaN          NaN   \n",
       "1090    166405  2019-10-01 00:00:00+03:00        in      NaN          NaN   \n",
       "1864    166406  2019-08-20 00:00:00+03:00        in      NaN          NaN   \n",
       "1924    166406  2019-09-02 00:00:00+03:00        in      NaN     879898.0   \n",
       "6210    166541  2019-09-26 00:00:00+03:00        in      NaN     908960.0   \n",
       "...        ...                        ...       ...      ...          ...   \n",
       "52462   168361  2019-11-09 00:00:00+03:00        in      NaN          NaN   \n",
       "52590   168361  2019-11-13 00:00:00+03:00        in      NaN          NaN   \n",
       "52621   168361  2019-11-14 00:00:00+03:00        in      NaN          NaN   \n",
       "53717   168579  2019-11-09 00:00:00+03:00        in      NaN          NaN   \n",
       "53799   168598  2019-11-22 00:00:00+03:00        in      NaN     958394.0   \n",
       "\n",
       "       is_missed_call  calls_count  call_duration  total_call_duration  \n",
       "1007             True            1              0                   59  \n",
       "1090             True            1              0                    1  \n",
       "1864             True            1              0                   36  \n",
       "1924            False            1              2                    9  \n",
       "6210            False            1            393                  423  \n",
       "...               ...          ...            ...                  ...  \n",
       "52462            True            6              0                   14  \n",
       "52590            True            2              0                    6  \n",
       "52621            True            1              0                    2  \n",
       "53717            True            1              0                   18  \n",
       "53799           False            1             11                   17  \n",
       "\n",
       "[117 rows x 9 columns]"
      ]
     },
     "execution_count": 7,
     "metadata": {},
     "output_type": "execute_result"
    }
   ],
   "source": [
    "#изучим пропущенные значения\n",
    "df[df['internal'].isna()]"
   ]
  },
  {
   "cell_type": "code",
   "execution_count": 8,
   "metadata": {},
   "outputs": [
    {
     "data": {
      "text/plain": [
       "user_id        0\n",
       "tariff_plan    0\n",
       "date_start     0\n",
       "dtype: int64"
      ]
     },
     "execution_count": 8,
     "metadata": {},
     "output_type": "execute_result"
    }
   ],
   "source": [
    "df_clients.isna().sum()"
   ]
  },
  {
   "cell_type": "markdown",
   "metadata": {},
   "source": [
    "В данных больщое колиество пропусков  в поле 'operator_id' удалив данные потеряем большую часть для анализа, решение - заменим пропуски маркером."
   ]
  },
  {
   "cell_type": "code",
   "execution_count": 9,
   "metadata": {},
   "outputs": [
    {
     "data": {
      "text/plain": [
       "user_id                   0\n",
       "date                      0\n",
       "direction                 0\n",
       "internal                117\n",
       "operator_id            8172\n",
       "is_missed_call            0\n",
       "calls_count               0\n",
       "call_duration             0\n",
       "total_call_duration       0\n",
       "dtype: int64"
      ]
     },
     "execution_count": 9,
     "metadata": {},
     "output_type": "execute_result"
    }
   ],
   "source": [
    "df.isna().sum()"
   ]
  },
  {
   "cell_type": "code",
   "execution_count": 10,
   "metadata": {},
   "outputs": [
    {
     "data": {
      "text/plain": [
       "4900"
      ]
     },
     "execution_count": 10,
     "metadata": {},
     "output_type": "execute_result"
    }
   ],
   "source": [
    "# выделим дубликаты\n",
    "df.duplicated().sum()"
   ]
  },
  {
   "cell_type": "code",
   "execution_count": 11,
   "metadata": {},
   "outputs": [
    {
     "data": {
      "text/plain": [
       "0"
      ]
     },
     "execution_count": 11,
     "metadata": {},
     "output_type": "execute_result"
    }
   ],
   "source": [
    "# удалим дублирующиеся строки\n",
    "df = df.drop_duplicates()\n",
    "df.duplicated().sum()"
   ]
  },
  {
   "cell_type": "markdown",
   "metadata": {},
   "source": [
    "### Изменение формата данных"
   ]
  },
  {
   "cell_type": "code",
   "execution_count": 12,
   "metadata": {},
   "outputs": [],
   "source": [
    "# приведем дату к правильному формату, оставитм год,месяц, число\n",
    "df['date'] = pd.to_datetime(df['date']).dt.strftime('%Y-%m-%d')\n",
    "df['date'] = pd.to_datetime(df['date'], format = '%Y-%m-%d')"
   ]
  },
  {
   "cell_type": "code",
   "execution_count": 93,
   "metadata": {},
   "outputs": [],
   "source": [
    "#так же преобразуем в object user_id\n",
    "df['user_id'] = df['user_id'].astype('str')\n",
    "df_clients['user_id'] = df_clients['user_id'].astype('str')"
   ]
  },
  {
   "cell_type": "code",
   "execution_count": 15,
   "metadata": {},
   "outputs": [
    {
     "data": {
      "text/plain": [
       "user_id                   0\n",
       "date                      0\n",
       "direction                 0\n",
       "internal                110\n",
       "operator_id            7456\n",
       "is_missed_call            0\n",
       "calls_count               0\n",
       "call_duration             0\n",
       "total_call_duration       0\n",
       "dtype: int64"
      ]
     },
     "execution_count": 15,
     "metadata": {},
     "output_type": "execute_result"
    }
   ],
   "source": [
    "df.isna().sum()"
   ]
  },
  {
   "cell_type": "code",
   "execution_count": 16,
   "metadata": {},
   "outputs": [
    {
     "name": "stdout",
     "output_type": "stream",
     "text": [
      "<class 'pandas.core.frame.DataFrame'>\n",
      "RangeIndex: 732 entries, 0 to 731\n",
      "Data columns (total 3 columns):\n",
      "user_id        732 non-null object\n",
      "tariff_plan    732 non-null object\n",
      "date_start     732 non-null object\n",
      "dtypes: object(3)\n",
      "memory usage: 17.3+ KB\n"
     ]
    }
   ],
   "source": [
    "df_clients.info()"
   ]
  },
  {
   "cell_type": "markdown",
   "metadata": {},
   "source": [
    "### Вывод."
   ]
  },
  {
   "cell_type": "markdown",
   "metadata": {},
   "source": [
    "Данные представлены в двух таблицах.\n",
    "telecom_dataset - с основными данными по пользовательской активности клиентоав и\n",
    "telecom_clients - данный о тарифах и начале использования \n",
    "\n",
    "Основной датасет telecom_dataset - содержит 53785 строк\n",
    "Фрейм с информацией о тарифах- telecom_clients - 732 строки\n",
    "\n",
    "В результате предварительной предобработки данных удалось установить, что в данных 'telecom_dataset' имеется большое количество полных дубликатов - 4900, скорее всего возникли на этапе фиксации - сбора информации о пользователях. Полные дубликаты были удалены.\n",
    "\n",
    "Нулевый значения обнаружены в датасете telecom_dataset в полях:\n",
    "\n",
    "internal - 117\n",
    "operator_id - 8172\n",
    "\n",
    "Нулевые значения в строках на входящих пропущенных звонках, скорее всего звонок не был распеределен на конкретного оператора, поэтому не было зафиксировано фиксированного id.\n",
    "\n",
    "Поле internal (признак внутреннего звонка) - незначительное количество пропусков, не требует предобработки.\n",
    "Поле - operator_id - большое количество пропусков, удаление или замена значительно полвияют на результаты, так же оставляем без имзенений.\n",
    "\n",
    "Данные были преведены к корекнтым форматам: изменение формата дат, изменение поля user_id до формата object."
   ]
  },
  {
   "cell_type": "markdown",
   "metadata": {},
   "source": [
    "## EDA (исследовательский анализ данных)"
   ]
  },
  {
   "cell_type": "markdown",
   "metadata": {},
   "source": [
    "### Временной промежуток исследования."
   ]
  },
  {
   "cell_type": "code",
   "execution_count": 17,
   "metadata": {},
   "outputs": [
    {
     "name": "stdout",
     "output_type": "stream",
     "text": [
      "Начало периода  2019-08-02 00:00:00\n",
      "Конец периода 2019-11-28 00:00:00\n"
     ]
    }
   ],
   "source": [
    "print('Начало периода ', df['date'].min())\n",
    "print('Конец периода', df['date'].max())\n"
   ]
  },
  {
   "cell_type": "markdown",
   "metadata": {},
   "source": [
    "В данный представлена информация за промежуток - с 2019-08-02 по 2019-11-28. Будем счить что интервал - четыре месяца с августа по по ноябрь."
   ]
  },
  {
   "cell_type": "markdown",
   "metadata": {},
   "source": [
    "### Продолжительность и количество звонков"
   ]
  },
  {
   "cell_type": "code",
   "execution_count": 18,
   "metadata": {},
   "outputs": [
    {
     "data": {
      "text/plain": [
       "868.0"
      ]
     },
     "execution_count": 18,
     "metadata": {},
     "output_type": "execute_result"
    }
   ],
   "source": [
    "# посмотрим на медианную продолжительность звонков в день\n",
    "df.groupby(['date','operator_id'])['total_call_duration'].sum().median()"
   ]
  },
  {
   "cell_type": "code",
   "execution_count": 19,
   "metadata": {},
   "outputs": [
    {
     "data": {
      "text/html": [
       "<div>\n",
       "<style scoped>\n",
       "    .dataframe tbody tr th:only-of-type {\n",
       "        vertical-align: middle;\n",
       "    }\n",
       "\n",
       "    .dataframe tbody tr th {\n",
       "        vertical-align: top;\n",
       "    }\n",
       "\n",
       "    .dataframe thead th {\n",
       "        text-align: right;\n",
       "    }\n",
       "</style>\n",
       "<table border=\"1\" class=\"dataframe\">\n",
       "  <thead>\n",
       "    <tr style=\"text-align: right;\">\n",
       "      <th></th>\n",
       "      <th>user_id</th>\n",
       "      <th>date</th>\n",
       "      <th>direction</th>\n",
       "      <th>internal</th>\n",
       "      <th>operator_id</th>\n",
       "      <th>is_missed_call</th>\n",
       "      <th>calls_count</th>\n",
       "      <th>call_duration</th>\n",
       "      <th>total_call_duration</th>\n",
       "    </tr>\n",
       "  </thead>\n",
       "  <tbody>\n",
       "  </tbody>\n",
       "</table>\n",
       "</div>"
      ],
      "text/plain": [
       "Empty DataFrame\n",
       "Columns: [user_id, date, direction, internal, operator_id, is_missed_call, calls_count, call_duration, total_call_duration]\n",
       "Index: []"
      ]
     },
     "execution_count": 19,
     "metadata": {},
     "output_type": "execute_result"
    }
   ],
   "source": [
    "# так же посмотрим на продолжительность звонков конкретного оператора в конкретную дату\n",
    "df[(df['operator_id'] == '957922') & (df['date'] == '2019-11-15')]"
   ]
  },
  {
   "cell_type": "markdown",
   "metadata": {},
   "source": [
    "Иходя из анализа очевидно, что время указано в секундах, для удобства переведем его в минуты"
   ]
  },
  {
   "cell_type": "code",
   "execution_count": 20,
   "metadata": {},
   "outputs": [],
   "source": [
    "df['call_duration'] = df['call_duration']/60\n",
    "df['total_call_duration'] = df['total_call_duration']/60"
   ]
  },
  {
   "cell_type": "code",
   "execution_count": 21,
   "metadata": {},
   "outputs": [
    {
     "data": {
      "text/html": [
       "<div>\n",
       "<style scoped>\n",
       "    .dataframe tbody tr th:only-of-type {\n",
       "        vertical-align: middle;\n",
       "    }\n",
       "\n",
       "    .dataframe tbody tr th {\n",
       "        vertical-align: top;\n",
       "    }\n",
       "\n",
       "    .dataframe thead th {\n",
       "        text-align: right;\n",
       "    }\n",
       "</style>\n",
       "<table border=\"1\" class=\"dataframe\">\n",
       "  <thead>\n",
       "    <tr style=\"text-align: right;\">\n",
       "      <th></th>\n",
       "      <th>date</th>\n",
       "      <th>user_id</th>\n",
       "      <th>operator_id</th>\n",
       "      <th>call_duration</th>\n",
       "      <th>total_call_duration</th>\n",
       "    </tr>\n",
       "  </thead>\n",
       "  <tbody>\n",
       "    <tr>\n",
       "      <td>3138</td>\n",
       "      <td>2019-09-25</td>\n",
       "      <td>166582</td>\n",
       "      <td>885876.0</td>\n",
       "      <td>2416.766667</td>\n",
       "      <td>3166.483333</td>\n",
       "    </tr>\n",
       "    <tr>\n",
       "      <td>3338</td>\n",
       "      <td>2019-09-26</td>\n",
       "      <td>166582</td>\n",
       "      <td>885876.0</td>\n",
       "      <td>2285.633333</td>\n",
       "      <td>2869.416667</td>\n",
       "    </tr>\n",
       "    <tr>\n",
       "      <td>1265</td>\n",
       "      <td>2019-09-09</td>\n",
       "      <td>166582</td>\n",
       "      <td>885876.0</td>\n",
       "      <td>2042.016667</td>\n",
       "      <td>2680.433333</td>\n",
       "    </tr>\n",
       "    <tr>\n",
       "      <td>2257</td>\n",
       "      <td>2019-09-18</td>\n",
       "      <td>166582</td>\n",
       "      <td>885876.0</td>\n",
       "      <td>2030.600000</td>\n",
       "      <td>2652.966667</td>\n",
       "    </tr>\n",
       "    <tr>\n",
       "      <td>4296</td>\n",
       "      <td>2019-10-02</td>\n",
       "      <td>166582</td>\n",
       "      <td>885876.0</td>\n",
       "      <td>2035.133333</td>\n",
       "      <td>2590.033333</td>\n",
       "    </tr>\n",
       "  </tbody>\n",
       "</table>\n",
       "</div>"
      ],
      "text/plain": [
       "           date user_id  operator_id  call_duration  total_call_duration\n",
       "3138 2019-09-25  166582     885876.0    2416.766667          3166.483333\n",
       "3338 2019-09-26  166582     885876.0    2285.633333          2869.416667\n",
       "1265 2019-09-09  166582     885876.0    2042.016667          2680.433333\n",
       "2257 2019-09-18  166582     885876.0    2030.600000          2652.966667\n",
       "4296 2019-10-02  166582     885876.0    2035.133333          2590.033333"
      ]
     },
     "execution_count": 21,
     "metadata": {},
     "output_type": "execute_result"
    }
   ],
   "source": [
    "#проверим получившиеся значенияв аггрегации по сутками на конкретного оператора, отсортируем значения по убыванию\n",
    "df_grouped = df.groupby(['date','user_id','operator_id'])[['call_duration','total_call_duration']].sum().reset_index().sort_values(by ='total_call_duration', ascending = False)\n",
    "df_grouped.head(5)"
   ]
  },
  {
   "cell_type": "code",
   "execution_count": 22,
   "metadata": {},
   "outputs": [
    {
     "data": {
      "text/html": [
       "<div>\n",
       "<style scoped>\n",
       "    .dataframe tbody tr th:only-of-type {\n",
       "        vertical-align: middle;\n",
       "    }\n",
       "\n",
       "    .dataframe tbody tr th {\n",
       "        vertical-align: top;\n",
       "    }\n",
       "\n",
       "    .dataframe thead th {\n",
       "        text-align: right;\n",
       "    }\n",
       "</style>\n",
       "<table border=\"1\" class=\"dataframe\">\n",
       "  <thead>\n",
       "    <tr style=\"text-align: right;\">\n",
       "      <th></th>\n",
       "      <th>date</th>\n",
       "      <th>user_id</th>\n",
       "      <th>operator_id</th>\n",
       "      <th>call_duration</th>\n",
       "      <th>total_call_duration</th>\n",
       "    </tr>\n",
       "  </thead>\n",
       "  <tbody>\n",
       "  </tbody>\n",
       "</table>\n",
       "</div>"
      ],
      "text/plain": [
       "Empty DataFrame\n",
       "Columns: [date, user_id, operator_id, call_duration, total_call_duration]\n",
       "Index: []"
      ]
     },
     "execution_count": 22,
     "metadata": {},
     "output_type": "execute_result"
    }
   ],
   "source": [
    "#видим аномальные значения у одного пользователя, хотя медианное значение вполне похоже реальное, дополнительно рассмотри клиента с аномальными значениями\n",
    "user_166582 = df_grouped[df_grouped['user_id'] == 166582]\n",
    "user_166582[user_166582['call_duration']!= 0].sort_values(by = 'call_duration', ascending = False).head(5)"
   ]
  },
  {
   "cell_type": "code",
   "execution_count": 23,
   "metadata": {},
   "outputs": [
    {
     "data": {
      "image/png": "[encoded data removed]",
      "text/plain": [
       "<Figure size 1080x360 with 1 Axes>"
      ]
     },
     "metadata": {},
     "output_type": "display_data"
    }
   ],
   "source": [
    "#рассмотрим распределение на гистограмме\n",
    "sns.distplot(df.groupby(['date','operator_id'])['total_call_duration'].sum())\n",
    "plt.title('Рапспределение продолжительности звонков')\n",
    "plt.xlabel('Продолжительность звонков')\n",
    "plt.show()"
   ]
  },
  {
   "cell_type": "markdown",
   "metadata": {},
   "source": [
    "Видим большой выброс справа, более детально изучим данные."
   ]
  },
  {
   "cell_type": "code",
   "execution_count": 24,
   "metadata": {
    "scrolled": false
   },
   "outputs": [
    {
     "data": {
      "text/html": [
       "<div>\n",
       "<style scoped>\n",
       "    .dataframe tbody tr th:only-of-type {\n",
       "        vertical-align: middle;\n",
       "    }\n",
       "\n",
       "    .dataframe tbody tr th {\n",
       "        vertical-align: top;\n",
       "    }\n",
       "\n",
       "    .dataframe thead th {\n",
       "        text-align: right;\n",
       "    }\n",
       "</style>\n",
       "<table border=\"1\" class=\"dataframe\">\n",
       "  <thead>\n",
       "    <tr style=\"text-align: right;\">\n",
       "      <th></th>\n",
       "      <th>date</th>\n",
       "      <th>user_id</th>\n",
       "      <th>operator_id</th>\n",
       "      <th>call_duration</th>\n",
       "      <th>total_call_duration</th>\n",
       "    </tr>\n",
       "  </thead>\n",
       "  <tbody>\n",
       "    <tr>\n",
       "      <td>3138</td>\n",
       "      <td>2019-09-25</td>\n",
       "      <td>166582</td>\n",
       "      <td>885876.0</td>\n",
       "      <td>2416.766667</td>\n",
       "      <td>3166.483333</td>\n",
       "    </tr>\n",
       "    <tr>\n",
       "      <td>3338</td>\n",
       "      <td>2019-09-26</td>\n",
       "      <td>166582</td>\n",
       "      <td>885876.0</td>\n",
       "      <td>2285.633333</td>\n",
       "      <td>2869.416667</td>\n",
       "    </tr>\n",
       "    <tr>\n",
       "      <td>1265</td>\n",
       "      <td>2019-09-09</td>\n",
       "      <td>166582</td>\n",
       "      <td>885876.0</td>\n",
       "      <td>2042.016667</td>\n",
       "      <td>2680.433333</td>\n",
       "    </tr>\n",
       "    <tr>\n",
       "      <td>2257</td>\n",
       "      <td>2019-09-18</td>\n",
       "      <td>166582</td>\n",
       "      <td>885876.0</td>\n",
       "      <td>2030.600000</td>\n",
       "      <td>2652.966667</td>\n",
       "    </tr>\n",
       "    <tr>\n",
       "      <td>4296</td>\n",
       "      <td>2019-10-02</td>\n",
       "      <td>166582</td>\n",
       "      <td>885876.0</td>\n",
       "      <td>2035.133333</td>\n",
       "      <td>2590.033333</td>\n",
       "    </tr>\n",
       "    <tr>\n",
       "      <td>...</td>\n",
       "      <td>...</td>\n",
       "      <td>...</td>\n",
       "      <td>...</td>\n",
       "      <td>...</td>\n",
       "      <td>...</td>\n",
       "    </tr>\n",
       "    <tr>\n",
       "      <td>426</td>\n",
       "      <td>2019-08-27</td>\n",
       "      <td>166688</td>\n",
       "      <td>890228.0</td>\n",
       "      <td>0.000000</td>\n",
       "      <td>0.000000</td>\n",
       "    </tr>\n",
       "    <tr>\n",
       "      <td>3262</td>\n",
       "      <td>2019-09-25</td>\n",
       "      <td>167359</td>\n",
       "      <td>915360.0</td>\n",
       "      <td>0.000000</td>\n",
       "      <td>0.000000</td>\n",
       "    </tr>\n",
       "    <tr>\n",
       "      <td>13767</td>\n",
       "      <td>2019-11-11</td>\n",
       "      <td>168228</td>\n",
       "      <td>939684.0</td>\n",
       "      <td>0.000000</td>\n",
       "      <td>0.000000</td>\n",
       "    </tr>\n",
       "    <tr>\n",
       "      <td>11387</td>\n",
       "      <td>2019-11-01</td>\n",
       "      <td>168412</td>\n",
       "      <td>952458.0</td>\n",
       "      <td>0.000000</td>\n",
       "      <td>0.000000</td>\n",
       "    </tr>\n",
       "    <tr>\n",
       "      <td>19215</td>\n",
       "      <td>2019-11-27</td>\n",
       "      <td>168412</td>\n",
       "      <td>953460.0</td>\n",
       "      <td>0.000000</td>\n",
       "      <td>0.000000</td>\n",
       "    </tr>\n",
       "  </tbody>\n",
       "</table>\n",
       "<p>19647 rows × 5 columns</p>\n",
       "</div>"
      ],
      "text/plain": [
       "            date user_id  operator_id  call_duration  total_call_duration\n",
       "3138  2019-09-25  166582     885876.0    2416.766667          3166.483333\n",
       "3338  2019-09-26  166582     885876.0    2285.633333          2869.416667\n",
       "1265  2019-09-09  166582     885876.0    2042.016667          2680.433333\n",
       "2257  2019-09-18  166582     885876.0    2030.600000          2652.966667\n",
       "4296  2019-10-02  166582     885876.0    2035.133333          2590.033333\n",
       "...          ...     ...          ...            ...                  ...\n",
       "426   2019-08-27  166688     890228.0       0.000000             0.000000\n",
       "3262  2019-09-25  167359     915360.0       0.000000             0.000000\n",
       "13767 2019-11-11  168228     939684.0       0.000000             0.000000\n",
       "11387 2019-11-01  168412     952458.0       0.000000             0.000000\n",
       "19215 2019-11-27  168412     953460.0       0.000000             0.000000\n",
       "\n",
       "[19647 rows x 5 columns]"
      ]
     },
     "execution_count": 24,
     "metadata": {},
     "output_type": "execute_result"
    }
   ],
   "source": [
    "#посмотри на выборку из остальных пользователей\n",
    "df_grouped[df_grouped['user_id'] != 166582]"
   ]
  },
  {
   "cell_type": "markdown",
   "metadata": {},
   "source": [
    "В данных по продолжительности звонков было обнаружено большое количество аномальных значений. Продолжительность звонков больше чем 600 минут (10 часов рабочего времени). Есть несколько предположений.\n",
    "\n",
    "1. У некоторых клиентов данные фиксируются некорректо, возможно в милисекундах, можно исправить аномальные значения разеделив аномальные длителности на 60.\n",
    "\n",
    "2. Некоторые клиенты используют одну учетную запись для нескольких операторов, таким образом пытаясь съкономить на плате за каждого оператора. \n",
    "\n",
    "Для первого предположения недостаточно данных, исправление может значительно повлиять на результаты исследований. Примем тот факт, что данные фиксируются корректно, поэтому выбираем предположение о перерасходе из-за использования учетной записи несколькими операторами. \n",
    "\n",
    "Выведя данные из анализа потеряем большую часть дохода, принимаем решению для рассчета выручки оставить данные без изменения, для описания стандартного клиента будет использовать очищенные данные."
   ]
  },
  {
   "cell_type": "code",
   "execution_count": 25,
   "metadata": {},
   "outputs": [
    {
     "data": {
      "text/plain": [
       "['166582', '167827', '168253']"
      ]
     },
     "execution_count": 25,
     "metadata": {},
     "output_type": "execute_result"
    }
   ],
   "source": [
    "# Определим список клиентов спродолжительностью звонков  > 9  часов в день\n",
    "abnormal_users = pd.Series(df_grouped[df_grouped['call_duration'] > 480]['user_id'].unique()).to_list()\n",
    "abnormal_users"
   ]
  },
  {
   "cell_type": "code",
   "execution_count": 26,
   "metadata": {},
   "outputs": [],
   "source": [
    "df_cleaned = df.query('user_id not in @abnormal_users')"
   ]
  },
  {
   "cell_type": "code",
   "execution_count": 27,
   "metadata": {},
   "outputs": [],
   "source": [
    "df_cleaned_not_null = df_cleaned[df_cleaned['call_duration'] > 0]"
   ]
  },
  {
   "cell_type": "code",
   "execution_count": 28,
   "metadata": {},
   "outputs": [
    {
     "data": {
      "text/html": [
       "<div>\n",
       "<style scoped>\n",
       "    .dataframe tbody tr th:only-of-type {\n",
       "        vertical-align: middle;\n",
       "    }\n",
       "\n",
       "    .dataframe tbody tr th {\n",
       "        vertical-align: top;\n",
       "    }\n",
       "\n",
       "    .dataframe thead th {\n",
       "        text-align: right;\n",
       "    }\n",
       "</style>\n",
       "<table border=\"1\" class=\"dataframe\">\n",
       "  <thead>\n",
       "    <tr style=\"text-align: right;\">\n",
       "      <th></th>\n",
       "      <th></th>\n",
       "      <th>call_duration</th>\n",
       "      <th>total_call_duration</th>\n",
       "    </tr>\n",
       "    <tr>\n",
       "      <th>date</th>\n",
       "      <th>operator_id</th>\n",
       "      <th></th>\n",
       "      <th></th>\n",
       "    </tr>\n",
       "  </thead>\n",
       "  <tbody>\n",
       "    <tr>\n",
       "      <td rowspan=\"2\" valign=\"top\">2019-08-02</td>\n",
       "      <td>879896.0</td>\n",
       "      <td>0.516667</td>\n",
       "      <td>2.433333</td>\n",
       "    </tr>\n",
       "    <tr>\n",
       "      <td>879898.0</td>\n",
       "      <td>2.200000</td>\n",
       "      <td>2.416667</td>\n",
       "    </tr>\n",
       "    <tr>\n",
       "      <td rowspan=\"2\" valign=\"top\">2019-08-03</td>\n",
       "      <td>879896.0</td>\n",
       "      <td>0.900000</td>\n",
       "      <td>2.133333</td>\n",
       "    </tr>\n",
       "    <tr>\n",
       "      <td>879898.0</td>\n",
       "      <td>15.133333</td>\n",
       "      <td>17.716667</td>\n",
       "    </tr>\n",
       "    <tr>\n",
       "      <td>2019-08-04</td>\n",
       "      <td>879896.0</td>\n",
       "      <td>1.900000</td>\n",
       "      <td>2.066667</td>\n",
       "    </tr>\n",
       "    <tr>\n",
       "      <td>...</td>\n",
       "      <td>...</td>\n",
       "      <td>...</td>\n",
       "      <td>...</td>\n",
       "    </tr>\n",
       "    <tr>\n",
       "      <td rowspan=\"5\" valign=\"top\">2019-11-28</td>\n",
       "      <td>971102.0</td>\n",
       "      <td>49.666667</td>\n",
       "      <td>57.283333</td>\n",
       "    </tr>\n",
       "    <tr>\n",
       "      <td>972410.0</td>\n",
       "      <td>38.050000</td>\n",
       "      <td>42.533333</td>\n",
       "    </tr>\n",
       "    <tr>\n",
       "      <td>972412.0</td>\n",
       "      <td>32.133333</td>\n",
       "      <td>36.383333</td>\n",
       "    </tr>\n",
       "    <tr>\n",
       "      <td>972460.0</td>\n",
       "      <td>18.150000</td>\n",
       "      <td>21.100000</td>\n",
       "    </tr>\n",
       "    <tr>\n",
       "      <td>973286.0</td>\n",
       "      <td>0.283333</td>\n",
       "      <td>1.750000</td>\n",
       "    </tr>\n",
       "  </tbody>\n",
       "</table>\n",
       "<p>18549 rows × 2 columns</p>\n",
       "</div>"
      ],
      "text/plain": [
       "                        call_duration  total_call_duration\n",
       "date       operator_id                                    \n",
       "2019-08-02 879896.0          0.516667             2.433333\n",
       "           879898.0          2.200000             2.416667\n",
       "2019-08-03 879896.0          0.900000             2.133333\n",
       "           879898.0         15.133333            17.716667\n",
       "2019-08-04 879896.0          1.900000             2.066667\n",
       "...                               ...                  ...\n",
       "2019-11-28 971102.0         49.666667            57.283333\n",
       "           972410.0         38.050000            42.533333\n",
       "           972412.0         32.133333            36.383333\n",
       "           972460.0         18.150000            21.100000\n",
       "           973286.0          0.283333             1.750000\n",
       "\n",
       "[18549 rows x 2 columns]"
      ]
     },
     "execution_count": 28,
     "metadata": {},
     "output_type": "execute_result"
    }
   ],
   "source": [
    "df_cleaned_not_null.groupby(['date', 'operator_id'])[['call_duration', 'total_call_duration']].sum()"
   ]
  },
  {
   "cell_type": "code",
   "execution_count": 29,
   "metadata": {},
   "outputs": [
    {
     "data": {
      "text/html": [
       "<div>\n",
       "<style scoped>\n",
       "    .dataframe tbody tr th:only-of-type {\n",
       "        vertical-align: middle;\n",
       "    }\n",
       "\n",
       "    .dataframe tbody tr th {\n",
       "        vertical-align: top;\n",
       "    }\n",
       "\n",
       "    .dataframe thead th {\n",
       "        text-align: right;\n",
       "    }\n",
       "</style>\n",
       "<table border=\"1\" class=\"dataframe\">\n",
       "  <thead>\n",
       "    <tr style=\"text-align: right;\">\n",
       "      <th></th>\n",
       "      <th>user_id</th>\n",
       "      <th>date</th>\n",
       "      <th>direction</th>\n",
       "      <th>internal</th>\n",
       "      <th>operator_id</th>\n",
       "      <th>is_missed_call</th>\n",
       "      <th>calls_count</th>\n",
       "      <th>call_duration</th>\n",
       "      <th>total_call_duration</th>\n",
       "    </tr>\n",
       "  </thead>\n",
       "  <tbody>\n",
       "    <tr>\n",
       "      <td>3</td>\n",
       "      <td>166377</td>\n",
       "      <td>2019-08-05</td>\n",
       "      <td>out</td>\n",
       "      <td>True</td>\n",
       "      <td>880020.0</td>\n",
       "      <td>False</td>\n",
       "      <td>1</td>\n",
       "      <td>0.166667</td>\n",
       "      <td>0.300000</td>\n",
       "    </tr>\n",
       "    <tr>\n",
       "      <td>5</td>\n",
       "      <td>166377</td>\n",
       "      <td>2019-08-05</td>\n",
       "      <td>out</td>\n",
       "      <td>False</td>\n",
       "      <td>880020.0</td>\n",
       "      <td>False</td>\n",
       "      <td>2</td>\n",
       "      <td>0.050000</td>\n",
       "      <td>0.483333</td>\n",
       "    </tr>\n",
       "    <tr>\n",
       "      <td>13</td>\n",
       "      <td>166377</td>\n",
       "      <td>2019-08-06</td>\n",
       "      <td>out</td>\n",
       "      <td>False</td>\n",
       "      <td>880020.0</td>\n",
       "      <td>False</td>\n",
       "      <td>5</td>\n",
       "      <td>13.333333</td>\n",
       "      <td>13.650000</td>\n",
       "    </tr>\n",
       "    <tr>\n",
       "      <td>15</td>\n",
       "      <td>166377</td>\n",
       "      <td>2019-08-07</td>\n",
       "      <td>out</td>\n",
       "      <td>False</td>\n",
       "      <td>880026.0</td>\n",
       "      <td>False</td>\n",
       "      <td>1</td>\n",
       "      <td>0.350000</td>\n",
       "      <td>0.466667</td>\n",
       "    </tr>\n",
       "    <tr>\n",
       "      <td>16</td>\n",
       "      <td>166377</td>\n",
       "      <td>2019-08-07</td>\n",
       "      <td>out</td>\n",
       "      <td>False</td>\n",
       "      <td>880020.0</td>\n",
       "      <td>False</td>\n",
       "      <td>2</td>\n",
       "      <td>3.866667</td>\n",
       "      <td>4.000000</td>\n",
       "    </tr>\n",
       "    <tr>\n",
       "      <td>...</td>\n",
       "      <td>...</td>\n",
       "      <td>...</td>\n",
       "      <td>...</td>\n",
       "      <td>...</td>\n",
       "      <td>...</td>\n",
       "      <td>...</td>\n",
       "      <td>...</td>\n",
       "      <td>...</td>\n",
       "      <td>...</td>\n",
       "    </tr>\n",
       "    <tr>\n",
       "      <td>53892</td>\n",
       "      <td>168606</td>\n",
       "      <td>2019-11-08</td>\n",
       "      <td>out</td>\n",
       "      <td>False</td>\n",
       "      <td>957922.0</td>\n",
       "      <td>False</td>\n",
       "      <td>2</td>\n",
       "      <td>4.250000</td>\n",
       "      <td>5.466667</td>\n",
       "    </tr>\n",
       "    <tr>\n",
       "      <td>53894</td>\n",
       "      <td>168606</td>\n",
       "      <td>2019-11-08</td>\n",
       "      <td>in</td>\n",
       "      <td>False</td>\n",
       "      <td>957922.0</td>\n",
       "      <td>False</td>\n",
       "      <td>2</td>\n",
       "      <td>11.433333</td>\n",
       "      <td>11.750000</td>\n",
       "    </tr>\n",
       "    <tr>\n",
       "      <td>53895</td>\n",
       "      <td>168606</td>\n",
       "      <td>2019-11-09</td>\n",
       "      <td>out</td>\n",
       "      <td>False</td>\n",
       "      <td>957922.0</td>\n",
       "      <td>False</td>\n",
       "      <td>4</td>\n",
       "      <td>9.183333</td>\n",
       "      <td>9.883333</td>\n",
       "    </tr>\n",
       "    <tr>\n",
       "      <td>53898</td>\n",
       "      <td>168606</td>\n",
       "      <td>2019-11-11</td>\n",
       "      <td>out</td>\n",
       "      <td>True</td>\n",
       "      <td>957922.0</td>\n",
       "      <td>False</td>\n",
       "      <td>2</td>\n",
       "      <td>7.983333</td>\n",
       "      <td>8.350000</td>\n",
       "    </tr>\n",
       "    <tr>\n",
       "      <td>53899</td>\n",
       "      <td>168606</td>\n",
       "      <td>2019-11-15</td>\n",
       "      <td>out</td>\n",
       "      <td>True</td>\n",
       "      <td>957922.0</td>\n",
       "      <td>False</td>\n",
       "      <td>4</td>\n",
       "      <td>52.166667</td>\n",
       "      <td>53.166667</td>\n",
       "    </tr>\n",
       "  </tbody>\n",
       "</table>\n",
       "<p>27249 rows × 9 columns</p>\n",
       "</div>"
      ],
      "text/plain": [
       "      user_id       date direction internal  operator_id  is_missed_call  \\\n",
       "3      166377 2019-08-05       out     True     880020.0           False   \n",
       "5      166377 2019-08-05       out    False     880020.0           False   \n",
       "13     166377 2019-08-06       out    False     880020.0           False   \n",
       "15     166377 2019-08-07       out    False     880026.0           False   \n",
       "16     166377 2019-08-07       out    False     880020.0           False   \n",
       "...       ...        ...       ...      ...          ...             ...   \n",
       "53892  168606 2019-11-08       out    False     957922.0           False   \n",
       "53894  168606 2019-11-08        in    False     957922.0           False   \n",
       "53895  168606 2019-11-09       out    False     957922.0           False   \n",
       "53898  168606 2019-11-11       out     True     957922.0           False   \n",
       "53899  168606 2019-11-15       out     True     957922.0           False   \n",
       "\n",
       "       calls_count  call_duration  total_call_duration  \n",
       "3                1       0.166667             0.300000  \n",
       "5                2       0.050000             0.483333  \n",
       "13               5      13.333333            13.650000  \n",
       "15               1       0.350000             0.466667  \n",
       "16               2       3.866667             4.000000  \n",
       "...            ...            ...                  ...  \n",
       "53892            2       4.250000             5.466667  \n",
       "53894            2      11.433333            11.750000  \n",
       "53895            4       9.183333             9.883333  \n",
       "53898            2       7.983333             8.350000  \n",
       "53899            4      52.166667            53.166667  \n",
       "\n",
       "[27249 rows x 9 columns]"
      ]
     },
     "execution_count": 29,
     "metadata": {},
     "output_type": "execute_result"
    }
   ],
   "source": [
    "df_cleaned_not_null"
   ]
  },
  {
   "cell_type": "code",
   "execution_count": 30,
   "metadata": {},
   "outputs": [
    {
     "data": {
      "text/html": [
       "<div>\n",
       "<style scoped>\n",
       "    .dataframe tbody tr th:only-of-type {\n",
       "        vertical-align: middle;\n",
       "    }\n",
       "\n",
       "    .dataframe tbody tr th {\n",
       "        vertical-align: top;\n",
       "    }\n",
       "\n",
       "    .dataframe thead th {\n",
       "        text-align: right;\n",
       "    }\n",
       "</style>\n",
       "<table border=\"1\" class=\"dataframe\">\n",
       "  <thead>\n",
       "    <tr style=\"text-align: right;\">\n",
       "      <th></th>\n",
       "      <th>direction</th>\n",
       "      <th>internal</th>\n",
       "      <th>calls_count</th>\n",
       "      <th>total_call_duration</th>\n",
       "    </tr>\n",
       "  </thead>\n",
       "  <tbody>\n",
       "    <tr>\n",
       "      <td>0</td>\n",
       "      <td>in</td>\n",
       "      <td>False</td>\n",
       "      <td>4</td>\n",
       "      <td>7.0</td>\n",
       "    </tr>\n",
       "    <tr>\n",
       "      <td>1</td>\n",
       "      <td>in</td>\n",
       "      <td>True</td>\n",
       "      <td>1</td>\n",
       "      <td>1.0</td>\n",
       "    </tr>\n",
       "    <tr>\n",
       "      <td>3</td>\n",
       "      <td>out</td>\n",
       "      <td>True</td>\n",
       "      <td>4</td>\n",
       "      <td>5.0</td>\n",
       "    </tr>\n",
       "  </tbody>\n",
       "</table>\n",
       "</div>"
      ],
      "text/plain": [
       "  direction  internal  calls_count  total_call_duration\n",
       "0        in     False            4                  7.0\n",
       "1        in      True            1                  1.0\n",
       "3       out      True            4                  5.0"
      ]
     },
     "execution_count": 30,
     "metadata": {},
     "output_type": "execute_result"
    }
   ],
   "source": [
    "#cгрупируем данные для расчета средних значений по пользователям\n",
    "df_cleaned_gpd = df_cleaned_not_null.groupby(['user_id', 'date','direction','internal'])[['calls_count', 'call_duration', 'total_call_duration']].sum().reset_index()\n",
    "df_cleaned_gpd.groupby(['direction', 'internal'])[['calls_count','total_call_duration']].median().round().reset_index().drop(labels =[2], axis = 0)"
   ]
  },
  {
   "cell_type": "markdown",
   "metadata": {},
   "source": [
    "### Количество  операторов"
   ]
  },
  {
   "cell_type": "code",
   "execution_count": 31,
   "metadata": {},
   "outputs": [
    {
     "data": {
      "image/png": "[encoded data removed]",
      "text/plain": [
       "<Figure size 1080x360 with 1 Axes>"
      ]
     },
     "metadata": {},
     "output_type": "display_data"
    }
   ],
   "source": [
    "#изучим распределение количества операторов по пользователям\n",
    "df_cleaned.groupby([ 'user_id'])['operator_id'].nunique().hist(bins =40)\n",
    "plt.title('Распределение количества операторов по пользователям')\n",
    "plt.show()"
   ]
  },
  {
   "cell_type": "code",
   "execution_count": 32,
   "metadata": {},
   "outputs": [
    {
     "name": "stdout",
     "output_type": "stream",
     "text": [
      "Среднее количество операторов у пользователя:  2.0\n",
      "Среднее количество операторов в день:  1.0\n"
     ]
    }
   ],
   "source": [
    "#определим среднее количетво операторов в у пользовтеля\n",
    "print('Среднее количество операторов у пользователя: ', df_cleaned.groupby('user_id')['operator_id'].nunique().median())\n",
    "print('Среднее количество операторов в день: ', df_cleaned.groupby(['date', 'user_id'])['operator_id'].nunique().median())"
   ]
  },
  {
   "cell_type": "markdown",
   "metadata": {},
   "source": [
    "### Пропущенные звонки"
   ]
  },
  {
   "cell_type": "markdown",
   "metadata": {},
   "source": [
    "Дополнительно рассмотрим информацию по количеству попущенных звонков"
   ]
  },
  {
   "cell_type": "code",
   "execution_count": 33,
   "metadata": {},
   "outputs": [
    {
     "data": {
      "text/plain": [
       "<matplotlib.axes._subplots.AxesSubplot at 0x7fcd9a3e0ad0>"
      ]
     },
     "execution_count": 33,
     "metadata": {},
     "output_type": "execute_result"
    },
    {
     "data": {
      "image/png": "[encoded data removed]",
      "text/plain": [
       "<Figure size 1080x360 with 1 Axes>"
      ]
     },
     "metadata": {},
     "output_type": "display_data"
    }
   ],
   "source": [
    "#изучем распределнеи по общему количеству звонков на оператора в день\n",
    "df_cleaned.groupby(['date','operator_id'])['calls_count'].sum().hist(bins =100)"
   ]
  },
  {
   "cell_type": "markdown",
   "metadata": {},
   "source": [
    "Распределения так же имеет большие выбросы, для анализа будем использовать медианное значение."
   ]
  },
  {
   "cell_type": "code",
   "execution_count": 34,
   "metadata": {},
   "outputs": [
    {
     "data": {
      "text/html": [
       "<div>\n",
       "<style scoped>\n",
       "    .dataframe tbody tr th:only-of-type {\n",
       "        vertical-align: middle;\n",
       "    }\n",
       "\n",
       "    .dataframe tbody tr th {\n",
       "        vertical-align: top;\n",
       "    }\n",
       "\n",
       "    .dataframe thead th {\n",
       "        text-align: right;\n",
       "    }\n",
       "</style>\n",
       "<table border=\"1\" class=\"dataframe\">\n",
       "  <thead>\n",
       "    <tr style=\"text-align: right;\">\n",
       "      <th></th>\n",
       "      <th>is_missed_call</th>\n",
       "      <th>calls_count</th>\n",
       "    </tr>\n",
       "  </thead>\n",
       "  <tbody>\n",
       "    <tr>\n",
       "      <td>0</td>\n",
       "      <td>False</td>\n",
       "      <td>7</td>\n",
       "    </tr>\n",
       "    <tr>\n",
       "      <td>1</td>\n",
       "      <td>True</td>\n",
       "      <td>5</td>\n",
       "    </tr>\n",
       "  </tbody>\n",
       "</table>\n",
       "</div>"
      ],
      "text/plain": [
       "   is_missed_call  calls_count\n",
       "0           False            7\n",
       "1            True            5"
      ]
     },
     "execution_count": 34,
     "metadata": {},
     "output_type": "execute_result"
    }
   ],
   "source": [
    "df_missed  = df_cleaned.groupby(['date','operator_id', 'is_missed_call'])['calls_count'].sum().reset_index()\n",
    "df_missed.groupby('is_missed_call')['calls_count'].median().reset_index()\n"
   ]
  },
  {
   "cell_type": "markdown",
   "metadata": {},
   "source": [
    "### Вывод"
   ]
  },
  {
   "cell_type": "markdown",
   "metadata": {},
   "source": [
    "В данном разделе были подробно изученные предоставленные данный, для определения портрета типичного клиента данный были предобработы путем исключения клиентов с ненормальной активностью. Для расчета времени звонка не учитываличь нулевые значения. \n",
    "\n",
    "Данные по аномальным пользователям, обнаруженным в результате исследования было принято не удалять т.к. удаление могло значительно повлиять при расчете прибыли.\n",
    "\n",
    "На основании рассмотренных предобработанных данныйх был составлен портрет среднего пользователя.\n",
    "\n",
    "В среднем клиент использует в работе 3 -х операторов в смене, как правиоло работают 2 сотрудника. \n",
    "\n",
    "В день один сотрудник в среднем \n",
    "\n",
    "__совершает:__\n",
    "\n",
    "- 11 исходящих звонков на внешние номера общей длительностью 19 минут\n",
    "- 4 исходящих звонка на внутренние номера общей длительностью 5 минут\n",
    "\n",
    "__принимает:__\n",
    "\n",
    "- 4 звонка с внешних номеров общей длительностью 3 минуты\n",
    "- 1 звонок с внутренних номеров общей длительностью 1 минута\n",
    "\n",
    "В среднем 5 звонков на сотрудника в день являются пропущенными."
   ]
  },
  {
   "cell_type": "markdown",
   "metadata": {},
   "source": [
    "## Определение числа активных клиентов."
   ]
  },
  {
   "cell_type": "markdown",
   "metadata": {},
   "source": [
    "Для дальнейшего исследования необходимо определить активных клиентов, активными будем считать клиентов, совершивших хотя бы 10 звонков за последние 30 дней."
   ]
  },
  {
   "cell_type": "code",
   "execution_count": 35,
   "metadata": {},
   "outputs": [
    {
     "data": {
      "text/plain": [
       "307"
      ]
     },
     "execution_count": 35,
     "metadata": {},
     "output_type": "execute_result"
    }
   ],
   "source": [
    "#прежде всего определим общее количество пользователей\n",
    "df['user_id'].nunique()"
   ]
  },
  {
   "cell_type": "code",
   "execution_count": 36,
   "metadata": {},
   "outputs": [],
   "source": [
    "#определим необходимую дату \n",
    "dt_not_activ = df['date'].max() - timedelta(days=30)"
   ]
  },
  {
   "cell_type": "code",
   "execution_count": 37,
   "metadata": {},
   "outputs": [
    {
     "data": {
      "text/plain": [
       "Timestamp('2019-10-29 00:00:00')"
      ]
     },
     "execution_count": 37,
     "metadata": {},
     "output_type": "execute_result"
    }
   ],
   "source": [
    "dt_not_activ"
   ]
  },
  {
   "cell_type": "code",
   "execution_count": 38,
   "metadata": {},
   "outputs": [
    {
     "name": "stdout",
     "output_type": "stream",
     "text": [
      "Количество неактивных клиентов:  45\n"
     ]
    }
   ],
   "source": [
    "#выведем список пользователей не совершивших ни один звонок за последнии 30 дней\n",
    "df_last_month = df[df['date']>= dt_not_activ]\n",
    "\n",
    "#сгруппирум данные в интервале по количеству звонков\n",
    "df_last_month_grpd = df_last_month.groupby('user_id')['calls_count'].sum().reset_index()\n",
    "\n",
    "#выведем список не активных пользователей\n",
    "not_activ_users = df_last_month_grpd[df_last_month_grpd['calls_count'] < 10]['user_id'].to_list()\n",
    "\n",
    "#создадим столбец с флагом неактивности, переведем значения True, False в 1,0\n",
    "df['not_activ'] = df['user_id'].isin(not_activ_users)*1\n",
    "\n",
    "\n",
    "print('Количество неактивных клиентов: ', len(not_activ_users))"
   ]
  },
  {
   "cell_type": "code",
   "execution_count": 39,
   "metadata": {},
   "outputs": [
    {
     "data": {
      "text/plain": [
       "1.7938043345169585"
      ]
     },
     "execution_count": 39,
     "metadata": {},
     "output_type": "execute_result"
    }
   ],
   "source": [
    "#отобразим долю потерянных строк при исключении из анализа неактивных пользователей\n",
    "(len(df[df['not_activ'] == 1])/len(df))*100"
   ]
  },
  {
   "cell_type": "markdown",
   "metadata": {},
   "source": [
    "В последующем исследовании все расчеты будем вести с активными пользовтателями (совершали 10 и больше звонков за последний месяц). "
   ]
  },
  {
   "cell_type": "code",
   "execution_count": 40,
   "metadata": {},
   "outputs": [],
   "source": [
    "#выделим активных клиентов в отдельный фрейм\n",
    "df_active = df[df['not_activ'] == 0]\n"
   ]
  },
  {
   "cell_type": "markdown",
   "metadata": {},
   "source": [
    "### Вывод."
   ]
  },
  {
   "cell_type": "markdown",
   "metadata": {},
   "source": [
    "В результате дополнительной предоработки данные были очищены от клиентов не использующих услуги.\n",
    "Критерий отбора - активным клиентом считаем тех клиентов, которые в течение последних 30-ти дней совершили 10 и больше звонков.\n",
    "\n",
    "В результати применения критерия было выявлено 45  неактивных пользователей.\n",
    "\n",
    "Количество строк в данных уменьшилось на 1.8%, что является допустимым показателем для сохранения объективности при дальнейшем подсчете."
   ]
  },
  {
   "cell_type": "markdown",
   "metadata": {},
   "source": [
    "## Расчет выручки и определение перспективного тарифа"
   ]
  },
  {
   "cell_type": "code",
   "execution_count": 41,
   "metadata": {},
   "outputs": [],
   "source": [
    "#отдельно выделим столбец с месяцем\n",
    "df_active['month'] = df_active['date'].astype('datetime64[M]')"
   ]
  },
  {
   "cell_type": "code",
   "execution_count": 42,
   "metadata": {},
   "outputs": [
    {
     "data": {
      "text/plain": [
       "Timestamp('2019-08-05 00:00:00')"
      ]
     },
     "execution_count": 42,
     "metadata": {},
     "output_type": "execute_result"
    }
   ],
   "source": [
    " df_active['date'][3]"
   ]
  },
  {
   "cell_type": "code",
   "execution_count": 43,
   "metadata": {},
   "outputs": [],
   "source": [
    "#для дальнеших расчетов сгруппируем данные по необходимым полям\n",
    "df_active_agg = df_active.groupby(['month', 'user_id', 'direction','internal']).agg({'operator_id': 'nunique', 'calls_count': 'sum', 'call_duration': 'sum', 'total_call_duration': 'sum'}).reset_index()"
   ]
  },
  {
   "cell_type": "code",
   "execution_count": 44,
   "metadata": {},
   "outputs": [
    {
     "data": {
      "text/html": [
       "<div>\n",
       "<style scoped>\n",
       "    .dataframe tbody tr th:only-of-type {\n",
       "        vertical-align: middle;\n",
       "    }\n",
       "\n",
       "    .dataframe tbody tr th {\n",
       "        vertical-align: top;\n",
       "    }\n",
       "\n",
       "    .dataframe thead th {\n",
       "        text-align: right;\n",
       "    }\n",
       "</style>\n",
       "<table border=\"1\" class=\"dataframe\">\n",
       "  <thead>\n",
       "    <tr style=\"text-align: right;\">\n",
       "      <th></th>\n",
       "      <th>user_id</th>\n",
       "      <th>date</th>\n",
       "      <th>direction</th>\n",
       "      <th>internal</th>\n",
       "      <th>operator_id</th>\n",
       "      <th>is_missed_call</th>\n",
       "      <th>calls_count</th>\n",
       "      <th>call_duration</th>\n",
       "      <th>total_call_duration</th>\n",
       "      <th>not_activ</th>\n",
       "      <th>month</th>\n",
       "    </tr>\n",
       "  </thead>\n",
       "  <tbody>\n",
       "    <tr>\n",
       "      <td>0</td>\n",
       "      <td>166377</td>\n",
       "      <td>2019-08-04</td>\n",
       "      <td>in</td>\n",
       "      <td>False</td>\n",
       "      <td>NaN</td>\n",
       "      <td>True</td>\n",
       "      <td>2</td>\n",
       "      <td>0.000000</td>\n",
       "      <td>0.066667</td>\n",
       "      <td>0</td>\n",
       "      <td>2019-08-01</td>\n",
       "    </tr>\n",
       "    <tr>\n",
       "      <td>1</td>\n",
       "      <td>166377</td>\n",
       "      <td>2019-08-05</td>\n",
       "      <td>out</td>\n",
       "      <td>True</td>\n",
       "      <td>880022.0</td>\n",
       "      <td>True</td>\n",
       "      <td>3</td>\n",
       "      <td>0.000000</td>\n",
       "      <td>0.083333</td>\n",
       "      <td>0</td>\n",
       "      <td>2019-08-01</td>\n",
       "    </tr>\n",
       "    <tr>\n",
       "      <td>2</td>\n",
       "      <td>166377</td>\n",
       "      <td>2019-08-05</td>\n",
       "      <td>out</td>\n",
       "      <td>True</td>\n",
       "      <td>880020.0</td>\n",
       "      <td>True</td>\n",
       "      <td>1</td>\n",
       "      <td>0.000000</td>\n",
       "      <td>0.016667</td>\n",
       "      <td>0</td>\n",
       "      <td>2019-08-01</td>\n",
       "    </tr>\n",
       "    <tr>\n",
       "      <td>3</td>\n",
       "      <td>166377</td>\n",
       "      <td>2019-08-05</td>\n",
       "      <td>out</td>\n",
       "      <td>True</td>\n",
       "      <td>880020.0</td>\n",
       "      <td>False</td>\n",
       "      <td>1</td>\n",
       "      <td>0.166667</td>\n",
       "      <td>0.300000</td>\n",
       "      <td>0</td>\n",
       "      <td>2019-08-01</td>\n",
       "    </tr>\n",
       "    <tr>\n",
       "      <td>4</td>\n",
       "      <td>166377</td>\n",
       "      <td>2019-08-05</td>\n",
       "      <td>out</td>\n",
       "      <td>False</td>\n",
       "      <td>880022.0</td>\n",
       "      <td>True</td>\n",
       "      <td>3</td>\n",
       "      <td>0.000000</td>\n",
       "      <td>0.416667</td>\n",
       "      <td>0</td>\n",
       "      <td>2019-08-01</td>\n",
       "    </tr>\n",
       "    <tr>\n",
       "      <td>...</td>\n",
       "      <td>...</td>\n",
       "      <td>...</td>\n",
       "      <td>...</td>\n",
       "      <td>...</td>\n",
       "      <td>...</td>\n",
       "      <td>...</td>\n",
       "      <td>...</td>\n",
       "      <td>...</td>\n",
       "      <td>...</td>\n",
       "      <td>...</td>\n",
       "      <td>...</td>\n",
       "    </tr>\n",
       "    <tr>\n",
       "      <td>53896</td>\n",
       "      <td>168606</td>\n",
       "      <td>2019-11-10</td>\n",
       "      <td>out</td>\n",
       "      <td>True</td>\n",
       "      <td>957922.0</td>\n",
       "      <td>False</td>\n",
       "      <td>1</td>\n",
       "      <td>0.000000</td>\n",
       "      <td>0.416667</td>\n",
       "      <td>0</td>\n",
       "      <td>2019-11-01</td>\n",
       "    </tr>\n",
       "    <tr>\n",
       "      <td>53897</td>\n",
       "      <td>168606</td>\n",
       "      <td>2019-11-10</td>\n",
       "      <td>out</td>\n",
       "      <td>True</td>\n",
       "      <td>957922.0</td>\n",
       "      <td>True</td>\n",
       "      <td>1</td>\n",
       "      <td>0.000000</td>\n",
       "      <td>0.633333</td>\n",
       "      <td>0</td>\n",
       "      <td>2019-11-01</td>\n",
       "    </tr>\n",
       "    <tr>\n",
       "      <td>53898</td>\n",
       "      <td>168606</td>\n",
       "      <td>2019-11-11</td>\n",
       "      <td>out</td>\n",
       "      <td>True</td>\n",
       "      <td>957922.0</td>\n",
       "      <td>False</td>\n",
       "      <td>2</td>\n",
       "      <td>7.983333</td>\n",
       "      <td>8.350000</td>\n",
       "      <td>0</td>\n",
       "      <td>2019-11-01</td>\n",
       "    </tr>\n",
       "    <tr>\n",
       "      <td>53899</td>\n",
       "      <td>168606</td>\n",
       "      <td>2019-11-15</td>\n",
       "      <td>out</td>\n",
       "      <td>True</td>\n",
       "      <td>957922.0</td>\n",
       "      <td>False</td>\n",
       "      <td>4</td>\n",
       "      <td>52.166667</td>\n",
       "      <td>53.166667</td>\n",
       "      <td>0</td>\n",
       "      <td>2019-11-01</td>\n",
       "    </tr>\n",
       "    <tr>\n",
       "      <td>53901</td>\n",
       "      <td>168606</td>\n",
       "      <td>2019-11-19</td>\n",
       "      <td>in</td>\n",
       "      <td>False</td>\n",
       "      <td>NaN</td>\n",
       "      <td>True</td>\n",
       "      <td>2</td>\n",
       "      <td>0.000000</td>\n",
       "      <td>1.066667</td>\n",
       "      <td>0</td>\n",
       "      <td>2019-11-01</td>\n",
       "    </tr>\n",
       "  </tbody>\n",
       "</table>\n",
       "<p>48123 rows × 11 columns</p>\n",
       "</div>"
      ],
      "text/plain": [
       "      user_id       date direction internal  operator_id  is_missed_call  \\\n",
       "0      166377 2019-08-04        in    False          NaN            True   \n",
       "1      166377 2019-08-05       out     True     880022.0            True   \n",
       "2      166377 2019-08-05       out     True     880020.0            True   \n",
       "3      166377 2019-08-05       out     True     880020.0           False   \n",
       "4      166377 2019-08-05       out    False     880022.0            True   \n",
       "...       ...        ...       ...      ...          ...             ...   \n",
       "53896  168606 2019-11-10       out     True     957922.0           False   \n",
       "53897  168606 2019-11-10       out     True     957922.0            True   \n",
       "53898  168606 2019-11-11       out     True     957922.0           False   \n",
       "53899  168606 2019-11-15       out     True     957922.0           False   \n",
       "53901  168606 2019-11-19        in    False          NaN            True   \n",
       "\n",
       "       calls_count  call_duration  total_call_duration  not_activ      month  \n",
       "0                2       0.000000             0.066667          0 2019-08-01  \n",
       "1                3       0.000000             0.083333          0 2019-08-01  \n",
       "2                1       0.000000             0.016667          0 2019-08-01  \n",
       "3                1       0.166667             0.300000          0 2019-08-01  \n",
       "4                3       0.000000             0.416667          0 2019-08-01  \n",
       "...            ...            ...                  ...        ...        ...  \n",
       "53896            1       0.000000             0.416667          0 2019-11-01  \n",
       "53897            1       0.000000             0.633333          0 2019-11-01  \n",
       "53898            2       7.983333             8.350000          0 2019-11-01  \n",
       "53899            4      52.166667            53.166667          0 2019-11-01  \n",
       "53901            2       0.000000             1.066667          0 2019-11-01  \n",
       "\n",
       "[48123 rows x 11 columns]"
      ]
     },
     "execution_count": 44,
     "metadata": {},
     "output_type": "execute_result"
    }
   ],
   "source": [
    "df_active"
   ]
  },
  {
   "cell_type": "code",
   "execution_count": 45,
   "metadata": {},
   "outputs": [
    {
     "data": {
      "text/html": [
       "<div>\n",
       "<style scoped>\n",
       "    .dataframe tbody tr th:only-of-type {\n",
       "        vertical-align: middle;\n",
       "    }\n",
       "\n",
       "    .dataframe tbody tr th {\n",
       "        vertical-align: top;\n",
       "    }\n",
       "\n",
       "    .dataframe thead th {\n",
       "        text-align: right;\n",
       "    }\n",
       "</style>\n",
       "<table border=\"1\" class=\"dataframe\">\n",
       "  <thead>\n",
       "    <tr style=\"text-align: right;\">\n",
       "      <th></th>\n",
       "      <th>user_id</th>\n",
       "      <th>date</th>\n",
       "      <th>direction</th>\n",
       "      <th>internal</th>\n",
       "      <th>operator_id</th>\n",
       "      <th>is_missed_call</th>\n",
       "      <th>calls_count</th>\n",
       "      <th>call_duration</th>\n",
       "      <th>total_call_duration</th>\n",
       "      <th>not_activ</th>\n",
       "      <th>month</th>\n",
       "      <th>tariff_plan</th>\n",
       "      <th>date_start</th>\n",
       "    </tr>\n",
       "  </thead>\n",
       "  <tbody>\n",
       "    <tr>\n",
       "      <td>0</td>\n",
       "      <td>166377</td>\n",
       "      <td>2019-08-04</td>\n",
       "      <td>in</td>\n",
       "      <td>False</td>\n",
       "      <td>NaN</td>\n",
       "      <td>True</td>\n",
       "      <td>2</td>\n",
       "      <td>0.0</td>\n",
       "      <td>0.066667</td>\n",
       "      <td>0</td>\n",
       "      <td>2019-08-01</td>\n",
       "      <td>B</td>\n",
       "      <td>2019-08-01</td>\n",
       "    </tr>\n",
       "    <tr>\n",
       "      <td>1</td>\n",
       "      <td>166377</td>\n",
       "      <td>2019-08-05</td>\n",
       "      <td>out</td>\n",
       "      <td>True</td>\n",
       "      <td>880022.0</td>\n",
       "      <td>True</td>\n",
       "      <td>3</td>\n",
       "      <td>0.0</td>\n",
       "      <td>0.083333</td>\n",
       "      <td>0</td>\n",
       "      <td>2019-08-01</td>\n",
       "      <td>B</td>\n",
       "      <td>2019-08-01</td>\n",
       "    </tr>\n",
       "    <tr>\n",
       "      <td>2</td>\n",
       "      <td>166377</td>\n",
       "      <td>2019-08-05</td>\n",
       "      <td>out</td>\n",
       "      <td>True</td>\n",
       "      <td>880020.0</td>\n",
       "      <td>True</td>\n",
       "      <td>1</td>\n",
       "      <td>0.0</td>\n",
       "      <td>0.016667</td>\n",
       "      <td>0</td>\n",
       "      <td>2019-08-01</td>\n",
       "      <td>B</td>\n",
       "      <td>2019-08-01</td>\n",
       "    </tr>\n",
       "  </tbody>\n",
       "</table>\n",
       "</div>"
      ],
      "text/plain": [
       "  user_id       date direction internal  operator_id  is_missed_call  \\\n",
       "0  166377 2019-08-04        in    False          NaN            True   \n",
       "1  166377 2019-08-05       out     True     880022.0            True   \n",
       "2  166377 2019-08-05       out     True     880020.0            True   \n",
       "\n",
       "   calls_count  call_duration  total_call_duration  not_activ      month  \\\n",
       "0            2            0.0             0.066667          0 2019-08-01   \n",
       "1            3            0.0             0.083333          0 2019-08-01   \n",
       "2            1            0.0             0.016667          0 2019-08-01   \n",
       "\n",
       "  tariff_plan  date_start  \n",
       "0           B  2019-08-01  \n",
       "1           B  2019-08-01  \n",
       "2           B  2019-08-01  "
      ]
     },
     "execution_count": 45,
     "metadata": {},
     "output_type": "execute_result"
    }
   ],
   "source": [
    "#присоеденим данный с информацией о тарифах\n",
    "df_revenue = df_active.merge(df_clients, on ='user_id')\n",
    "df_revenue.head(3)"
   ]
  },
  {
   "cell_type": "code",
   "execution_count": 46,
   "metadata": {},
   "outputs": [],
   "source": [
    "#окргулим значения вверх по правилам телекома\n",
    "df_revenue['total_call_duration'] = df_revenue['total_call_duration']\n",
    "df_revenue['call_duration'] = df_revenue['call_duration']"
   ]
  },
  {
   "cell_type": "markdown",
   "metadata": {},
   "source": [
    "### Расчет стоимости минут "
   ]
  },
  {
   "cell_type": "code",
   "execution_count": 47,
   "metadata": {},
   "outputs": [],
   "source": [
    "# определим стоимость по за минуты по текущему тарифц пользователей\n",
    "tariffs = ['A', 'B','C']\n",
    "calls_out_inner =[0.1, 0.15, 0.3]\n",
    "calls_out_outer =[0.4, 0.5, 0.7]\n",
    "\n",
    "def func(row):\n",
    "    for i in range(3):\n",
    "        if row['direction'] == 'in' and \\\n",
    "        row['tariff_plan'] == tariffs[i] and  \\\n",
    "        row['internal'] == True and  \\\n",
    "        row['total_call_duration']>2000:\n",
    "            return (row['total_call_duration']-2000) *calls_out_inner[i]\n",
    "        \n",
    "        if row['direction'] == 'out' and \\\n",
    "            row['tariff_plan'] == tariffs[i] and \\\n",
    "            row['internal'] == False:\n",
    "            return (row['total_call_duration']) *calls_out_outer[i]\n",
    "        \n",
    "    else: return 0\n",
    "\n",
    "\n",
    "df_revenue['rev_per_minute'] = df_revenue.apply(func, axis= 1)\n",
    "df_revenue['rev_per_minute'] = df_revenue['rev_per_minute'].round(2)"
   ]
  },
  {
   "cell_type": "code",
   "execution_count": 48,
   "metadata": {},
   "outputs": [],
   "source": [
    "# определим стоимость минут для остальных тарифов\n",
    "#в списках пропишем данные по тарифам\n",
    "tariffs = ['A', 'B','C']\n",
    "calls_out_inner =[0.1, 0.15, 0.3]\n",
    "calls_out_outer =[0.4, 0.5, 0.7]\n",
    "\n",
    "def func_A(row):\n",
    "    if row['direction'] == 'in' and \\\n",
    "        row['internal'] == True and  \\\n",
    "        row['total_call_duration']>2000:\n",
    "            return (row['total_call_duration']-2000) *0.1\n",
    "        \n",
    "    if row['direction'] == 'out' and \\\n",
    "           row['internal'] == False:\n",
    "            return (row['total_call_duration']) * 0.4\n",
    "        \n",
    "    else: return 0\n",
    "    \n",
    "def func_B(row):\n",
    "    if  row['direction'] == 'in' and \\\n",
    "        row['internal'] == True and  \\\n",
    "        row['total_call_duration']>2000:\n",
    "            return (row['total_call_duration']-2000) *0.15\n",
    "        \n",
    "    if row['direction'] == 'out' and \\\n",
    "           row['internal'] == False:\n",
    "            return (row['total_call_duration']) * 0.5\n",
    "        \n",
    "    else: return 0\n",
    "\n",
    "def func_C(row):\n",
    "    if  row['direction'] == 'in' and \\\n",
    "        row['internal'] == True and  \\\n",
    "        row['total_call_duration']>2000:\n",
    "            return (row['total_call_duration']-2000) *0.3\n",
    "        \n",
    "    if row['direction'] == 'out' and \\\n",
    "           row['internal'] == False:\n",
    "            return (row['total_call_duration'])*0.7\n",
    "        \n",
    "    else: return 0"
   ]
  },
  {
   "cell_type": "code",
   "execution_count": 49,
   "metadata": {},
   "outputs": [],
   "source": [
    "# создадим столбцы со стоимостью за минуты для каждого тарифа\n",
    "df_revenue['A'] = df_revenue.apply(func_A, axis= 1).round(2)\n",
    "df_revenue['B'] = df_revenue.apply(func_B, axis= 1).round(2)\n",
    "df_revenue['C'] = df_revenue.apply(func_C, axis= 1).round(2)\n"
   ]
  },
  {
   "cell_type": "code",
   "execution_count": 50,
   "metadata": {},
   "outputs": [
    {
     "data": {
      "text/html": [
       "<div>\n",
       "<style scoped>\n",
       "    .dataframe tbody tr th:only-of-type {\n",
       "        vertical-align: middle;\n",
       "    }\n",
       "\n",
       "    .dataframe tbody tr th {\n",
       "        vertical-align: top;\n",
       "    }\n",
       "\n",
       "    .dataframe thead th {\n",
       "        text-align: right;\n",
       "    }\n",
       "</style>\n",
       "<table border=\"1\" class=\"dataframe\">\n",
       "  <thead>\n",
       "    <tr style=\"text-align: right;\">\n",
       "      <th></th>\n",
       "      <th>user_id</th>\n",
       "      <th>date</th>\n",
       "      <th>direction</th>\n",
       "      <th>internal</th>\n",
       "      <th>operator_id</th>\n",
       "      <th>is_missed_call</th>\n",
       "      <th>calls_count</th>\n",
       "      <th>call_duration</th>\n",
       "      <th>total_call_duration</th>\n",
       "      <th>not_activ</th>\n",
       "      <th>month</th>\n",
       "      <th>tariff_plan</th>\n",
       "      <th>date_start</th>\n",
       "      <th>rev_per_minute</th>\n",
       "      <th>A</th>\n",
       "      <th>B</th>\n",
       "      <th>C</th>\n",
       "    </tr>\n",
       "  </thead>\n",
       "  <tbody>\n",
       "    <tr>\n",
       "      <td>0</td>\n",
       "      <td>166377</td>\n",
       "      <td>2019-08-04</td>\n",
       "      <td>in</td>\n",
       "      <td>False</td>\n",
       "      <td>NaN</td>\n",
       "      <td>True</td>\n",
       "      <td>2</td>\n",
       "      <td>0.000000</td>\n",
       "      <td>0.066667</td>\n",
       "      <td>0</td>\n",
       "      <td>2019-08-01</td>\n",
       "      <td>B</td>\n",
       "      <td>2019-08-01</td>\n",
       "      <td>0.00</td>\n",
       "      <td>0.00</td>\n",
       "      <td>0.00</td>\n",
       "      <td>0.00</td>\n",
       "    </tr>\n",
       "    <tr>\n",
       "      <td>1</td>\n",
       "      <td>166377</td>\n",
       "      <td>2019-08-05</td>\n",
       "      <td>out</td>\n",
       "      <td>True</td>\n",
       "      <td>880022.0</td>\n",
       "      <td>True</td>\n",
       "      <td>3</td>\n",
       "      <td>0.000000</td>\n",
       "      <td>0.083333</td>\n",
       "      <td>0</td>\n",
       "      <td>2019-08-01</td>\n",
       "      <td>B</td>\n",
       "      <td>2019-08-01</td>\n",
       "      <td>0.00</td>\n",
       "      <td>0.00</td>\n",
       "      <td>0.00</td>\n",
       "      <td>0.00</td>\n",
       "    </tr>\n",
       "    <tr>\n",
       "      <td>2</td>\n",
       "      <td>166377</td>\n",
       "      <td>2019-08-05</td>\n",
       "      <td>out</td>\n",
       "      <td>True</td>\n",
       "      <td>880020.0</td>\n",
       "      <td>True</td>\n",
       "      <td>1</td>\n",
       "      <td>0.000000</td>\n",
       "      <td>0.016667</td>\n",
       "      <td>0</td>\n",
       "      <td>2019-08-01</td>\n",
       "      <td>B</td>\n",
       "      <td>2019-08-01</td>\n",
       "      <td>0.00</td>\n",
       "      <td>0.00</td>\n",
       "      <td>0.00</td>\n",
       "      <td>0.00</td>\n",
       "    </tr>\n",
       "    <tr>\n",
       "      <td>3</td>\n",
       "      <td>166377</td>\n",
       "      <td>2019-08-05</td>\n",
       "      <td>out</td>\n",
       "      <td>True</td>\n",
       "      <td>880020.0</td>\n",
       "      <td>False</td>\n",
       "      <td>1</td>\n",
       "      <td>0.166667</td>\n",
       "      <td>0.300000</td>\n",
       "      <td>0</td>\n",
       "      <td>2019-08-01</td>\n",
       "      <td>B</td>\n",
       "      <td>2019-08-01</td>\n",
       "      <td>0.00</td>\n",
       "      <td>0.00</td>\n",
       "      <td>0.00</td>\n",
       "      <td>0.00</td>\n",
       "    </tr>\n",
       "    <tr>\n",
       "      <td>4</td>\n",
       "      <td>166377</td>\n",
       "      <td>2019-08-05</td>\n",
       "      <td>out</td>\n",
       "      <td>False</td>\n",
       "      <td>880022.0</td>\n",
       "      <td>True</td>\n",
       "      <td>3</td>\n",
       "      <td>0.000000</td>\n",
       "      <td>0.416667</td>\n",
       "      <td>0</td>\n",
       "      <td>2019-08-01</td>\n",
       "      <td>B</td>\n",
       "      <td>2019-08-01</td>\n",
       "      <td>0.21</td>\n",
       "      <td>0.17</td>\n",
       "      <td>0.21</td>\n",
       "      <td>0.29</td>\n",
       "    </tr>\n",
       "  </tbody>\n",
       "</table>\n",
       "</div>"
      ],
      "text/plain": [
       "  user_id       date direction internal  operator_id  is_missed_call  \\\n",
       "0  166377 2019-08-04        in    False          NaN            True   \n",
       "1  166377 2019-08-05       out     True     880022.0            True   \n",
       "2  166377 2019-08-05       out     True     880020.0            True   \n",
       "3  166377 2019-08-05       out     True     880020.0           False   \n",
       "4  166377 2019-08-05       out    False     880022.0            True   \n",
       "\n",
       "   calls_count  call_duration  total_call_duration  not_activ      month  \\\n",
       "0            2       0.000000             0.066667          0 2019-08-01   \n",
       "1            3       0.000000             0.083333          0 2019-08-01   \n",
       "2            1       0.000000             0.016667          0 2019-08-01   \n",
       "3            1       0.166667             0.300000          0 2019-08-01   \n",
       "4            3       0.000000             0.416667          0 2019-08-01   \n",
       "\n",
       "  tariff_plan  date_start  rev_per_minute     A     B     C  \n",
       "0           B  2019-08-01            0.00  0.00  0.00  0.00  \n",
       "1           B  2019-08-01            0.00  0.00  0.00  0.00  \n",
       "2           B  2019-08-01            0.00  0.00  0.00  0.00  \n",
       "3           B  2019-08-01            0.00  0.00  0.00  0.00  \n",
       "4           B  2019-08-01            0.21  0.17  0.21  0.29  "
      ]
     },
     "execution_count": 50,
     "metadata": {},
     "output_type": "execute_result"
    }
   ],
   "source": [
    "df_revenue.head(5)"
   ]
  },
  {
   "cell_type": "markdown",
   "metadata": {},
   "source": [
    "### Расчет абонентской платы"
   ]
  },
  {
   "cell_type": "code",
   "execution_count": 51,
   "metadata": {},
   "outputs": [],
   "source": [
    "#перед группировкой помесяцам округлим данные вверх по праилам тарифов\n",
    "df_revenue['A'] = np.ceil(df_revenue['A'])\n",
    "df_revenue['B'] = np.ceil(df_revenue['B'])\n",
    "df_revenue['C'] = np.ceil(df_revenue['C'])\n",
    "df_revenue['rev_per_minute'] = np.ceil(df_revenue['rev_per_minute'])"
   ]
  },
  {
   "cell_type": "code",
   "execution_count": 52,
   "metadata": {},
   "outputs": [
    {
     "data": {
      "text/html": [
       "<div>\n",
       "<style scoped>\n",
       "    .dataframe tbody tr th:only-of-type {\n",
       "        vertical-align: middle;\n",
       "    }\n",
       "\n",
       "    .dataframe tbody tr th {\n",
       "        vertical-align: top;\n",
       "    }\n",
       "\n",
       "    .dataframe thead th {\n",
       "        text-align: right;\n",
       "    }\n",
       "</style>\n",
       "<table border=\"1\" class=\"dataframe\">\n",
       "  <thead>\n",
       "    <tr style=\"text-align: right;\">\n",
       "      <th></th>\n",
       "      <th>month</th>\n",
       "      <th>user_id</th>\n",
       "      <th>tariff_plan</th>\n",
       "      <th>operator_id</th>\n",
       "      <th>rev_per_minute</th>\n",
       "      <th>A</th>\n",
       "      <th>B</th>\n",
       "      <th>C</th>\n",
       "    </tr>\n",
       "  </thead>\n",
       "  <tbody>\n",
       "    <tr>\n",
       "      <td>0</td>\n",
       "      <td>2019-08-01</td>\n",
       "      <td>166377</td>\n",
       "      <td>B</td>\n",
       "      <td>5</td>\n",
       "      <td>691.0</td>\n",
       "      <td>560.0</td>\n",
       "      <td>691.0</td>\n",
       "      <td>946.0</td>\n",
       "    </tr>\n",
       "    <tr>\n",
       "      <td>1</td>\n",
       "      <td>2019-08-01</td>\n",
       "      <td>166392</td>\n",
       "      <td>C</td>\n",
       "      <td>2</td>\n",
       "      <td>0.0</td>\n",
       "      <td>0.0</td>\n",
       "      <td>0.0</td>\n",
       "      <td>0.0</td>\n",
       "    </tr>\n",
       "    <tr>\n",
       "      <td>2</td>\n",
       "      <td>2019-08-01</td>\n",
       "      <td>166399</td>\n",
       "      <td>C</td>\n",
       "      <td>1</td>\n",
       "      <td>0.0</td>\n",
       "      <td>0.0</td>\n",
       "      <td>0.0</td>\n",
       "      <td>0.0</td>\n",
       "    </tr>\n",
       "    <tr>\n",
       "      <td>3</td>\n",
       "      <td>2019-08-01</td>\n",
       "      <td>166405</td>\n",
       "      <td>B</td>\n",
       "      <td>2</td>\n",
       "      <td>456.0</td>\n",
       "      <td>372.0</td>\n",
       "      <td>456.0</td>\n",
       "      <td>621.0</td>\n",
       "    </tr>\n",
       "    <tr>\n",
       "      <td>4</td>\n",
       "      <td>2019-08-01</td>\n",
       "      <td>166406</td>\n",
       "      <td>B</td>\n",
       "      <td>3</td>\n",
       "      <td>1343.0</td>\n",
       "      <td>1082.0</td>\n",
       "      <td>1343.0</td>\n",
       "      <td>1863.0</td>\n",
       "    </tr>\n",
       "  </tbody>\n",
       "</table>\n",
       "</div>"
      ],
      "text/plain": [
       "       month user_id tariff_plan  operator_id  rev_per_minute       A       B  \\\n",
       "0 2019-08-01  166377           B            5           691.0   560.0   691.0   \n",
       "1 2019-08-01  166392           C            2             0.0     0.0     0.0   \n",
       "2 2019-08-01  166399           C            1             0.0     0.0     0.0   \n",
       "3 2019-08-01  166405           B            2           456.0   372.0   456.0   \n",
       "4 2019-08-01  166406           B            3          1343.0  1082.0  1343.0   \n",
       "\n",
       "        C  \n",
       "0   946.0  \n",
       "1     0.0  \n",
       "2     0.0  \n",
       "3   621.0  \n",
       "4  1863.0  "
      ]
     },
     "execution_count": 52,
     "metadata": {},
     "output_type": "execute_result"
    }
   ],
   "source": [
    "#сгруппируем данные по месяцам\n",
    "df_revenue_month = df_revenue.groupby(['month','user_id','tariff_plan']).agg({'operator_id': 'nunique','rev_per_minute':'sum','A':'sum','B':'sum','C':'sum'}).reset_index()\n",
    "df_revenue_month.head(5)"
   ]
  },
  {
   "cell_type": "markdown",
   "metadata": {},
   "source": [
    "#### Текущий тариф"
   ]
  },
  {
   "cell_type": "code",
   "execution_count": 53,
   "metadata": {},
   "outputs": [],
   "source": [
    "#расчет абонетской платы по тарифам\n",
    "tariffs = ['A','B','C']\n",
    "abons = [5000, 2000, 1000]\n",
    "\n",
    "def fun_abon_curr(row):\n",
    "    for a in range(3):\n",
    "        if row['tariff_plan'] == tariffs[a]:\n",
    "            return (row['operator_id']*100)+abons[a]\n",
    "        if row['tariff_plan'] == tariffs[a]:\n",
    "            return (row['operator_id']*100)+abons[a]\n",
    "        if row['tariff_plan'] == tariffs[a]:\n",
    "            return (row['operator_id']*100)+abons[a]\n",
    "    else:\n",
    "        return 0"
   ]
  },
  {
   "cell_type": "code",
   "execution_count": 54,
   "metadata": {},
   "outputs": [
    {
     "data": {
      "text/html": [
       "<div>\n",
       "<style scoped>\n",
       "    .dataframe tbody tr th:only-of-type {\n",
       "        vertical-align: middle;\n",
       "    }\n",
       "\n",
       "    .dataframe tbody tr th {\n",
       "        vertical-align: top;\n",
       "    }\n",
       "\n",
       "    .dataframe thead th {\n",
       "        text-align: right;\n",
       "    }\n",
       "</style>\n",
       "<table border=\"1\" class=\"dataframe\">\n",
       "  <thead>\n",
       "    <tr style=\"text-align: right;\">\n",
       "      <th></th>\n",
       "      <th>month</th>\n",
       "      <th>user_id</th>\n",
       "      <th>tariff_plan</th>\n",
       "      <th>operator_id</th>\n",
       "      <th>rev_per_minute</th>\n",
       "      <th>A</th>\n",
       "      <th>B</th>\n",
       "      <th>C</th>\n",
       "      <th>abon_current</th>\n",
       "    </tr>\n",
       "  </thead>\n",
       "  <tbody>\n",
       "    <tr>\n",
       "      <td>0</td>\n",
       "      <td>2019-08-01</td>\n",
       "      <td>166377</td>\n",
       "      <td>B</td>\n",
       "      <td>5</td>\n",
       "      <td>691.0</td>\n",
       "      <td>560.0</td>\n",
       "      <td>691.0</td>\n",
       "      <td>946.0</td>\n",
       "      <td>2500</td>\n",
       "    </tr>\n",
       "    <tr>\n",
       "      <td>1</td>\n",
       "      <td>2019-08-01</td>\n",
       "      <td>166392</td>\n",
       "      <td>C</td>\n",
       "      <td>2</td>\n",
       "      <td>0.0</td>\n",
       "      <td>0.0</td>\n",
       "      <td>0.0</td>\n",
       "      <td>0.0</td>\n",
       "      <td>1200</td>\n",
       "    </tr>\n",
       "    <tr>\n",
       "      <td>2</td>\n",
       "      <td>2019-08-01</td>\n",
       "      <td>166399</td>\n",
       "      <td>C</td>\n",
       "      <td>1</td>\n",
       "      <td>0.0</td>\n",
       "      <td>0.0</td>\n",
       "      <td>0.0</td>\n",
       "      <td>0.0</td>\n",
       "      <td>1100</td>\n",
       "    </tr>\n",
       "    <tr>\n",
       "      <td>3</td>\n",
       "      <td>2019-08-01</td>\n",
       "      <td>166405</td>\n",
       "      <td>B</td>\n",
       "      <td>2</td>\n",
       "      <td>456.0</td>\n",
       "      <td>372.0</td>\n",
       "      <td>456.0</td>\n",
       "      <td>621.0</td>\n",
       "      <td>2200</td>\n",
       "    </tr>\n",
       "    <tr>\n",
       "      <td>4</td>\n",
       "      <td>2019-08-01</td>\n",
       "      <td>166406</td>\n",
       "      <td>B</td>\n",
       "      <td>3</td>\n",
       "      <td>1343.0</td>\n",
       "      <td>1082.0</td>\n",
       "      <td>1343.0</td>\n",
       "      <td>1863.0</td>\n",
       "      <td>2300</td>\n",
       "    </tr>\n",
       "  </tbody>\n",
       "</table>\n",
       "</div>"
      ],
      "text/plain": [
       "       month user_id tariff_plan  operator_id  rev_per_minute       A       B  \\\n",
       "0 2019-08-01  166377           B            5           691.0   560.0   691.0   \n",
       "1 2019-08-01  166392           C            2             0.0     0.0     0.0   \n",
       "2 2019-08-01  166399           C            1             0.0     0.0     0.0   \n",
       "3 2019-08-01  166405           B            2           456.0   372.0   456.0   \n",
       "4 2019-08-01  166406           B            3          1343.0  1082.0  1343.0   \n",
       "\n",
       "        C  abon_current  \n",
       "0   946.0          2500  \n",
       "1     0.0          1200  \n",
       "2     0.0          1100  \n",
       "3   621.0          2200  \n",
       "4  1863.0          2300  "
      ]
     },
     "execution_count": 54,
     "metadata": {},
     "output_type": "execute_result"
    }
   ],
   "source": [
    "df_revenue_month['abon_current'] = df_revenue_month.apply(fun_abon_curr, axis =1)\n",
    "\n",
    "df_revenue_month.head(5)"
   ]
  },
  {
   "cell_type": "code",
   "execution_count": 55,
   "metadata": {},
   "outputs": [
    {
     "data": {
      "text/html": [
       "<div>\n",
       "<style scoped>\n",
       "    .dataframe tbody tr th:only-of-type {\n",
       "        vertical-align: middle;\n",
       "    }\n",
       "\n",
       "    .dataframe tbody tr th {\n",
       "        vertical-align: top;\n",
       "    }\n",
       "\n",
       "    .dataframe thead th {\n",
       "        text-align: right;\n",
       "    }\n",
       "</style>\n",
       "<table border=\"1\" class=\"dataframe\">\n",
       "  <thead>\n",
       "    <tr style=\"text-align: right;\">\n",
       "      <th></th>\n",
       "      <th>month</th>\n",
       "      <th>user_id</th>\n",
       "      <th>tariff_plan</th>\n",
       "      <th>operator_id</th>\n",
       "      <th>rev_per_minute</th>\n",
       "      <th>A</th>\n",
       "      <th>B</th>\n",
       "      <th>C</th>\n",
       "      <th>abon_current</th>\n",
       "    </tr>\n",
       "  </thead>\n",
       "  <tbody>\n",
       "    <tr>\n",
       "      <td>0</td>\n",
       "      <td>2019-08-01</td>\n",
       "      <td>166377</td>\n",
       "      <td>B</td>\n",
       "      <td>5</td>\n",
       "      <td>691.0</td>\n",
       "      <td>560.0</td>\n",
       "      <td>691.0</td>\n",
       "      <td>946.0</td>\n",
       "      <td>2500</td>\n",
       "    </tr>\n",
       "  </tbody>\n",
       "</table>\n",
       "</div>"
      ],
      "text/plain": [
       "       month user_id tariff_plan  operator_id  rev_per_minute      A      B  \\\n",
       "0 2019-08-01  166377           B            5           691.0  560.0  691.0   \n",
       "\n",
       "       C  abon_current  \n",
       "0  946.0          2500  "
      ]
     },
     "execution_count": 55,
     "metadata": {},
     "output_type": "execute_result"
    }
   ],
   "source": [
    "df_revenue_month.head(1)"
   ]
  },
  {
   "cell_type": "code",
   "execution_count": 56,
   "metadata": {},
   "outputs": [
    {
     "data": {
      "text/html": [
       "<div>\n",
       "<style scoped>\n",
       "    .dataframe tbody tr th:only-of-type {\n",
       "        vertical-align: middle;\n",
       "    }\n",
       "\n",
       "    .dataframe tbody tr th {\n",
       "        vertical-align: top;\n",
       "    }\n",
       "\n",
       "    .dataframe thead th {\n",
       "        text-align: right;\n",
       "    }\n",
       "</style>\n",
       "<table border=\"1\" class=\"dataframe\">\n",
       "  <thead>\n",
       "    <tr style=\"text-align: right;\">\n",
       "      <th></th>\n",
       "      <th></th>\n",
       "      <th>operator_id</th>\n",
       "    </tr>\n",
       "    <tr>\n",
       "      <th>month</th>\n",
       "      <th>user_id</th>\n",
       "      <th></th>\n",
       "    </tr>\n",
       "  </thead>\n",
       "  <tbody>\n",
       "    <tr>\n",
       "      <td>2019-08-01</td>\n",
       "      <td>166377</td>\n",
       "      <td>5</td>\n",
       "    </tr>\n",
       "    <tr>\n",
       "      <td>2019-09-01</td>\n",
       "      <td>166377</td>\n",
       "      <td>4</td>\n",
       "    </tr>\n",
       "    <tr>\n",
       "      <td>2019-10-01</td>\n",
       "      <td>166377</td>\n",
       "      <td>5</td>\n",
       "    </tr>\n",
       "    <tr>\n",
       "      <td>2019-11-01</td>\n",
       "      <td>166377</td>\n",
       "      <td>4</td>\n",
       "    </tr>\n",
       "  </tbody>\n",
       "</table>\n",
       "</div>"
      ],
      "text/plain": [
       "                    operator_id\n",
       "month      user_id             \n",
       "2019-08-01 166377             5\n",
       "2019-09-01 166377             4\n",
       "2019-10-01 166377             5\n",
       "2019-11-01 166377             4"
      ]
     },
     "execution_count": 56,
     "metadata": {},
     "output_type": "execute_result"
    }
   ],
   "source": [
    "# ячейка ревьюера:\n",
    "(df_active\n",
    " .query('user_id == \"166377\"')\n",
    " .groupby(['month', 'user_id'])\n",
    " .agg({'operator_id': 'nunique'})\n",
    ")"
   ]
  },
  {
   "cell_type": "code",
   "execution_count": 90,
   "metadata": {},
   "outputs": [
    {
     "data": {
      "text/html": [
       "<div>\n",
       "<style scoped>\n",
       "    .dataframe tbody tr th:only-of-type {\n",
       "        vertical-align: middle;\n",
       "    }\n",
       "\n",
       "    .dataframe tbody tr th {\n",
       "        vertical-align: top;\n",
       "    }\n",
       "\n",
       "    .dataframe thead th {\n",
       "        text-align: right;\n",
       "    }\n",
       "</style>\n",
       "<table border=\"1\" class=\"dataframe\">\n",
       "  <thead>\n",
       "    <tr style=\"text-align: right;\">\n",
       "      <th></th>\n",
       "      <th></th>\n",
       "      <th>operator_id</th>\n",
       "    </tr>\n",
       "    <tr>\n",
       "      <th>month</th>\n",
       "      <th>user_id</th>\n",
       "      <th></th>\n",
       "    </tr>\n",
       "  </thead>\n",
       "  <tbody>\n",
       "    <tr>\n",
       "      <td>2019-08-01</td>\n",
       "      <td>166377</td>\n",
       "      <td>5</td>\n",
       "    </tr>\n",
       "    <tr>\n",
       "      <td>2019-09-01</td>\n",
       "      <td>166377</td>\n",
       "      <td>4</td>\n",
       "    </tr>\n",
       "    <tr>\n",
       "      <td>2019-10-01</td>\n",
       "      <td>166377</td>\n",
       "      <td>5</td>\n",
       "    </tr>\n",
       "    <tr>\n",
       "      <td>2019-11-01</td>\n",
       "      <td>166377</td>\n",
       "      <td>4</td>\n",
       "    </tr>\n",
       "  </tbody>\n",
       "</table>\n",
       "</div>"
      ],
      "text/plain": [
       "                    operator_id\n",
       "month      user_id             \n",
       "2019-08-01 166377             5\n",
       "2019-09-01 166377             4\n",
       "2019-10-01 166377             5\n",
       "2019-11-01 166377             4"
      ]
     },
     "execution_count": 90,
     "metadata": {},
     "output_type": "execute_result"
    }
   ],
   "source": [
    "# ячейка ревьюера:\n",
    "(df_active\n",
    " .query('user_id == \"166377\" and operator_id != \"111111\"')\n",
    " .groupby(['month', 'user_id'])\n",
    " .agg({'operator_id': 'nunique'})\n",
    ")"
   ]
  },
  {
   "cell_type": "code",
   "execution_count": 58,
   "metadata": {},
   "outputs": [],
   "source": [
    "#создадим столбец с общей выручкой\n",
    "df_revenue_month['total_rev'] = df_revenue_month['abon_current']  + df_revenue_month['rev_per_minute']"
   ]
  },
  {
   "cell_type": "markdown",
   "metadata": {},
   "source": [
    "#### Все тарифы"
   ]
  },
  {
   "cell_type": "code",
   "execution_count": 59,
   "metadata": {},
   "outputs": [
    {
     "data": {
      "text/html": [
       "<div>\n",
       "<style scoped>\n",
       "    .dataframe tbody tr th:only-of-type {\n",
       "        vertical-align: middle;\n",
       "    }\n",
       "\n",
       "    .dataframe tbody tr th {\n",
       "        vertical-align: top;\n",
       "    }\n",
       "\n",
       "    .dataframe thead th {\n",
       "        text-align: right;\n",
       "    }\n",
       "</style>\n",
       "<table border=\"1\" class=\"dataframe\">\n",
       "  <thead>\n",
       "    <tr style=\"text-align: right;\">\n",
       "      <th></th>\n",
       "      <th>month</th>\n",
       "      <th>user_id</th>\n",
       "      <th>tariff_plan</th>\n",
       "      <th>operator_id</th>\n",
       "      <th>rev_per_minute</th>\n",
       "      <th>A</th>\n",
       "      <th>B</th>\n",
       "      <th>C</th>\n",
       "      <th>abon_current</th>\n",
       "      <th>total_rev</th>\n",
       "      <th>abon_A</th>\n",
       "      <th>abon_B</th>\n",
       "      <th>abon_C</th>\n",
       "    </tr>\n",
       "  </thead>\n",
       "  <tbody>\n",
       "    <tr>\n",
       "      <td>0</td>\n",
       "      <td>2019-08-01</td>\n",
       "      <td>166377</td>\n",
       "      <td>B</td>\n",
       "      <td>5</td>\n",
       "      <td>691.0</td>\n",
       "      <td>560.0</td>\n",
       "      <td>691.0</td>\n",
       "      <td>946.0</td>\n",
       "      <td>2500</td>\n",
       "      <td>3191.0</td>\n",
       "      <td>5500</td>\n",
       "      <td>2500</td>\n",
       "      <td>1500</td>\n",
       "    </tr>\n",
       "    <tr>\n",
       "      <td>1</td>\n",
       "      <td>2019-08-01</td>\n",
       "      <td>166392</td>\n",
       "      <td>C</td>\n",
       "      <td>2</td>\n",
       "      <td>0.0</td>\n",
       "      <td>0.0</td>\n",
       "      <td>0.0</td>\n",
       "      <td>0.0</td>\n",
       "      <td>1200</td>\n",
       "      <td>1200.0</td>\n",
       "      <td>5200</td>\n",
       "      <td>2200</td>\n",
       "      <td>1200</td>\n",
       "    </tr>\n",
       "    <tr>\n",
       "      <td>2</td>\n",
       "      <td>2019-08-01</td>\n",
       "      <td>166399</td>\n",
       "      <td>C</td>\n",
       "      <td>1</td>\n",
       "      <td>0.0</td>\n",
       "      <td>0.0</td>\n",
       "      <td>0.0</td>\n",
       "      <td>0.0</td>\n",
       "      <td>1100</td>\n",
       "      <td>1100.0</td>\n",
       "      <td>5100</td>\n",
       "      <td>2100</td>\n",
       "      <td>1100</td>\n",
       "    </tr>\n",
       "  </tbody>\n",
       "</table>\n",
       "</div>"
      ],
      "text/plain": [
       "       month user_id tariff_plan  operator_id  rev_per_minute      A      B  \\\n",
       "0 2019-08-01  166377           B            5           691.0  560.0  691.0   \n",
       "1 2019-08-01  166392           C            2             0.0    0.0    0.0   \n",
       "2 2019-08-01  166399           C            1             0.0    0.0    0.0   \n",
       "\n",
       "       C  abon_current  total_rev  abon_A  abon_B  abon_C  \n",
       "0  946.0          2500     3191.0    5500    2500    1500  \n",
       "1    0.0          1200     1200.0    5200    2200    1200  \n",
       "2    0.0          1100     1100.0    5100    2100    1100  "
      ]
     },
     "execution_count": 59,
     "metadata": {},
     "output_type": "execute_result"
    }
   ],
   "source": [
    "#добавим столбцы с информацие об абонентской плате по всем тарифам\n",
    "df_revenue_month['abon_A'] = (df_revenue_month['operator_id']*100)+5000\n",
    "df_revenue_month['abon_B'] = (df_revenue_month['operator_id']*100)+2000\n",
    "df_revenue_month['abon_C'] = (df_revenue_month['operator_id']*100)+1000\n",
    "df_revenue_month.head(3)"
   ]
  },
  {
   "cell_type": "code",
   "execution_count": 60,
   "metadata": {},
   "outputs": [],
   "source": [
    "# так же добавим столбцы с общей выручкой по всем тарифам\n",
    "df_revenue_month['total_A'] = df_revenue_month['A'] + df_revenue_month['abon_A']\n",
    "df_revenue_month['total_B'] = df_revenue_month['B'] + df_revenue_month['abon_B']\n",
    "df_revenue_month['total_C'] = df_revenue_month['C'] + df_revenue_month['abon_C']"
   ]
  },
  {
   "cell_type": "code",
   "execution_count": 61,
   "metadata": {},
   "outputs": [
    {
     "data": {
      "text/html": [
       "<div>\n",
       "<style scoped>\n",
       "    .dataframe tbody tr th:only-of-type {\n",
       "        vertical-align: middle;\n",
       "    }\n",
       "\n",
       "    .dataframe tbody tr th {\n",
       "        vertical-align: top;\n",
       "    }\n",
       "\n",
       "    .dataframe thead th {\n",
       "        text-align: right;\n",
       "    }\n",
       "</style>\n",
       "<table border=\"1\" class=\"dataframe\">\n",
       "  <thead>\n",
       "    <tr style=\"text-align: right;\">\n",
       "      <th></th>\n",
       "      <th>month</th>\n",
       "      <th>user_id</th>\n",
       "      <th>tariff_plan</th>\n",
       "      <th>operator_id</th>\n",
       "      <th>rev_per_minute</th>\n",
       "      <th>A</th>\n",
       "      <th>B</th>\n",
       "      <th>C</th>\n",
       "      <th>abon_current</th>\n",
       "      <th>total_rev</th>\n",
       "      <th>abon_A</th>\n",
       "      <th>abon_B</th>\n",
       "      <th>abon_C</th>\n",
       "      <th>total_A</th>\n",
       "      <th>total_B</th>\n",
       "      <th>total_C</th>\n",
       "    </tr>\n",
       "  </thead>\n",
       "  <tbody>\n",
       "    <tr>\n",
       "      <td>0</td>\n",
       "      <td>2019-08-01</td>\n",
       "      <td>166377</td>\n",
       "      <td>B</td>\n",
       "      <td>5</td>\n",
       "      <td>691.0</td>\n",
       "      <td>560.0</td>\n",
       "      <td>691.0</td>\n",
       "      <td>946.0</td>\n",
       "      <td>2500</td>\n",
       "      <td>3191.0</td>\n",
       "      <td>5500</td>\n",
       "      <td>2500</td>\n",
       "      <td>1500</td>\n",
       "      <td>6060.0</td>\n",
       "      <td>3191.0</td>\n",
       "      <td>2446.0</td>\n",
       "    </tr>\n",
       "    <tr>\n",
       "      <td>1</td>\n",
       "      <td>2019-08-01</td>\n",
       "      <td>166392</td>\n",
       "      <td>C</td>\n",
       "      <td>2</td>\n",
       "      <td>0.0</td>\n",
       "      <td>0.0</td>\n",
       "      <td>0.0</td>\n",
       "      <td>0.0</td>\n",
       "      <td>1200</td>\n",
       "      <td>1200.0</td>\n",
       "      <td>5200</td>\n",
       "      <td>2200</td>\n",
       "      <td>1200</td>\n",
       "      <td>5200.0</td>\n",
       "      <td>2200.0</td>\n",
       "      <td>1200.0</td>\n",
       "    </tr>\n",
       "    <tr>\n",
       "      <td>2</td>\n",
       "      <td>2019-08-01</td>\n",
       "      <td>166399</td>\n",
       "      <td>C</td>\n",
       "      <td>1</td>\n",
       "      <td>0.0</td>\n",
       "      <td>0.0</td>\n",
       "      <td>0.0</td>\n",
       "      <td>0.0</td>\n",
       "      <td>1100</td>\n",
       "      <td>1100.0</td>\n",
       "      <td>5100</td>\n",
       "      <td>2100</td>\n",
       "      <td>1100</td>\n",
       "      <td>5100.0</td>\n",
       "      <td>2100.0</td>\n",
       "      <td>1100.0</td>\n",
       "    </tr>\n",
       "    <tr>\n",
       "      <td>3</td>\n",
       "      <td>2019-08-01</td>\n",
       "      <td>166405</td>\n",
       "      <td>B</td>\n",
       "      <td>2</td>\n",
       "      <td>456.0</td>\n",
       "      <td>372.0</td>\n",
       "      <td>456.0</td>\n",
       "      <td>621.0</td>\n",
       "      <td>2200</td>\n",
       "      <td>2656.0</td>\n",
       "      <td>5200</td>\n",
       "      <td>2200</td>\n",
       "      <td>1200</td>\n",
       "      <td>5572.0</td>\n",
       "      <td>2656.0</td>\n",
       "      <td>1821.0</td>\n",
       "    </tr>\n",
       "    <tr>\n",
       "      <td>4</td>\n",
       "      <td>2019-08-01</td>\n",
       "      <td>166406</td>\n",
       "      <td>B</td>\n",
       "      <td>3</td>\n",
       "      <td>1343.0</td>\n",
       "      <td>1082.0</td>\n",
       "      <td>1343.0</td>\n",
       "      <td>1863.0</td>\n",
       "      <td>2300</td>\n",
       "      <td>3643.0</td>\n",
       "      <td>5300</td>\n",
       "      <td>2300</td>\n",
       "      <td>1300</td>\n",
       "      <td>6382.0</td>\n",
       "      <td>3643.0</td>\n",
       "      <td>3163.0</td>\n",
       "    </tr>\n",
       "  </tbody>\n",
       "</table>\n",
       "</div>"
      ],
      "text/plain": [
       "       month user_id tariff_plan  operator_id  rev_per_minute       A       B  \\\n",
       "0 2019-08-01  166377           B            5           691.0   560.0   691.0   \n",
       "1 2019-08-01  166392           C            2             0.0     0.0     0.0   \n",
       "2 2019-08-01  166399           C            1             0.0     0.0     0.0   \n",
       "3 2019-08-01  166405           B            2           456.0   372.0   456.0   \n",
       "4 2019-08-01  166406           B            3          1343.0  1082.0  1343.0   \n",
       "\n",
       "        C  abon_current  total_rev  abon_A  abon_B  abon_C  total_A  total_B  \\\n",
       "0   946.0          2500     3191.0    5500    2500    1500   6060.0   3191.0   \n",
       "1     0.0          1200     1200.0    5200    2200    1200   5200.0   2200.0   \n",
       "2     0.0          1100     1100.0    5100    2100    1100   5100.0   2100.0   \n",
       "3   621.0          2200     2656.0    5200    2200    1200   5572.0   2656.0   \n",
       "4  1863.0          2300     3643.0    5300    2300    1300   6382.0   3643.0   \n",
       "\n",
       "   total_C  \n",
       "0   2446.0  \n",
       "1   1200.0  \n",
       "2   1100.0  \n",
       "3   1821.0  \n",
       "4   3163.0  "
      ]
     },
     "execution_count": 61,
     "metadata": {},
     "output_type": "execute_result"
    }
   ],
   "source": [
    "df_revenue_month.head()"
   ]
  },
  {
   "cell_type": "code",
   "execution_count": 62,
   "metadata": {},
   "outputs": [
    {
     "data": {
      "text/html": [
       "<div>\n",
       "<style scoped>\n",
       "    .dataframe tbody tr th:only-of-type {\n",
       "        vertical-align: middle;\n",
       "    }\n",
       "\n",
       "    .dataframe tbody tr th {\n",
       "        vertical-align: top;\n",
       "    }\n",
       "\n",
       "    .dataframe thead th {\n",
       "        text-align: right;\n",
       "    }\n",
       "</style>\n",
       "<table border=\"1\" class=\"dataframe\">\n",
       "  <thead>\n",
       "    <tr style=\"text-align: right;\">\n",
       "      <th></th>\n",
       "      <th>month</th>\n",
       "      <th>user_id</th>\n",
       "      <th>tariff_plan</th>\n",
       "      <th>total_rev</th>\n",
       "      <th>total_A</th>\n",
       "      <th>total_B</th>\n",
       "      <th>total_C</th>\n",
       "    </tr>\n",
       "  </thead>\n",
       "  <tbody>\n",
       "    <tr>\n",
       "      <td>0</td>\n",
       "      <td>2019-08-01</td>\n",
       "      <td>166377</td>\n",
       "      <td>B</td>\n",
       "      <td>3191.0</td>\n",
       "      <td>6060.0</td>\n",
       "      <td>3191.0</td>\n",
       "      <td>2446.0</td>\n",
       "    </tr>\n",
       "    <tr>\n",
       "      <td>1</td>\n",
       "      <td>2019-08-01</td>\n",
       "      <td>166392</td>\n",
       "      <td>C</td>\n",
       "      <td>1200.0</td>\n",
       "      <td>5200.0</td>\n",
       "      <td>2200.0</td>\n",
       "      <td>1200.0</td>\n",
       "    </tr>\n",
       "    <tr>\n",
       "      <td>2</td>\n",
       "      <td>2019-08-01</td>\n",
       "      <td>166399</td>\n",
       "      <td>C</td>\n",
       "      <td>1100.0</td>\n",
       "      <td>5100.0</td>\n",
       "      <td>2100.0</td>\n",
       "      <td>1100.0</td>\n",
       "    </tr>\n",
       "    <tr>\n",
       "      <td>3</td>\n",
       "      <td>2019-08-01</td>\n",
       "      <td>166405</td>\n",
       "      <td>B</td>\n",
       "      <td>2656.0</td>\n",
       "      <td>5572.0</td>\n",
       "      <td>2656.0</td>\n",
       "      <td>1821.0</td>\n",
       "    </tr>\n",
       "    <tr>\n",
       "      <td>4</td>\n",
       "      <td>2019-08-01</td>\n",
       "      <td>166406</td>\n",
       "      <td>B</td>\n",
       "      <td>3643.0</td>\n",
       "      <td>6382.0</td>\n",
       "      <td>3643.0</td>\n",
       "      <td>3163.0</td>\n",
       "    </tr>\n",
       "  </tbody>\n",
       "</table>\n",
       "</div>"
      ],
      "text/plain": [
       "       month user_id tariff_plan  total_rev  total_A  total_B  total_C\n",
       "0 2019-08-01  166377           B     3191.0   6060.0   3191.0   2446.0\n",
       "1 2019-08-01  166392           C     1200.0   5200.0   2200.0   1200.0\n",
       "2 2019-08-01  166399           C     1100.0   5100.0   2100.0   1100.0\n",
       "3 2019-08-01  166405           B     2656.0   5572.0   2656.0   1821.0\n",
       "4 2019-08-01  166406           B     3643.0   6382.0   3643.0   3163.0"
      ]
     },
     "execution_count": 62,
     "metadata": {},
     "output_type": "execute_result"
    }
   ],
   "source": [
    "#оставим нужные для анализа столбцы\n",
    "df_rev_total = df_revenue_month[['month', 'user_id', 'tariff_plan' , 'total_rev', 'total_A', 'total_B', 'total_C']]\n",
    "df_rev_total.head(5)"
   ]
  },
  {
   "cell_type": "markdown",
   "metadata": {},
   "source": [
    "### Определение более выгодного тарифа"
   ]
  },
  {
   "cell_type": "code",
   "execution_count": 63,
   "metadata": {},
   "outputs": [],
   "source": [
    "#определим функцию для выбора более выгодного тарифа \n",
    "def optimal_teriff(row):\n",
    "    if row['total_A'] < row['total_B'] and row['total_B'] < row['total_C']:\n",
    "        return 'A'\n",
    "    elif row['total_B'] < row['total_A'] and row['total_A'] < row['total_C']:\n",
    "        return 'B'\n",
    "    elif row['total_C'] < row['total_B'] and row['total_B'] < row['total_A']:\n",
    "        return 'C'\n",
    "    elif row['total_A'] < row['total_C'] and row['total_C'] < row['total_B']:\n",
    "        return 'A'\n",
    "    elif row['total_C'] < row['total_A'] and row['total_A'] < row['total_B']:\n",
    "        return 'C'    \n",
    "    elif row['total_B'] < row['total_C'] and row['total_C'] < row['total_A']:\n",
    "        return 'B' \n",
    "    else: \n",
    "        return 0"
   ]
  },
  {
   "cell_type": "code",
   "execution_count": 64,
   "metadata": {},
   "outputs": [
    {
     "data": {
      "text/html": [
       "<div>\n",
       "<style scoped>\n",
       "    .dataframe tbody tr th:only-of-type {\n",
       "        vertical-align: middle;\n",
       "    }\n",
       "\n",
       "    .dataframe tbody tr th {\n",
       "        vertical-align: top;\n",
       "    }\n",
       "\n",
       "    .dataframe thead th {\n",
       "        text-align: right;\n",
       "    }\n",
       "</style>\n",
       "<table border=\"1\" class=\"dataframe\">\n",
       "  <thead>\n",
       "    <tr style=\"text-align: right;\">\n",
       "      <th></th>\n",
       "      <th>month</th>\n",
       "      <th>user_id</th>\n",
       "      <th>tariff_plan</th>\n",
       "      <th>total_rev</th>\n",
       "      <th>total_A</th>\n",
       "      <th>total_B</th>\n",
       "      <th>total_C</th>\n",
       "      <th>optimal_teriff</th>\n",
       "    </tr>\n",
       "  </thead>\n",
       "  <tbody>\n",
       "    <tr>\n",
       "      <td>0</td>\n",
       "      <td>2019-08-01</td>\n",
       "      <td>166377</td>\n",
       "      <td>B</td>\n",
       "      <td>3191.0</td>\n",
       "      <td>6060.0</td>\n",
       "      <td>3191.0</td>\n",
       "      <td>2446.0</td>\n",
       "      <td>C</td>\n",
       "    </tr>\n",
       "    <tr>\n",
       "      <td>1</td>\n",
       "      <td>2019-08-01</td>\n",
       "      <td>166392</td>\n",
       "      <td>C</td>\n",
       "      <td>1200.0</td>\n",
       "      <td>5200.0</td>\n",
       "      <td>2200.0</td>\n",
       "      <td>1200.0</td>\n",
       "      <td>C</td>\n",
       "    </tr>\n",
       "    <tr>\n",
       "      <td>2</td>\n",
       "      <td>2019-08-01</td>\n",
       "      <td>166399</td>\n",
       "      <td>C</td>\n",
       "      <td>1100.0</td>\n",
       "      <td>5100.0</td>\n",
       "      <td>2100.0</td>\n",
       "      <td>1100.0</td>\n",
       "      <td>C</td>\n",
       "    </tr>\n",
       "    <tr>\n",
       "      <td>3</td>\n",
       "      <td>2019-08-01</td>\n",
       "      <td>166405</td>\n",
       "      <td>B</td>\n",
       "      <td>2656.0</td>\n",
       "      <td>5572.0</td>\n",
       "      <td>2656.0</td>\n",
       "      <td>1821.0</td>\n",
       "      <td>C</td>\n",
       "    </tr>\n",
       "    <tr>\n",
       "      <td>4</td>\n",
       "      <td>2019-08-01</td>\n",
       "      <td>166406</td>\n",
       "      <td>B</td>\n",
       "      <td>3643.0</td>\n",
       "      <td>6382.0</td>\n",
       "      <td>3643.0</td>\n",
       "      <td>3163.0</td>\n",
       "      <td>C</td>\n",
       "    </tr>\n",
       "  </tbody>\n",
       "</table>\n",
       "</div>"
      ],
      "text/plain": [
       "       month user_id tariff_plan  total_rev  total_A  total_B  total_C  \\\n",
       "0 2019-08-01  166377           B     3191.0   6060.0   3191.0   2446.0   \n",
       "1 2019-08-01  166392           C     1200.0   5200.0   2200.0   1200.0   \n",
       "2 2019-08-01  166399           C     1100.0   5100.0   2100.0   1100.0   \n",
       "3 2019-08-01  166405           B     2656.0   5572.0   2656.0   1821.0   \n",
       "4 2019-08-01  166406           B     3643.0   6382.0   3643.0   3163.0   \n",
       "\n",
       "  optimal_teriff  \n",
       "0              C  \n",
       "1              C  \n",
       "2              C  \n",
       "3              C  \n",
       "4              C  "
      ]
     },
     "execution_count": 64,
     "metadata": {},
     "output_type": "execute_result"
    }
   ],
   "source": [
    "df_rev_total['optimal_teriff'] = df_rev_total.apply(optimal_teriff, axis =1)\n",
    "df_rev_total.head(5)"
   ]
  },
  {
   "cell_type": "code",
   "execution_count": 65,
   "metadata": {},
   "outputs": [
    {
     "data": {
      "text/html": [
       "<div>\n",
       "<style scoped>\n",
       "    .dataframe tbody tr th:only-of-type {\n",
       "        vertical-align: middle;\n",
       "    }\n",
       "\n",
       "    .dataframe tbody tr th {\n",
       "        vertical-align: top;\n",
       "    }\n",
       "\n",
       "    .dataframe thead th {\n",
       "        text-align: right;\n",
       "    }\n",
       "</style>\n",
       "<table border=\"1\" class=\"dataframe\">\n",
       "  <thead>\n",
       "    <tr style=\"text-align: right;\">\n",
       "      <th></th>\n",
       "      <th>index</th>\n",
       "      <th>optimal_teriff</th>\n",
       "    </tr>\n",
       "  </thead>\n",
       "  <tbody>\n",
       "    <tr>\n",
       "      <td>0</td>\n",
       "      <td>C</td>\n",
       "      <td>659</td>\n",
       "    </tr>\n",
       "    <tr>\n",
       "      <td>1</td>\n",
       "      <td>B</td>\n",
       "      <td>17</td>\n",
       "    </tr>\n",
       "    <tr>\n",
       "      <td>2</td>\n",
       "      <td>A</td>\n",
       "      <td>5</td>\n",
       "    </tr>\n",
       "  </tbody>\n",
       "</table>\n",
       "</div>"
      ],
      "text/plain": [
       "  index  optimal_teriff\n",
       "0     C             659\n",
       "1     B              17\n",
       "2     A               5"
      ]
     },
     "execution_count": 65,
     "metadata": {},
     "output_type": "execute_result"
    }
   ],
   "source": [
    "#отобразим количество рекомендованных тарифов\n",
    "df_rev_total['optimal_teriff'].value_counts().reset_index()"
   ]
  },
  {
   "cell_type": "code",
   "execution_count": 66,
   "metadata": {},
   "outputs": [
    {
     "data": {
      "image/png": "[encoded data removed]",
      "text/plain": [
       "<Figure size 1080x360 with 1 Axes>"
      ]
     },
     "metadata": {},
     "output_type": "display_data"
    },
    {
     "data": {
      "text/html": [
       "<div>\n",
       "<style scoped>\n",
       "    .dataframe tbody tr th:only-of-type {\n",
       "        vertical-align: middle;\n",
       "    }\n",
       "\n",
       "    .dataframe tbody tr th {\n",
       "        vertical-align: top;\n",
       "    }\n",
       "\n",
       "    .dataframe thead th {\n",
       "        text-align: right;\n",
       "    }\n",
       "</style>\n",
       "<table border=\"1\" class=\"dataframe\">\n",
       "  <thead>\n",
       "    <tr style=\"text-align: right;\">\n",
       "      <th></th>\n",
       "      <th>month</th>\n",
       "      <th>optimal_teriff</th>\n",
       "      <th>not_optimal_teriff</th>\n",
       "    </tr>\n",
       "  </thead>\n",
       "  <tbody>\n",
       "    <tr>\n",
       "      <td>0</td>\n",
       "      <td>2019-08-01</td>\n",
       "      <td>34</td>\n",
       "      <td>38</td>\n",
       "    </tr>\n",
       "    <tr>\n",
       "      <td>1</td>\n",
       "      <td>2019-09-01</td>\n",
       "      <td>74</td>\n",
       "      <td>78</td>\n",
       "    </tr>\n",
       "    <tr>\n",
       "      <td>2</td>\n",
       "      <td>2019-10-01</td>\n",
       "      <td>125</td>\n",
       "      <td>109</td>\n",
       "    </tr>\n",
       "    <tr>\n",
       "      <td>3</td>\n",
       "      <td>2019-11-01</td>\n",
       "      <td>115</td>\n",
       "      <td>108</td>\n",
       "    </tr>\n",
       "  </tbody>\n",
       "</table>\n",
       "</div>"
      ],
      "text/plain": [
       "        month  optimal_teriff  not_optimal_teriff\n",
       "0  2019-08-01              34                  38\n",
       "1  2019-09-01              74                  78\n",
       "2  2019-10-01             125                 109\n",
       "3  2019-11-01             115                 108"
      ]
     },
     "metadata": {},
     "output_type": "display_data"
    }
   ],
   "source": [
    "#cгруппирем данные для отображения количества клиентnов с неоптимальными тарифами по месяцам\n",
    "df_rev_total['not_optimal']= (df_rev_total['optimal_teriff'] != df_rev_total['tariff_plan'])*1\n",
    "plot_optinmal_tariff = df_rev_total.groupby(['month','not_optimal'])['user_id'].nunique().reset_index()\n",
    "# plot_optinmal_tariff['month'] = plot_optinmal_tariff['month'].apply(lambda x: calendar.month_name[x])\n",
    "plot_optinmal_tariff['month'] = plot_optinmal_tariff['month'].astype('str')\n",
    "\n",
    "\n",
    "sns.barplot(data = plot_optinmal_tariff, x = 'month', y  ='user_id', hue = 'not_optimal', palette='GnBu_d')\n",
    "plt.title('Количество клиентов с оптимальными и неоптимальными тарифами')\n",
    "plt.xlabel('месяц')\n",
    "plt.ylabel('количество клиентов')\n",
    "plt.show()\n",
    "pivot_opt = plot_optinmal_tariff.pivot_table(columns = 'not_optimal', index ='month', values = 'user_id', aggfunc = 'sum').reset_index()\n",
    "pivot_opt.columns = ['month', 'optimal_teriff', 'not_optimal_teriff']\n",
    "display(pivot_opt)"
   ]
  },
  {
   "cell_type": "code",
   "execution_count": 67,
   "metadata": {},
   "outputs": [
    {
     "data": {
      "text/html": [
       "<div>\n",
       "<style scoped>\n",
       "    .dataframe tbody tr th:only-of-type {\n",
       "        vertical-align: middle;\n",
       "    }\n",
       "\n",
       "    .dataframe tbody tr th {\n",
       "        vertical-align: top;\n",
       "    }\n",
       "\n",
       "    .dataframe thead th {\n",
       "        text-align: right;\n",
       "    }\n",
       "</style>\n",
       "<table border=\"1\" class=\"dataframe\">\n",
       "  <thead>\n",
       "    <tr style=\"text-align: right;\">\n",
       "      <th></th>\n",
       "      <th>month</th>\n",
       "      <th>not_optimal</th>\n",
       "      <th>user_id</th>\n",
       "    </tr>\n",
       "  </thead>\n",
       "  <tbody>\n",
       "    <tr>\n",
       "      <td>1</td>\n",
       "      <td>2019-08-01</td>\n",
       "      <td>1</td>\n",
       "      <td>38</td>\n",
       "    </tr>\n",
       "    <tr>\n",
       "      <td>3</td>\n",
       "      <td>2019-09-01</td>\n",
       "      <td>1</td>\n",
       "      <td>78</td>\n",
       "    </tr>\n",
       "    <tr>\n",
       "      <td>5</td>\n",
       "      <td>2019-10-01</td>\n",
       "      <td>1</td>\n",
       "      <td>109</td>\n",
       "    </tr>\n",
       "    <tr>\n",
       "      <td>7</td>\n",
       "      <td>2019-11-01</td>\n",
       "      <td>1</td>\n",
       "      <td>108</td>\n",
       "    </tr>\n",
       "  </tbody>\n",
       "</table>\n",
       "</div>"
      ],
      "text/plain": [
       "        month  not_optimal  user_id\n",
       "1  2019-08-01            1       38\n",
       "3  2019-09-01            1       78\n",
       "5  2019-10-01            1      109\n",
       "7  2019-11-01            1      108"
      ]
     },
     "execution_count": 67,
     "metadata": {},
     "output_type": "execute_result"
    }
   ],
   "source": [
    "plot_optinmal_tariff[plot_optinmal_tariff['not_optimal'] == 1]"
   ]
  },
  {
   "cell_type": "markdown",
   "metadata": {},
   "source": [
    "* Август, Сентябрь  - небольшое преобладание клиентов снепотимальными тарифами\n",
    "* Октябрь, Ноябрь - большее количество клиентов соптимальными тарифами"
   ]
  },
  {
   "cell_type": "markdown",
   "metadata": {},
   "source": [
    "### Выручка на текущем тарифе"
   ]
  },
  {
   "cell_type": "code",
   "execution_count": 68,
   "metadata": {},
   "outputs": [
    {
     "data": {
      "text/html": [
       "<div>\n",
       "<style scoped>\n",
       "    .dataframe tbody tr th:only-of-type {\n",
       "        vertical-align: middle;\n",
       "    }\n",
       "\n",
       "    .dataframe tbody tr th {\n",
       "        vertical-align: top;\n",
       "    }\n",
       "\n",
       "    .dataframe thead th {\n",
       "        text-align: right;\n",
       "    }\n",
       "</style>\n",
       "<table border=\"1\" class=\"dataframe\">\n",
       "  <thead>\n",
       "    <tr style=\"text-align: right;\">\n",
       "      <th></th>\n",
       "      <th>month</th>\n",
       "      <th>total_rev</th>\n",
       "    </tr>\n",
       "  </thead>\n",
       "  <tbody>\n",
       "    <tr>\n",
       "      <td>0</td>\n",
       "      <td>2019-08-01</td>\n",
       "      <td>179880.0</td>\n",
       "    </tr>\n",
       "    <tr>\n",
       "      <td>1</td>\n",
       "      <td>2019-09-01</td>\n",
       "      <td>409065.0</td>\n",
       "    </tr>\n",
       "    <tr>\n",
       "      <td>2</td>\n",
       "      <td>2019-10-01</td>\n",
       "      <td>646086.0</td>\n",
       "    </tr>\n",
       "    <tr>\n",
       "      <td>3</td>\n",
       "      <td>2019-11-01</td>\n",
       "      <td>611284.0</td>\n",
       "    </tr>\n",
       "  </tbody>\n",
       "</table>\n",
       "</div>"
      ],
      "text/plain": [
       "        month  total_rev\n",
       "0  2019-08-01   179880.0\n",
       "1  2019-09-01   409065.0\n",
       "2  2019-10-01   646086.0\n",
       "3  2019-11-01   611284.0"
      ]
     },
     "metadata": {},
     "output_type": "display_data"
    },
    {
     "name": "stdout",
     "output_type": "stream",
     "text": [
      "Общая выручка на текущем тарифе: 1846315 рублей\n"
     ]
    },
    {
     "data": {
      "image/png": "[encoded data removed]",
      "text/plain": [
       "<Figure size 1080x360 with 1 Axes>"
      ]
     },
     "metadata": {},
     "output_type": "display_data"
    }
   ],
   "source": [
    "# расчитаем и визуализируем вырцчку на теукщем тарифе по месяцам\n",
    "plot_tot_rev = df_rev_total.groupby('month')['total_rev'].sum().reset_index()\n",
    "\n",
    "plot_tot_rev['month'] = plot_tot_rev['month'].astype('str')\n",
    "\n",
    "sns.barplot(data = plot_tot_rev, x = 'month', y = 'total_rev')\n",
    "plt.title('Выручка по месяцам на текущих тарифах')\n",
    "plt.xlabel('Месяц')\n",
    "plt.ylabel('Выручка')\n",
    "display(plot_tot_rev)\n",
    "\n",
    "print('Общая выручка на текущем тарифе: {:.0f} рублей'.format(plot_tot_rev['total_rev'].sum()))"
   ]
  },
  {
   "cell_type": "markdown",
   "metadata": {},
   "source": [
    "На графике можем наблюдать практически линейный рост выручки начиная с августа, однако пиковый месяц - октябрь - 646086 р"
   ]
  },
  {
   "cell_type": "markdown",
   "metadata": {},
   "source": [
    "### Определение выручки по остальным тарифам"
   ]
  },
  {
   "cell_type": "code",
   "execution_count": 69,
   "metadata": {},
   "outputs": [],
   "source": [
    "#изменим уже использованную функцию для определения выручки по оптимальным тарифам\n",
    "def optimal_teriff_rev(row):\n",
    "    if row['total_A'] < row['total_B'] and row['total_B'] < row['total_C']:\n",
    "        return row['total_A']\n",
    "    elif row['total_B'] < row['total_A'] and row['total_A'] < row['total_C']:\n",
    "        return row['total_B']\n",
    "    elif row['total_C'] < row['total_B'] and row['total_B'] < row['total_A']:\n",
    "        return row['total_C'] \n",
    "    elif row['total_A'] < row['total_C'] and row['total_C'] < row['total_B']:\n",
    "        return row['total_A']\n",
    "    elif row['total_C'] < row['total_A'] and row['total_A'] < row['total_B']:\n",
    "        return row['total_C']   \n",
    "    elif row['total_B'] < row['total_C'] and row['total_C'] < row['total_A']:\n",
    "        return row['total_B'] \n",
    "    else: \n",
    "        return 0\n"
   ]
  },
  {
   "cell_type": "code",
   "execution_count": 70,
   "metadata": {},
   "outputs": [
    {
     "data": {
      "text/html": [
       "<div>\n",
       "<style scoped>\n",
       "    .dataframe tbody tr th:only-of-type {\n",
       "        vertical-align: middle;\n",
       "    }\n",
       "\n",
       "    .dataframe tbody tr th {\n",
       "        vertical-align: top;\n",
       "    }\n",
       "\n",
       "    .dataframe thead th {\n",
       "        text-align: right;\n",
       "    }\n",
       "</style>\n",
       "<table border=\"1\" class=\"dataframe\">\n",
       "  <thead>\n",
       "    <tr style=\"text-align: right;\">\n",
       "      <th></th>\n",
       "      <th>month</th>\n",
       "      <th>user_id</th>\n",
       "      <th>tariff_plan</th>\n",
       "      <th>total_rev</th>\n",
       "      <th>total_A</th>\n",
       "      <th>total_B</th>\n",
       "      <th>total_C</th>\n",
       "      <th>optimal_teriff</th>\n",
       "      <th>not_optimal</th>\n",
       "      <th>optimal_teriff_rev</th>\n",
       "    </tr>\n",
       "  </thead>\n",
       "  <tbody>\n",
       "    <tr>\n",
       "      <td>0</td>\n",
       "      <td>2019-08-01</td>\n",
       "      <td>166377</td>\n",
       "      <td>B</td>\n",
       "      <td>3191.0</td>\n",
       "      <td>6060.0</td>\n",
       "      <td>3191.0</td>\n",
       "      <td>2446.0</td>\n",
       "      <td>C</td>\n",
       "      <td>1</td>\n",
       "      <td>2446.0</td>\n",
       "    </tr>\n",
       "    <tr>\n",
       "      <td>1</td>\n",
       "      <td>2019-08-01</td>\n",
       "      <td>166392</td>\n",
       "      <td>C</td>\n",
       "      <td>1200.0</td>\n",
       "      <td>5200.0</td>\n",
       "      <td>2200.0</td>\n",
       "      <td>1200.0</td>\n",
       "      <td>C</td>\n",
       "      <td>0</td>\n",
       "      <td>1200.0</td>\n",
       "    </tr>\n",
       "    <tr>\n",
       "      <td>2</td>\n",
       "      <td>2019-08-01</td>\n",
       "      <td>166399</td>\n",
       "      <td>C</td>\n",
       "      <td>1100.0</td>\n",
       "      <td>5100.0</td>\n",
       "      <td>2100.0</td>\n",
       "      <td>1100.0</td>\n",
       "      <td>C</td>\n",
       "      <td>0</td>\n",
       "      <td>1100.0</td>\n",
       "    </tr>\n",
       "  </tbody>\n",
       "</table>\n",
       "</div>"
      ],
      "text/plain": [
       "       month user_id tariff_plan  total_rev  total_A  total_B  total_C  \\\n",
       "0 2019-08-01  166377           B     3191.0   6060.0   3191.0   2446.0   \n",
       "1 2019-08-01  166392           C     1200.0   5200.0   2200.0   1200.0   \n",
       "2 2019-08-01  166399           C     1100.0   5100.0   2100.0   1100.0   \n",
       "\n",
       "  optimal_teriff  not_optimal  optimal_teriff_rev  \n",
       "0              C            1              2446.0  \n",
       "1              C            0              1200.0  \n",
       "2              C            0              1100.0  "
      ]
     },
     "execution_count": 70,
     "metadata": {},
     "output_type": "execute_result"
    }
   ],
   "source": [
    "# создадим столбец с выручкой по оптимальным тарифам\n",
    "df_rev_total['optimal_teriff_rev'] = df_rev_total.apply(optimal_teriff_rev, axis =1)\n",
    "df_rev_total.head(3)"
   ]
  },
  {
   "cell_type": "code",
   "execution_count": 71,
   "metadata": {},
   "outputs": [
    {
     "data": {
      "image/png": "[encoded data removed]",
      "text/plain": [
       "<Figure size 1080x360 with 1 Axes>"
      ]
     },
     "metadata": {},
     "output_type": "display_data"
    },
    {
     "data": {
      "text/html": [
       "<div>\n",
       "<style scoped>\n",
       "    .dataframe tbody tr th:only-of-type {\n",
       "        vertical-align: middle;\n",
       "    }\n",
       "\n",
       "    .dataframe tbody tr th {\n",
       "        vertical-align: top;\n",
       "    }\n",
       "\n",
       "    .dataframe thead th {\n",
       "        text-align: right;\n",
       "    }\n",
       "</style>\n",
       "<table border=\"1\" class=\"dataframe\">\n",
       "  <thead>\n",
       "    <tr style=\"text-align: right;\">\n",
       "      <th></th>\n",
       "      <th>month</th>\n",
       "      <th>total_rev</th>\n",
       "      <th>optimal_teriff_rev</th>\n",
       "      <th>diff</th>\n",
       "      <th>%</th>\n",
       "    </tr>\n",
       "  </thead>\n",
       "  <tbody>\n",
       "    <tr>\n",
       "      <td>0</td>\n",
       "      <td>2019-08-01</td>\n",
       "      <td>179880.0</td>\n",
       "      <td>113496.0</td>\n",
       "      <td>66384.0</td>\n",
       "      <td>36.9</td>\n",
       "    </tr>\n",
       "    <tr>\n",
       "      <td>1</td>\n",
       "      <td>2019-09-01</td>\n",
       "      <td>409065.0</td>\n",
       "      <td>287319.0</td>\n",
       "      <td>121746.0</td>\n",
       "      <td>29.8</td>\n",
       "    </tr>\n",
       "    <tr>\n",
       "      <td>2</td>\n",
       "      <td>2019-10-01</td>\n",
       "      <td>646086.0</td>\n",
       "      <td>463999.0</td>\n",
       "      <td>182087.0</td>\n",
       "      <td>28.2</td>\n",
       "    </tr>\n",
       "    <tr>\n",
       "      <td>3</td>\n",
       "      <td>2019-11-01</td>\n",
       "      <td>611284.0</td>\n",
       "      <td>443792.0</td>\n",
       "      <td>167492.0</td>\n",
       "      <td>27.4</td>\n",
       "    </tr>\n",
       "  </tbody>\n",
       "</table>\n",
       "</div>"
      ],
      "text/plain": [
       "       month  total_rev  optimal_teriff_rev      diff     %\n",
       "0 2019-08-01   179880.0            113496.0   66384.0  36.9\n",
       "1 2019-09-01   409065.0            287319.0  121746.0  29.8\n",
       "2 2019-10-01   646086.0            463999.0  182087.0  28.2\n",
       "3 2019-11-01   611284.0            443792.0  167492.0  27.4"
      ]
     },
     "execution_count": 71,
     "metadata": {},
     "output_type": "execute_result"
    }
   ],
   "source": [
    "#построим график выручки по текущему и оптимальному тарифу\n",
    "plot_tot_rev = df_rev_total.groupby('month')[['total_rev', 'optimal_teriff_rev']].sum().reset_index()\n",
    "# # plot_tot_rev_optimal = df_rev_total.groupby('month')['optimal_teriff_rev'].sum().reset_index()\n",
    "\n",
    "# sns.barplot(data = plot_tot_rev, x = 'month', y = 'total_rev', alpha = 0.5)\n",
    "# sns.barplot(data = plot_tot_rev_optimal, x = 'month', y = 'optimal_teriff_rev', alpha = 1)\n",
    "\n",
    "\n",
    "#преобразуем фрейм для удобства визуализации\n",
    "a = plot_tot_rev[['month', 'total_rev']].reset_index(drop=True)\n",
    "b = plot_tot_rev[['month', 'optimal_teriff_rev']].reset_index(drop=True)\n",
    "\n",
    "a['type'] = 'текущий тариф'\n",
    "b['type'] = 'оптимальный тариф'\n",
    "\n",
    "a.columns = ['month', 'rev', 'type']\n",
    "b.columns = ['month', 'rev', 'type']\n",
    "\n",
    "df_plot = a.append(b)\n",
    "df_plot = df_plot.reset_index(drop = True)\n",
    "\n",
    "#так же переведем числовой формат месяца в название \n",
    "df_plot['month'] = df_plot['month'].astype('str')\n",
    "\n",
    "sns.barplot(data = df_plot, x ='month', y ='rev', hue ='type') #order = ['August', 'September', 'October', 'November'] )\n",
    "plt.legend()\n",
    "plt.title('Выручка по месяцам')\n",
    "plt.xlabel('Месяц')\n",
    "plt.ylabel('Выручка')\n",
    "plt.show()\n",
    "\n",
    "df_rev_total_grp = df_rev_total.groupby('month')[['total_rev', 'optimal_teriff_rev']].sum()\n",
    "df_rev_total_grp['diff'] = df_rev_total_grp['total_rev'] - df_rev_total_grp['optimal_teriff_rev']\n",
    "df_rev_total_grp['%'] = ((df_rev_total_grp['diff']/ df_rev_total_grp['total_rev'])*100).round(1)\n",
    "df_rev_total_grp.reset_index()"
   ]
  },
  {
   "cell_type": "code",
   "execution_count": 72,
   "metadata": {},
   "outputs": [
    {
     "name": "stdout",
     "output_type": "stream",
     "text": [
      "Средний процент снижения выручки при использовании оптимального тарифа: 30.58\n",
      "Общая выручка на оптимальном тарифе: 1308606 рублей\n"
     ]
    }
   ],
   "source": [
    "print('Средний процент снижения выручки при использовании оптимального тарифа: {:.2f}'.format(df_rev_total_grp['%'].mean()))\n",
    "print('Общая выручка на оптимальном тарифе: {:.0f} рублей'.format(df_rev_total_grp['optimal_teriff_rev'].sum()))"
   ]
  },
  {
   "cell_type": "markdown",
   "metadata": {},
   "source": [
    "### Вывод"
   ]
  },
  {
   "cell_type": "markdown",
   "metadata": {},
   "source": [
    "В данном разделе был выявлен оптимальный для клиентов тариф,  расчитаны показатели прибыли на текущем и оптимальном тарифе, а так же определно количество пользователей использующих неоптимальные тарифы в разрезе месяцев.\n",
    "\n",
    "* Общая выручка на текущем тарифе:  __1846315 рублей__\n",
    "\n",
    "* Наибольшая в октябре -  __646086 рублей__\n",
    "* Наименьшая в августе -  __179880 рублей__\n",
    "\n",
    "Больше всего неоптимальными тарифами клиенты пользовались в октябре и ноябре - 108 и 109 клиентов с неоптимальными тарифами.\n",
    "\n",
    "Чаще всего клиента выгоднее переходить на тариф С, данный тариф был чаще всего. Количество рекомендованных тарифов при импользовании неоптимального в месяц:\n",
    "* C - 659\n",
    "* B\t- 17\n",
    "* A\t- 5\n",
    "\n",
    "Размер общей выручки при использовании клиентами оптимальных тарифов - __1308606 рублей__\n",
    "\n",
    "116870 -если сохраняем наны и \n",
    "\n",
    "В сравнении с текущим тарифом размер выручки меньше на __30.58%__\n"
   ]
  },
  {
   "cell_type": "markdown",
   "metadata": {},
   "source": [
    "## Минимизация потери выручки"
   ]
  },
  {
   "cell_type": "markdown",
   "metadata": {},
   "source": [
    "Для того, чтобы минимизировать потерю выручки предложим оптимальный тариф только 30 -ти процентам пользователей с неоптимальными тарифами, для 10%  пользователей с оптимальными тарифами предложим другой тариф (второй по оптимальности)."
   ]
  },
  {
   "cell_type": "code",
   "execution_count": 73,
   "metadata": {},
   "outputs": [],
   "source": [
    "#изменим уже использованную функцию для определения выручки по оптимальным тарифам для определения тарифа второго по оптимальности\n",
    "def second_optimal_teriff_rev(row):\n",
    "    if row['total_A'] < row['total_B'] and row['total_B'] < row['total_C']:\n",
    "        return row['total_B']\n",
    "    elif row['total_B'] < row['total_A'] and row['total_A'] < row['total_C']:\n",
    "        return row['total_A']\n",
    "    elif row['total_C'] < row['total_B'] and row['total_B'] < row['total_A']:\n",
    "        return row['total_B'] \n",
    "    elif row['total_A'] < row['total_C'] and row['total_C'] < row['total_B']:\n",
    "        return row['total_C']\n",
    "    elif row['total_C'] < row['total_A'] and row['total_A'] < row['total_B']:\n",
    "        return row['total_A']   \n",
    "    elif row['total_B'] < row['total_C'] and row['total_C'] < row['total_A']:\n",
    "        return row['total_C'] \n",
    "    else: \n",
    "        return 0"
   ]
  },
  {
   "cell_type": "code",
   "execution_count": 74,
   "metadata": {},
   "outputs": [],
   "source": [
    "df_rev_total['second_opt'] = df_rev_total.apply(second_optimal_teriff_rev, axis = 1)"
   ]
  },
  {
   "cell_type": "code",
   "execution_count": 75,
   "metadata": {},
   "outputs": [
    {
     "data": {
      "text/html": [
       "<div>\n",
       "<style scoped>\n",
       "    .dataframe tbody tr th:only-of-type {\n",
       "        vertical-align: middle;\n",
       "    }\n",
       "\n",
       "    .dataframe tbody tr th {\n",
       "        vertical-align: top;\n",
       "    }\n",
       "\n",
       "    .dataframe thead th {\n",
       "        text-align: right;\n",
       "    }\n",
       "</style>\n",
       "<table border=\"1\" class=\"dataframe\">\n",
       "  <thead>\n",
       "    <tr style=\"text-align: right;\">\n",
       "      <th></th>\n",
       "      <th>month</th>\n",
       "      <th>user_id</th>\n",
       "      <th>tariff_plan</th>\n",
       "      <th>total_rev</th>\n",
       "      <th>total_A</th>\n",
       "      <th>total_B</th>\n",
       "      <th>total_C</th>\n",
       "      <th>optimal_teriff</th>\n",
       "      <th>not_optimal</th>\n",
       "      <th>optimal_teriff_rev</th>\n",
       "      <th>second_opt</th>\n",
       "    </tr>\n",
       "  </thead>\n",
       "  <tbody>\n",
       "    <tr>\n",
       "      <td>0</td>\n",
       "      <td>2019-08-01</td>\n",
       "      <td>166377</td>\n",
       "      <td>B</td>\n",
       "      <td>3191.0</td>\n",
       "      <td>6060.0</td>\n",
       "      <td>3191.0</td>\n",
       "      <td>2446.0</td>\n",
       "      <td>C</td>\n",
       "      <td>1</td>\n",
       "      <td>2446.0</td>\n",
       "      <td>3191.0</td>\n",
       "    </tr>\n",
       "    <tr>\n",
       "      <td>1</td>\n",
       "      <td>2019-08-01</td>\n",
       "      <td>166392</td>\n",
       "      <td>C</td>\n",
       "      <td>1200.0</td>\n",
       "      <td>5200.0</td>\n",
       "      <td>2200.0</td>\n",
       "      <td>1200.0</td>\n",
       "      <td>C</td>\n",
       "      <td>0</td>\n",
       "      <td>1200.0</td>\n",
       "      <td>2200.0</td>\n",
       "    </tr>\n",
       "    <tr>\n",
       "      <td>2</td>\n",
       "      <td>2019-08-01</td>\n",
       "      <td>166399</td>\n",
       "      <td>C</td>\n",
       "      <td>1100.0</td>\n",
       "      <td>5100.0</td>\n",
       "      <td>2100.0</td>\n",
       "      <td>1100.0</td>\n",
       "      <td>C</td>\n",
       "      <td>0</td>\n",
       "      <td>1100.0</td>\n",
       "      <td>2100.0</td>\n",
       "    </tr>\n",
       "  </tbody>\n",
       "</table>\n",
       "</div>"
      ],
      "text/plain": [
       "       month user_id tariff_plan  total_rev  total_A  total_B  total_C  \\\n",
       "0 2019-08-01  166377           B     3191.0   6060.0   3191.0   2446.0   \n",
       "1 2019-08-01  166392           C     1200.0   5200.0   2200.0   1200.0   \n",
       "2 2019-08-01  166399           C     1100.0   5100.0   2100.0   1100.0   \n",
       "\n",
       "  optimal_teriff  not_optimal  optimal_teriff_rev  second_opt  \n",
       "0              C            1              2446.0      3191.0  \n",
       "1              C            0              1200.0      2200.0  \n",
       "2              C            0              1100.0      2100.0  "
      ]
     },
     "execution_count": 75,
     "metadata": {},
     "output_type": "execute_result"
    }
   ],
   "source": [
    "df_rev_total.head(3)"
   ]
  },
  {
   "cell_type": "code",
   "execution_count": 76,
   "metadata": {},
   "outputs": [
    {
     "data": {
      "text/plain": [
       "39"
      ]
     },
     "execution_count": 76,
     "metadata": {},
     "output_type": "execute_result"
    }
   ],
   "source": [
    "#выделим 30 процентов случайных пользоваьтелей с неоптимальными тарифами\n",
    "df_rev_total_not_optimal = df_rev_total[df_rev_total['not_optimal'] == 1]\n",
    "coll = int(len(df_rev_total_not_optimal['user_id'].unique())*0.3)\n",
    "random_users_not_opt_list = pd.Series(df_rev_total_not_optimal['user_id'].unique()).sample(coll, random_state = 42).to_list()\n",
    "len(random_users_not_opt_list)"
   ]
  },
  {
   "cell_type": "code",
   "execution_count": 77,
   "metadata": {},
   "outputs": [
    {
     "data": {
      "text/plain": [
       "27"
      ]
     },
     "execution_count": 77,
     "metadata": {},
     "output_type": "execute_result"
    }
   ],
   "source": [
    "#выделим 20 процентов пользователей с оптимальными тарифами\n",
    "\n",
    "#опредеим фрейм с пользователями оптимальных тарифов\n",
    "df_rev_total_optimal = df_rev_total[df_rev_total['not_optimal'] == 0]\n",
    "coll_ = int(len(df_rev_total_optimal['user_id'].unique())*0.2)\n",
    "\n",
    "#выделим 10 процентов случайных пользователей\n",
    "random_users_opt_list = pd.Series(df_rev_total_optimal['user_id'].unique()).sample(coll_, random_state = 42).to_list()\n",
    "len(random_users_opt_list)\n"
   ]
  },
  {
   "cell_type": "code",
   "execution_count": 78,
   "metadata": {},
   "outputs": [],
   "source": [
    "def func_alternativ_rev_rev(row):\n",
    "    random_users_not_opt_list\n",
    "    random_users_opt_list\n",
    "    \n",
    "    if row['user_id'] in random_users_not_opt_list:\n",
    "        return row['optimal_teriff_rev']\n",
    "    if row['user_id'] in random_users_opt_list :\n",
    "        return row['second_opt']    \n",
    "    else:\n",
    "        return row['total_rev']"
   ]
  },
  {
   "cell_type": "code",
   "execution_count": 79,
   "metadata": {},
   "outputs": [
    {
     "data": {
      "text/html": [
       "<div>\n",
       "<style scoped>\n",
       "    .dataframe tbody tr th:only-of-type {\n",
       "        vertical-align: middle;\n",
       "    }\n",
       "\n",
       "    .dataframe tbody tr th {\n",
       "        vertical-align: top;\n",
       "    }\n",
       "\n",
       "    .dataframe thead th {\n",
       "        text-align: right;\n",
       "    }\n",
       "</style>\n",
       "<table border=\"1\" class=\"dataframe\">\n",
       "  <thead>\n",
       "    <tr style=\"text-align: right;\">\n",
       "      <th></th>\n",
       "      <th>month</th>\n",
       "      <th>user_id</th>\n",
       "      <th>tariff_plan</th>\n",
       "      <th>total_rev</th>\n",
       "      <th>total_A</th>\n",
       "      <th>total_B</th>\n",
       "      <th>total_C</th>\n",
       "      <th>optimal_teriff</th>\n",
       "      <th>not_optimal</th>\n",
       "      <th>optimal_teriff_rev</th>\n",
       "      <th>second_opt</th>\n",
       "      <th>alternativ_rev</th>\n",
       "    </tr>\n",
       "  </thead>\n",
       "  <tbody>\n",
       "    <tr>\n",
       "      <td>0</td>\n",
       "      <td>2019-08-01</td>\n",
       "      <td>166377</td>\n",
       "      <td>B</td>\n",
       "      <td>3191.0</td>\n",
       "      <td>6060.0</td>\n",
       "      <td>3191.0</td>\n",
       "      <td>2446.0</td>\n",
       "      <td>C</td>\n",
       "      <td>1</td>\n",
       "      <td>2446.0</td>\n",
       "      <td>3191.0</td>\n",
       "      <td>2446.0</td>\n",
       "    </tr>\n",
       "    <tr>\n",
       "      <td>1</td>\n",
       "      <td>2019-08-01</td>\n",
       "      <td>166392</td>\n",
       "      <td>C</td>\n",
       "      <td>1200.0</td>\n",
       "      <td>5200.0</td>\n",
       "      <td>2200.0</td>\n",
       "      <td>1200.0</td>\n",
       "      <td>C</td>\n",
       "      <td>0</td>\n",
       "      <td>1200.0</td>\n",
       "      <td>2200.0</td>\n",
       "      <td>1200.0</td>\n",
       "    </tr>\n",
       "    <tr>\n",
       "      <td>2</td>\n",
       "      <td>2019-08-01</td>\n",
       "      <td>166399</td>\n",
       "      <td>C</td>\n",
       "      <td>1100.0</td>\n",
       "      <td>5100.0</td>\n",
       "      <td>2100.0</td>\n",
       "      <td>1100.0</td>\n",
       "      <td>C</td>\n",
       "      <td>0</td>\n",
       "      <td>1100.0</td>\n",
       "      <td>2100.0</td>\n",
       "      <td>1100.0</td>\n",
       "    </tr>\n",
       "  </tbody>\n",
       "</table>\n",
       "</div>"
      ],
      "text/plain": [
       "       month user_id tariff_plan  total_rev  total_A  total_B  total_C  \\\n",
       "0 2019-08-01  166377           B     3191.0   6060.0   3191.0   2446.0   \n",
       "1 2019-08-01  166392           C     1200.0   5200.0   2200.0   1200.0   \n",
       "2 2019-08-01  166399           C     1100.0   5100.0   2100.0   1100.0   \n",
       "\n",
       "  optimal_teriff  not_optimal  optimal_teriff_rev  second_opt  alternativ_rev  \n",
       "0              C            1              2446.0      3191.0          2446.0  \n",
       "1              C            0              1200.0      2200.0          1200.0  \n",
       "2              C            0              1100.0      2100.0          1100.0  "
      ]
     },
     "execution_count": 79,
     "metadata": {},
     "output_type": "execute_result"
    }
   ],
   "source": [
    "df_rev_total['alternativ_rev'] = df_rev_total.apply(func_alternativ_rev_rev, axis =1)\n",
    "df_rev_total.head(3)"
   ]
  },
  {
   "cell_type": "code",
   "execution_count": 80,
   "metadata": {},
   "outputs": [
    {
     "data": {
      "text/html": [
       "<div>\n",
       "<style scoped>\n",
       "    .dataframe tbody tr th:only-of-type {\n",
       "        vertical-align: middle;\n",
       "    }\n",
       "\n",
       "    .dataframe tbody tr th {\n",
       "        vertical-align: top;\n",
       "    }\n",
       "\n",
       "    .dataframe thead th {\n",
       "        text-align: right;\n",
       "    }\n",
       "</style>\n",
       "<table border=\"1\" class=\"dataframe\">\n",
       "  <thead>\n",
       "    <tr style=\"text-align: right;\">\n",
       "      <th></th>\n",
       "      <th>month</th>\n",
       "      <th>user_id</th>\n",
       "      <th>tariff_plan</th>\n",
       "      <th>total_rev</th>\n",
       "      <th>total_A</th>\n",
       "      <th>total_B</th>\n",
       "      <th>total_C</th>\n",
       "      <th>optimal_teriff</th>\n",
       "      <th>not_optimal</th>\n",
       "      <th>optimal_teriff_rev</th>\n",
       "      <th>second_opt</th>\n",
       "      <th>alternativ_rev</th>\n",
       "    </tr>\n",
       "  </thead>\n",
       "  <tbody>\n",
       "    <tr>\n",
       "      <td>13</td>\n",
       "      <td>2019-08-01</td>\n",
       "      <td>166507</td>\n",
       "      <td>C</td>\n",
       "      <td>1202.0</td>\n",
       "      <td>5202.0</td>\n",
       "      <td>2202.0</td>\n",
       "      <td>1202.0</td>\n",
       "      <td>C</td>\n",
       "      <td>0</td>\n",
       "      <td>1202.0</td>\n",
       "      <td>2202.0</td>\n",
       "      <td>2202.0</td>\n",
       "    </tr>\n",
       "    <tr>\n",
       "      <td>25</td>\n",
       "      <td>2019-08-01</td>\n",
       "      <td>166658</td>\n",
       "      <td>B</td>\n",
       "      <td>6236.0</td>\n",
       "      <td>8712.0</td>\n",
       "      <td>6236.0</td>\n",
       "      <td>6279.0</td>\n",
       "      <td>B</td>\n",
       "      <td>0</td>\n",
       "      <td>6236.0</td>\n",
       "      <td>6279.0</td>\n",
       "      <td>6279.0</td>\n",
       "    </tr>\n",
       "    <tr>\n",
       "      <td>32</td>\n",
       "      <td>2019-08-01</td>\n",
       "      <td>166688</td>\n",
       "      <td>C</td>\n",
       "      <td>1200.0</td>\n",
       "      <td>5200.0</td>\n",
       "      <td>2200.0</td>\n",
       "      <td>1200.0</td>\n",
       "      <td>C</td>\n",
       "      <td>0</td>\n",
       "      <td>1200.0</td>\n",
       "      <td>2200.0</td>\n",
       "      <td>2200.0</td>\n",
       "    </tr>\n",
       "  </tbody>\n",
       "</table>\n",
       "</div>"
      ],
      "text/plain": [
       "        month user_id tariff_plan  total_rev  total_A  total_B  total_C  \\\n",
       "13 2019-08-01  166507           C     1202.0   5202.0   2202.0   1202.0   \n",
       "25 2019-08-01  166658           B     6236.0   8712.0   6236.0   6279.0   \n",
       "32 2019-08-01  166688           C     1200.0   5200.0   2200.0   1200.0   \n",
       "\n",
       "   optimal_teriff  not_optimal  optimal_teriff_rev  second_opt  alternativ_rev  \n",
       "13              C            0              1202.0      2202.0          2202.0  \n",
       "25              B            0              6236.0      6279.0          6279.0  \n",
       "32              C            0              1200.0      2200.0          2200.0  "
      ]
     },
     "execution_count": 80,
     "metadata": {},
     "output_type": "execute_result"
    }
   ],
   "source": [
    "df_rev_total[df_rev_total['user_id'].isin(random_users_opt_list)].head(3)"
   ]
  },
  {
   "cell_type": "code",
   "execution_count": 81,
   "metadata": {},
   "outputs": [
    {
     "data": {
      "text/html": [
       "<div>\n",
       "<style scoped>\n",
       "    .dataframe tbody tr th:only-of-type {\n",
       "        vertical-align: middle;\n",
       "    }\n",
       "\n",
       "    .dataframe tbody tr th {\n",
       "        vertical-align: top;\n",
       "    }\n",
       "\n",
       "    .dataframe thead th {\n",
       "        text-align: right;\n",
       "    }\n",
       "</style>\n",
       "<table border=\"1\" class=\"dataframe\">\n",
       "  <thead>\n",
       "    <tr style=\"text-align: right;\">\n",
       "      <th></th>\n",
       "      <th>month</th>\n",
       "      <th>user_id</th>\n",
       "      <th>tariff_plan</th>\n",
       "      <th>total_rev</th>\n",
       "      <th>total_A</th>\n",
       "      <th>total_B</th>\n",
       "      <th>total_C</th>\n",
       "      <th>optimal_teriff</th>\n",
       "      <th>not_optimal</th>\n",
       "      <th>optimal_teriff_rev</th>\n",
       "      <th>second_opt</th>\n",
       "      <th>alternativ_rev</th>\n",
       "    </tr>\n",
       "  </thead>\n",
       "  <tbody>\n",
       "    <tr>\n",
       "      <td>0</td>\n",
       "      <td>2019-08-01</td>\n",
       "      <td>166377</td>\n",
       "      <td>B</td>\n",
       "      <td>3191.0</td>\n",
       "      <td>6060.0</td>\n",
       "      <td>3191.0</td>\n",
       "      <td>2446.0</td>\n",
       "      <td>C</td>\n",
       "      <td>1</td>\n",
       "      <td>2446.0</td>\n",
       "      <td>3191.0</td>\n",
       "      <td>2446.0</td>\n",
       "    </tr>\n",
       "    <tr>\n",
       "      <td>1</td>\n",
       "      <td>2019-08-01</td>\n",
       "      <td>166392</td>\n",
       "      <td>C</td>\n",
       "      <td>1200.0</td>\n",
       "      <td>5200.0</td>\n",
       "      <td>2200.0</td>\n",
       "      <td>1200.0</td>\n",
       "      <td>C</td>\n",
       "      <td>0</td>\n",
       "      <td>1200.0</td>\n",
       "      <td>2200.0</td>\n",
       "      <td>1200.0</td>\n",
       "    </tr>\n",
       "  </tbody>\n",
       "</table>\n",
       "</div>"
      ],
      "text/plain": [
       "       month user_id tariff_plan  total_rev  total_A  total_B  total_C  \\\n",
       "0 2019-08-01  166377           B     3191.0   6060.0   3191.0   2446.0   \n",
       "1 2019-08-01  166392           C     1200.0   5200.0   2200.0   1200.0   \n",
       "\n",
       "  optimal_teriff  not_optimal  optimal_teriff_rev  second_opt  alternativ_rev  \n",
       "0              C            1              2446.0      3191.0          2446.0  \n",
       "1              C            0              1200.0      2200.0          1200.0  "
      ]
     },
     "execution_count": 81,
     "metadata": {},
     "output_type": "execute_result"
    }
   ],
   "source": [
    "df_rev_total.head(2)"
   ]
  },
  {
   "cell_type": "code",
   "execution_count": 112,
   "metadata": {},
   "outputs": [
    {
     "data": {
      "image/png": "[encoded data removed]",
      "text/plain": [
       "<Figure size 1080x360 with 1 Axes>"
      ]
     },
     "metadata": {},
     "output_type": "display_data"
    },
    {
     "data": {
      "text/html": [
       "<div>\n",
       "<style scoped>\n",
       "    .dataframe tbody tr th:only-of-type {\n",
       "        vertical-align: middle;\n",
       "    }\n",
       "\n",
       "    .dataframe tbody tr th {\n",
       "        vertical-align: top;\n",
       "    }\n",
       "\n",
       "    .dataframe thead th {\n",
       "        text-align: right;\n",
       "    }\n",
       "</style>\n",
       "<table border=\"1\" class=\"dataframe\">\n",
       "  <thead>\n",
       "    <tr style=\"text-align: right;\">\n",
       "      <th></th>\n",
       "      <th>month</th>\n",
       "      <th>total_rev</th>\n",
       "      <th>optimal_teriff_rev</th>\n",
       "      <th>alternativ_rev</th>\n",
       "      <th>diff_opt</th>\n",
       "      <th>%_opt</th>\n",
       "      <th>diff_alter</th>\n",
       "      <th>%_alter</th>\n",
       "    </tr>\n",
       "  </thead>\n",
       "  <tbody>\n",
       "    <tr>\n",
       "      <td>0</td>\n",
       "      <td>2019-08-01</td>\n",
       "      <td>179880.0</td>\n",
       "      <td>113496.0</td>\n",
       "      <td>164283.0</td>\n",
       "      <td>66384.0</td>\n",
       "      <td>37.0</td>\n",
       "      <td>15597.0</td>\n",
       "      <td>9.0</td>\n",
       "    </tr>\n",
       "    <tr>\n",
       "      <td>1</td>\n",
       "      <td>2019-09-01</td>\n",
       "      <td>409065.0</td>\n",
       "      <td>287319.0</td>\n",
       "      <td>383932.0</td>\n",
       "      <td>121746.0</td>\n",
       "      <td>30.0</td>\n",
       "      <td>25133.0</td>\n",
       "      <td>6.0</td>\n",
       "    </tr>\n",
       "    <tr>\n",
       "      <td>2</td>\n",
       "      <td>2019-10-01</td>\n",
       "      <td>646086.0</td>\n",
       "      <td>463999.0</td>\n",
       "      <td>617229.0</td>\n",
       "      <td>182087.0</td>\n",
       "      <td>28.0</td>\n",
       "      <td>28857.0</td>\n",
       "      <td>4.0</td>\n",
       "    </tr>\n",
       "    <tr>\n",
       "      <td>3</td>\n",
       "      <td>2019-11-01</td>\n",
       "      <td>611284.0</td>\n",
       "      <td>443792.0</td>\n",
       "      <td>585689.0</td>\n",
       "      <td>167492.0</td>\n",
       "      <td>27.0</td>\n",
       "      <td>25595.0</td>\n",
       "      <td>4.0</td>\n",
       "    </tr>\n",
       "  </tbody>\n",
       "</table>\n",
       "</div>"
      ],
      "text/plain": [
       "       month  total_rev  optimal_teriff_rev  alternativ_rev  diff_opt  %_opt  \\\n",
       "0 2019-08-01   179880.0            113496.0        164283.0   66384.0   37.0   \n",
       "1 2019-09-01   409065.0            287319.0        383932.0  121746.0   30.0   \n",
       "2 2019-10-01   646086.0            463999.0        617229.0  182087.0   28.0   \n",
       "3 2019-11-01   611284.0            443792.0        585689.0  167492.0   27.0   \n",
       "\n",
       "   diff_alter  %_alter  \n",
       "0     15597.0      9.0  \n",
       "1     25133.0      6.0  \n",
       "2     28857.0      4.0  \n",
       "3     25595.0      4.0  "
      ]
     },
     "execution_count": 112,
     "metadata": {},
     "output_type": "execute_result"
    }
   ],
   "source": [
    "# сравним общую выручку при использовании разных тарифов\n",
    "\n",
    "#сгруппируем данные для отображения\n",
    "plot_tot_rev_opt_rev = df_rev_total.groupby('month')['alternativ_rev'].sum().reset_index()\n",
    "\n",
    "#преобразуем фрейм для удобства визуализации\n",
    "c = plot_tot_rev_opt_rev = df_rev_total.groupby('month')['alternativ_rev'].sum().reset_index()\n",
    "c['month'] = c['month'].astype('str')\n",
    "c['type'] = 'смешанный тариф'\n",
    "\n",
    "c.columns = ['month', 'rev', 'type']\n",
    "\n",
    "df_plot = df_plot.append(c)\n",
    "df_plot = df_plot.reset_index(drop = True)\n",
    "\n",
    "#построим график \n",
    "sns.barplot(data = df_plot, x = 'month', y ='rev', hue ='type' )\n",
    "plt.legend()\n",
    "plt.title('Выручка по месяцам')\n",
    "plt.xlabel('Месяц')\n",
    "plt.ylabel('Выручка')\n",
    "plt.show()\n",
    "\n",
    "df_rev_total_opt_grp = df_rev_total.groupby('month')[['total_rev', 'optimal_teriff_rev', 'alternativ_rev']].sum()\n",
    "df_rev_total_opt_grp['diff_opt'] = df_rev_total_opt_grp['total_rev'] - df_rev_total_opt_grp['optimal_teriff_rev']\n",
    "df_rev_total_opt_grp['%_opt'] = ((df_rev_total_opt_grp['diff_opt']/ df_rev_total_opt_grp['total_rev'])*100).round(1)\n",
    "\n",
    "df_rev_total_opt_grp['diff_alter'] = df_rev_total_opt_grp['total_rev'] - df_rev_total_opt_grp['alternativ_rev']\n",
    "df_rev_total_opt_grp['%_alter'] = ((df_rev_total_opt_grp['diff_alter']/ df_rev_total_opt_grp['total_rev'])*100).round(1)\n",
    "\n",
    "\n",
    "df_rev_total_opt_grp.reset_index()"
   ]
  },
  {
   "cell_type": "code",
   "execution_count": 83,
   "metadata": {},
   "outputs": [
    {
     "name": "stdout",
     "output_type": "stream",
     "text": [
      "Средний процент снижения выручки при использовании оптимального тарифа: 5.87\n"
     ]
    }
   ],
   "source": [
    "print('Средний процент снижения выручки при использовании оптимального тарифа: {:.2f}'.format(df_rev_total_opt_grp['%_alter'].mean()))"
   ]
  },
  {
   "cell_type": "markdown",
   "metadata": {},
   "source": [
    "### Вывод\n",
    "В результате ретроспективного анализа применения __схемы 30 - 10__ - перевода __30%__ клиентов с неоптимальными тарифами на оптимальный и __10%__ с оптимальными на второй по оптимальности удалось выявить что в среднем размер выручки был бы меньше на __5.87%__ процента в месяц, вместо __30.5%__ при предложении только оптимального тарифа."
   ]
  },
  {
   "cell_type": "markdown",
   "metadata": {},
   "source": [
    "## Проверка статистических гипотез"
   ]
  },
  {
   "cell_type": "markdown",
   "metadata": {},
   "source": [
    "### Гипотеза о равенстве выручки при использовании текущего и оптимального тарифов"
   ]
  },
  {
   "cell_type": "markdown",
   "metadata": {},
   "source": [
    "Соформулируем гипотезу для проверик:\n",
    "\n",
    "* Нулевая - Выручка при использовании текущего тарифа равна выручке при использовании оптимального.\n",
    "* Альтернативная - Не верно, что выручка при использовании текущего тарифа равна выручке при использовании оптимального."
   ]
  },
  {
   "cell_type": "code",
   "execution_count": 84,
   "metadata": {},
   "outputs": [],
   "source": [
    "#определим выборки для последующих тестов\n",
    "current_tatiff= df_rev_total['total_rev']\n",
    "optimal_tariff  = df_rev_total['optimal_teriff_rev']\n",
    "alternative_tariff = df_rev_total['alternativ_rev']"
   ]
  },
  {
   "cell_type": "code",
   "execution_count": 85,
   "metadata": {},
   "outputs": [
    {
     "data": {
      "text/plain": [
       "0.0004485225377320287"
      ]
     },
     "execution_count": 85,
     "metadata": {},
     "output_type": "execute_result"
    }
   ],
   "source": [
    "stat, p = levene(current_tatiff, optimal_tariff)\n",
    "p"
   ]
  },
  {
   "cell_type": "markdown",
   "metadata": {},
   "source": [
    "Результат по тесту Левене не превышает 0,05. Это говорит нам о том, что дисперсии не гомогенны, при проверке испльзуем параметр equel_var = False"
   ]
  },
  {
   "cell_type": "code",
   "execution_count": 108,
   "metadata": {},
   "outputs": [
    {
     "name": "stdout",
     "output_type": "stream",
     "text": [
      "p-значение: 4.140393886658115e-06\n",
      "Отвергаем нулевую гипотезу\n"
     ]
    }
   ],
   "source": [
    "\n",
    "alpha = 0.01\n",
    "\n",
    "results = st.ttest_ind(\n",
    "    current_tatiff,\n",
    "    optimal_tariff,\n",
    "    equal_var = False)\n",
    "print('p-значение:', results.pvalue)\n",
    "\n",
    "if (results.pvalue < alpha):\n",
    "    print(\"Отвергаем нулевую гипотезу\")\n",
    "else:\n",
    "    print(\"Не получилось отвергнуть нулевую гипотезу\") "
   ]
  },
  {
   "cell_type": "markdown",
   "metadata": {},
   "source": [
    "### Гипотеза о равенстве выручки при использовании текущего и альтернативного тарифов"
   ]
  },
  {
   "cell_type": "markdown",
   "metadata": {},
   "source": [
    "Соформулируем гипотезу для проверик:\n",
    "\n",
    "* Нулевая - Выручка при использовании текущего тарифа равна выручке при использовании альтернативного.\n",
    "* Альтернативная - Не верно, что выручка при использовании текущего тарифа равна выручке при использовании альтернативного."
   ]
  },
  {
   "cell_type": "code",
   "execution_count": 87,
   "metadata": {},
   "outputs": [
    {
     "data": {
      "text/plain": [
       "0.6016638980075212"
      ]
     },
     "execution_count": 87,
     "metadata": {},
     "output_type": "execute_result"
    }
   ],
   "source": [
    "stat, p = levene(current_tatiff, alternative_tariff)\n",
    "p"
   ]
  },
  {
   "cell_type": "markdown",
   "metadata": {},
   "source": [
    "Результат по тесту Левене превышает 0,05. Это говорит нам о том, что дисперсии гомогенны, при проверке используем параметры по умолчанию."
   ]
  },
  {
   "cell_type": "code",
   "execution_count": 88,
   "metadata": {},
   "outputs": [
    {
     "name": "stdout",
     "output_type": "stream",
     "text": [
      "p-значение: 0.4295587295999749\n",
      "Не получилось отвергнуть нулевую гипотезу\n"
     ]
    }
   ],
   "source": [
    "alpha = 0.01\n",
    "\n",
    "results = st.ttest_ind(\n",
    "    current_tatiff,\n",
    "    alternative_tariff)\n",
    "print('p-значение:', results.pvalue)\n",
    "\n",
    "if (results.pvalue < alpha):\n",
    "    print(\"Отвергаем нулевую гипотезу\")\n",
    "else:\n",
    "    print(\"Не получилось отвергнуть нулевую гипотезу\") "
   ]
  },
  {
   "cell_type": "markdown",
   "metadata": {},
   "source": [
    "### Вывод."
   ]
  },
  {
   "cell_type": "markdown",
   "metadata": {},
   "source": [
    "В результате статистической проверки удалось отвергнуть гипотезу о равенстве выручки при использовании текущего и оптимального тарифов и не удалось отвергунуть гипотезу о рпвенстве выручки при использовании текущего и альтернативного тарифа (схема 30-10). \n",
    "Из чего следует, что при смешенном предложении о переходе на тарифы статистически значимая разница в выручке отсутствует."
   ]
  },
  {
   "cell_type": "markdown",
   "metadata": {},
   "source": [
    "## Общий вывод."
   ]
  },
  {
   "cell_type": "markdown",
   "metadata": {},
   "source": [
    "В ходе исследованы были проанализированы дынные пользователей телеком компаний. \n",
    "Всего 307 пользователей в результате предобработки из анализыа были иселючены неактивные пользователи (менее 10 звонков за месяц) - всего 45 пользователей.\n",
    "\n",
    "На основе очищенных от аномальных пользователей данных был составлен следующи __портрет типичного клиента:__\n",
    "\n",
    "В среднем клиет использует в работе 2 -х операторов в смене, как правиоло работает 1 сотрудник. \n",
    "\n",
    "В день один сорудник в среднем \n",
    "\n",
    "__совершает:__\n",
    "\n",
    "- 11 исходящих звонков на внешние номера общей длительностью 19 минут\n",
    "- 4 исходящих звонка на внутренние номера общей длительностью 5 минут\n",
    "\n",
    "__принимает:__\n",
    "\n",
    "- 4 звонка с внешних номеров общей длительностью 3 минуты\n",
    "- 1 звонок с внутренних номеров общей длительностью 1 минута\n",
    "\n",
    "В среднем 5 звонков на сотрудника в день являются пропущенными.\n",
    "\n",
    "\n",
    "\n",
    "Основаная часть проекта былпа посвещена расчету показателей выручки при использовании текущего и оптимального тарифов, а так же предложению по оптимизации потери выручки. \n",
    "\n",
    "В ходе исследования были получены следущие результаты: \n",
    "\n",
    "* Общая выручка на текущем тарифе:  __1846315 рублей__\n",
    "\n",
    "* Наибольшая в октябре -  __646086 рублей__\n",
    "* Наименьшая в августе -  __179880 рублей__\n",
    "\n",
    "\n",
    "Больше всего неоптимальными тарифами клиенты пользовались в октябре и ноябре - 109 и 108 клиентов с неоптимальными тарифами.\n",
    "\n",
    "\n",
    "Размер общей выручки при использовании клиентами оптимальных тарифов - __1308606 рублей__\n",
    "\n",
    "В сравнении с текущим тарифом размер выручки меньше на __30.5%__\n",
    "Больше всего неоптимальными тарифами клиенты пользовались в октябре и ноябре - 108 и 109 клиентов с неоптимальными тарифами.\n",
    "\n",
    "Чаще всего клиента выгоднее переходить на тариф С, данный тариф был чаще всего. Количество рекомендованных тарифов при импользовании неоптимального в месяц:\n",
    "* C - 659\n",
    "* B\t- 17\n",
    "* A\t- 5\n",
    "\n",
    "В части по оптимизации выручке была предложена схема смешанного перевода клиентов - 30% с неоптимальнымии тарифами на оптимальный и 10% с оптимальными тарифами на второй по оптимальномти. В результате расчетов удалось определить, что при данной схеме ретромпективно выручка снизилась на __5,2%__ вместо __30.5%__ при условии использования клиентами только оптимальных тарифов.\n",
    "\n",
    "В заключительной части проекта были проверены следующие гипотезы:\n",
    "\n",
    "* Гипотеза о равенстве выручки при использовании текущего и оптимального тарифов\n",
    "* Гипотеза о равенстве выручки при использовании текущего и альтернативного тарифов\n",
    "\n",
    "В результате проведения статистических тестов удалось выявить, что выручка статистически различается на текущих и оптимальных тарифах и статичтически не различается на текущихи альтернативных (схема 30-10) тарифах."
   ]
  }
 ],
 "metadata": {
  "ExecuteTimeLog": [
   {
    "duration": 2034,
    "start_time": "2021-12-17T16:56:21.916Z"
   },
   {
    "duration": 4936,
    "start_time": "2021-12-17T16:56:23.952Z"
   },
   {
    "duration": -3660,
    "start_time": "2021-12-17T16:56:32.552Z"
   },
   {
    "duration": -3664,
    "start_time": "2021-12-17T16:56:32.557Z"
   },
   {
    "duration": -3655,
    "start_time": "2021-12-17T16:56:32.561Z"
   },
   {
    "duration": -3658,
    "start_time": "2021-12-17T16:56:32.565Z"
   },
   {
    "duration": -3667,
    "start_time": "2021-12-17T16:56:32.575Z"
   },
   {
    "duration": -3671,
    "start_time": "2021-12-17T16:56:32.580Z"
   },
   {
    "duration": -3675,
    "start_time": "2021-12-17T16:56:32.585Z"
   },
   {
    "duration": -3677,
    "start_time": "2021-12-17T16:56:32.588Z"
   },
   {
    "duration": -3679,
    "start_time": "2021-12-17T16:56:32.592Z"
   },
   {
    "duration": -3680,
    "start_time": "2021-12-17T16:56:32.594Z"
   },
   {
    "duration": -3696,
    "start_time": "2021-12-17T16:56:32.611Z"
   },
   {
    "duration": -3699,
    "start_time": "2021-12-17T16:56:32.615Z"
   },
   {
    "duration": -3702,
    "start_time": "2021-12-17T16:56:32.619Z"
   },
   {
    "duration": -3705,
    "start_time": "2021-12-17T16:56:32.623Z"
   },
   {
    "duration": -3709,
    "start_time": "2021-12-17T16:56:32.628Z"
   },
   {
    "duration": -3712,
    "start_time": "2021-12-17T16:56:32.632Z"
   },
   {
    "duration": -3716,
    "start_time": "2021-12-17T16:56:32.636Z"
   },
   {
    "duration": -3719,
    "start_time": "2021-12-17T16:56:32.640Z"
   },
   {
    "duration": -3723,
    "start_time": "2021-12-17T16:56:32.645Z"
   },
   {
    "duration": -3726,
    "start_time": "2021-12-17T16:56:32.649Z"
   },
   {
    "duration": -3728,
    "start_time": "2021-12-17T16:56:32.652Z"
   },
   {
    "duration": -3729,
    "start_time": "2021-12-17T16:56:32.654Z"
   },
   {
    "duration": -3732,
    "start_time": "2021-12-17T16:56:32.658Z"
   },
   {
    "duration": -4211,
    "start_time": "2021-12-17T16:56:33.138Z"
   },
   {
    "duration": -4218,
    "start_time": "2021-12-17T16:56:33.145Z"
   },
   {
    "duration": -4220,
    "start_time": "2021-12-17T16:56:33.148Z"
   },
   {
    "duration": -4223,
    "start_time": "2021-12-17T16:56:33.152Z"
   },
   {
    "duration": -4225,
    "start_time": "2021-12-17T16:56:33.155Z"
   },
   {
    "duration": -4230,
    "start_time": "2021-12-17T16:56:33.161Z"
   },
   {
    "duration": -4275,
    "start_time": "2021-12-17T16:56:33.207Z"
   },
   {
    "duration": -4278,
    "start_time": "2021-12-17T16:56:33.211Z"
   },
   {
    "duration": -4278,
    "start_time": "2021-12-17T16:56:33.213Z"
   },
   {
    "duration": -4282,
    "start_time": "2021-12-17T16:56:33.217Z"
   },
   {
    "duration": -4284,
    "start_time": "2021-12-17T16:56:33.220Z"
   },
   {
    "duration": -4287,
    "start_time": "2021-12-17T16:56:33.224Z"
   },
   {
    "duration": -4289,
    "start_time": "2021-12-17T16:56:33.227Z"
   },
   {
    "duration": -4291,
    "start_time": "2021-12-17T16:56:33.230Z"
   },
   {
    "duration": -4293,
    "start_time": "2021-12-17T16:56:33.233Z"
   },
   {
    "duration": -4295,
    "start_time": "2021-12-17T16:56:33.236Z"
   },
   {
    "duration": -4298,
    "start_time": "2021-12-17T16:56:33.240Z"
   },
   {
    "duration": -4229,
    "start_time": "2021-12-17T16:56:33.244Z"
   },
   {
    "duration": -4232,
    "start_time": "2021-12-17T16:56:33.248Z"
   },
   {
    "duration": -4237,
    "start_time": "2021-12-17T16:56:33.254Z"
   },
   {
    "duration": -4239,
    "start_time": "2021-12-17T16:56:33.258Z"
   },
   {
    "duration": -4242,
    "start_time": "2021-12-17T16:56:33.262Z"
   },
   {
    "duration": -4244,
    "start_time": "2021-12-17T16:56:33.265Z"
   },
   {
    "duration": -4246,
    "start_time": "2021-12-17T16:56:33.269Z"
   },
   {
    "duration": -4248,
    "start_time": "2021-12-17T16:56:33.272Z"
   },
   {
    "duration": -4250,
    "start_time": "2021-12-17T16:56:33.275Z"
   },
   {
    "duration": -4251,
    "start_time": "2021-12-17T16:56:33.277Z"
   },
   {
    "duration": -4252,
    "start_time": "2021-12-17T16:56:33.279Z"
   },
   {
    "duration": -4283,
    "start_time": "2021-12-17T16:56:33.311Z"
   },
   {
    "duration": -4286,
    "start_time": "2021-12-17T16:56:33.315Z"
   },
   {
    "duration": -4291,
    "start_time": "2021-12-17T16:56:33.322Z"
   },
   {
    "duration": -4299,
    "start_time": "2021-12-17T16:56:33.331Z"
   },
   {
    "duration": -4303,
    "start_time": "2021-12-17T16:56:33.336Z"
   },
   {
    "duration": -4310,
    "start_time": "2021-12-17T16:56:33.344Z"
   },
   {
    "duration": -4314,
    "start_time": "2021-12-17T16:56:33.349Z"
   },
   {
    "duration": -4316,
    "start_time": "2021-12-17T16:56:33.353Z"
   },
   {
    "duration": -4319,
    "start_time": "2021-12-17T16:56:33.357Z"
   },
   {
    "duration": -4323,
    "start_time": "2021-12-17T16:56:33.362Z"
   },
   {
    "duration": -4326,
    "start_time": "2021-12-17T16:56:33.366Z"
   },
   {
    "duration": -4328,
    "start_time": "2021-12-17T16:56:33.369Z"
   },
   {
    "duration": -4329,
    "start_time": "2021-12-17T16:56:33.371Z"
   },
   {
    "duration": -4337,
    "start_time": "2021-12-17T16:56:33.380Z"
   },
   {
    "duration": -4341,
    "start_time": "2021-12-17T16:56:33.385Z"
   },
   {
    "duration": -4344,
    "start_time": "2021-12-17T16:56:33.388Z"
   },
   {
    "duration": -4347,
    "start_time": "2021-12-17T16:56:33.392Z"
   },
   {
    "duration": -4349,
    "start_time": "2021-12-17T16:56:33.395Z"
   },
   {
    "duration": -4350,
    "start_time": "2021-12-17T16:56:33.397Z"
   },
   {
    "duration": -4352,
    "start_time": "2021-12-17T16:56:33.400Z"
   },
   {
    "duration": -4354,
    "start_time": "2021-12-17T16:56:33.403Z"
   },
   {
    "duration": -4355,
    "start_time": "2021-12-17T16:56:33.405Z"
   },
   {
    "duration": -4483,
    "start_time": "2021-12-17T16:56:33.533Z"
   },
   {
    "duration": -4487,
    "start_time": "2021-12-17T16:56:33.538Z"
   },
   {
    "duration": 2516,
    "start_time": "2021-12-17T18:05:59.770Z"
   },
   {
    "duration": 804,
    "start_time": "2021-12-17T18:06:15.039Z"
   },
   {
    "duration": 1240,
    "start_time": "2021-12-17T18:06:31.108Z"
   },
   {
    "duration": 88,
    "start_time": "2021-12-17T18:06:32.350Z"
   },
   {
    "duration": 16,
    "start_time": "2021-12-17T18:06:32.440Z"
   },
   {
    "duration": 26,
    "start_time": "2021-12-17T18:06:32.459Z"
   },
   {
    "duration": 18,
    "start_time": "2021-12-17T18:06:32.487Z"
   },
   {
    "duration": 23,
    "start_time": "2021-12-17T18:06:32.507Z"
   },
   {
    "duration": 23,
    "start_time": "2021-12-17T18:06:32.532Z"
   },
   {
    "duration": 54,
    "start_time": "2021-12-17T18:06:32.558Z"
   },
   {
    "duration": 632,
    "start_time": "2021-12-17T18:06:32.614Z"
   },
   {
    "duration": 35,
    "start_time": "2021-12-17T18:06:33.247Z"
   },
   {
    "duration": 24,
    "start_time": "2021-12-17T18:06:33.283Z"
   },
   {
    "duration": 13,
    "start_time": "2021-12-17T18:06:33.309Z"
   },
   {
    "duration": 5,
    "start_time": "2021-12-17T18:06:33.324Z"
   },
   {
    "duration": 19,
    "start_time": "2021-12-17T18:06:33.331Z"
   },
   {
    "duration": 15,
    "start_time": "2021-12-17T18:06:33.352Z"
   },
   {
    "duration": 45,
    "start_time": "2021-12-17T18:06:33.369Z"
   },
   {
    "duration": 37,
    "start_time": "2021-12-17T18:06:33.415Z"
   },
   {
    "duration": 14,
    "start_time": "2021-12-17T18:06:33.454Z"
   },
   {
    "duration": 435,
    "start_time": "2021-12-17T18:06:33.471Z"
   },
   {
    "duration": 14,
    "start_time": "2021-12-17T18:06:33.908Z"
   },
   {
    "duration": 5,
    "start_time": "2021-12-17T18:06:33.923Z"
   },
   {
    "duration": 23,
    "start_time": "2021-12-17T18:06:33.930Z"
   },
   {
    "duration": 6,
    "start_time": "2021-12-17T18:06:33.957Z"
   },
   {
    "duration": 41,
    "start_time": "2021-12-17T18:06:33.965Z"
   },
   {
    "duration": 16,
    "start_time": "2021-12-17T18:06:34.008Z"
   },
   {
    "duration": 32,
    "start_time": "2021-12-17T18:06:34.025Z"
   },
   {
    "duration": 397,
    "start_time": "2021-12-17T18:06:34.058Z"
   },
   {
    "duration": 77,
    "start_time": "2021-12-17T18:06:34.456Z"
   },
   {
    "duration": 462,
    "start_time": "2021-12-17T18:06:34.535Z"
   },
   {
    "duration": 33,
    "start_time": "2021-12-17T18:06:34.999Z"
   },
   {
    "duration": 4,
    "start_time": "2021-12-17T18:06:35.034Z"
   },
   {
    "duration": 4,
    "start_time": "2021-12-17T18:06:35.040Z"
   },
   {
    "duration": 7,
    "start_time": "2021-12-17T18:06:35.045Z"
   },
   {
    "duration": 14,
    "start_time": "2021-12-17T18:06:35.053Z"
   },
   {
    "duration": 40,
    "start_time": "2021-12-17T18:06:35.069Z"
   },
   {
    "duration": 8,
    "start_time": "2021-12-17T18:06:35.111Z"
   },
   {
    "duration": 8,
    "start_time": "2021-12-17T18:06:35.120Z"
   },
   {
    "duration": 47,
    "start_time": "2021-12-17T18:06:35.129Z"
   },
   {
    "duration": 35,
    "start_time": "2021-12-17T18:06:35.178Z"
   },
   {
    "duration": 120,
    "start_time": "2021-12-17T18:06:35.215Z"
   },
   {
    "duration": 6,
    "start_time": "2021-12-17T18:06:35.336Z"
   },
   {
    "duration": 133,
    "start_time": "2021-12-17T18:06:35.344Z"
   },
   {
    "duration": 13,
    "start_time": "2021-12-17T18:06:35.479Z"
   },
   {
    "duration": 19,
    "start_time": "2021-12-17T18:06:35.493Z"
   },
   {
    "duration": 4,
    "start_time": "2021-12-17T18:06:35.514Z"
   },
   {
    "duration": 52,
    "start_time": "2021-12-17T18:06:35.520Z"
   },
   {
    "duration": 4,
    "start_time": "2021-12-17T18:06:35.573Z"
   },
   {
    "duration": 29,
    "start_time": "2021-12-17T18:06:35.578Z"
   },
   {
    "duration": 5,
    "start_time": "2021-12-17T18:06:35.609Z"
   },
   {
    "duration": 15,
    "start_time": "2021-12-17T18:06:35.616Z"
   },
   {
    "duration": 12,
    "start_time": "2021-12-17T18:06:35.632Z"
   },
   {
    "duration": 4,
    "start_time": "2021-12-17T18:06:35.645Z"
   },
   {
    "duration": 80,
    "start_time": "2021-12-17T18:06:35.651Z"
   },
   {
    "duration": 8,
    "start_time": "2021-12-17T18:06:35.732Z"
   },
   {
    "duration": 297,
    "start_time": "2021-12-17T18:06:35.742Z"
   },
   {
    "duration": 9,
    "start_time": "2021-12-17T18:06:36.041Z"
   },
   {
    "duration": 335,
    "start_time": "2021-12-17T18:06:36.052Z"
   },
   {
    "duration": 17,
    "start_time": "2021-12-17T18:06:36.389Z"
   },
   {
    "duration": 63,
    "start_time": "2021-12-17T18:06:36.408Z"
   },
   {
    "duration": 301,
    "start_time": "2021-12-17T18:06:36.473Z"
   },
   {
    "duration": 4,
    "start_time": "2021-12-17T18:06:36.776Z"
   },
   {
    "duration": 7,
    "start_time": "2021-12-17T18:06:36.781Z"
   },
   {
    "duration": 63,
    "start_time": "2021-12-17T18:06:36.790Z"
   },
   {
    "duration": 12,
    "start_time": "2021-12-17T18:06:36.855Z"
   },
   {
    "duration": 8,
    "start_time": "2021-12-17T18:06:36.868Z"
   },
   {
    "duration": 7,
    "start_time": "2021-12-17T18:06:36.878Z"
   },
   {
    "duration": 4,
    "start_time": "2021-12-17T18:06:36.907Z"
   },
   {
    "duration": 31,
    "start_time": "2021-12-17T18:06:36.916Z"
   },
   {
    "duration": 14,
    "start_time": "2021-12-17T18:06:36.949Z"
   },
   {
    "duration": 11,
    "start_time": "2021-12-17T18:06:36.965Z"
   },
   {
    "duration": 346,
    "start_time": "2021-12-17T18:06:36.977Z"
   },
   {
    "duration": 4,
    "start_time": "2021-12-17T18:06:37.325Z"
   },
   {
    "duration": 14,
    "start_time": "2021-12-17T18:06:37.331Z"
   },
   {
    "duration": 14,
    "start_time": "2021-12-17T18:06:37.347Z"
   },
   {
    "duration": 14,
    "start_time": "2021-12-17T18:06:37.362Z"
   },
   {
    "duration": 29,
    "start_time": "2021-12-17T18:06:37.377Z"
   },
   {
    "duration": 9,
    "start_time": "2021-12-17T18:06:37.408Z"
   },
   {
    "duration": 22,
    "start_time": "2021-12-17T18:58:21.066Z"
   },
   {
    "duration": 14,
    "start_time": "2021-12-17T18:58:53.802Z"
   },
   {
    "duration": 16,
    "start_time": "2021-12-17T19:00:01.293Z"
   },
   {
    "duration": 17,
    "start_time": "2021-12-17T19:00:08.135Z"
   },
   {
    "duration": 17,
    "start_time": "2021-12-17T19:00:10.198Z"
   },
   {
    "duration": 23,
    "start_time": "2021-12-17T19:00:15.854Z"
   },
   {
    "duration": 22,
    "start_time": "2021-12-17T19:00:29.941Z"
   },
   {
    "duration": 22,
    "start_time": "2021-12-17T19:00:32.405Z"
   },
   {
    "duration": 15,
    "start_time": "2021-12-17T19:00:38.262Z"
   },
   {
    "duration": 17,
    "start_time": "2021-12-17T19:35:40.797Z"
   },
   {
    "duration": 12,
    "start_time": "2021-12-17T19:36:17.101Z"
   },
   {
    "duration": 1281,
    "start_time": "2021-12-17T19:40:08.373Z"
   },
   {
    "duration": 93,
    "start_time": "2021-12-17T19:40:09.656Z"
   },
   {
    "duration": 17,
    "start_time": "2021-12-17T19:40:09.752Z"
   },
   {
    "duration": 14,
    "start_time": "2021-12-17T19:40:09.771Z"
   },
   {
    "duration": 13,
    "start_time": "2021-12-17T19:40:09.787Z"
   },
   {
    "duration": 25,
    "start_time": "2021-12-17T19:40:09.802Z"
   },
   {
    "duration": 24,
    "start_time": "2021-12-17T19:40:09.828Z"
   },
   {
    "duration": 69,
    "start_time": "2021-12-17T19:40:09.855Z"
   },
   {
    "duration": 736,
    "start_time": "2021-12-17T19:40:09.927Z"
   },
   {
    "duration": 45,
    "start_time": "2021-12-17T19:40:10.665Z"
   },
   {
    "duration": 13,
    "start_time": "2021-12-17T19:40:10.712Z"
   },
   {
    "duration": 13,
    "start_time": "2021-12-17T19:40:10.727Z"
   },
   {
    "duration": 6,
    "start_time": "2021-12-17T19:40:10.742Z"
   },
   {
    "duration": 20,
    "start_time": "2021-12-17T19:40:10.749Z"
   },
   {
    "duration": 47,
    "start_time": "2021-12-17T19:40:10.771Z"
   },
   {
    "duration": 18,
    "start_time": "2021-12-17T19:40:10.820Z"
   },
   {
    "duration": 43,
    "start_time": "2021-12-17T19:40:10.840Z"
   },
   {
    "duration": 30,
    "start_time": "2021-12-17T19:40:10.884Z"
   },
   {
    "duration": 457,
    "start_time": "2021-12-17T19:40:10.916Z"
   },
   {
    "duration": 14,
    "start_time": "2021-12-17T19:40:11.375Z"
   },
   {
    "duration": 19,
    "start_time": "2021-12-17T19:40:11.391Z"
   },
   {
    "duration": 10,
    "start_time": "2021-12-17T19:40:11.412Z"
   },
   {
    "duration": 7,
    "start_time": "2021-12-17T19:40:11.426Z"
   },
   {
    "duration": 30,
    "start_time": "2021-12-17T19:40:11.436Z"
   },
   {
    "duration": 40,
    "start_time": "2021-12-17T19:40:11.468Z"
   },
   {
    "duration": 36,
    "start_time": "2021-12-17T19:40:11.510Z"
   },
   {
    "duration": 434,
    "start_time": "2021-12-17T19:40:11.547Z"
   },
   {
    "duration": 91,
    "start_time": "2021-12-17T19:40:11.983Z"
   },
   {
    "duration": 595,
    "start_time": "2021-12-17T19:40:12.077Z"
   },
   {
    "duration": 52,
    "start_time": "2021-12-17T19:40:12.675Z"
   },
   {
    "duration": 5,
    "start_time": "2021-12-17T19:40:12.729Z"
   },
   {
    "duration": 8,
    "start_time": "2021-12-17T19:40:12.736Z"
   },
   {
    "duration": 26,
    "start_time": "2021-12-17T19:40:12.746Z"
   },
   {
    "duration": 16,
    "start_time": "2021-12-17T19:40:12.774Z"
   },
   {
    "duration": 18,
    "start_time": "2021-12-17T19:40:12.793Z"
   },
   {
    "duration": 23,
    "start_time": "2021-12-17T19:40:12.812Z"
   },
   {
    "duration": 12,
    "start_time": "2021-12-17T19:40:12.837Z"
   },
   {
    "duration": 66,
    "start_time": "2021-12-17T19:40:12.851Z"
   },
   {
    "duration": 16,
    "start_time": "2021-12-17T19:40:12.918Z"
   },
   {
    "duration": 129,
    "start_time": "2021-12-17T19:40:12.936Z"
   },
   {
    "duration": 7,
    "start_time": "2021-12-17T19:40:13.067Z"
   },
   {
    "duration": 143,
    "start_time": "2021-12-17T19:40:13.076Z"
   },
   {
    "duration": 14,
    "start_time": "2021-12-17T19:40:13.221Z"
   },
   {
    "duration": 13,
    "start_time": "2021-12-17T19:40:13.237Z"
   },
   {
    "duration": 4,
    "start_time": "2021-12-17T19:40:13.252Z"
   },
   {
    "duration": 68,
    "start_time": "2021-12-17T19:40:13.258Z"
   },
   {
    "duration": 13,
    "start_time": "2021-12-17T19:40:13.328Z"
   },
   {
    "duration": 15,
    "start_time": "2021-12-17T19:40:13.343Z"
   },
   {
    "duration": 4,
    "start_time": "2021-12-17T19:40:13.360Z"
   },
   {
    "duration": 49,
    "start_time": "2021-12-17T19:40:13.367Z"
   },
   {
    "duration": 6,
    "start_time": "2021-12-17T19:40:13.418Z"
   },
   {
    "duration": 18,
    "start_time": "2021-12-17T19:40:13.426Z"
   },
   {
    "duration": 15,
    "start_time": "2021-12-17T19:40:13.446Z"
   },
   {
    "duration": 21,
    "start_time": "2021-12-17T19:40:13.463Z"
   },
   {
    "duration": 74,
    "start_time": "2021-12-17T19:40:13.486Z"
   },
   {
    "duration": 9,
    "start_time": "2021-12-17T19:40:13.562Z"
   },
   {
    "duration": 321,
    "start_time": "2021-12-17T19:40:13.573Z"
   },
   {
    "duration": 14,
    "start_time": "2021-12-17T19:40:13.896Z"
   },
   {
    "duration": 328,
    "start_time": "2021-12-17T19:40:13.913Z"
   },
   {
    "duration": 5,
    "start_time": "2021-12-17T19:40:14.243Z"
   },
   {
    "duration": 77,
    "start_time": "2021-12-17T19:40:14.250Z"
   },
   {
    "duration": 314,
    "start_time": "2021-12-17T19:40:14.328Z"
   },
   {
    "duration": 4,
    "start_time": "2021-12-17T19:40:14.644Z"
   },
   {
    "duration": 8,
    "start_time": "2021-12-17T19:40:14.650Z"
   },
   {
    "duration": 71,
    "start_time": "2021-12-17T19:40:14.660Z"
   },
   {
    "duration": 12,
    "start_time": "2021-12-17T19:40:14.733Z"
   },
   {
    "duration": 10,
    "start_time": "2021-12-17T19:40:14.747Z"
   },
   {
    "duration": 8,
    "start_time": "2021-12-17T19:40:14.762Z"
   },
   {
    "duration": 5,
    "start_time": "2021-12-17T19:40:14.772Z"
   },
   {
    "duration": 65,
    "start_time": "2021-12-17T19:40:14.778Z"
   },
   {
    "duration": 14,
    "start_time": "2021-12-17T19:40:14.844Z"
   },
   {
    "duration": 12,
    "start_time": "2021-12-17T19:40:14.860Z"
   },
   {
    "duration": 346,
    "start_time": "2021-12-17T19:40:14.874Z"
   },
   {
    "duration": 4,
    "start_time": "2021-12-17T19:40:15.222Z"
   },
   {
    "duration": 4,
    "start_time": "2021-12-17T19:40:15.229Z"
   },
   {
    "duration": 7,
    "start_time": "2021-12-17T19:40:15.235Z"
   },
   {
    "duration": 4,
    "start_time": "2021-12-17T19:40:15.244Z"
   },
   {
    "duration": 8,
    "start_time": "2021-12-17T19:40:15.250Z"
   },
   {
    "duration": 49,
    "start_time": "2021-12-17T19:40:15.260Z"
   },
   {
    "duration": 1595,
    "start_time": "2021-12-18T07:30:46.928Z"
   },
   {
    "duration": 117,
    "start_time": "2021-12-18T07:30:48.531Z"
   },
   {
    "duration": 24,
    "start_time": "2021-12-18T07:30:48.652Z"
   },
   {
    "duration": 20,
    "start_time": "2021-12-18T07:30:48.679Z"
   },
   {
    "duration": 17,
    "start_time": "2021-12-18T07:30:48.702Z"
   },
   {
    "duration": 66,
    "start_time": "2021-12-18T07:30:48.721Z"
   },
   {
    "duration": 30,
    "start_time": "2021-12-18T07:30:48.791Z"
   },
   {
    "duration": 89,
    "start_time": "2021-12-18T07:30:48.824Z"
   },
   {
    "duration": 1202,
    "start_time": "2021-12-18T07:30:48.915Z"
   },
   {
    "duration": 55,
    "start_time": "2021-12-18T07:30:50.120Z"
   },
   {
    "duration": 17,
    "start_time": "2021-12-18T07:30:50.178Z"
   },
   {
    "duration": 17,
    "start_time": "2021-12-18T07:30:50.197Z"
   },
   {
    "duration": 6,
    "start_time": "2021-12-18T07:30:50.216Z"
   },
   {
    "duration": 55,
    "start_time": "2021-12-18T07:30:50.224Z"
   },
   {
    "duration": 24,
    "start_time": "2021-12-18T07:30:50.281Z"
   },
   {
    "duration": 13,
    "start_time": "2021-12-18T07:30:50.308Z"
   },
   {
    "duration": 77,
    "start_time": "2021-12-18T07:30:50.324Z"
   },
   {
    "duration": 18,
    "start_time": "2021-12-18T07:30:50.403Z"
   },
   {
    "duration": 691,
    "start_time": "2021-12-18T07:30:50.424Z"
   },
   {
    "duration": 21,
    "start_time": "2021-12-18T07:30:51.117Z"
   },
   {
    "duration": 9,
    "start_time": "2021-12-18T07:30:51.159Z"
   },
   {
    "duration": 15,
    "start_time": "2021-12-18T07:30:51.177Z"
   },
   {
    "duration": 11,
    "start_time": "2021-12-18T07:30:51.196Z"
   },
   {
    "duration": 87,
    "start_time": "2021-12-18T07:30:51.209Z"
   },
   {
    "duration": 26,
    "start_time": "2021-12-18T07:30:51.299Z"
   },
   {
    "duration": 77,
    "start_time": "2021-12-18T07:30:51.329Z"
   },
   {
    "duration": 620,
    "start_time": "2021-12-18T07:30:51.408Z"
   },
   {
    "duration": 103,
    "start_time": "2021-12-18T07:30:52.031Z"
   },
   {
    "duration": 802,
    "start_time": "2021-12-18T07:30:52.137Z"
   },
   {
    "duration": 46,
    "start_time": "2021-12-18T07:30:52.942Z"
   },
   {
    "duration": 5,
    "start_time": "2021-12-18T07:30:52.990Z"
   },
   {
    "duration": 8,
    "start_time": "2021-12-18T07:30:52.998Z"
   },
   {
    "duration": 9,
    "start_time": "2021-12-18T07:30:53.008Z"
   },
   {
    "duration": 53,
    "start_time": "2021-12-18T07:30:53.020Z"
   },
   {
    "duration": 12,
    "start_time": "2021-12-18T07:30:53.076Z"
   },
   {
    "duration": 15,
    "start_time": "2021-12-18T07:30:53.091Z"
   },
   {
    "duration": 13,
    "start_time": "2021-12-18T07:30:53.109Z"
   },
   {
    "duration": 124,
    "start_time": "2021-12-18T07:30:53.159Z"
   },
   {
    "duration": 31,
    "start_time": "2021-12-18T07:30:53.287Z"
   },
   {
    "duration": 195,
    "start_time": "2021-12-18T07:30:53.321Z"
   },
   {
    "duration": 9,
    "start_time": "2021-12-18T07:30:53.518Z"
   },
   {
    "duration": 217,
    "start_time": "2021-12-18T07:30:53.529Z"
   },
   {
    "duration": 20,
    "start_time": "2021-12-18T07:30:53.749Z"
   },
   {
    "duration": 14,
    "start_time": "2021-12-18T07:30:53.771Z"
   },
   {
    "duration": 6,
    "start_time": "2021-12-18T07:30:53.788Z"
   },
   {
    "duration": 97,
    "start_time": "2021-12-18T07:30:53.796Z"
   },
   {
    "duration": 19,
    "start_time": "2021-12-18T07:30:53.896Z"
   },
   {
    "duration": 48,
    "start_time": "2021-12-18T07:30:53.917Z"
   },
   {
    "duration": 5,
    "start_time": "2021-12-18T07:30:53.967Z"
   },
   {
    "duration": 24,
    "start_time": "2021-12-18T07:30:53.974Z"
   },
   {
    "duration": 7,
    "start_time": "2021-12-18T07:30:54.000Z"
   },
   {
    "duration": 56,
    "start_time": "2021-12-18T07:30:54.010Z"
   },
   {
    "duration": 18,
    "start_time": "2021-12-18T07:30:54.068Z"
   },
   {
    "duration": 9,
    "start_time": "2021-12-18T07:30:54.089Z"
   },
   {
    "duration": 164,
    "start_time": "2021-12-18T07:30:54.100Z"
   },
   {
    "duration": 13,
    "start_time": "2021-12-18T07:30:54.267Z"
   },
   {
    "duration": 481,
    "start_time": "2021-12-18T07:30:54.283Z"
   },
   {
    "duration": 11,
    "start_time": "2021-12-18T07:30:54.766Z"
   },
   {
    "duration": 483,
    "start_time": "2021-12-18T07:30:54.779Z"
   },
   {
    "duration": 8,
    "start_time": "2021-12-18T07:30:55.264Z"
   },
   {
    "duration": 169,
    "start_time": "2021-12-18T07:30:55.275Z"
   },
   {
    "duration": 477,
    "start_time": "2021-12-18T07:30:55.446Z"
   },
   {
    "duration": 5,
    "start_time": "2021-12-18T07:30:55.926Z"
   },
   {
    "duration": 31,
    "start_time": "2021-12-18T07:30:55.934Z"
   },
   {
    "duration": 100,
    "start_time": "2021-12-18T07:30:55.968Z"
   },
   {
    "duration": 19,
    "start_time": "2021-12-18T07:30:56.071Z"
   },
   {
    "duration": 13,
    "start_time": "2021-12-18T07:30:56.097Z"
   },
   {
    "duration": 47,
    "start_time": "2021-12-18T07:30:56.114Z"
   },
   {
    "duration": 5,
    "start_time": "2021-12-18T07:30:56.164Z"
   },
   {
    "duration": 52,
    "start_time": "2021-12-18T07:30:56.172Z"
   },
   {
    "duration": 58,
    "start_time": "2021-12-18T07:30:56.227Z"
   },
   {
    "duration": 22,
    "start_time": "2021-12-18T07:30:56.288Z"
   },
   {
    "duration": 530,
    "start_time": "2021-12-18T07:30:56.313Z"
   },
   {
    "duration": 14,
    "start_time": "2021-12-18T07:30:56.845Z"
   },
   {
    "duration": 9,
    "start_time": "2021-12-18T07:30:56.862Z"
   },
   {
    "duration": 12,
    "start_time": "2021-12-18T07:30:56.873Z"
   },
   {
    "duration": 10,
    "start_time": "2021-12-18T07:30:56.887Z"
   },
   {
    "duration": 10,
    "start_time": "2021-12-18T07:30:56.899Z"
   },
   {
    "duration": 51,
    "start_time": "2021-12-18T07:30:56.912Z"
   },
   {
    "duration": 7,
    "start_time": "2021-12-18T07:31:15.706Z"
   },
   {
    "duration": 7,
    "start_time": "2021-12-18T07:31:26.187Z"
   },
   {
    "duration": 8,
    "start_time": "2021-12-18T07:31:33.578Z"
   },
   {
    "duration": 364,
    "start_time": "2021-12-19T11:34:20.559Z"
   },
   {
    "duration": 292,
    "start_time": "2021-12-19T11:34:39.349Z"
   },
   {
    "duration": 1561,
    "start_time": "2021-12-19T11:34:41.827Z"
   },
   {
    "duration": 110,
    "start_time": "2021-12-19T11:34:43.881Z"
   },
   {
    "duration": 10,
    "start_time": "2021-12-19T11:34:50.606Z"
   },
   {
    "duration": 94,
    "start_time": "2021-12-19T11:35:10.612Z"
   },
   {
    "duration": 107,
    "start_time": "2021-12-19T11:35:13.782Z"
   },
   {
    "duration": 389,
    "start_time": "2021-12-19T11:35:15.959Z"
   },
   {
    "duration": 15,
    "start_time": "2021-12-19T11:35:21.846Z"
   },
   {
    "duration": 18,
    "start_time": "2021-12-19T11:37:17.722Z"
   },
   {
    "duration": 8,
    "start_time": "2021-12-19T11:38:05.884Z"
   },
   {
    "duration": 13,
    "start_time": "2021-12-19T11:42:11.037Z"
   },
   {
    "duration": 17,
    "start_time": "2021-12-19T11:42:18.048Z"
   },
   {
    "duration": 15,
    "start_time": "2021-12-19T11:42:27.559Z"
   },
   {
    "duration": 15,
    "start_time": "2021-12-19T11:42:35.195Z"
   },
   {
    "duration": 11,
    "start_time": "2021-12-19T11:43:18.720Z"
   },
   {
    "duration": 26,
    "start_time": "2021-12-19T11:43:24.245Z"
   },
   {
    "duration": 317,
    "start_time": "2021-12-19T11:53:22.739Z"
   },
   {
    "duration": 93,
    "start_time": "2021-12-19T11:54:22.136Z"
   },
   {
    "duration": 35,
    "start_time": "2021-12-19T11:54:29.670Z"
   },
   {
    "duration": 15,
    "start_time": "2021-12-19T11:54:51.922Z"
   },
   {
    "duration": 33,
    "start_time": "2021-12-19T11:55:21.499Z"
   },
   {
    "duration": 20,
    "start_time": "2021-12-19T11:55:28.933Z"
   },
   {
    "duration": 290,
    "start_time": "2021-12-19T12:03:24.376Z"
   },
   {
    "duration": 301,
    "start_time": "2021-12-19T12:11:45.650Z"
   },
   {
    "duration": 302,
    "start_time": "2021-12-19T12:11:50.202Z"
   },
   {
    "duration": 1554,
    "start_time": "2021-12-19T12:11:55.117Z"
   },
   {
    "duration": 113,
    "start_time": "2021-12-19T12:11:56.675Z"
   },
   {
    "duration": 22,
    "start_time": "2021-12-19T12:11:56.792Z"
   },
   {
    "duration": 19,
    "start_time": "2021-12-19T12:11:56.818Z"
   },
   {
    "duration": 7,
    "start_time": "2021-12-19T12:11:56.840Z"
   },
   {
    "duration": 19,
    "start_time": "2021-12-19T12:11:56.849Z"
   },
   {
    "duration": 34,
    "start_time": "2021-12-19T12:11:56.870Z"
   },
   {
    "duration": 8,
    "start_time": "2021-12-19T12:11:56.906Z"
   },
   {
    "duration": 54,
    "start_time": "2021-12-19T12:11:56.919Z"
   },
   {
    "duration": 30,
    "start_time": "2021-12-19T12:11:56.976Z"
   },
   {
    "duration": 34,
    "start_time": "2021-12-19T12:11:57.009Z"
   },
   {
    "duration": 67,
    "start_time": "2021-12-19T12:11:57.068Z"
   },
   {
    "duration": 1037,
    "start_time": "2021-12-19T12:11:57.138Z"
   },
   {
    "duration": 119,
    "start_time": "2021-12-19T12:11:58.178Z"
   },
   {
    "duration": 26,
    "start_time": "2021-12-19T12:11:58.299Z"
   },
   {
    "duration": 41,
    "start_time": "2021-12-19T12:11:58.329Z"
   },
   {
    "duration": 8,
    "start_time": "2021-12-19T12:11:58.372Z"
   },
   {
    "duration": 24,
    "start_time": "2021-12-19T12:11:58.383Z"
   },
   {
    "duration": 60,
    "start_time": "2021-12-19T12:11:58.410Z"
   },
   {
    "duration": 12,
    "start_time": "2021-12-19T12:11:58.472Z"
   },
   {
    "duration": 48,
    "start_time": "2021-12-19T12:11:58.487Z"
   },
   {
    "duration": 41,
    "start_time": "2021-12-19T12:11:58.538Z"
   },
   {
    "duration": 703,
    "start_time": "2021-12-19T12:11:58.582Z"
   },
   {
    "duration": 23,
    "start_time": "2021-12-19T12:11:59.288Z"
   },
   {
    "duration": 8,
    "start_time": "2021-12-19T12:11:59.314Z"
   },
   {
    "duration": 47,
    "start_time": "2021-12-19T12:11:59.325Z"
   },
   {
    "duration": 10,
    "start_time": "2021-12-19T12:11:59.379Z"
   },
   {
    "duration": 41,
    "start_time": "2021-12-19T12:11:59.393Z"
   },
   {
    "duration": 45,
    "start_time": "2021-12-19T12:11:59.437Z"
   },
   {
    "duration": 54,
    "start_time": "2021-12-19T12:11:59.484Z"
   },
   {
    "duration": 693,
    "start_time": "2021-12-19T12:11:59.540Z"
   },
   {
    "duration": 139,
    "start_time": "2021-12-19T12:12:00.236Z"
   },
   {
    "duration": 818,
    "start_time": "2021-12-19T12:12:00.378Z"
   },
   {
    "duration": 42,
    "start_time": "2021-12-19T12:12:01.199Z"
   },
   {
    "duration": 25,
    "start_time": "2021-12-19T12:12:01.244Z"
   },
   {
    "duration": 16,
    "start_time": "2021-12-19T12:12:01.272Z"
   },
   {
    "duration": 25,
    "start_time": "2021-12-19T12:12:01.291Z"
   },
   {
    "duration": 41,
    "start_time": "2021-12-19T12:12:01.319Z"
   },
   {
    "duration": 13,
    "start_time": "2021-12-19T12:12:01.363Z"
   },
   {
    "duration": 32,
    "start_time": "2021-12-19T12:12:01.379Z"
   },
   {
    "duration": 10,
    "start_time": "2021-12-19T12:12:01.414Z"
   },
   {
    "duration": 128,
    "start_time": "2021-12-19T12:12:01.468Z"
   },
   {
    "duration": 525,
    "start_time": "2021-12-19T12:12:01.598Z"
   },
   {
    "duration": -1165,
    "start_time": "2021-12-19T12:12:03.291Z"
   },
   {
    "duration": -1167,
    "start_time": "2021-12-19T12:12:03.295Z"
   },
   {
    "duration": -1170,
    "start_time": "2021-12-19T12:12:03.299Z"
   },
   {
    "duration": -1172,
    "start_time": "2021-12-19T12:12:03.303Z"
   },
   {
    "duration": -1175,
    "start_time": "2021-12-19T12:12:03.307Z"
   },
   {
    "duration": -1178,
    "start_time": "2021-12-19T12:12:03.312Z"
   },
   {
    "duration": -1181,
    "start_time": "2021-12-19T12:12:03.316Z"
   },
   {
    "duration": -1183,
    "start_time": "2021-12-19T12:12:03.320Z"
   },
   {
    "duration": -1186,
    "start_time": "2021-12-19T12:12:03.324Z"
   },
   {
    "duration": -1188,
    "start_time": "2021-12-19T12:12:03.328Z"
   },
   {
    "duration": -1192,
    "start_time": "2021-12-19T12:12:03.333Z"
   },
   {
    "duration": -1194,
    "start_time": "2021-12-19T12:12:03.337Z"
   },
   {
    "duration": -1197,
    "start_time": "2021-12-19T12:12:03.341Z"
   },
   {
    "duration": -1200,
    "start_time": "2021-12-19T12:12:03.345Z"
   },
   {
    "duration": -1210,
    "start_time": "2021-12-19T12:12:03.357Z"
   },
   {
    "duration": -1212,
    "start_time": "2021-12-19T12:12:03.361Z"
   },
   {
    "duration": -1215,
    "start_time": "2021-12-19T12:12:03.365Z"
   },
   {
    "duration": -1217,
    "start_time": "2021-12-19T12:12:03.369Z"
   },
   {
    "duration": -1221,
    "start_time": "2021-12-19T12:12:03.374Z"
   },
   {
    "duration": -1224,
    "start_time": "2021-12-19T12:12:03.378Z"
   },
   {
    "duration": -1226,
    "start_time": "2021-12-19T12:12:03.382Z"
   },
   {
    "duration": -1228,
    "start_time": "2021-12-19T12:12:03.386Z"
   },
   {
    "duration": -1232,
    "start_time": "2021-12-19T12:12:03.391Z"
   },
   {
    "duration": -1234,
    "start_time": "2021-12-19T12:12:03.395Z"
   },
   {
    "duration": -1237,
    "start_time": "2021-12-19T12:12:03.399Z"
   },
   {
    "duration": -1237,
    "start_time": "2021-12-19T12:12:03.403Z"
   },
   {
    "duration": -1240,
    "start_time": "2021-12-19T12:12:03.408Z"
   },
   {
    "duration": -1242,
    "start_time": "2021-12-19T12:12:03.412Z"
   },
   {
    "duration": -1245,
    "start_time": "2021-12-19T12:12:03.417Z"
   },
   {
    "duration": -1248,
    "start_time": "2021-12-19T12:12:03.421Z"
   },
   {
    "duration": -1251,
    "start_time": "2021-12-19T12:12:03.426Z"
   },
   {
    "duration": -1253,
    "start_time": "2021-12-19T12:12:03.430Z"
   },
   {
    "duration": -1256,
    "start_time": "2021-12-19T12:12:03.434Z"
   },
   {
    "duration": -1258,
    "start_time": "2021-12-19T12:12:03.438Z"
   },
   {
    "duration": -1261,
    "start_time": "2021-12-19T12:12:03.442Z"
   },
   {
    "duration": -1264,
    "start_time": "2021-12-19T12:12:03.447Z"
   },
   {
    "duration": -1266,
    "start_time": "2021-12-19T12:12:03.451Z"
   },
   {
    "duration": -1268,
    "start_time": "2021-12-19T12:12:03.455Z"
   },
   {
    "duration": -1278,
    "start_time": "2021-12-19T12:12:03.467Z"
   },
   {
    "duration": -1281,
    "start_time": "2021-12-19T12:12:03.471Z"
   },
   {
    "duration": -1284,
    "start_time": "2021-12-19T12:12:03.476Z"
   },
   {
    "duration": -1286,
    "start_time": "2021-12-19T12:12:03.480Z"
   },
   {
    "duration": 68,
    "start_time": "2021-12-19T12:13:10.490Z"
   },
   {
    "duration": 307,
    "start_time": "2021-12-19T12:13:25.607Z"
   },
   {
    "duration": 117,
    "start_time": "2021-12-19T12:15:44.113Z"
   },
   {
    "duration": 28,
    "start_time": "2021-12-19T12:15:48.435Z"
   },
   {
    "duration": 10,
    "start_time": "2021-12-19T12:15:57.699Z"
   },
   {
    "duration": 26,
    "start_time": "2021-12-19T12:16:27.755Z"
   },
   {
    "duration": 312,
    "start_time": "2021-12-19T12:16:37.493Z"
   },
   {
    "duration": 313,
    "start_time": "2021-12-19T12:16:48.453Z"
   },
   {
    "duration": 395,
    "start_time": "2021-12-19T12:16:59.051Z"
   },
   {
    "duration": 9,
    "start_time": "2021-12-19T12:19:06.732Z"
   },
   {
    "duration": 339,
    "start_time": "2021-12-19T12:19:34.906Z"
   },
   {
    "duration": 326,
    "start_time": "2021-12-19T12:19:41.820Z"
   },
   {
    "duration": 4,
    "start_time": "2021-12-19T12:25:37.680Z"
   },
   {
    "duration": 4729,
    "start_time": "2021-12-19T12:25:45.019Z"
   },
   {
    "duration": 8,
    "start_time": "2021-12-19T12:26:04.893Z"
   },
   {
    "duration": 5236,
    "start_time": "2021-12-19T12:26:17.446Z"
   },
   {
    "duration": 7,
    "start_time": "2021-12-19T12:26:29.925Z"
   },
   {
    "duration": 1541,
    "start_time": "2021-12-19T12:26:38.055Z"
   },
   {
    "duration": 116,
    "start_time": "2021-12-19T12:26:39.599Z"
   },
   {
    "duration": 23,
    "start_time": "2021-12-19T12:26:39.718Z"
   },
   {
    "duration": 19,
    "start_time": "2021-12-19T12:26:39.745Z"
   },
   {
    "duration": 10,
    "start_time": "2021-12-19T12:26:39.769Z"
   },
   {
    "duration": 8,
    "start_time": "2021-12-19T12:26:39.781Z"
   },
   {
    "duration": 26,
    "start_time": "2021-12-19T12:26:39.792Z"
   },
   {
    "duration": 6,
    "start_time": "2021-12-19T12:26:39.822Z"
   },
   {
    "duration": 55,
    "start_time": "2021-12-19T12:26:39.831Z"
   },
   {
    "duration": 31,
    "start_time": "2021-12-19T12:26:39.889Z"
   },
   {
    "duration": 75,
    "start_time": "2021-12-19T12:26:39.923Z"
   },
   {
    "duration": 77,
    "start_time": "2021-12-19T12:26:40.000Z"
   },
   {
    "duration": 1623,
    "start_time": "2021-12-19T12:26:40.079Z"
   },
   {
    "duration": 111,
    "start_time": "2021-12-19T12:26:41.705Z"
   },
   {
    "duration": 26,
    "start_time": "2021-12-19T12:26:41.819Z"
   },
   {
    "duration": 26,
    "start_time": "2021-12-19T12:26:41.848Z"
   },
   {
    "duration": 7,
    "start_time": "2021-12-19T12:26:41.880Z"
   },
   {
    "duration": 24,
    "start_time": "2021-12-19T12:26:41.891Z"
   },
   {
    "duration": 63,
    "start_time": "2021-12-19T12:26:41.918Z"
   },
   {
    "duration": 12,
    "start_time": "2021-12-19T12:26:41.983Z"
   },
   {
    "duration": 52,
    "start_time": "2021-12-19T12:26:41.998Z"
   },
   {
    "duration": 30,
    "start_time": "2021-12-19T12:26:42.053Z"
   },
   {
    "duration": 728,
    "start_time": "2021-12-19T12:26:42.089Z"
   },
   {
    "duration": 24,
    "start_time": "2021-12-19T12:26:42.821Z"
   },
   {
    "duration": 10,
    "start_time": "2021-12-19T12:26:42.872Z"
   },
   {
    "duration": 24,
    "start_time": "2021-12-19T12:26:42.884Z"
   },
   {
    "duration": 10,
    "start_time": "2021-12-19T12:26:42.911Z"
   },
   {
    "duration": 72,
    "start_time": "2021-12-19T12:26:42.924Z"
   },
   {
    "duration": 24,
    "start_time": "2021-12-19T12:26:42.999Z"
   },
   {
    "duration": 71,
    "start_time": "2021-12-19T12:26:43.026Z"
   },
   {
    "duration": 670,
    "start_time": "2021-12-19T12:26:43.100Z"
   },
   {
    "duration": 125,
    "start_time": "2021-12-19T12:26:43.772Z"
   },
   {
    "duration": 843,
    "start_time": "2021-12-19T12:26:43.900Z"
   },
   {
    "duration": 51,
    "start_time": "2021-12-19T12:26:44.746Z"
   },
   {
    "duration": 8,
    "start_time": "2021-12-19T12:26:44.800Z"
   },
   {
    "duration": 4,
    "start_time": "2021-12-19T12:26:44.811Z"
   },
   {
    "duration": 7,
    "start_time": "2021-12-19T12:26:44.817Z"
   },
   {
    "duration": 62,
    "start_time": "2021-12-19T12:26:44.826Z"
   },
   {
    "duration": 9,
    "start_time": "2021-12-19T12:26:44.891Z"
   },
   {
    "duration": 12,
    "start_time": "2021-12-19T12:26:44.902Z"
   },
   {
    "duration": 9,
    "start_time": "2021-12-19T12:26:44.916Z"
   },
   {
    "duration": 118,
    "start_time": "2021-12-19T12:26:44.928Z"
   },
   {
    "duration": 35,
    "start_time": "2021-12-19T12:26:45.048Z"
   },
   {
    "duration": 29,
    "start_time": "2021-12-19T12:26:45.088Z"
   },
   {
    "duration": 4,
    "start_time": "2021-12-19T12:26:45.120Z"
   },
   {
    "duration": 71,
    "start_time": "2021-12-19T12:26:45.126Z"
   },
   {
    "duration": 217,
    "start_time": "2021-12-19T12:26:45.200Z"
   },
   {
    "duration": 9,
    "start_time": "2021-12-19T12:26:45.419Z"
   },
   {
    "duration": 270,
    "start_time": "2021-12-19T12:26:45.430Z"
   },
   {
    "duration": 22,
    "start_time": "2021-12-19T12:26:45.702Z"
   },
   {
    "duration": 40,
    "start_time": "2021-12-19T12:26:45.727Z"
   },
   {
    "duration": 9,
    "start_time": "2021-12-19T12:26:45.770Z"
   },
   {
    "duration": 86,
    "start_time": "2021-12-19T12:26:45.781Z"
   },
   {
    "duration": 23,
    "start_time": "2021-12-19T12:26:45.872Z"
   },
   {
    "duration": 25,
    "start_time": "2021-12-19T12:26:45.899Z"
   },
   {
    "duration": 5,
    "start_time": "2021-12-19T12:26:45.926Z"
   },
   {
    "duration": 60,
    "start_time": "2021-12-19T12:26:45.934Z"
   },
   {
    "duration": 106,
    "start_time": "2021-12-19T12:26:45.997Z"
   },
   {
    "duration": 33,
    "start_time": "2021-12-19T12:26:46.106Z"
   },
   {
    "duration": 33,
    "start_time": "2021-12-19T12:26:46.142Z"
   },
   {
    "duration": 8,
    "start_time": "2021-12-19T12:26:46.178Z"
   },
   {
    "duration": 117,
    "start_time": "2021-12-19T12:26:46.188Z"
   },
   {
    "duration": 12,
    "start_time": "2021-12-19T12:26:46.307Z"
   },
   {
    "duration": 1557,
    "start_time": "2021-12-19T12:26:46.321Z"
   },
   {
    "duration": -944,
    "start_time": "2021-12-19T12:26:48.826Z"
   },
   {
    "duration": -947,
    "start_time": "2021-12-19T12:26:48.831Z"
   },
   {
    "duration": -950,
    "start_time": "2021-12-19T12:26:48.836Z"
   },
   {
    "duration": -954,
    "start_time": "2021-12-19T12:26:48.841Z"
   },
   {
    "duration": -956,
    "start_time": "2021-12-19T12:26:48.845Z"
   },
   {
    "duration": -959,
    "start_time": "2021-12-19T12:26:48.850Z"
   },
   {
    "duration": -961,
    "start_time": "2021-12-19T12:26:48.854Z"
   },
   {
    "duration": -965,
    "start_time": "2021-12-19T12:26:48.859Z"
   },
   {
    "duration": -975,
    "start_time": "2021-12-19T12:26:48.871Z"
   },
   {
    "duration": -981,
    "start_time": "2021-12-19T12:26:48.878Z"
   },
   {
    "duration": -984,
    "start_time": "2021-12-19T12:26:48.882Z"
   },
   {
    "duration": -988,
    "start_time": "2021-12-19T12:26:48.888Z"
   },
   {
    "duration": -994,
    "start_time": "2021-12-19T12:26:48.895Z"
   },
   {
    "duration": -1008,
    "start_time": "2021-12-19T12:26:48.911Z"
   },
   {
    "duration": -1012,
    "start_time": "2021-12-19T12:26:48.916Z"
   },
   {
    "duration": -1016,
    "start_time": "2021-12-19T12:26:48.922Z"
   },
   {
    "duration": -1020,
    "start_time": "2021-12-19T12:26:48.927Z"
   },
   {
    "duration": -1023,
    "start_time": "2021-12-19T12:26:48.932Z"
   },
   {
    "duration": -1026,
    "start_time": "2021-12-19T12:26:48.936Z"
   },
   {
    "duration": -1029,
    "start_time": "2021-12-19T12:26:48.941Z"
   },
   {
    "duration": -1032,
    "start_time": "2021-12-19T12:26:48.945Z"
   },
   {
    "duration": -1036,
    "start_time": "2021-12-19T12:26:48.950Z"
   },
   {
    "duration": 38,
    "start_time": "2021-12-19T12:28:11.561Z"
   },
   {
    "duration": 1671,
    "start_time": "2021-12-19T12:28:39.413Z"
   },
   {
    "duration": 111,
    "start_time": "2021-12-19T12:28:41.088Z"
   },
   {
    "duration": 24,
    "start_time": "2021-12-19T12:28:41.204Z"
   },
   {
    "duration": 18,
    "start_time": "2021-12-19T12:28:41.231Z"
   },
   {
    "duration": 24,
    "start_time": "2021-12-19T12:28:41.251Z"
   },
   {
    "duration": 13,
    "start_time": "2021-12-19T12:28:41.280Z"
   },
   {
    "duration": 29,
    "start_time": "2021-12-19T12:28:41.297Z"
   },
   {
    "duration": 39,
    "start_time": "2021-12-19T12:28:41.330Z"
   },
   {
    "duration": 23,
    "start_time": "2021-12-19T12:28:41.373Z"
   },
   {
    "duration": 30,
    "start_time": "2021-12-19T12:28:41.399Z"
   },
   {
    "duration": 65,
    "start_time": "2021-12-19T12:28:41.432Z"
   },
   {
    "duration": 91,
    "start_time": "2021-12-19T12:28:41.499Z"
   },
   {
    "duration": 1613,
    "start_time": "2021-12-19T12:28:41.593Z"
   },
   {
    "duration": 307,
    "start_time": "2021-12-19T12:28:43.209Z"
   },
   {
    "duration": 68,
    "start_time": "2021-12-19T12:28:43.519Z"
   },
   {
    "duration": 12,
    "start_time": "2021-12-19T12:28:43.590Z"
   },
   {
    "duration": 9,
    "start_time": "2021-12-19T12:28:43.605Z"
   },
   {
    "duration": 66,
    "start_time": "2021-12-19T12:28:43.618Z"
   },
   {
    "duration": 25,
    "start_time": "2021-12-19T12:28:43.686Z"
   },
   {
    "duration": 14,
    "start_time": "2021-12-19T12:28:43.713Z"
   },
   {
    "duration": 87,
    "start_time": "2021-12-19T12:28:43.730Z"
   },
   {
    "duration": 18,
    "start_time": "2021-12-19T12:28:43.819Z"
   },
   {
    "duration": 902,
    "start_time": "2021-12-19T12:28:43.843Z"
   },
   {
    "duration": 34,
    "start_time": "2021-12-19T12:28:44.749Z"
   },
   {
    "duration": 8,
    "start_time": "2021-12-19T12:28:44.786Z"
   },
   {
    "duration": 31,
    "start_time": "2021-12-19T12:28:44.797Z"
   },
   {
    "duration": 12,
    "start_time": "2021-12-19T12:28:44.831Z"
   },
   {
    "duration": 42,
    "start_time": "2021-12-19T12:28:44.866Z"
   },
   {
    "duration": 24,
    "start_time": "2021-12-19T12:28:44.912Z"
   },
   {
    "duration": 87,
    "start_time": "2021-12-19T12:28:44.939Z"
   },
   {
    "duration": 738,
    "start_time": "2021-12-19T12:28:45.029Z"
   },
   {
    "duration": 190,
    "start_time": "2021-12-19T12:28:45.769Z"
   },
   {
    "duration": 1268,
    "start_time": "2021-12-19T12:28:45.967Z"
   },
   {
    "duration": 58,
    "start_time": "2021-12-19T12:28:47.238Z"
   },
   {
    "duration": 8,
    "start_time": "2021-12-19T12:28:47.299Z"
   },
   {
    "duration": 8,
    "start_time": "2021-12-19T12:28:47.309Z"
   },
   {
    "duration": 10,
    "start_time": "2021-12-19T12:28:47.320Z"
   },
   {
    "duration": 30,
    "start_time": "2021-12-19T12:28:47.367Z"
   },
   {
    "duration": 11,
    "start_time": "2021-12-19T12:28:47.399Z"
   },
   {
    "duration": 14,
    "start_time": "2021-12-19T12:28:47.413Z"
   },
   {
    "duration": 42,
    "start_time": "2021-12-19T12:28:47.430Z"
   },
   {
    "duration": 99,
    "start_time": "2021-12-19T12:28:47.475Z"
   },
   {
    "duration": 26,
    "start_time": "2021-12-19T12:28:47.577Z"
   },
   {
    "duration": 28,
    "start_time": "2021-12-19T12:28:47.605Z"
   },
   {
    "duration": 7,
    "start_time": "2021-12-19T12:28:47.673Z"
   },
   {
    "duration": 36,
    "start_time": "2021-12-19T12:28:47.684Z"
   },
   {
    "duration": 222,
    "start_time": "2021-12-19T12:28:47.722Z"
   },
   {
    "duration": 10,
    "start_time": "2021-12-19T12:28:47.948Z"
   },
   {
    "duration": 254,
    "start_time": "2021-12-19T12:28:47.968Z"
   },
   {
    "duration": 24,
    "start_time": "2021-12-19T12:28:48.225Z"
   },
   {
    "duration": 40,
    "start_time": "2021-12-19T12:28:48.252Z"
   },
   {
    "duration": 7,
    "start_time": "2021-12-19T12:28:48.295Z"
   },
   {
    "duration": 93,
    "start_time": "2021-12-19T12:28:48.304Z"
   },
   {
    "duration": 19,
    "start_time": "2021-12-19T12:28:48.399Z"
   },
   {
    "duration": 52,
    "start_time": "2021-12-19T12:28:48.421Z"
   },
   {
    "duration": 12,
    "start_time": "2021-12-19T12:28:48.478Z"
   },
   {
    "duration": 31,
    "start_time": "2021-12-19T12:28:48.493Z"
   },
   {
    "duration": 108,
    "start_time": "2021-12-19T12:28:48.527Z"
   },
   {
    "duration": 38,
    "start_time": "2021-12-19T12:28:48.638Z"
   },
   {
    "duration": 22,
    "start_time": "2021-12-19T12:28:48.679Z"
   },
   {
    "duration": 19,
    "start_time": "2021-12-19T12:28:48.704Z"
   },
   {
    "duration": 128,
    "start_time": "2021-12-19T12:28:48.726Z"
   },
   {
    "duration": 26,
    "start_time": "2021-12-19T12:28:48.857Z"
   },
   {
    "duration": 1776,
    "start_time": "2021-12-19T12:28:48.887Z"
   },
   {
    "duration": -935,
    "start_time": "2021-12-19T12:28:51.602Z"
   },
   {
    "duration": -936,
    "start_time": "2021-12-19T12:28:51.606Z"
   },
   {
    "duration": -939,
    "start_time": "2021-12-19T12:28:51.610Z"
   },
   {
    "duration": -942,
    "start_time": "2021-12-19T12:28:51.614Z"
   },
   {
    "duration": -945,
    "start_time": "2021-12-19T12:28:51.619Z"
   },
   {
    "duration": -948,
    "start_time": "2021-12-19T12:28:51.623Z"
   },
   {
    "duration": -951,
    "start_time": "2021-12-19T12:28:51.627Z"
   },
   {
    "duration": -954,
    "start_time": "2021-12-19T12:28:51.631Z"
   },
   {
    "duration": -958,
    "start_time": "2021-12-19T12:28:51.636Z"
   },
   {
    "duration": -970,
    "start_time": "2021-12-19T12:28:51.649Z"
   },
   {
    "duration": -974,
    "start_time": "2021-12-19T12:28:51.654Z"
   },
   {
    "duration": -977,
    "start_time": "2021-12-19T12:28:51.658Z"
   },
   {
    "duration": -978,
    "start_time": "2021-12-19T12:28:51.663Z"
   },
   {
    "duration": -980,
    "start_time": "2021-12-19T12:28:51.667Z"
   },
   {
    "duration": -984,
    "start_time": "2021-12-19T12:28:51.672Z"
   },
   {
    "duration": -987,
    "start_time": "2021-12-19T12:28:51.677Z"
   },
   {
    "duration": -990,
    "start_time": "2021-12-19T12:28:51.681Z"
   },
   {
    "duration": -992,
    "start_time": "2021-12-19T12:28:51.685Z"
   },
   {
    "duration": -995,
    "start_time": "2021-12-19T12:28:51.690Z"
   },
   {
    "duration": -1000,
    "start_time": "2021-12-19T12:28:51.696Z"
   },
   {
    "duration": -1006,
    "start_time": "2021-12-19T12:28:51.703Z"
   },
   {
    "duration": -1004,
    "start_time": "2021-12-19T12:28:51.707Z"
   },
   {
    "duration": 6,
    "start_time": "2021-12-19T12:29:50.435Z"
   },
   {
    "duration": 94,
    "start_time": "2021-12-19T12:30:19.765Z"
   },
   {
    "duration": 229,
    "start_time": "2021-12-19T12:33:37.251Z"
   },
   {
    "duration": 11,
    "start_time": "2021-12-19T12:33:41.213Z"
   },
   {
    "duration": 33,
    "start_time": "2021-12-19T12:33:43.443Z"
   },
   {
    "duration": 1534,
    "start_time": "2021-12-19T12:36:16.348Z"
   },
   {
    "duration": 107,
    "start_time": "2021-12-19T12:36:17.885Z"
   },
   {
    "duration": 24,
    "start_time": "2021-12-19T12:36:17.996Z"
   },
   {
    "duration": 17,
    "start_time": "2021-12-19T12:36:18.023Z"
   },
   {
    "duration": 8,
    "start_time": "2021-12-19T12:36:18.043Z"
   },
   {
    "duration": 7,
    "start_time": "2021-12-19T12:36:18.066Z"
   },
   {
    "duration": 28,
    "start_time": "2021-12-19T12:36:18.076Z"
   },
   {
    "duration": 8,
    "start_time": "2021-12-19T12:36:18.108Z"
   },
   {
    "duration": 58,
    "start_time": "2021-12-19T12:36:18.120Z"
   },
   {
    "duration": 32,
    "start_time": "2021-12-19T12:36:18.181Z"
   },
   {
    "duration": 67,
    "start_time": "2021-12-19T12:36:18.216Z"
   },
   {
    "duration": 80,
    "start_time": "2021-12-19T12:36:18.286Z"
   },
   {
    "duration": 1035,
    "start_time": "2021-12-19T12:36:18.369Z"
   },
   {
    "duration": 100,
    "start_time": "2021-12-19T12:36:19.407Z"
   },
   {
    "duration": 26,
    "start_time": "2021-12-19T12:36:19.510Z"
   },
   {
    "duration": 34,
    "start_time": "2021-12-19T12:36:19.538Z"
   },
   {
    "duration": 8,
    "start_time": "2021-12-19T12:36:19.574Z"
   },
   {
    "duration": 23,
    "start_time": "2021-12-19T12:36:19.585Z"
   },
   {
    "duration": 56,
    "start_time": "2021-12-19T12:36:19.611Z"
   },
   {
    "duration": 11,
    "start_time": "2021-12-19T12:36:19.669Z"
   },
   {
    "duration": 50,
    "start_time": "2021-12-19T12:36:19.683Z"
   },
   {
    "duration": 40,
    "start_time": "2021-12-19T12:36:19.735Z"
   },
   {
    "duration": 716,
    "start_time": "2021-12-19T12:36:19.782Z"
   },
   {
    "duration": 25,
    "start_time": "2021-12-19T12:36:20.502Z"
   },
   {
    "duration": 7,
    "start_time": "2021-12-19T12:36:20.530Z"
   },
   {
    "duration": 41,
    "start_time": "2021-12-19T12:36:20.540Z"
   },
   {
    "duration": 9,
    "start_time": "2021-12-19T12:36:20.584Z"
   },
   {
    "duration": 37,
    "start_time": "2021-12-19T12:36:20.595Z"
   },
   {
    "duration": 51,
    "start_time": "2021-12-19T12:36:20.634Z"
   },
   {
    "duration": 57,
    "start_time": "2021-12-19T12:36:20.688Z"
   },
   {
    "duration": 782,
    "start_time": "2021-12-19T12:36:20.748Z"
   },
   {
    "duration": 119,
    "start_time": "2021-12-19T12:36:21.533Z"
   },
   {
    "duration": 824,
    "start_time": "2021-12-19T12:36:21.656Z"
   },
   {
    "duration": 39,
    "start_time": "2021-12-19T12:36:22.482Z"
   },
   {
    "duration": 7,
    "start_time": "2021-12-19T12:36:22.524Z"
   },
   {
    "duration": 34,
    "start_time": "2021-12-19T12:36:22.533Z"
   },
   {
    "duration": 6,
    "start_time": "2021-12-19T12:36:22.569Z"
   },
   {
    "duration": 23,
    "start_time": "2021-12-19T12:36:22.577Z"
   },
   {
    "duration": 8,
    "start_time": "2021-12-19T12:36:22.603Z"
   },
   {
    "duration": 12,
    "start_time": "2021-12-19T12:36:22.614Z"
   },
   {
    "duration": 9,
    "start_time": "2021-12-19T12:36:22.668Z"
   },
   {
    "duration": 88,
    "start_time": "2021-12-19T12:36:22.680Z"
   },
   {
    "duration": 29,
    "start_time": "2021-12-19T12:36:22.770Z"
   },
   {
    "duration": 8,
    "start_time": "2021-12-19T12:36:22.802Z"
   },
   {
    "duration": 212,
    "start_time": "2021-12-19T12:36:22.812Z"
   },
   {
    "duration": 9,
    "start_time": "2021-12-19T12:36:23.027Z"
   },
   {
    "duration": 258,
    "start_time": "2021-12-19T12:36:23.038Z"
   },
   {
    "duration": 23,
    "start_time": "2021-12-19T12:36:23.298Z"
   },
   {
    "duration": 19,
    "start_time": "2021-12-19T12:36:23.324Z"
   },
   {
    "duration": 23,
    "start_time": "2021-12-19T12:36:23.345Z"
   },
   {
    "duration": 91,
    "start_time": "2021-12-19T12:36:23.370Z"
   },
   {
    "duration": 19,
    "start_time": "2021-12-19T12:36:23.464Z"
   },
   {
    "duration": 26,
    "start_time": "2021-12-19T12:36:23.485Z"
   },
   {
    "duration": 5,
    "start_time": "2021-12-19T12:36:23.514Z"
   },
   {
    "duration": 62,
    "start_time": "2021-12-19T12:36:23.521Z"
   },
   {
    "duration": 99,
    "start_time": "2021-12-19T12:36:23.585Z"
   },
   {
    "duration": 29,
    "start_time": "2021-12-19T12:36:23.687Z"
   },
   {
    "duration": 48,
    "start_time": "2021-12-19T12:36:23.719Z"
   },
   {
    "duration": 8,
    "start_time": "2021-12-19T12:36:23.769Z"
   },
   {
    "duration": 121,
    "start_time": "2021-12-19T12:36:23.780Z"
   },
   {
    "duration": 13,
    "start_time": "2021-12-19T12:36:23.903Z"
   },
   {
    "duration": 1575,
    "start_time": "2021-12-19T12:36:23.918Z"
   },
   {
    "duration": -973,
    "start_time": "2021-12-19T12:36:26.469Z"
   },
   {
    "duration": -975,
    "start_time": "2021-12-19T12:36:26.473Z"
   },
   {
    "duration": -978,
    "start_time": "2021-12-19T12:36:26.477Z"
   },
   {
    "duration": -982,
    "start_time": "2021-12-19T12:36:26.483Z"
   },
   {
    "duration": -985,
    "start_time": "2021-12-19T12:36:26.487Z"
   },
   {
    "duration": -991,
    "start_time": "2021-12-19T12:36:26.495Z"
   },
   {
    "duration": -994,
    "start_time": "2021-12-19T12:36:26.499Z"
   },
   {
    "duration": -998,
    "start_time": "2021-12-19T12:36:26.504Z"
   },
   {
    "duration": -1001,
    "start_time": "2021-12-19T12:36:26.509Z"
   },
   {
    "duration": -1005,
    "start_time": "2021-12-19T12:36:26.514Z"
   },
   {
    "duration": -1008,
    "start_time": "2021-12-19T12:36:26.518Z"
   },
   {
    "duration": -1011,
    "start_time": "2021-12-19T12:36:26.523Z"
   },
   {
    "duration": -1015,
    "start_time": "2021-12-19T12:36:26.528Z"
   },
   {
    "duration": -1019,
    "start_time": "2021-12-19T12:36:26.533Z"
   },
   {
    "duration": -1022,
    "start_time": "2021-12-19T12:36:26.538Z"
   },
   {
    "duration": -1035,
    "start_time": "2021-12-19T12:36:26.552Z"
   },
   {
    "duration": -1038,
    "start_time": "2021-12-19T12:36:26.557Z"
   },
   {
    "duration": -1042,
    "start_time": "2021-12-19T12:36:26.562Z"
   },
   {
    "duration": -1043,
    "start_time": "2021-12-19T12:36:26.566Z"
   },
   {
    "duration": -1047,
    "start_time": "2021-12-19T12:36:26.571Z"
   },
   {
    "duration": -1049,
    "start_time": "2021-12-19T12:36:26.575Z"
   },
   {
    "duration": -1053,
    "start_time": "2021-12-19T12:36:26.580Z"
   },
   {
    "duration": 105,
    "start_time": "2021-12-19T12:39:12.577Z"
   },
   {
    "duration": 16,
    "start_time": "2021-12-19T12:39:22.776Z"
   },
   {
    "duration": 1776,
    "start_time": "2021-12-19T12:39:40.277Z"
   },
   {
    "duration": 115,
    "start_time": "2021-12-19T12:39:42.056Z"
   },
   {
    "duration": 22,
    "start_time": "2021-12-19T12:39:42.174Z"
   },
   {
    "duration": 20,
    "start_time": "2021-12-19T12:39:42.199Z"
   },
   {
    "duration": 8,
    "start_time": "2021-12-19T12:39:42.221Z"
   },
   {
    "duration": 40,
    "start_time": "2021-12-19T12:39:42.232Z"
   },
   {
    "duration": 27,
    "start_time": "2021-12-19T12:39:42.274Z"
   },
   {
    "duration": 8,
    "start_time": "2021-12-19T12:39:42.306Z"
   },
   {
    "duration": 55,
    "start_time": "2021-12-19T12:39:42.318Z"
   },
   {
    "duration": 30,
    "start_time": "2021-12-19T12:39:42.376Z"
   },
   {
    "duration": 30,
    "start_time": "2021-12-19T12:39:42.409Z"
   },
   {
    "duration": 62,
    "start_time": "2021-12-19T12:39:42.466Z"
   },
   {
    "duration": 1251,
    "start_time": "2021-12-19T12:39:42.531Z"
   },
   {
    "duration": 108,
    "start_time": "2021-12-19T12:39:43.784Z"
   },
   {
    "duration": 23,
    "start_time": "2021-12-19T12:39:43.895Z"
   },
   {
    "duration": 9,
    "start_time": "2021-12-19T12:39:43.922Z"
   },
   {
    "duration": 35,
    "start_time": "2021-12-19T12:39:43.934Z"
   },
   {
    "duration": 25,
    "start_time": "2021-12-19T12:39:43.973Z"
   },
   {
    "duration": 23,
    "start_time": "2021-12-19T12:39:44.001Z"
   },
   {
    "duration": 49,
    "start_time": "2021-12-19T12:39:44.027Z"
   },
   {
    "duration": 53,
    "start_time": "2021-12-19T12:39:44.079Z"
   },
   {
    "duration": 41,
    "start_time": "2021-12-19T12:39:44.134Z"
   },
   {
    "duration": 695,
    "start_time": "2021-12-19T12:39:44.182Z"
   },
   {
    "duration": 24,
    "start_time": "2021-12-19T12:39:44.880Z"
   },
   {
    "duration": 7,
    "start_time": "2021-12-19T12:39:44.907Z"
   },
   {
    "duration": 50,
    "start_time": "2021-12-19T12:39:44.917Z"
   },
   {
    "duration": 10,
    "start_time": "2021-12-19T12:39:44.970Z"
   },
   {
    "duration": 36,
    "start_time": "2021-12-19T12:39:44.982Z"
   },
   {
    "duration": 57,
    "start_time": "2021-12-19T12:39:45.021Z"
   },
   {
    "duration": 49,
    "start_time": "2021-12-19T12:39:45.080Z"
   },
   {
    "duration": 792,
    "start_time": "2021-12-19T12:39:45.132Z"
   },
   {
    "duration": 118,
    "start_time": "2021-12-19T12:39:45.926Z"
   },
   {
    "duration": 920,
    "start_time": "2021-12-19T12:39:46.047Z"
   },
   {
    "duration": 45,
    "start_time": "2021-12-19T12:39:46.970Z"
   },
   {
    "duration": 8,
    "start_time": "2021-12-19T12:39:47.018Z"
   },
   {
    "duration": 5,
    "start_time": "2021-12-19T12:39:47.028Z"
   },
   {
    "duration": 5,
    "start_time": "2021-12-19T12:39:47.067Z"
   },
   {
    "duration": 26,
    "start_time": "2021-12-19T12:39:47.075Z"
   },
   {
    "duration": 9,
    "start_time": "2021-12-19T12:39:47.103Z"
   },
   {
    "duration": 14,
    "start_time": "2021-12-19T12:39:47.115Z"
   },
   {
    "duration": 42,
    "start_time": "2021-12-19T12:39:47.132Z"
   },
   {
    "duration": 72,
    "start_time": "2021-12-19T12:39:47.176Z"
   },
   {
    "duration": 36,
    "start_time": "2021-12-19T12:39:47.251Z"
   },
   {
    "duration": 5,
    "start_time": "2021-12-19T12:39:47.289Z"
   },
   {
    "duration": 216,
    "start_time": "2021-12-19T12:39:47.297Z"
   },
   {
    "duration": 9,
    "start_time": "2021-12-19T12:39:47.516Z"
   },
   {
    "duration": 259,
    "start_time": "2021-12-19T12:39:47.527Z"
   },
   {
    "duration": 22,
    "start_time": "2021-12-19T12:39:47.789Z"
   },
   {
    "duration": 5,
    "start_time": "2021-12-19T12:39:47.814Z"
   },
   {
    "duration": 19,
    "start_time": "2021-12-19T12:39:47.821Z"
   },
   {
    "duration": 27,
    "start_time": "2021-12-19T12:39:47.842Z"
   },
   {
    "duration": 9631,
    "start_time": "2021-12-19T12:39:47.871Z"
   },
   {
    "duration": -930,
    "start_time": "2021-12-19T12:39:58.435Z"
   },
   {
    "duration": -932,
    "start_time": "2021-12-19T12:39:58.439Z"
   },
   {
    "duration": -935,
    "start_time": "2021-12-19T12:39:58.444Z"
   },
   {
    "duration": -940,
    "start_time": "2021-12-19T12:39:58.450Z"
   },
   {
    "duration": -943,
    "start_time": "2021-12-19T12:39:58.455Z"
   },
   {
    "duration": -946,
    "start_time": "2021-12-19T12:39:58.459Z"
   },
   {
    "duration": -949,
    "start_time": "2021-12-19T12:39:58.464Z"
   },
   {
    "duration": -952,
    "start_time": "2021-12-19T12:39:58.468Z"
   },
   {
    "duration": -956,
    "start_time": "2021-12-19T12:39:58.473Z"
   },
   {
    "duration": -979,
    "start_time": "2021-12-19T12:39:58.498Z"
   },
   {
    "duration": -985,
    "start_time": "2021-12-19T12:39:58.505Z"
   },
   {
    "duration": -988,
    "start_time": "2021-12-19T12:39:58.509Z"
   },
   {
    "duration": -991,
    "start_time": "2021-12-19T12:39:58.514Z"
   },
   {
    "duration": -995,
    "start_time": "2021-12-19T12:39:58.519Z"
   },
   {
    "duration": -999,
    "start_time": "2021-12-19T12:39:58.525Z"
   },
   {
    "duration": -1003,
    "start_time": "2021-12-19T12:39:58.530Z"
   },
   {
    "duration": -1016,
    "start_time": "2021-12-19T12:39:58.545Z"
   },
   {
    "duration": -1021,
    "start_time": "2021-12-19T12:39:58.551Z"
   },
   {
    "duration": -1025,
    "start_time": "2021-12-19T12:39:58.556Z"
   },
   {
    "duration": -1027,
    "start_time": "2021-12-19T12:39:58.560Z"
   },
   {
    "duration": -1031,
    "start_time": "2021-12-19T12:39:58.565Z"
   },
   {
    "duration": -1034,
    "start_time": "2021-12-19T12:39:58.569Z"
   },
   {
    "duration": -1039,
    "start_time": "2021-12-19T12:39:58.576Z"
   },
   {
    "duration": -1052,
    "start_time": "2021-12-19T12:39:58.590Z"
   },
   {
    "duration": -1057,
    "start_time": "2021-12-19T12:39:58.596Z"
   },
   {
    "duration": -1060,
    "start_time": "2021-12-19T12:39:58.601Z"
   },
   {
    "duration": -1071,
    "start_time": "2021-12-19T12:39:58.613Z"
   },
   {
    "duration": -1051,
    "start_time": "2021-12-19T12:39:58.618Z"
   },
   {
    "duration": -1059,
    "start_time": "2021-12-19T12:39:58.628Z"
   },
   {
    "duration": -1062,
    "start_time": "2021-12-19T12:39:58.633Z"
   },
   {
    "duration": -1070,
    "start_time": "2021-12-19T12:39:58.643Z"
   },
   {
    "duration": -1072,
    "start_time": "2021-12-19T12:39:58.647Z"
   },
   {
    "duration": -1081,
    "start_time": "2021-12-19T12:39:58.658Z"
   },
   {
    "duration": 350,
    "start_time": "2021-12-19T12:42:27.252Z"
   },
   {
    "duration": 19,
    "start_time": "2021-12-19T12:42:32.063Z"
   },
   {
    "duration": 7,
    "start_time": "2021-12-19T12:42:34.422Z"
   },
   {
    "duration": 78,
    "start_time": "2021-12-19T12:42:36.935Z"
   },
   {
    "duration": 21,
    "start_time": "2021-12-19T12:42:45.558Z"
   },
   {
    "duration": 27,
    "start_time": "2021-12-19T12:42:47.812Z"
   },
   {
    "duration": 32,
    "start_time": "2021-12-19T12:43:30.390Z"
   },
   {
    "duration": 19,
    "start_time": "2021-12-19T12:43:51.170Z"
   },
   {
    "duration": 1551,
    "start_time": "2021-12-19T12:44:04.232Z"
   },
   {
    "duration": 127,
    "start_time": "2021-12-19T12:44:05.786Z"
   },
   {
    "duration": 23,
    "start_time": "2021-12-19T12:44:05.920Z"
   },
   {
    "duration": 22,
    "start_time": "2021-12-19T12:44:05.945Z"
   },
   {
    "duration": 11,
    "start_time": "2021-12-19T12:44:05.970Z"
   },
   {
    "duration": 16,
    "start_time": "2021-12-19T12:44:05.984Z"
   },
   {
    "duration": 68,
    "start_time": "2021-12-19T12:44:06.006Z"
   },
   {
    "duration": 11,
    "start_time": "2021-12-19T12:44:06.078Z"
   },
   {
    "duration": 19,
    "start_time": "2021-12-19T12:44:06.091Z"
   },
   {
    "duration": 63,
    "start_time": "2021-12-19T12:44:06.113Z"
   },
   {
    "duration": 33,
    "start_time": "2021-12-19T12:44:06.179Z"
   },
   {
    "duration": 87,
    "start_time": "2021-12-19T12:44:06.215Z"
   },
   {
    "duration": 1074,
    "start_time": "2021-12-19T12:44:06.305Z"
   },
   {
    "duration": 109,
    "start_time": "2021-12-19T12:44:07.381Z"
   },
   {
    "duration": 24,
    "start_time": "2021-12-19T12:44:07.493Z"
   },
   {
    "duration": 8,
    "start_time": "2021-12-19T12:44:07.519Z"
   },
   {
    "duration": 8,
    "start_time": "2021-12-19T12:44:07.530Z"
   },
   {
    "duration": 51,
    "start_time": "2021-12-19T12:44:07.540Z"
   },
   {
    "duration": 22,
    "start_time": "2021-12-19T12:44:07.594Z"
   },
   {
    "duration": 48,
    "start_time": "2021-12-19T12:44:07.619Z"
   },
   {
    "duration": 50,
    "start_time": "2021-12-19T12:44:07.669Z"
   },
   {
    "duration": 16,
    "start_time": "2021-12-19T12:44:07.725Z"
   },
   {
    "duration": 702,
    "start_time": "2021-12-19T12:44:07.768Z"
   },
   {
    "duration": 24,
    "start_time": "2021-12-19T12:44:08.472Z"
   },
   {
    "duration": 8,
    "start_time": "2021-12-19T12:44:08.498Z"
   },
   {
    "duration": 72,
    "start_time": "2021-12-19T12:44:08.508Z"
   },
   {
    "duration": 9,
    "start_time": "2021-12-19T12:44:08.583Z"
   },
   {
    "duration": 83,
    "start_time": "2021-12-19T12:44:08.595Z"
   },
   {
    "duration": 24,
    "start_time": "2021-12-19T12:44:08.681Z"
   },
   {
    "duration": 99,
    "start_time": "2021-12-19T12:44:08.708Z"
   },
   {
    "duration": 917,
    "start_time": "2021-12-19T12:44:08.809Z"
   },
   {
    "duration": 119,
    "start_time": "2021-12-19T12:44:09.728Z"
   },
   {
    "duration": 793,
    "start_time": "2021-12-19T12:44:09.850Z"
   },
   {
    "duration": 54,
    "start_time": "2021-12-19T12:44:10.645Z"
   },
   {
    "duration": 8,
    "start_time": "2021-12-19T12:44:10.701Z"
   },
   {
    "duration": 4,
    "start_time": "2021-12-19T12:44:10.711Z"
   },
   {
    "duration": 7,
    "start_time": "2021-12-19T12:44:10.717Z"
   },
   {
    "duration": 53,
    "start_time": "2021-12-19T12:44:10.727Z"
   },
   {
    "duration": 9,
    "start_time": "2021-12-19T12:44:10.783Z"
   },
   {
    "duration": 11,
    "start_time": "2021-12-19T12:44:10.795Z"
   },
   {
    "duration": 9,
    "start_time": "2021-12-19T12:44:10.808Z"
   },
   {
    "duration": 108,
    "start_time": "2021-12-19T12:44:10.820Z"
   },
   {
    "duration": 24,
    "start_time": "2021-12-19T12:44:10.931Z"
   },
   {
    "duration": 5,
    "start_time": "2021-12-19T12:44:10.967Z"
   },
   {
    "duration": 209,
    "start_time": "2021-12-19T12:44:10.974Z"
   },
   {
    "duration": 10,
    "start_time": "2021-12-19T12:44:11.185Z"
   },
   {
    "duration": 246,
    "start_time": "2021-12-19T12:44:11.197Z"
   },
   {
    "duration": 24,
    "start_time": "2021-12-19T12:44:11.445Z"
   },
   {
    "duration": 7,
    "start_time": "2021-12-19T12:44:11.472Z"
   },
   {
    "duration": 20,
    "start_time": "2021-12-19T12:44:11.481Z"
   },
   {
    "duration": 6,
    "start_time": "2021-12-19T12:44:11.504Z"
   },
   {
    "duration": 98,
    "start_time": "2021-12-19T12:44:11.512Z"
   },
   {
    "duration": 30,
    "start_time": "2021-12-19T12:44:11.612Z"
   },
   {
    "duration": 39,
    "start_time": "2021-12-19T12:44:11.645Z"
   },
   {
    "duration": 24,
    "start_time": "2021-12-19T12:44:11.687Z"
   },
   {
    "duration": 5,
    "start_time": "2021-12-19T12:44:11.713Z"
   },
   {
    "duration": 132,
    "start_time": "2021-12-19T12:44:11.720Z"
   },
   {
    "duration": 16,
    "start_time": "2021-12-19T12:44:11.854Z"
   },
   {
    "duration": 30,
    "start_time": "2021-12-19T12:44:11.872Z"
   },
   {
    "duration": 22,
    "start_time": "2021-12-19T12:44:11.904Z"
   },
   {
    "duration": 7,
    "start_time": "2021-12-19T12:44:11.928Z"
   },
   {
    "duration": 130,
    "start_time": "2021-12-19T12:44:11.937Z"
   },
   {
    "duration": 13,
    "start_time": "2021-12-19T12:44:12.070Z"
   },
   {
    "duration": 1672,
    "start_time": "2021-12-19T12:44:12.085Z"
   },
   {
    "duration": -948,
    "start_time": "2021-12-19T12:44:14.710Z"
   },
   {
    "duration": -953,
    "start_time": "2021-12-19T12:44:14.716Z"
   },
   {
    "duration": -957,
    "start_time": "2021-12-19T12:44:14.722Z"
   },
   {
    "duration": -963,
    "start_time": "2021-12-19T12:44:14.729Z"
   },
   {
    "duration": -983,
    "start_time": "2021-12-19T12:44:14.751Z"
   },
   {
    "duration": -994,
    "start_time": "2021-12-19T12:44:14.763Z"
   },
   {
    "duration": -997,
    "start_time": "2021-12-19T12:44:14.768Z"
   },
   {
    "duration": -1009,
    "start_time": "2021-12-19T12:44:14.781Z"
   },
   {
    "duration": -1012,
    "start_time": "2021-12-19T12:44:14.786Z"
   },
   {
    "duration": -1022,
    "start_time": "2021-12-19T12:44:14.798Z"
   },
   {
    "duration": -1032,
    "start_time": "2021-12-19T12:44:14.809Z"
   },
   {
    "duration": -1035,
    "start_time": "2021-12-19T12:44:14.814Z"
   },
   {
    "duration": -1038,
    "start_time": "2021-12-19T12:44:14.818Z"
   },
   {
    "duration": -1048,
    "start_time": "2021-12-19T12:44:14.830Z"
   },
   {
    "duration": -1050,
    "start_time": "2021-12-19T12:44:14.834Z"
   },
   {
    "duration": -1054,
    "start_time": "2021-12-19T12:44:14.839Z"
   },
   {
    "duration": -1057,
    "start_time": "2021-12-19T12:44:14.843Z"
   },
   {
    "duration": -1060,
    "start_time": "2021-12-19T12:44:14.848Z"
   },
   {
    "duration": -1063,
    "start_time": "2021-12-19T12:44:14.852Z"
   },
   {
    "duration": -1067,
    "start_time": "2021-12-19T12:44:14.858Z"
   },
   {
    "duration": -1070,
    "start_time": "2021-12-19T12:44:14.862Z"
   },
   {
    "duration": -1073,
    "start_time": "2021-12-19T12:44:14.867Z"
   },
   {
    "duration": 25,
    "start_time": "2021-12-19T12:46:42.329Z"
   },
   {
    "duration": 32,
    "start_time": "2021-12-19T12:47:10.540Z"
   },
   {
    "duration": 55,
    "start_time": "2021-12-19T12:50:20.378Z"
   },
   {
    "duration": 31,
    "start_time": "2021-12-19T12:55:32.899Z"
   },
   {
    "duration": 48,
    "start_time": "2021-12-19T12:56:37.183Z"
   },
   {
    "duration": 6,
    "start_time": "2021-12-19T12:56:41.145Z"
   },
   {
    "duration": 8156,
    "start_time": "2021-12-19T12:56:43.018Z"
   },
   {
    "duration": 10,
    "start_time": "2021-12-19T12:56:55.322Z"
   },
   {
    "duration": 11178,
    "start_time": "2021-12-19T12:56:58.515Z"
   },
   {
    "duration": 26,
    "start_time": "2021-12-19T12:57:16.123Z"
   },
   {
    "duration": 1492,
    "start_time": "2021-12-19T12:57:41.104Z"
   },
   {
    "duration": 110,
    "start_time": "2021-12-19T12:57:42.599Z"
   },
   {
    "duration": 25,
    "start_time": "2021-12-19T12:57:42.712Z"
   },
   {
    "duration": 28,
    "start_time": "2021-12-19T12:57:42.740Z"
   },
   {
    "duration": 9,
    "start_time": "2021-12-19T12:57:42.771Z"
   },
   {
    "duration": 12,
    "start_time": "2021-12-19T12:57:42.783Z"
   },
   {
    "duration": 26,
    "start_time": "2021-12-19T12:57:42.799Z"
   },
   {
    "duration": 44,
    "start_time": "2021-12-19T12:57:42.829Z"
   },
   {
    "duration": 19,
    "start_time": "2021-12-19T12:57:42.877Z"
   },
   {
    "duration": 31,
    "start_time": "2021-12-19T12:57:42.898Z"
   },
   {
    "duration": 64,
    "start_time": "2021-12-19T12:57:42.931Z"
   },
   {
    "duration": 89,
    "start_time": "2021-12-19T12:57:42.997Z"
   },
   {
    "duration": 1200,
    "start_time": "2021-12-19T12:57:43.089Z"
   },
   {
    "duration": 107,
    "start_time": "2021-12-19T12:57:44.291Z"
   },
   {
    "duration": 24,
    "start_time": "2021-12-19T12:57:44.401Z"
   },
   {
    "duration": 9,
    "start_time": "2021-12-19T12:57:44.427Z"
   },
   {
    "duration": 33,
    "start_time": "2021-12-19T12:57:44.439Z"
   },
   {
    "duration": 24,
    "start_time": "2021-12-19T12:57:44.475Z"
   },
   {
    "duration": 20,
    "start_time": "2021-12-19T12:57:44.502Z"
   },
   {
    "duration": 51,
    "start_time": "2021-12-19T12:57:44.525Z"
   },
   {
    "duration": 51,
    "start_time": "2021-12-19T12:57:44.579Z"
   },
   {
    "duration": 36,
    "start_time": "2021-12-19T12:57:44.633Z"
   },
   {
    "duration": 717,
    "start_time": "2021-12-19T12:57:44.676Z"
   },
   {
    "duration": 24,
    "start_time": "2021-12-19T12:57:45.399Z"
   },
   {
    "duration": 9,
    "start_time": "2021-12-19T12:57:45.425Z"
   },
   {
    "duration": 47,
    "start_time": "2021-12-19T12:57:45.436Z"
   },
   {
    "duration": 11,
    "start_time": "2021-12-19T12:57:45.485Z"
   },
   {
    "duration": 35,
    "start_time": "2021-12-19T12:57:45.498Z"
   },
   {
    "duration": 55,
    "start_time": "2021-12-19T12:57:45.535Z"
   },
   {
    "duration": 76,
    "start_time": "2021-12-19T12:57:45.592Z"
   },
   {
    "duration": 664,
    "start_time": "2021-12-19T12:57:45.671Z"
   },
   {
    "duration": 114,
    "start_time": "2021-12-19T12:57:46.337Z"
   },
   {
    "duration": 791,
    "start_time": "2021-12-19T12:57:46.453Z"
   },
   {
    "duration": 52,
    "start_time": "2021-12-19T12:57:47.247Z"
   },
   {
    "duration": 8,
    "start_time": "2021-12-19T12:57:47.301Z"
   },
   {
    "duration": 5,
    "start_time": "2021-12-19T12:57:47.311Z"
   },
   {
    "duration": 9,
    "start_time": "2021-12-19T12:57:47.318Z"
   },
   {
    "duration": 55,
    "start_time": "2021-12-19T12:57:47.329Z"
   },
   {
    "duration": 9,
    "start_time": "2021-12-19T12:57:47.386Z"
   },
   {
    "duration": 12,
    "start_time": "2021-12-19T12:57:47.398Z"
   },
   {
    "duration": 10,
    "start_time": "2021-12-19T12:57:47.413Z"
   },
   {
    "duration": 74,
    "start_time": "2021-12-19T12:57:47.466Z"
   },
   {
    "duration": 41,
    "start_time": "2021-12-19T12:57:47.543Z"
   },
   {
    "duration": 33,
    "start_time": "2021-12-19T12:57:47.587Z"
   },
   {
    "duration": 75,
    "start_time": "2021-12-19T12:57:47.623Z"
   },
   {
    "duration": 5,
    "start_time": "2021-12-19T12:57:47.701Z"
   },
   {
    "duration": 6024,
    "start_time": "2021-12-19T12:57:47.709Z"
   },
   {
    "duration": 9,
    "start_time": "2021-12-19T12:57:53.736Z"
   },
   {
    "duration": 8345,
    "start_time": "2021-12-19T12:57:53.748Z"
   },
   {
    "duration": 29,
    "start_time": "2021-12-19T12:58:02.095Z"
   },
   {
    "duration": 13,
    "start_time": "2021-12-19T12:58:02.127Z"
   },
   {
    "duration": 86,
    "start_time": "2021-12-19T12:58:02.143Z"
   },
   {
    "duration": 8,
    "start_time": "2021-12-19T12:58:02.231Z"
   },
   {
    "duration": 94,
    "start_time": "2021-12-19T12:58:02.241Z"
   },
   {
    "duration": 54,
    "start_time": "2021-12-19T12:58:02.337Z"
   },
   {
    "duration": 38,
    "start_time": "2021-12-19T12:58:02.395Z"
   },
   {
    "duration": 53,
    "start_time": "2021-12-19T12:58:02.436Z"
   },
   {
    "duration": 21,
    "start_time": "2021-12-19T12:58:02.491Z"
   },
   {
    "duration": 49,
    "start_time": "2021-12-19T12:58:02.515Z"
   },
   {
    "duration": 17,
    "start_time": "2021-12-19T12:58:02.567Z"
   },
   {
    "duration": 32,
    "start_time": "2021-12-19T12:58:02.587Z"
   },
   {
    "duration": 26,
    "start_time": "2021-12-19T12:58:02.622Z"
   },
   {
    "duration": 7,
    "start_time": "2021-12-19T12:58:02.651Z"
   },
   {
    "duration": 116,
    "start_time": "2021-12-19T12:58:02.668Z"
   },
   {
    "duration": 12,
    "start_time": "2021-12-19T12:58:02.787Z"
   },
   {
    "duration": 1638,
    "start_time": "2021-12-19T12:58:02.802Z"
   },
   {
    "duration": -950,
    "start_time": "2021-12-19T12:58:05.393Z"
   },
   {
    "duration": -963,
    "start_time": "2021-12-19T12:58:05.408Z"
   },
   {
    "duration": -975,
    "start_time": "2021-12-19T12:58:05.422Z"
   },
   {
    "duration": -988,
    "start_time": "2021-12-19T12:58:05.436Z"
   },
   {
    "duration": -991,
    "start_time": "2021-12-19T12:58:05.441Z"
   },
   {
    "duration": -1003,
    "start_time": "2021-12-19T12:58:05.454Z"
   },
   {
    "duration": -1007,
    "start_time": "2021-12-19T12:58:05.460Z"
   },
   {
    "duration": -1011,
    "start_time": "2021-12-19T12:58:05.465Z"
   },
   {
    "duration": -1014,
    "start_time": "2021-12-19T12:58:05.469Z"
   },
   {
    "duration": -1017,
    "start_time": "2021-12-19T12:58:05.474Z"
   },
   {
    "duration": -1021,
    "start_time": "2021-12-19T12:58:05.480Z"
   },
   {
    "duration": -1024,
    "start_time": "2021-12-19T12:58:05.484Z"
   },
   {
    "duration": -1028,
    "start_time": "2021-12-19T12:58:05.489Z"
   },
   {
    "duration": -1032,
    "start_time": "2021-12-19T12:58:05.494Z"
   },
   {
    "duration": -1035,
    "start_time": "2021-12-19T12:58:05.499Z"
   },
   {
    "duration": -1038,
    "start_time": "2021-12-19T12:58:05.503Z"
   },
   {
    "duration": -1042,
    "start_time": "2021-12-19T12:58:05.508Z"
   },
   {
    "duration": -1044,
    "start_time": "2021-12-19T12:58:05.512Z"
   },
   {
    "duration": -1048,
    "start_time": "2021-12-19T12:58:05.517Z"
   },
   {
    "duration": -1052,
    "start_time": "2021-12-19T12:58:05.522Z"
   },
   {
    "duration": -1055,
    "start_time": "2021-12-19T12:58:05.527Z"
   },
   {
    "duration": -1058,
    "start_time": "2021-12-19T12:58:05.531Z"
   },
   {
    "duration": 1603,
    "start_time": "2021-12-19T12:59:12.159Z"
   },
   {
    "duration": 107,
    "start_time": "2021-12-19T12:59:13.764Z"
   },
   {
    "duration": 22,
    "start_time": "2021-12-19T12:59:13.874Z"
   },
   {
    "duration": 19,
    "start_time": "2021-12-19T12:59:13.900Z"
   },
   {
    "duration": 8,
    "start_time": "2021-12-19T12:59:13.921Z"
   },
   {
    "duration": 38,
    "start_time": "2021-12-19T12:59:13.932Z"
   },
   {
    "duration": 27,
    "start_time": "2021-12-19T12:59:13.973Z"
   },
   {
    "duration": 9,
    "start_time": "2021-12-19T12:59:14.003Z"
   },
   {
    "duration": 15,
    "start_time": "2021-12-19T12:59:14.016Z"
   },
   {
    "duration": 29,
    "start_time": "2021-12-19T12:59:14.068Z"
   },
   {
    "duration": 32,
    "start_time": "2021-12-19T12:59:14.100Z"
   },
   {
    "duration": 89,
    "start_time": "2021-12-19T12:59:14.134Z"
   },
   {
    "duration": 1097,
    "start_time": "2021-12-19T12:59:14.225Z"
   },
   {
    "duration": 102,
    "start_time": "2021-12-19T12:59:15.325Z"
   },
   {
    "duration": 41,
    "start_time": "2021-12-19T12:59:15.429Z"
   },
   {
    "duration": 8,
    "start_time": "2021-12-19T12:59:15.472Z"
   },
   {
    "duration": 10,
    "start_time": "2021-12-19T12:59:15.483Z"
   },
   {
    "duration": 75,
    "start_time": "2021-12-19T12:59:15.495Z"
   },
   {
    "duration": 20,
    "start_time": "2021-12-19T12:59:15.573Z"
   },
   {
    "duration": 13,
    "start_time": "2021-12-19T12:59:15.595Z"
   },
   {
    "duration": 156,
    "start_time": "2021-12-19T12:59:15.610Z"
   },
   {
    "duration": 17,
    "start_time": "2021-12-19T12:59:15.769Z"
   },
   {
    "duration": 992,
    "start_time": "2021-12-19T12:59:15.792Z"
   },
   {
    "duration": 23,
    "start_time": "2021-12-19T12:59:16.791Z"
   },
   {
    "duration": 8,
    "start_time": "2021-12-19T12:59:16.816Z"
   },
   {
    "duration": 53,
    "start_time": "2021-12-19T12:59:16.827Z"
   },
   {
    "duration": 10,
    "start_time": "2021-12-19T12:59:16.882Z"
   },
   {
    "duration": 35,
    "start_time": "2021-12-19T12:59:16.895Z"
   },
   {
    "duration": 49,
    "start_time": "2021-12-19T12:59:16.933Z"
   },
   {
    "duration": 49,
    "start_time": "2021-12-19T12:59:16.985Z"
   },
   {
    "duration": 678,
    "start_time": "2021-12-19T12:59:17.036Z"
   },
   {
    "duration": 114,
    "start_time": "2021-12-19T12:59:17.717Z"
   },
   {
    "duration": 818,
    "start_time": "2021-12-19T12:59:17.834Z"
   },
   {
    "duration": 50,
    "start_time": "2021-12-19T12:59:18.655Z"
   },
   {
    "duration": 10,
    "start_time": "2021-12-19T12:59:18.708Z"
   },
   {
    "duration": 6,
    "start_time": "2021-12-19T12:59:18.721Z"
   },
   {
    "duration": 41,
    "start_time": "2021-12-19T12:59:18.729Z"
   },
   {
    "duration": 27,
    "start_time": "2021-12-19T12:59:18.773Z"
   },
   {
    "duration": 11,
    "start_time": "2021-12-19T12:59:18.803Z"
   },
   {
    "duration": 54,
    "start_time": "2021-12-19T12:59:18.818Z"
   },
   {
    "duration": 12,
    "start_time": "2021-12-19T12:59:18.874Z"
   },
   {
    "duration": 103,
    "start_time": "2021-12-19T12:59:18.889Z"
   },
   {
    "duration": 33,
    "start_time": "2021-12-19T12:59:18.994Z"
   },
   {
    "duration": 58,
    "start_time": "2021-12-19T12:59:19.030Z"
   },
   {
    "duration": 46,
    "start_time": "2021-12-19T12:59:19.091Z"
   },
   {
    "duration": 5,
    "start_time": "2021-12-19T12:59:19.140Z"
   },
   {
    "duration": 5326,
    "start_time": "2021-12-19T12:59:19.168Z"
   },
   {
    "duration": 11,
    "start_time": "2021-12-19T12:59:24.496Z"
   },
   {
    "duration": 7718,
    "start_time": "2021-12-19T12:59:24.509Z"
   },
   {
    "duration": 39,
    "start_time": "2021-12-19T12:59:32.229Z"
   },
   {
    "duration": 10,
    "start_time": "2021-12-19T12:59:32.271Z"
   },
   {
    "duration": 90,
    "start_time": "2021-12-19T12:59:32.284Z"
   },
   {
    "duration": 6,
    "start_time": "2021-12-19T12:59:32.377Z"
   },
   {
    "duration": 88,
    "start_time": "2021-12-19T12:59:32.385Z"
   },
   {
    "duration": 40,
    "start_time": "2021-12-19T12:59:32.475Z"
   },
   {
    "duration": 49,
    "start_time": "2021-12-19T12:59:32.518Z"
   },
   {
    "duration": 24,
    "start_time": "2021-12-19T12:59:32.570Z"
   },
   {
    "duration": 6,
    "start_time": "2021-12-19T12:59:32.597Z"
   },
   {
    "duration": 26,
    "start_time": "2021-12-19T12:59:32.605Z"
   },
   {
    "duration": 43,
    "start_time": "2021-12-19T12:59:32.634Z"
   },
   {
    "duration": 34,
    "start_time": "2021-12-19T12:59:32.680Z"
   },
   {
    "duration": 20,
    "start_time": "2021-12-19T12:59:32.716Z"
   },
   {
    "duration": 6,
    "start_time": "2021-12-19T12:59:32.738Z"
   },
   {
    "duration": 125,
    "start_time": "2021-12-19T12:59:32.747Z"
   },
   {
    "duration": 13,
    "start_time": "2021-12-19T12:59:32.874Z"
   },
   {
    "duration": 1626,
    "start_time": "2021-12-19T12:59:32.890Z"
   },
   {
    "duration": -948,
    "start_time": "2021-12-19T12:59:35.468Z"
   },
   {
    "duration": -950,
    "start_time": "2021-12-19T12:59:35.473Z"
   },
   {
    "duration": -954,
    "start_time": "2021-12-19T12:59:35.478Z"
   },
   {
    "duration": -958,
    "start_time": "2021-12-19T12:59:35.484Z"
   },
   {
    "duration": -963,
    "start_time": "2021-12-19T12:59:35.490Z"
   },
   {
    "duration": -968,
    "start_time": "2021-12-19T12:59:35.496Z"
   },
   {
    "duration": -972,
    "start_time": "2021-12-19T12:59:35.502Z"
   },
   {
    "duration": -976,
    "start_time": "2021-12-19T12:59:35.507Z"
   },
   {
    "duration": -981,
    "start_time": "2021-12-19T12:59:35.513Z"
   },
   {
    "duration": -984,
    "start_time": "2021-12-19T12:59:35.518Z"
   },
   {
    "duration": -988,
    "start_time": "2021-12-19T12:59:35.523Z"
   },
   {
    "duration": -991,
    "start_time": "2021-12-19T12:59:35.528Z"
   },
   {
    "duration": -994,
    "start_time": "2021-12-19T12:59:35.532Z"
   },
   {
    "duration": -998,
    "start_time": "2021-12-19T12:59:35.537Z"
   },
   {
    "duration": -1012,
    "start_time": "2021-12-19T12:59:35.553Z"
   },
   {
    "duration": -1016,
    "start_time": "2021-12-19T12:59:35.558Z"
   },
   {
    "duration": -1023,
    "start_time": "2021-12-19T12:59:35.566Z"
   },
   {
    "duration": -1027,
    "start_time": "2021-12-19T12:59:35.572Z"
   },
   {
    "duration": -1032,
    "start_time": "2021-12-19T12:59:35.579Z"
   },
   {
    "duration": -1035,
    "start_time": "2021-12-19T12:59:35.584Z"
   },
   {
    "duration": -1040,
    "start_time": "2021-12-19T12:59:35.591Z"
   },
   {
    "duration": -1044,
    "start_time": "2021-12-19T12:59:35.597Z"
   },
   {
    "duration": 1568,
    "start_time": "2021-12-19T13:00:02.691Z"
   },
   {
    "duration": 105,
    "start_time": "2021-12-19T13:00:04.262Z"
   },
   {
    "duration": 22,
    "start_time": "2021-12-19T13:00:04.370Z"
   },
   {
    "duration": 21,
    "start_time": "2021-12-19T13:00:04.394Z"
   },
   {
    "duration": 9,
    "start_time": "2021-12-19T13:00:04.418Z"
   },
   {
    "duration": 41,
    "start_time": "2021-12-19T13:00:04.430Z"
   },
   {
    "duration": 28,
    "start_time": "2021-12-19T13:00:04.474Z"
   },
   {
    "duration": 8,
    "start_time": "2021-12-19T13:00:04.505Z"
   },
   {
    "duration": 54,
    "start_time": "2021-12-19T13:00:04.516Z"
   },
   {
    "duration": 36,
    "start_time": "2021-12-19T13:00:04.573Z"
   },
   {
    "duration": 57,
    "start_time": "2021-12-19T13:00:04.612Z"
   },
   {
    "duration": 64,
    "start_time": "2021-12-19T13:00:04.671Z"
   },
   {
    "duration": 1109,
    "start_time": "2021-12-19T13:00:04.737Z"
   },
   {
    "duration": 150,
    "start_time": "2021-12-19T13:00:05.849Z"
   },
   {
    "duration": 35,
    "start_time": "2021-12-19T13:00:06.002Z"
   },
   {
    "duration": 28,
    "start_time": "2021-12-19T13:00:06.040Z"
   },
   {
    "duration": 13,
    "start_time": "2021-12-19T13:00:06.071Z"
   },
   {
    "duration": 33,
    "start_time": "2021-12-19T13:00:06.087Z"
   },
   {
    "duration": 47,
    "start_time": "2021-12-19T13:00:06.122Z"
   },
   {
    "duration": 11,
    "start_time": "2021-12-19T13:00:06.171Z"
   },
   {
    "duration": 58,
    "start_time": "2021-12-19T13:00:06.184Z"
   },
   {
    "duration": 32,
    "start_time": "2021-12-19T13:00:06.244Z"
   },
   {
    "duration": 750,
    "start_time": "2021-12-19T13:00:06.283Z"
   },
   {
    "duration": 37,
    "start_time": "2021-12-19T13:00:07.037Z"
   },
   {
    "duration": 8,
    "start_time": "2021-12-19T13:00:07.077Z"
   },
   {
    "duration": 21,
    "start_time": "2021-12-19T13:00:07.088Z"
   },
   {
    "duration": 10,
    "start_time": "2021-12-19T13:00:07.111Z"
   },
   {
    "duration": 68,
    "start_time": "2021-12-19T13:00:07.124Z"
   },
   {
    "duration": 27,
    "start_time": "2021-12-19T13:00:07.196Z"
   },
   {
    "duration": 81,
    "start_time": "2021-12-19T13:00:07.225Z"
   },
   {
    "duration": 678,
    "start_time": "2021-12-19T13:00:07.309Z"
   },
   {
    "duration": 135,
    "start_time": "2021-12-19T13:00:07.990Z"
   },
   {
    "duration": 848,
    "start_time": "2021-12-19T13:00:08.128Z"
   },
   {
    "duration": 42,
    "start_time": "2021-12-19T13:00:08.979Z"
   },
   {
    "duration": 8,
    "start_time": "2021-12-19T13:00:09.024Z"
   },
   {
    "duration": 34,
    "start_time": "2021-12-19T13:00:09.035Z"
   },
   {
    "duration": 7,
    "start_time": "2021-12-19T13:00:09.072Z"
   },
   {
    "duration": 28,
    "start_time": "2021-12-19T13:00:09.082Z"
   },
   {
    "duration": 11,
    "start_time": "2021-12-19T13:00:09.113Z"
   },
   {
    "duration": 11,
    "start_time": "2021-12-19T13:00:09.169Z"
   },
   {
    "duration": 9,
    "start_time": "2021-12-19T13:00:09.183Z"
   },
   {
    "duration": 98,
    "start_time": "2021-12-19T13:00:09.194Z"
   },
   {
    "duration": 31,
    "start_time": "2021-12-19T13:00:09.295Z"
   },
   {
    "duration": 49,
    "start_time": "2021-12-19T13:00:09.328Z"
   },
   {
    "duration": 49,
    "start_time": "2021-12-19T13:00:09.379Z"
   },
   {
    "duration": 4,
    "start_time": "2021-12-19T13:00:09.431Z"
   },
   {
    "duration": 5405,
    "start_time": "2021-12-19T13:00:09.438Z"
   },
   {
    "duration": 10,
    "start_time": "2021-12-19T13:00:14.845Z"
   },
   {
    "duration": 8216,
    "start_time": "2021-12-19T13:00:14.858Z"
   },
   {
    "duration": 31,
    "start_time": "2021-12-19T13:00:23.077Z"
   },
   {
    "duration": 7,
    "start_time": "2021-12-19T13:00:23.110Z"
   },
   {
    "duration": 91,
    "start_time": "2021-12-19T13:00:23.120Z"
   },
   {
    "duration": 6,
    "start_time": "2021-12-19T13:00:23.214Z"
   },
   {
    "duration": 88,
    "start_time": "2021-12-19T13:00:23.223Z"
   },
   {
    "duration": 53,
    "start_time": "2021-12-19T13:00:23.314Z"
   },
   {
    "duration": 21,
    "start_time": "2021-12-19T13:00:23.370Z"
   },
   {
    "duration": 26,
    "start_time": "2021-12-19T13:00:23.394Z"
   },
   {
    "duration": 45,
    "start_time": "2021-12-19T13:00:23.422Z"
   },
   {
    "duration": 27,
    "start_time": "2021-12-19T13:00:23.470Z"
   },
   {
    "duration": 10,
    "start_time": "2021-12-19T13:00:23.501Z"
   },
   {
    "duration": 63,
    "start_time": "2021-12-19T13:00:23.514Z"
   },
   {
    "duration": 21,
    "start_time": "2021-12-19T13:00:23.580Z"
   },
   {
    "duration": 8,
    "start_time": "2021-12-19T13:00:23.605Z"
   },
   {
    "duration": 131,
    "start_time": "2021-12-19T13:00:23.616Z"
   },
   {
    "duration": 25,
    "start_time": "2021-12-19T13:00:23.750Z"
   },
   {
    "duration": 1808,
    "start_time": "2021-12-19T13:00:23.778Z"
   },
   {
    "duration": -942,
    "start_time": "2021-12-19T13:00:26.533Z"
   },
   {
    "duration": -946,
    "start_time": "2021-12-19T13:00:26.539Z"
   },
   {
    "duration": -949,
    "start_time": "2021-12-19T13:00:26.544Z"
   },
   {
    "duration": -955,
    "start_time": "2021-12-19T13:00:26.551Z"
   },
   {
    "duration": -959,
    "start_time": "2021-12-19T13:00:26.556Z"
   },
   {
    "duration": -963,
    "start_time": "2021-12-19T13:00:26.562Z"
   },
   {
    "duration": -965,
    "start_time": "2021-12-19T13:00:26.566Z"
   },
   {
    "duration": -971,
    "start_time": "2021-12-19T13:00:26.573Z"
   },
   {
    "duration": -975,
    "start_time": "2021-12-19T13:00:26.578Z"
   },
   {
    "duration": -979,
    "start_time": "2021-12-19T13:00:26.584Z"
   },
   {
    "duration": -983,
    "start_time": "2021-12-19T13:00:26.589Z"
   },
   {
    "duration": -997,
    "start_time": "2021-12-19T13:00:26.604Z"
   },
   {
    "duration": -1001,
    "start_time": "2021-12-19T13:00:26.610Z"
   },
   {
    "duration": -1005,
    "start_time": "2021-12-19T13:00:26.615Z"
   },
   {
    "duration": -1009,
    "start_time": "2021-12-19T13:00:26.620Z"
   },
   {
    "duration": -1013,
    "start_time": "2021-12-19T13:00:26.626Z"
   },
   {
    "duration": -1016,
    "start_time": "2021-12-19T13:00:26.630Z"
   },
   {
    "duration": -1020,
    "start_time": "2021-12-19T13:00:26.635Z"
   },
   {
    "duration": -1024,
    "start_time": "2021-12-19T13:00:26.640Z"
   },
   {
    "duration": -1028,
    "start_time": "2021-12-19T13:00:26.645Z"
   },
   {
    "duration": -1031,
    "start_time": "2021-12-19T13:00:26.650Z"
   },
   {
    "duration": -1035,
    "start_time": "2021-12-19T13:00:26.655Z"
   },
   {
    "duration": 38,
    "start_time": "2021-12-19T13:05:54.203Z"
   },
   {
    "duration": 151,
    "start_time": "2021-12-19T13:07:22.630Z"
   },
   {
    "duration": 1469,
    "start_time": "2021-12-19T13:07:25.941Z"
   },
   {
    "duration": 1421,
    "start_time": "2021-12-19T13:08:13.302Z"
   },
   {
    "duration": 1413,
    "start_time": "2021-12-19T13:08:39.062Z"
   },
   {
    "duration": 1455,
    "start_time": "2021-12-19T13:08:51.991Z"
   },
   {
    "duration": 14,
    "start_time": "2021-12-19T13:08:56.896Z"
   },
   {
    "duration": 1382,
    "start_time": "2021-12-19T13:09:11.713Z"
   },
   {
    "duration": 529,
    "start_time": "2021-12-19T13:09:35.357Z"
   },
   {
    "duration": 11,
    "start_time": "2021-12-19T13:10:00.979Z"
   },
   {
    "duration": 1746,
    "start_time": "2021-12-19T13:10:17.132Z"
   },
   {
    "duration": 96,
    "start_time": "2021-12-19T13:10:26.747Z"
   },
   {
    "duration": 439,
    "start_time": "2021-12-19T13:10:35.883Z"
   },
   {
    "duration": 105,
    "start_time": "2021-12-19T13:11:06.390Z"
   },
   {
    "duration": 341,
    "start_time": "2021-12-19T13:11:13.360Z"
   },
   {
    "duration": 7,
    "start_time": "2021-12-19T13:11:22.947Z"
   },
   {
    "duration": 106,
    "start_time": "2021-12-19T13:11:24.742Z"
   },
   {
    "duration": 6631,
    "start_time": "2021-12-19T13:11:26.720Z"
   },
   {
    "duration": 549,
    "start_time": "2021-12-19T13:11:53.386Z"
   },
   {
    "duration": 517,
    "start_time": "2021-12-19T13:12:07.952Z"
   },
   {
    "duration": 8,
    "start_time": "2021-12-19T13:12:30.588Z"
   },
   {
    "duration": 7,
    "start_time": "2021-12-19T13:13:03.378Z"
   },
   {
    "duration": 98,
    "start_time": "2021-12-19T13:13:05.800Z"
   },
   {
    "duration": 20,
    "start_time": "2021-12-19T13:13:07.787Z"
   },
   {
    "duration": 12,
    "start_time": "2021-12-19T13:13:09.343Z"
   },
   {
    "duration": 12,
    "start_time": "2021-12-19T13:13:11.969Z"
   },
   {
    "duration": 5,
    "start_time": "2021-12-19T13:13:12.862Z"
   },
   {
    "duration": 320,
    "start_time": "2021-12-19T13:13:16.144Z"
   },
   {
    "duration": 337,
    "start_time": "2021-12-19T13:13:26.317Z"
   },
   {
    "duration": 551,
    "start_time": "2021-12-19T13:13:32.937Z"
   },
   {
    "duration": 56,
    "start_time": "2021-12-19T13:13:51.820Z"
   },
   {
    "duration": 23,
    "start_time": "2021-12-19T13:13:53.008Z"
   },
   {
    "duration": 19,
    "start_time": "2021-12-19T13:13:54.131Z"
   },
   {
    "duration": 537,
    "start_time": "2021-12-19T13:13:55.089Z"
   },
   {
    "duration": 5,
    "start_time": "2021-12-19T13:14:03.960Z"
   },
   {
    "duration": 8,
    "start_time": "2021-12-19T15:13:19.936Z"
   },
   {
    "duration": 8,
    "start_time": "2021-12-19T15:13:24.868Z"
   },
   {
    "duration": 9,
    "start_time": "2021-12-19T15:13:42.550Z"
   },
   {
    "duration": 8,
    "start_time": "2021-12-19T15:13:51.770Z"
   },
   {
    "duration": 7,
    "start_time": "2021-12-19T15:13:57.054Z"
   },
   {
    "duration": 6,
    "start_time": "2021-12-19T15:14:07.647Z"
   },
   {
    "duration": 8,
    "start_time": "2021-12-19T15:16:14.593Z"
   },
   {
    "duration": 489,
    "start_time": "2021-12-19T15:18:12.195Z"
   },
   {
    "duration": 484,
    "start_time": "2021-12-19T15:18:49.010Z"
   },
   {
    "duration": 401,
    "start_time": "2021-12-19T15:22:44.632Z"
   },
   {
    "duration": 1522,
    "start_time": "2021-12-19T15:23:29.872Z"
   },
   {
    "duration": 573,
    "start_time": "2021-12-19T15:23:43.269Z"
   },
   {
    "duration": 814,
    "start_time": "2021-12-19T15:24:18.835Z"
   },
   {
    "duration": 1062,
    "start_time": "2021-12-19T15:24:30.215Z"
   },
   {
    "duration": 1627,
    "start_time": "2021-12-19T15:24:39.425Z"
   },
   {
    "duration": 109,
    "start_time": "2021-12-19T15:24:41.059Z"
   },
   {
    "duration": 24,
    "start_time": "2021-12-19T15:24:41.171Z"
   },
   {
    "duration": 22,
    "start_time": "2021-12-19T15:24:41.198Z"
   },
   {
    "duration": 9,
    "start_time": "2021-12-19T15:24:41.223Z"
   },
   {
    "duration": 8,
    "start_time": "2021-12-19T15:24:41.267Z"
   },
   {
    "duration": 30,
    "start_time": "2021-12-19T15:24:41.279Z"
   },
   {
    "duration": 8,
    "start_time": "2021-12-19T15:24:41.313Z"
   },
   {
    "duration": 19,
    "start_time": "2021-12-19T15:24:41.367Z"
   },
   {
    "duration": 38,
    "start_time": "2021-12-19T15:24:41.388Z"
   },
   {
    "duration": 68,
    "start_time": "2021-12-19T15:24:41.429Z"
   },
   {
    "duration": 87,
    "start_time": "2021-12-19T15:24:41.500Z"
   },
   {
    "duration": 1131,
    "start_time": "2021-12-19T15:24:41.589Z"
   },
   {
    "duration": 99,
    "start_time": "2021-12-19T15:24:42.722Z"
   },
   {
    "duration": 43,
    "start_time": "2021-12-19T15:24:42.824Z"
   },
   {
    "duration": 10,
    "start_time": "2021-12-19T15:24:42.870Z"
   },
   {
    "duration": 8,
    "start_time": "2021-12-19T15:24:42.882Z"
   },
   {
    "duration": 24,
    "start_time": "2021-12-19T15:24:42.892Z"
   },
   {
    "duration": 60,
    "start_time": "2021-12-19T15:24:42.919Z"
   },
   {
    "duration": 11,
    "start_time": "2021-12-19T15:24:42.982Z"
   },
   {
    "duration": 75,
    "start_time": "2021-12-19T15:24:42.995Z"
   },
   {
    "duration": 17,
    "start_time": "2021-12-19T15:24:43.076Z"
   },
   {
    "duration": 723,
    "start_time": "2021-12-19T15:24:43.097Z"
   },
   {
    "duration": 24,
    "start_time": "2021-12-19T15:24:43.822Z"
   },
   {
    "duration": 26,
    "start_time": "2021-12-19T15:24:43.849Z"
   },
   {
    "duration": 20,
    "start_time": "2021-12-19T15:24:43.877Z"
   },
   {
    "duration": 10,
    "start_time": "2021-12-19T15:24:43.900Z"
   },
   {
    "duration": 82,
    "start_time": "2021-12-19T15:24:43.912Z"
   },
   {
    "duration": 25,
    "start_time": "2021-12-19T15:24:43.997Z"
   },
   {
    "duration": 80,
    "start_time": "2021-12-19T15:24:44.025Z"
   },
   {
    "duration": 647,
    "start_time": "2021-12-19T15:24:44.108Z"
   },
   {
    "duration": 113,
    "start_time": "2021-12-19T15:24:44.758Z"
   },
   {
    "duration": 847,
    "start_time": "2021-12-19T15:24:44.873Z"
   },
   {
    "duration": 53,
    "start_time": "2021-12-19T15:24:45.723Z"
   },
   {
    "duration": 8,
    "start_time": "2021-12-19T15:24:45.778Z"
   },
   {
    "duration": 5,
    "start_time": "2021-12-19T15:24:45.788Z"
   },
   {
    "duration": 8,
    "start_time": "2021-12-19T15:24:45.795Z"
   },
   {
    "duration": 70,
    "start_time": "2021-12-19T15:24:45.806Z"
   },
   {
    "duration": 9,
    "start_time": "2021-12-19T15:24:45.879Z"
   },
   {
    "duration": 12,
    "start_time": "2021-12-19T15:24:45.892Z"
   },
   {
    "duration": 10,
    "start_time": "2021-12-19T15:24:45.906Z"
   },
   {
    "duration": 8,
    "start_time": "2021-12-19T15:24:45.918Z"
   },
   {
    "duration": 109,
    "start_time": "2021-12-19T15:24:45.928Z"
   },
   {
    "duration": 51,
    "start_time": "2021-12-19T15:24:46.039Z"
   },
   {
    "duration": 32,
    "start_time": "2021-12-19T15:24:46.093Z"
   },
   {
    "duration": 78,
    "start_time": "2021-12-19T15:24:46.128Z"
   },
   {
    "duration": 5,
    "start_time": "2021-12-19T15:24:46.209Z"
   },
   {
    "duration": 5623,
    "start_time": "2021-12-19T15:24:46.216Z"
   },
   {
    "duration": 10,
    "start_time": "2021-12-19T15:24:51.842Z"
   },
   {
    "duration": 7960,
    "start_time": "2021-12-19T15:24:51.855Z"
   },
   {
    "duration": 27,
    "start_time": "2021-12-19T15:24:59.818Z"
   },
   {
    "duration": 4,
    "start_time": "2021-12-19T15:24:59.867Z"
   },
   {
    "duration": 94,
    "start_time": "2021-12-19T15:24:59.873Z"
   },
   {
    "duration": 8,
    "start_time": "2021-12-19T15:24:59.969Z"
   },
   {
    "duration": 90,
    "start_time": "2021-12-19T15:24:59.979Z"
   },
   {
    "duration": 34,
    "start_time": "2021-12-19T15:25:00.071Z"
   },
   {
    "duration": 20,
    "start_time": "2021-12-19T15:25:00.107Z"
   },
   {
    "duration": 56,
    "start_time": "2021-12-19T15:25:00.130Z"
   },
   {
    "duration": 14,
    "start_time": "2021-12-19T15:25:00.189Z"
   },
   {
    "duration": 29,
    "start_time": "2021-12-19T15:25:00.206Z"
   },
   {
    "duration": 36,
    "start_time": "2021-12-19T15:25:00.238Z"
   },
   {
    "duration": 28,
    "start_time": "2021-12-19T15:25:00.277Z"
   },
   {
    "duration": 27,
    "start_time": "2021-12-19T15:25:00.309Z"
   },
   {
    "duration": 10,
    "start_time": "2021-12-19T15:25:00.368Z"
   },
   {
    "duration": 170,
    "start_time": "2021-12-19T15:25:00.380Z"
   },
   {
    "duration": 27,
    "start_time": "2021-12-19T15:25:00.553Z"
   },
   {
    "duration": 516,
    "start_time": "2021-12-19T15:25:00.589Z"
   },
   {
    "duration": 12,
    "start_time": "2021-12-19T15:25:01.108Z"
   },
   {
    "duration": 623,
    "start_time": "2021-12-19T15:25:01.123Z"
   },
   {
    "duration": 18,
    "start_time": "2021-12-19T15:25:01.749Z"
   },
   {
    "duration": 129,
    "start_time": "2021-12-19T15:25:01.770Z"
   },
   {
    "duration": 4,
    "start_time": "2021-12-19T15:25:01.901Z"
   },
   {
    "duration": 505,
    "start_time": "2021-12-19T15:25:01.907Z"
   },
   {
    "duration": 7,
    "start_time": "2021-12-19T15:25:02.414Z"
   },
   {
    "duration": 15,
    "start_time": "2021-12-19T15:25:02.423Z"
   },
   {
    "duration": 126,
    "start_time": "2021-12-19T15:25:02.441Z"
   },
   {
    "duration": 21,
    "start_time": "2021-12-19T15:25:02.569Z"
   },
   {
    "duration": 17,
    "start_time": "2021-12-19T15:25:02.593Z"
   },
   {
    "duration": 22,
    "start_time": "2021-12-19T15:25:02.614Z"
   },
   {
    "duration": 7,
    "start_time": "2021-12-19T15:25:02.668Z"
   },
   {
    "duration": 116,
    "start_time": "2021-12-19T15:25:02.678Z"
   },
   {
    "duration": 33,
    "start_time": "2021-12-19T15:25:02.797Z"
   },
   {
    "duration": 45,
    "start_time": "2021-12-19T15:25:02.833Z"
   },
   {
    "duration": 812,
    "start_time": "2021-12-19T15:25:02.881Z"
   },
   {
    "duration": 5,
    "start_time": "2021-12-19T15:25:03.696Z"
   },
   {
    "duration": 7,
    "start_time": "2021-12-19T15:25:03.704Z"
   },
   {
    "duration": 9,
    "start_time": "2021-12-19T15:25:03.714Z"
   },
   {
    "duration": 44,
    "start_time": "2021-12-19T15:25:03.725Z"
   },
   {
    "duration": 8,
    "start_time": "2021-12-19T15:25:03.772Z"
   },
   {
    "duration": 13,
    "start_time": "2021-12-19T15:25:03.783Z"
   },
   {
    "duration": 12,
    "start_time": "2021-12-19T15:28:42.174Z"
   },
   {
    "duration": 13,
    "start_time": "2021-12-19T15:29:17.269Z"
   },
   {
    "duration": 1124,
    "start_time": "2021-12-19T15:29:59.732Z"
   },
   {
    "duration": 1384,
    "start_time": "2021-12-19T15:30:05.396Z"
   },
   {
    "duration": 14,
    "start_time": "2021-12-19T15:30:10.053Z"
   },
   {
    "duration": 14,
    "start_time": "2021-12-19T15:30:33.936Z"
   },
   {
    "duration": 12,
    "start_time": "2021-12-19T15:30:37.928Z"
   },
   {
    "duration": 498,
    "start_time": "2021-12-19T15:31:11.857Z"
   },
   {
    "duration": 1274,
    "start_time": "2021-12-19T15:31:22.238Z"
   },
   {
    "duration": 3553,
    "start_time": "2021-12-19T15:31:30.525Z"
   },
   {
    "duration": 113,
    "start_time": "2021-12-19T15:31:34.081Z"
   },
   {
    "duration": 22,
    "start_time": "2021-12-19T15:31:34.197Z"
   },
   {
    "duration": 24,
    "start_time": "2021-12-19T15:31:34.221Z"
   },
   {
    "duration": 17,
    "start_time": "2021-12-19T15:31:34.248Z"
   },
   {
    "duration": 15,
    "start_time": "2021-12-19T15:31:34.268Z"
   },
   {
    "duration": 46,
    "start_time": "2021-12-19T15:31:34.286Z"
   },
   {
    "duration": 12,
    "start_time": "2021-12-19T15:31:34.336Z"
   },
   {
    "duration": 30,
    "start_time": "2021-12-19T15:31:34.351Z"
   },
   {
    "duration": 43,
    "start_time": "2021-12-19T15:31:34.384Z"
   },
   {
    "duration": 41,
    "start_time": "2021-12-19T15:31:34.430Z"
   },
   {
    "duration": 66,
    "start_time": "2021-12-19T15:31:34.474Z"
   },
   {
    "duration": 1560,
    "start_time": "2021-12-19T15:31:34.542Z"
   },
   {
    "duration": 108,
    "start_time": "2021-12-19T15:31:36.104Z"
   },
   {
    "duration": 25,
    "start_time": "2021-12-19T15:31:36.214Z"
   },
   {
    "duration": 29,
    "start_time": "2021-12-19T15:31:36.242Z"
   },
   {
    "duration": 12,
    "start_time": "2021-12-19T15:31:36.275Z"
   },
   {
    "duration": 25,
    "start_time": "2021-12-19T15:31:36.290Z"
   },
   {
    "duration": 57,
    "start_time": "2021-12-19T15:31:36.318Z"
   },
   {
    "duration": 13,
    "start_time": "2021-12-19T15:31:36.378Z"
   },
   {
    "duration": 73,
    "start_time": "2021-12-19T15:31:36.394Z"
   },
   {
    "duration": 17,
    "start_time": "2021-12-19T15:31:36.470Z"
   },
   {
    "duration": 807,
    "start_time": "2021-12-19T15:31:36.494Z"
   },
   {
    "duration": 22,
    "start_time": "2021-12-19T15:31:37.305Z"
   },
   {
    "duration": 7,
    "start_time": "2021-12-19T15:31:37.330Z"
   },
   {
    "duration": 47,
    "start_time": "2021-12-19T15:31:37.340Z"
   },
   {
    "duration": 12,
    "start_time": "2021-12-19T15:31:37.390Z"
   },
   {
    "duration": 65,
    "start_time": "2021-12-19T15:31:37.405Z"
   },
   {
    "duration": 26,
    "start_time": "2021-12-19T15:31:37.473Z"
   },
   {
    "duration": 78,
    "start_time": "2021-12-19T15:31:37.501Z"
   },
   {
    "duration": 764,
    "start_time": "2021-12-19T15:31:37.582Z"
   },
   {
    "duration": 123,
    "start_time": "2021-12-19T15:31:38.348Z"
   },
   {
    "duration": 838,
    "start_time": "2021-12-19T15:31:38.474Z"
   },
   {
    "duration": 58,
    "start_time": "2021-12-19T15:31:39.315Z"
   },
   {
    "duration": 10,
    "start_time": "2021-12-19T15:31:39.376Z"
   },
   {
    "duration": 5,
    "start_time": "2021-12-19T15:31:39.389Z"
   },
   {
    "duration": 11,
    "start_time": "2021-12-19T15:31:39.396Z"
   },
   {
    "duration": 66,
    "start_time": "2021-12-19T15:31:39.410Z"
   },
   {
    "duration": 12,
    "start_time": "2021-12-19T15:31:39.480Z"
   },
   {
    "duration": 16,
    "start_time": "2021-12-19T15:31:39.495Z"
   },
   {
    "duration": 53,
    "start_time": "2021-12-19T15:31:39.516Z"
   },
   {
    "duration": 10,
    "start_time": "2021-12-19T15:31:39.571Z"
   },
   {
    "duration": 104,
    "start_time": "2021-12-19T15:31:39.584Z"
   },
   {
    "duration": 31,
    "start_time": "2021-12-19T15:31:39.690Z"
   },
   {
    "duration": 56,
    "start_time": "2021-12-19T15:31:39.723Z"
   },
   {
    "duration": 46,
    "start_time": "2021-12-19T15:31:39.782Z"
   },
   {
    "duration": 6,
    "start_time": "2021-12-19T15:31:39.831Z"
   },
   {
    "duration": 5745,
    "start_time": "2021-12-19T15:31:39.839Z"
   },
   {
    "duration": 9,
    "start_time": "2021-12-19T15:31:45.586Z"
   },
   {
    "duration": 10159,
    "start_time": "2021-12-19T15:31:45.598Z"
   },
   {
    "duration": 27,
    "start_time": "2021-12-19T15:31:55.759Z"
   },
   {
    "duration": 8,
    "start_time": "2021-12-19T15:31:55.789Z"
   },
   {
    "duration": 95,
    "start_time": "2021-12-19T15:31:55.800Z"
   },
   {
    "duration": 7,
    "start_time": "2021-12-19T15:31:55.898Z"
   },
   {
    "duration": 91,
    "start_time": "2021-12-19T15:31:55.908Z"
   },
   {
    "duration": 27,
    "start_time": "2021-12-19T15:31:56.002Z"
   },
   {
    "duration": 46,
    "start_time": "2021-12-19T15:31:56.032Z"
   },
   {
    "duration": 27,
    "start_time": "2021-12-19T15:31:56.080Z"
   },
   {
    "duration": 5,
    "start_time": "2021-12-19T15:31:56.110Z"
   },
   {
    "duration": 53,
    "start_time": "2021-12-19T15:31:56.117Z"
   },
   {
    "duration": 9,
    "start_time": "2021-12-19T15:31:56.172Z"
   },
   {
    "duration": 26,
    "start_time": "2021-12-19T15:31:56.183Z"
   },
   {
    "duration": 17,
    "start_time": "2021-12-19T15:31:56.211Z"
   },
   {
    "duration": 40,
    "start_time": "2021-12-19T15:31:56.231Z"
   },
   {
    "duration": 121,
    "start_time": "2021-12-19T15:31:56.273Z"
   },
   {
    "duration": 13,
    "start_time": "2021-12-19T15:31:56.396Z"
   },
   {
    "duration": 499,
    "start_time": "2021-12-19T15:31:56.411Z"
   },
   {
    "duration": 12,
    "start_time": "2021-12-19T15:31:56.918Z"
   },
   {
    "duration": 456,
    "start_time": "2021-12-19T15:31:56.933Z"
   },
   {
    "duration": 7,
    "start_time": "2021-12-19T15:31:57.392Z"
   },
   {
    "duration": 129,
    "start_time": "2021-12-19T15:31:57.402Z"
   },
   {
    "duration": 3,
    "start_time": "2021-12-19T15:31:57.533Z"
   },
   {
    "duration": 501,
    "start_time": "2021-12-19T15:31:57.539Z"
   },
   {
    "duration": 24,
    "start_time": "2021-12-19T15:31:58.043Z"
   },
   {
    "duration": 9,
    "start_time": "2021-12-19T15:31:58.070Z"
   },
   {
    "duration": 107,
    "start_time": "2021-12-19T15:31:58.082Z"
   },
   {
    "duration": 21,
    "start_time": "2021-12-19T15:31:58.192Z"
   },
   {
    "duration": 12,
    "start_time": "2021-12-19T15:31:58.216Z"
   },
   {
    "duration": 39,
    "start_time": "2021-12-19T15:31:58.231Z"
   },
   {
    "duration": 8,
    "start_time": "2021-12-19T15:31:58.272Z"
   },
   {
    "duration": 58,
    "start_time": "2021-12-19T15:31:58.283Z"
   },
   {
    "duration": 49,
    "start_time": "2021-12-19T15:31:58.344Z"
   },
   {
    "duration": 27,
    "start_time": "2021-12-19T15:31:58.397Z"
   },
   {
    "duration": 461,
    "start_time": "2021-12-19T15:31:58.427Z"
   },
   {
    "duration": -901,
    "start_time": "2021-12-19T15:31:59.792Z"
   },
   {
    "duration": -907,
    "start_time": "2021-12-19T15:31:59.800Z"
   },
   {
    "duration": -912,
    "start_time": "2021-12-19T15:31:59.806Z"
   },
   {
    "duration": -915,
    "start_time": "2021-12-19T15:31:59.811Z"
   },
   {
    "duration": -919,
    "start_time": "2021-12-19T15:31:59.816Z"
   },
   {
    "duration": -922,
    "start_time": "2021-12-19T15:31:59.820Z"
   },
   {
    "duration": -936,
    "start_time": "2021-12-19T15:31:59.836Z"
   },
   {
    "duration": 526,
    "start_time": "2021-12-19T15:32:22.495Z"
   },
   {
    "duration": 4,
    "start_time": "2021-12-19T15:33:09.795Z"
   },
   {
    "duration": 1492,
    "start_time": "2021-12-19T15:33:16.891Z"
   },
   {
    "duration": 106,
    "start_time": "2021-12-19T15:33:18.386Z"
   },
   {
    "duration": 23,
    "start_time": "2021-12-19T15:33:18.495Z"
   },
   {
    "duration": 21,
    "start_time": "2021-12-19T15:33:18.521Z"
   },
   {
    "duration": 24,
    "start_time": "2021-12-19T15:33:18.545Z"
   },
   {
    "duration": 18,
    "start_time": "2021-12-19T15:33:18.572Z"
   },
   {
    "duration": 39,
    "start_time": "2021-12-19T15:33:18.593Z"
   },
   {
    "duration": 8,
    "start_time": "2021-12-19T15:33:18.636Z"
   },
   {
    "duration": 34,
    "start_time": "2021-12-19T15:33:18.647Z"
   },
   {
    "duration": 2,
    "start_time": "2021-12-19T15:33:18.684Z"
   },
   {
    "duration": 42,
    "start_time": "2021-12-19T15:33:18.689Z"
   },
   {
    "duration": 81,
    "start_time": "2021-12-19T15:33:18.734Z"
   },
   {
    "duration": 1133,
    "start_time": "2021-12-19T15:33:18.818Z"
   },
   {
    "duration": 90,
    "start_time": "2021-12-19T15:33:19.954Z"
   },
   {
    "duration": 38,
    "start_time": "2021-12-19T15:33:20.046Z"
   },
   {
    "duration": 9,
    "start_time": "2021-12-19T15:33:20.087Z"
   },
   {
    "duration": 11,
    "start_time": "2021-12-19T15:33:20.098Z"
   },
   {
    "duration": 57,
    "start_time": "2021-12-19T15:33:20.112Z"
   },
   {
    "duration": 17,
    "start_time": "2021-12-19T15:33:20.171Z"
   },
   {
    "duration": 14,
    "start_time": "2021-12-19T15:33:20.191Z"
   },
   {
    "duration": 83,
    "start_time": "2021-12-19T15:33:20.207Z"
   },
   {
    "duration": 16,
    "start_time": "2021-12-19T15:33:20.293Z"
   },
   {
    "duration": 848,
    "start_time": "2021-12-19T15:33:20.315Z"
   },
   {
    "duration": 25,
    "start_time": "2021-12-19T15:33:21.171Z"
   },
   {
    "duration": 8,
    "start_time": "2021-12-19T15:33:21.199Z"
   },
   {
    "duration": 25,
    "start_time": "2021-12-19T15:33:21.209Z"
   },
   {
    "duration": 38,
    "start_time": "2021-12-19T15:33:21.237Z"
   },
   {
    "duration": 38,
    "start_time": "2021-12-19T15:33:21.277Z"
   },
   {
    "duration": 25,
    "start_time": "2021-12-19T15:33:21.317Z"
   },
   {
    "duration": 50,
    "start_time": "2021-12-19T15:33:21.368Z"
   },
   {
    "duration": 721,
    "start_time": "2021-12-19T15:33:21.420Z"
   },
   {
    "duration": 109,
    "start_time": "2021-12-19T15:33:22.143Z"
   },
   {
    "duration": 921,
    "start_time": "2021-12-19T15:33:22.255Z"
   },
   {
    "duration": 43,
    "start_time": "2021-12-19T15:33:23.178Z"
   },
   {
    "duration": 8,
    "start_time": "2021-12-19T15:33:23.223Z"
   },
   {
    "duration": 34,
    "start_time": "2021-12-19T15:33:23.233Z"
   },
   {
    "duration": 8,
    "start_time": "2021-12-19T15:33:23.270Z"
   },
   {
    "duration": 27,
    "start_time": "2021-12-19T15:33:23.280Z"
   },
   {
    "duration": 10,
    "start_time": "2021-12-19T15:33:23.309Z"
   },
   {
    "duration": 49,
    "start_time": "2021-12-19T15:33:23.321Z"
   },
   {
    "duration": 9,
    "start_time": "2021-12-19T15:33:23.373Z"
   },
   {
    "duration": 9,
    "start_time": "2021-12-19T15:33:23.385Z"
   },
   {
    "duration": 99,
    "start_time": "2021-12-19T15:33:23.396Z"
   },
   {
    "duration": 32,
    "start_time": "2021-12-19T15:33:23.497Z"
   },
   {
    "duration": 56,
    "start_time": "2021-12-19T15:33:23.531Z"
   },
   {
    "duration": 47,
    "start_time": "2021-12-19T15:33:23.591Z"
   },
   {
    "duration": 28,
    "start_time": "2021-12-19T15:33:23.641Z"
   },
   {
    "duration": 6196,
    "start_time": "2021-12-19T15:33:23.673Z"
   },
   {
    "duration": 11,
    "start_time": "2021-12-19T15:33:29.872Z"
   },
   {
    "duration": 7987,
    "start_time": "2021-12-19T15:33:29.886Z"
   },
   {
    "duration": 27,
    "start_time": "2021-12-19T15:33:37.875Z"
   },
   {
    "duration": 6,
    "start_time": "2021-12-19T15:33:37.904Z"
   },
   {
    "duration": 91,
    "start_time": "2021-12-19T15:33:37.912Z"
   },
   {
    "duration": 7,
    "start_time": "2021-12-19T15:33:38.006Z"
   },
   {
    "duration": 83,
    "start_time": "2021-12-19T15:33:38.015Z"
   },
   {
    "duration": 28,
    "start_time": "2021-12-19T15:33:38.100Z"
   },
   {
    "duration": 48,
    "start_time": "2021-12-19T15:33:38.131Z"
   },
   {
    "duration": 27,
    "start_time": "2021-12-19T15:33:38.181Z"
   },
   {
    "duration": 8,
    "start_time": "2021-12-19T15:33:38.210Z"
   },
   {
    "duration": 55,
    "start_time": "2021-12-19T15:33:38.221Z"
   },
   {
    "duration": 9,
    "start_time": "2021-12-19T15:33:38.279Z"
   },
   {
    "duration": 30,
    "start_time": "2021-12-19T15:33:38.291Z"
   },
   {
    "duration": 46,
    "start_time": "2021-12-19T15:33:38.324Z"
   },
   {
    "duration": 7,
    "start_time": "2021-12-19T15:33:38.372Z"
   },
   {
    "duration": 115,
    "start_time": "2021-12-19T15:33:38.382Z"
   },
   {
    "duration": 13,
    "start_time": "2021-12-19T15:33:38.500Z"
   },
   {
    "duration": 495,
    "start_time": "2021-12-19T15:33:38.515Z"
   },
   {
    "duration": 11,
    "start_time": "2021-12-19T15:33:39.018Z"
   },
   {
    "duration": 443,
    "start_time": "2021-12-19T15:33:39.032Z"
   },
   {
    "duration": 7,
    "start_time": "2021-12-19T15:33:39.478Z"
   },
   {
    "duration": 129,
    "start_time": "2021-12-19T15:33:39.488Z"
   },
   {
    "duration": 3,
    "start_time": "2021-12-19T15:33:39.620Z"
   },
   {
    "duration": 503,
    "start_time": "2021-12-19T15:33:39.626Z"
   },
   {
    "duration": 7,
    "start_time": "2021-12-19T15:33:40.131Z"
   },
   {
    "duration": 27,
    "start_time": "2021-12-19T15:33:40.141Z"
   },
   {
    "duration": 126,
    "start_time": "2021-12-19T15:33:40.172Z"
   },
   {
    "duration": 20,
    "start_time": "2021-12-19T15:33:40.300Z"
   },
   {
    "duration": 13,
    "start_time": "2021-12-19T15:33:40.322Z"
   },
   {
    "duration": 34,
    "start_time": "2021-12-19T15:33:40.337Z"
   },
   {
    "duration": 11,
    "start_time": "2021-12-19T15:33:40.374Z"
   },
   {
    "duration": 60,
    "start_time": "2021-12-19T15:33:40.387Z"
   },
   {
    "duration": 35,
    "start_time": "2021-12-19T15:33:40.450Z"
   },
   {
    "duration": 20,
    "start_time": "2021-12-19T15:33:40.487Z"
   },
   {
    "duration": 585,
    "start_time": "2021-12-19T15:33:40.510Z"
   },
   {
    "duration": 6,
    "start_time": "2021-12-19T15:33:41.098Z"
   },
   {
    "duration": 6,
    "start_time": "2021-12-19T15:33:41.106Z"
   },
   {
    "duration": 12,
    "start_time": "2021-12-19T15:33:41.115Z"
   },
   {
    "duration": 44,
    "start_time": "2021-12-19T15:33:41.129Z"
   },
   {
    "duration": 10,
    "start_time": "2021-12-19T15:33:41.176Z"
   },
   {
    "duration": 8,
    "start_time": "2021-12-19T15:33:41.189Z"
   },
   {
    "duration": 9,
    "start_time": "2021-12-19T15:35:15.568Z"
   },
   {
    "duration": 9,
    "start_time": "2021-12-19T15:35:30.400Z"
   },
   {
    "duration": 11,
    "start_time": "2021-12-19T15:35:35.377Z"
   },
   {
    "duration": 31,
    "start_time": "2021-12-19T15:35:42.082Z"
   },
   {
    "duration": 18,
    "start_time": "2021-12-19T15:35:45.951Z"
   },
   {
    "duration": 1595,
    "start_time": "2021-12-19T15:36:31.923Z"
   },
   {
    "duration": 112,
    "start_time": "2021-12-19T15:36:33.520Z"
   },
   {
    "duration": 22,
    "start_time": "2021-12-19T15:36:33.634Z"
   },
   {
    "duration": 23,
    "start_time": "2021-12-19T15:36:33.659Z"
   },
   {
    "duration": 8,
    "start_time": "2021-12-19T15:36:33.685Z"
   },
   {
    "duration": 13,
    "start_time": "2021-12-19T15:36:33.696Z"
   },
   {
    "duration": 55,
    "start_time": "2021-12-19T15:36:33.712Z"
   },
   {
    "duration": 9,
    "start_time": "2021-12-19T15:36:33.771Z"
   },
   {
    "duration": 29,
    "start_time": "2021-12-19T15:36:33.783Z"
   },
   {
    "duration": 14,
    "start_time": "2021-12-19T15:36:33.815Z"
   },
   {
    "duration": 44,
    "start_time": "2021-12-19T15:36:33.831Z"
   },
   {
    "duration": 56,
    "start_time": "2021-12-19T15:36:33.877Z"
   },
   {
    "duration": 1086,
    "start_time": "2021-12-19T15:36:33.935Z"
   },
   {
    "duration": 54,
    "start_time": "2021-12-19T15:36:35.023Z"
   },
   {
    "duration": 26,
    "start_time": "2021-12-19T15:36:35.080Z"
   },
   {
    "duration": 8,
    "start_time": "2021-12-19T15:36:35.109Z"
   },
   {
    "duration": 13,
    "start_time": "2021-12-19T15:36:35.120Z"
   },
   {
    "duration": 52,
    "start_time": "2021-12-19T15:36:35.135Z"
   },
   {
    "duration": 14,
    "start_time": "2021-12-19T15:36:35.190Z"
   },
   {
    "duration": 20,
    "start_time": "2021-12-19T15:36:35.207Z"
   },
   {
    "duration": 76,
    "start_time": "2021-12-19T15:36:35.229Z"
   },
   {
    "duration": 15,
    "start_time": "2021-12-19T15:36:35.308Z"
   },
   {
    "duration": 757,
    "start_time": "2021-12-19T15:36:35.329Z"
   },
   {
    "duration": 22,
    "start_time": "2021-12-19T15:36:36.090Z"
   },
   {
    "duration": 8,
    "start_time": "2021-12-19T15:36:36.114Z"
   },
   {
    "duration": 53,
    "start_time": "2021-12-19T15:36:36.125Z"
   },
   {
    "duration": 15,
    "start_time": "2021-12-19T15:36:36.180Z"
   },
   {
    "duration": 43,
    "start_time": "2021-12-19T15:36:36.197Z"
   },
   {
    "duration": 40,
    "start_time": "2021-12-19T15:36:36.243Z"
   },
   {
    "duration": 50,
    "start_time": "2021-12-19T15:36:36.285Z"
   },
   {
    "duration": 645,
    "start_time": "2021-12-19T15:36:36.338Z"
   },
   {
    "duration": 16,
    "start_time": "2021-12-19T15:36:36.986Z"
   },
   {
    "duration": 65,
    "start_time": "2021-12-19T15:36:37.004Z"
   },
   {
    "duration": 835,
    "start_time": "2021-12-19T15:36:37.071Z"
   },
   {
    "duration": 41,
    "start_time": "2021-12-19T15:36:37.909Z"
   },
   {
    "duration": 8,
    "start_time": "2021-12-19T15:36:37.968Z"
   },
   {
    "duration": 4,
    "start_time": "2021-12-19T15:36:37.979Z"
   },
   {
    "duration": 7,
    "start_time": "2021-12-19T15:36:37.986Z"
   },
   {
    "duration": 42,
    "start_time": "2021-12-19T15:36:37.996Z"
   },
   {
    "duration": 31,
    "start_time": "2021-12-19T15:36:38.041Z"
   },
   {
    "duration": 11,
    "start_time": "2021-12-19T15:36:38.074Z"
   },
   {
    "duration": 10,
    "start_time": "2021-12-19T15:36:38.088Z"
   },
   {
    "duration": 9,
    "start_time": "2021-12-19T15:36:38.100Z"
   },
   {
    "duration": 85,
    "start_time": "2021-12-19T15:36:38.111Z"
   },
   {
    "duration": 35,
    "start_time": "2021-12-19T15:36:38.198Z"
   },
   {
    "duration": 59,
    "start_time": "2021-12-19T15:36:38.236Z"
   },
   {
    "duration": 46,
    "start_time": "2021-12-19T15:36:38.297Z"
   },
   {
    "duration": 26,
    "start_time": "2021-12-19T15:36:38.345Z"
   },
   {
    "duration": 5323,
    "start_time": "2021-12-19T15:36:38.374Z"
   },
   {
    "duration": 11,
    "start_time": "2021-12-19T15:36:43.700Z"
   },
   {
    "duration": 8229,
    "start_time": "2021-12-19T15:36:43.714Z"
   },
   {
    "duration": 34,
    "start_time": "2021-12-19T15:36:51.945Z"
   },
   {
    "duration": 4,
    "start_time": "2021-12-19T15:36:51.982Z"
   },
   {
    "duration": 37,
    "start_time": "2021-12-19T15:36:51.988Z"
   },
   {
    "duration": 8,
    "start_time": "2021-12-19T15:36:52.028Z"
   },
   {
    "duration": 98,
    "start_time": "2021-12-19T15:36:52.039Z"
   },
   {
    "duration": 52,
    "start_time": "2021-12-19T15:36:52.140Z"
   },
   {
    "duration": 21,
    "start_time": "2021-12-19T15:36:52.195Z"
   },
   {
    "duration": 60,
    "start_time": "2021-12-19T15:36:52.219Z"
   },
   {
    "duration": 5,
    "start_time": "2021-12-19T15:36:52.281Z"
   },
   {
    "duration": 24,
    "start_time": "2021-12-19T15:36:52.288Z"
   },
   {
    "duration": 7,
    "start_time": "2021-12-19T15:36:52.315Z"
   },
   {
    "duration": 54,
    "start_time": "2021-12-19T15:36:52.324Z"
   },
   {
    "duration": 19,
    "start_time": "2021-12-19T15:36:52.381Z"
   },
   {
    "duration": 7,
    "start_time": "2021-12-19T15:36:52.402Z"
   },
   {
    "duration": 128,
    "start_time": "2021-12-19T15:36:52.412Z"
   },
   {
    "duration": 25,
    "start_time": "2021-12-19T15:36:52.543Z"
   },
   {
    "duration": 509,
    "start_time": "2021-12-19T15:36:52.577Z"
   },
   {
    "duration": 13,
    "start_time": "2021-12-19T15:36:53.089Z"
   },
   {
    "duration": 427,
    "start_time": "2021-12-19T15:36:53.104Z"
   },
   {
    "duration": 7,
    "start_time": "2021-12-19T15:36:53.533Z"
   },
   {
    "duration": 125,
    "start_time": "2021-12-19T15:36:53.544Z"
   },
   {
    "duration": 3,
    "start_time": "2021-12-19T15:36:53.672Z"
   },
   {
    "duration": 494,
    "start_time": "2021-12-19T15:36:53.679Z"
   },
   {
    "duration": 6,
    "start_time": "2021-12-19T15:36:54.176Z"
   },
   {
    "duration": 7,
    "start_time": "2021-12-19T15:36:54.185Z"
   },
   {
    "duration": 116,
    "start_time": "2021-12-19T15:36:54.195Z"
   },
   {
    "duration": 18,
    "start_time": "2021-12-19T15:36:54.314Z"
   },
   {
    "duration": 34,
    "start_time": "2021-12-19T15:36:54.335Z"
   },
   {
    "duration": 12,
    "start_time": "2021-12-19T15:36:54.371Z"
   },
   {
    "duration": 8,
    "start_time": "2021-12-19T15:36:54.385Z"
   },
   {
    "duration": 79,
    "start_time": "2021-12-19T15:36:54.395Z"
   },
   {
    "duration": 24,
    "start_time": "2021-12-19T15:36:54.477Z"
   },
   {
    "duration": 21,
    "start_time": "2021-12-19T15:36:54.504Z"
   },
   {
    "duration": 566,
    "start_time": "2021-12-19T15:36:54.528Z"
   },
   {
    "duration": 5,
    "start_time": "2021-12-19T15:36:55.096Z"
   },
   {
    "duration": 8,
    "start_time": "2021-12-19T15:36:55.103Z"
   },
   {
    "duration": 10,
    "start_time": "2021-12-19T15:36:55.113Z"
   },
   {
    "duration": 44,
    "start_time": "2021-12-19T15:36:55.126Z"
   },
   {
    "duration": 17,
    "start_time": "2021-12-19T15:36:55.172Z"
   },
   {
    "duration": 7,
    "start_time": "2021-12-19T15:36:55.192Z"
   },
   {
    "duration": 1222,
    "start_time": "2021-12-19T20:38:52.105Z"
   },
   {
    "duration": 157,
    "start_time": "2021-12-19T20:38:53.329Z"
   },
   {
    "duration": 19,
    "start_time": "2021-12-19T20:38:53.489Z"
   },
   {
    "duration": 14,
    "start_time": "2021-12-19T20:38:53.510Z"
   },
   {
    "duration": 6,
    "start_time": "2021-12-19T20:38:53.526Z"
   },
   {
    "duration": 7,
    "start_time": "2021-12-19T20:38:53.534Z"
   },
   {
    "duration": 30,
    "start_time": "2021-12-19T20:38:53.543Z"
   },
   {
    "duration": 6,
    "start_time": "2021-12-19T20:38:53.575Z"
   },
   {
    "duration": 11,
    "start_time": "2021-12-19T20:38:53.584Z"
   },
   {
    "duration": 3,
    "start_time": "2021-12-19T20:38:53.597Z"
   },
   {
    "duration": 22,
    "start_time": "2021-12-19T20:38:53.602Z"
   },
   {
    "duration": 65,
    "start_time": "2021-12-19T20:38:53.626Z"
   },
   {
    "duration": 652,
    "start_time": "2021-12-19T20:38:53.693Z"
   },
   {
    "duration": 39,
    "start_time": "2021-12-19T20:38:54.348Z"
   },
   {
    "duration": 17,
    "start_time": "2021-12-19T20:38:54.389Z"
   },
   {
    "duration": 6,
    "start_time": "2021-12-19T20:38:54.408Z"
   },
   {
    "duration": 6,
    "start_time": "2021-12-19T20:38:54.416Z"
   },
   {
    "duration": 48,
    "start_time": "2021-12-19T20:38:54.424Z"
   },
   {
    "duration": 9,
    "start_time": "2021-12-19T20:38:54.474Z"
   },
   {
    "duration": 8,
    "start_time": "2021-12-19T20:38:54.484Z"
   },
   {
    "duration": 28,
    "start_time": "2021-12-19T20:38:54.494Z"
   },
   {
    "duration": 14,
    "start_time": "2021-12-19T20:38:54.524Z"
   },
   {
    "duration": 636,
    "start_time": "2021-12-19T20:38:54.540Z"
   },
   {
    "duration": 20,
    "start_time": "2021-12-19T20:38:55.178Z"
   },
   {
    "duration": 7,
    "start_time": "2021-12-19T20:38:55.200Z"
   },
   {
    "duration": 14,
    "start_time": "2021-12-19T20:38:55.208Z"
   },
   {
    "duration": 36,
    "start_time": "2021-12-19T20:38:55.227Z"
   },
   {
    "duration": 22,
    "start_time": "2021-12-19T20:38:55.266Z"
   },
   {
    "duration": 23,
    "start_time": "2021-12-19T20:38:55.290Z"
   },
   {
    "duration": 67,
    "start_time": "2021-12-19T20:38:55.315Z"
   },
   {
    "duration": 345,
    "start_time": "2021-12-19T20:38:55.384Z"
   },
   {
    "duration": 12,
    "start_time": "2021-12-19T20:38:55.731Z"
   },
   {
    "duration": 39,
    "start_time": "2021-12-19T20:38:55.745Z"
   },
   {
    "duration": 457,
    "start_time": "2021-12-19T20:38:55.786Z"
   },
   {
    "duration": 30,
    "start_time": "2021-12-19T20:38:56.245Z"
   },
   {
    "duration": 5,
    "start_time": "2021-12-19T20:38:56.277Z"
   },
   {
    "duration": 5,
    "start_time": "2021-12-19T20:38:56.284Z"
   },
   {
    "duration": 5,
    "start_time": "2021-12-19T20:38:56.290Z"
   },
   {
    "duration": 17,
    "start_time": "2021-12-19T20:38:56.297Z"
   },
   {
    "duration": 8,
    "start_time": "2021-12-19T20:38:56.316Z"
   },
   {
    "duration": 46,
    "start_time": "2021-12-19T20:38:56.325Z"
   },
   {
    "duration": 8,
    "start_time": "2021-12-19T20:38:56.373Z"
   },
   {
    "duration": 6,
    "start_time": "2021-12-19T20:38:56.383Z"
   },
   {
    "duration": 26,
    "start_time": "2021-12-19T20:38:56.391Z"
   },
   {
    "duration": 54,
    "start_time": "2021-12-19T20:38:56.419Z"
   },
   {
    "duration": 18,
    "start_time": "2021-12-19T20:38:56.474Z"
   },
   {
    "duration": 28,
    "start_time": "2021-12-19T20:38:56.494Z"
   },
   {
    "duration": 4,
    "start_time": "2021-12-19T20:38:56.523Z"
   },
   {
    "duration": 3005,
    "start_time": "2021-12-19T20:38:56.528Z"
   },
   {
    "duration": 6,
    "start_time": "2021-12-19T20:38:59.535Z"
   },
   {
    "duration": 4602,
    "start_time": "2021-12-19T20:38:59.543Z"
   },
   {
    "duration": 22,
    "start_time": "2021-12-19T20:39:04.147Z"
   },
   {
    "duration": 3,
    "start_time": "2021-12-19T20:39:04.171Z"
   },
   {
    "duration": 25,
    "start_time": "2021-12-19T20:39:04.176Z"
   },
   {
    "duration": 4,
    "start_time": "2021-12-19T20:39:04.205Z"
   },
   {
    "duration": 64,
    "start_time": "2021-12-19T20:39:04.211Z"
   },
   {
    "duration": 15,
    "start_time": "2021-12-19T20:39:04.277Z"
   },
   {
    "duration": 12,
    "start_time": "2021-12-19T20:39:04.294Z"
   },
   {
    "duration": 14,
    "start_time": "2021-12-19T20:39:04.308Z"
   },
   {
    "duration": 3,
    "start_time": "2021-12-19T20:39:04.324Z"
   },
   {
    "duration": 49,
    "start_time": "2021-12-19T20:39:04.329Z"
   },
   {
    "duration": 7,
    "start_time": "2021-12-19T20:39:04.380Z"
   },
   {
    "duration": 18,
    "start_time": "2021-12-19T20:39:04.389Z"
   },
   {
    "duration": 11,
    "start_time": "2021-12-19T20:39:04.409Z"
   },
   {
    "duration": 4,
    "start_time": "2021-12-19T20:39:04.422Z"
   },
   {
    "duration": 89,
    "start_time": "2021-12-19T20:39:04.427Z"
   },
   {
    "duration": 8,
    "start_time": "2021-12-19T20:39:04.518Z"
   },
   {
    "duration": 291,
    "start_time": "2021-12-19T20:39:04.527Z"
   },
   {
    "duration": 8,
    "start_time": "2021-12-19T20:39:04.820Z"
   },
   {
    "duration": 240,
    "start_time": "2021-12-19T20:39:04.830Z"
   },
   {
    "duration": 4,
    "start_time": "2021-12-19T20:39:05.072Z"
   },
   {
    "duration": 63,
    "start_time": "2021-12-19T20:39:05.078Z"
   },
   {
    "duration": 22,
    "start_time": "2021-12-19T20:39:05.143Z"
   },
   {
    "duration": 430,
    "start_time": "2021-12-19T20:39:05.167Z"
   },
   {
    "duration": 5,
    "start_time": "2021-12-19T20:39:05.599Z"
   },
   {
    "duration": 10,
    "start_time": "2021-12-19T20:39:05.606Z"
   },
   {
    "duration": 70,
    "start_time": "2021-12-19T20:39:05.618Z"
   },
   {
    "duration": 11,
    "start_time": "2021-12-19T20:39:05.690Z"
   },
   {
    "duration": 11,
    "start_time": "2021-12-19T20:39:05.703Z"
   },
   {
    "duration": 8,
    "start_time": "2021-12-19T20:39:05.715Z"
   },
   {
    "duration": 3,
    "start_time": "2021-12-19T20:39:05.728Z"
   },
   {
    "duration": 58,
    "start_time": "2021-12-19T20:39:05.733Z"
   },
   {
    "duration": 15,
    "start_time": "2021-12-19T20:39:05.793Z"
   },
   {
    "duration": 18,
    "start_time": "2021-12-19T20:39:05.810Z"
   },
   {
    "duration": 310,
    "start_time": "2021-12-19T20:39:05.830Z"
   },
   {
    "duration": 4,
    "start_time": "2021-12-19T20:39:06.141Z"
   },
   {
    "duration": 19,
    "start_time": "2021-12-19T20:39:06.147Z"
   },
   {
    "duration": 7,
    "start_time": "2021-12-19T20:39:06.168Z"
   },
   {
    "duration": 4,
    "start_time": "2021-12-19T20:39:06.177Z"
   },
   {
    "duration": 16,
    "start_time": "2021-12-19T20:39:06.183Z"
   },
   {
    "duration": 6,
    "start_time": "2021-12-19T20:39:06.200Z"
   },
   {
    "duration": 23,
    "start_time": "2021-12-19T20:39:17.614Z"
   },
   {
    "duration": 336,
    "start_time": "2021-12-19T20:44:18.685Z"
   },
   {
    "duration": 196,
    "start_time": "2021-12-19T20:45:04.268Z"
   },
   {
    "duration": 7,
    "start_time": "2021-12-19T20:45:10.542Z"
   },
   {
    "duration": 20,
    "start_time": "2021-12-19T20:45:16.199Z"
   },
   {
    "duration": 16,
    "start_time": "2021-12-19T20:45:23.367Z"
   },
   {
    "duration": 28,
    "start_time": "2021-12-19T20:45:51.706Z"
   },
   {
    "duration": 1170,
    "start_time": "2021-12-19T20:47:55.654Z"
   },
   {
    "duration": 94,
    "start_time": "2021-12-19T20:47:56.826Z"
   },
   {
    "duration": 19,
    "start_time": "2021-12-19T20:47:56.923Z"
   },
   {
    "duration": 23,
    "start_time": "2021-12-19T20:47:56.944Z"
   },
   {
    "duration": 9,
    "start_time": "2021-12-19T20:47:56.969Z"
   },
   {
    "duration": 10,
    "start_time": "2021-12-19T20:47:56.980Z"
   },
   {
    "duration": 17,
    "start_time": "2021-12-19T20:47:56.992Z"
   },
   {
    "duration": 5,
    "start_time": "2021-12-19T20:47:57.011Z"
   },
   {
    "duration": 41,
    "start_time": "2021-12-19T20:47:57.018Z"
   },
   {
    "duration": 7,
    "start_time": "2021-12-19T20:47:57.061Z"
   },
   {
    "duration": 43,
    "start_time": "2021-12-19T20:47:57.070Z"
   },
   {
    "duration": 36,
    "start_time": "2021-12-19T20:47:57.114Z"
   },
   {
    "duration": 1156,
    "start_time": "2021-12-19T20:47:57.152Z"
   },
   {
    "duration": 64,
    "start_time": "2021-12-19T20:47:58.310Z"
   },
   {
    "duration": 34,
    "start_time": "2021-12-19T20:47:58.375Z"
   },
   {
    "duration": 8,
    "start_time": "2021-12-19T20:47:58.411Z"
   },
   {
    "duration": 20,
    "start_time": "2021-12-19T20:47:58.421Z"
   },
   {
    "duration": 26,
    "start_time": "2021-12-19T20:47:58.443Z"
   },
   {
    "duration": 15,
    "start_time": "2021-12-19T20:47:58.472Z"
   },
   {
    "duration": 16,
    "start_time": "2021-12-19T20:47:58.489Z"
   },
   {
    "duration": 34,
    "start_time": "2021-12-19T20:47:58.507Z"
   },
   {
    "duration": 28,
    "start_time": "2021-12-19T20:47:58.543Z"
   },
   {
    "duration": 609,
    "start_time": "2021-12-19T20:47:58.573Z"
   },
   {
    "duration": 17,
    "start_time": "2021-12-19T20:47:59.184Z"
   },
   {
    "duration": 8,
    "start_time": "2021-12-19T20:47:59.203Z"
   },
   {
    "duration": 41,
    "start_time": "2021-12-19T20:47:59.213Z"
   },
   {
    "duration": 25,
    "start_time": "2021-12-19T20:47:59.259Z"
   },
   {
    "duration": 45,
    "start_time": "2021-12-19T20:47:59.288Z"
   },
   {
    "duration": 33,
    "start_time": "2021-12-19T20:47:59.335Z"
   },
   {
    "duration": 48,
    "start_time": "2021-12-19T20:47:59.370Z"
   },
   {
    "duration": 498,
    "start_time": "2021-12-19T20:47:59.420Z"
   },
   {
    "duration": 16,
    "start_time": "2021-12-19T20:47:59.921Z"
   },
   {
    "duration": 56,
    "start_time": "2021-12-19T20:47:59.939Z"
   },
   {
    "duration": 551,
    "start_time": "2021-12-19T20:47:59.997Z"
   },
   {
    "duration": 43,
    "start_time": "2021-12-19T20:48:00.550Z"
   },
   {
    "duration": 21,
    "start_time": "2021-12-19T20:48:00.595Z"
   },
   {
    "duration": 17,
    "start_time": "2021-12-19T20:48:00.618Z"
   },
   {
    "duration": 7,
    "start_time": "2021-12-19T20:48:00.637Z"
   },
   {
    "duration": 19,
    "start_time": "2021-12-19T20:48:00.647Z"
   },
   {
    "duration": 7,
    "start_time": "2021-12-19T20:48:00.668Z"
   },
   {
    "duration": 16,
    "start_time": "2021-12-19T20:48:00.678Z"
   },
   {
    "duration": 8,
    "start_time": "2021-12-19T20:48:00.696Z"
   },
   {
    "duration": 16,
    "start_time": "2021-12-19T20:48:00.706Z"
   },
   {
    "duration": 46,
    "start_time": "2021-12-19T20:48:00.724Z"
   },
   {
    "duration": 32,
    "start_time": "2021-12-19T20:48:00.774Z"
   },
   {
    "duration": 23,
    "start_time": "2021-12-19T20:48:00.808Z"
   },
   {
    "duration": 61,
    "start_time": "2021-12-19T20:48:00.833Z"
   },
   {
    "duration": 5,
    "start_time": "2021-12-19T20:48:00.897Z"
   },
   {
    "duration": 3325,
    "start_time": "2021-12-19T20:48:00.904Z"
   },
   {
    "duration": 6,
    "start_time": "2021-12-19T20:48:04.231Z"
   },
   {
    "duration": 4877,
    "start_time": "2021-12-19T20:48:04.239Z"
   },
   {
    "duration": 16,
    "start_time": "2021-12-19T20:48:09.118Z"
   },
   {
    "duration": 15,
    "start_time": "2021-12-19T20:48:09.136Z"
   },
   {
    "duration": 42,
    "start_time": "2021-12-19T20:48:09.153Z"
   },
   {
    "duration": 4,
    "start_time": "2021-12-19T20:48:09.197Z"
   },
   {
    "duration": 57,
    "start_time": "2021-12-19T20:48:09.202Z"
   },
   {
    "duration": 21,
    "start_time": "2021-12-19T20:48:09.260Z"
   },
   {
    "duration": 20,
    "start_time": "2021-12-19T20:48:09.283Z"
   },
   {
    "duration": 13,
    "start_time": "2021-12-19T20:48:09.305Z"
   },
   {
    "duration": 11,
    "start_time": "2021-12-19T20:48:09.319Z"
   },
   {
    "duration": 30,
    "start_time": "2021-12-19T20:48:09.332Z"
   },
   {
    "duration": 11,
    "start_time": "2021-12-19T20:48:09.364Z"
   },
   {
    "duration": 17,
    "start_time": "2021-12-19T20:48:09.377Z"
   },
   {
    "duration": 11,
    "start_time": "2021-12-19T20:48:09.396Z"
   },
   {
    "duration": 5,
    "start_time": "2021-12-19T20:48:09.409Z"
   },
   {
    "duration": 85,
    "start_time": "2021-12-19T20:48:09.416Z"
   },
   {
    "duration": 9,
    "start_time": "2021-12-19T20:48:09.504Z"
   },
   {
    "duration": 297,
    "start_time": "2021-12-19T20:48:09.515Z"
   },
   {
    "duration": 9,
    "start_time": "2021-12-19T20:48:09.813Z"
   },
   {
    "duration": 270,
    "start_time": "2021-12-19T20:48:09.823Z"
   },
   {
    "duration": 6,
    "start_time": "2021-12-19T20:48:10.095Z"
   },
   {
    "duration": 80,
    "start_time": "2021-12-19T20:48:10.102Z"
   },
   {
    "duration": 2,
    "start_time": "2021-12-19T20:48:10.184Z"
   },
   {
    "duration": 293,
    "start_time": "2021-12-19T20:48:10.188Z"
   },
   {
    "duration": 5,
    "start_time": "2021-12-19T20:48:10.483Z"
   },
   {
    "duration": 17,
    "start_time": "2021-12-19T20:48:10.490Z"
   },
   {
    "duration": 73,
    "start_time": "2021-12-19T20:48:10.509Z"
   },
   {
    "duration": 13,
    "start_time": "2021-12-19T20:48:10.584Z"
   },
   {
    "duration": 24,
    "start_time": "2021-12-19T20:48:10.599Z"
   },
   {
    "duration": 14,
    "start_time": "2021-12-19T20:48:10.625Z"
   },
   {
    "duration": 8,
    "start_time": "2021-12-19T20:48:10.644Z"
   },
   {
    "duration": 50,
    "start_time": "2021-12-19T20:48:10.654Z"
   },
   {
    "duration": 13,
    "start_time": "2021-12-19T20:48:10.705Z"
   },
   {
    "duration": 25,
    "start_time": "2021-12-19T20:48:10.720Z"
   },
   {
    "duration": 332,
    "start_time": "2021-12-19T20:48:10.746Z"
   },
   {
    "duration": 7,
    "start_time": "2021-12-19T20:48:11.080Z"
   },
   {
    "duration": 11,
    "start_time": "2021-12-19T20:48:11.089Z"
   },
   {
    "duration": 24,
    "start_time": "2021-12-19T20:48:11.102Z"
   },
   {
    "duration": 6,
    "start_time": "2021-12-19T20:48:11.137Z"
   },
   {
    "duration": 15,
    "start_time": "2021-12-19T20:48:11.145Z"
   },
   {
    "duration": 11,
    "start_time": "2021-12-19T20:48:11.162Z"
   },
   {
    "duration": 93,
    "start_time": "2021-12-19T20:50:05.332Z"
   },
   {
    "duration": 8,
    "start_time": "2021-12-19T20:50:11.568Z"
   },
   {
    "duration": 5,
    "start_time": "2021-12-19T20:50:18.790Z"
   },
   {
    "duration": 22,
    "start_time": "2021-12-19T20:52:34.196Z"
   },
   {
    "duration": 13,
    "start_time": "2021-12-19T20:52:54.795Z"
   },
   {
    "duration": 88,
    "start_time": "2021-12-19T20:53:15.796Z"
   },
   {
    "duration": 13,
    "start_time": "2021-12-19T20:53:18.806Z"
   },
   {
    "duration": 94,
    "start_time": "2021-12-19T20:53:34.376Z"
   },
   {
    "duration": 13,
    "start_time": "2021-12-19T20:53:39.040Z"
   },
   {
    "duration": 13,
    "start_time": "2021-12-19T20:53:58.944Z"
   },
   {
    "duration": 63,
    "start_time": "2021-12-19T20:54:10.747Z"
   },
   {
    "duration": 23,
    "start_time": "2021-12-19T20:54:23.014Z"
   },
   {
    "duration": 17,
    "start_time": "2021-12-19T20:54:30.537Z"
   },
   {
    "duration": 17,
    "start_time": "2021-12-19T20:54:35.966Z"
   },
   {
    "duration": 18,
    "start_time": "2021-12-19T20:55:07.960Z"
   },
   {
    "duration": 16,
    "start_time": "2021-12-19T20:58:18.229Z"
   },
   {
    "duration": 4,
    "start_time": "2021-12-19T21:02:28.119Z"
   },
   {
    "duration": 4,
    "start_time": "2021-12-19T21:02:34.823Z"
   },
   {
    "duration": 6,
    "start_time": "2021-12-19T21:04:52.422Z"
   },
   {
    "duration": 6,
    "start_time": "2021-12-19T21:19:08.265Z"
   },
   {
    "duration": 5,
    "start_time": "2021-12-19T21:19:15.716Z"
   },
   {
    "duration": 5,
    "start_time": "2021-12-19T21:19:22.622Z"
   },
   {
    "duration": 5,
    "start_time": "2021-12-19T21:22:06.769Z"
   },
   {
    "duration": 5,
    "start_time": "2021-12-19T21:22:59.599Z"
   },
   {
    "duration": 11,
    "start_time": "2021-12-19T21:31:28.848Z"
   },
   {
    "duration": 11,
    "start_time": "2021-12-19T21:32:09.123Z"
   },
   {
    "duration": 279,
    "start_time": "2021-12-19T21:32:18.335Z"
   },
   {
    "duration": 43,
    "start_time": "2021-12-19T21:32:41.741Z"
   },
   {
    "duration": 7,
    "start_time": "2021-12-19T21:33:03.024Z"
   },
   {
    "duration": 7,
    "start_time": "2021-12-19T21:33:08.883Z"
   },
   {
    "duration": 6,
    "start_time": "2021-12-19T21:33:13.127Z"
   },
   {
    "duration": 1323,
    "start_time": "2021-12-19T21:34:48.617Z"
   },
   {
    "duration": 88,
    "start_time": "2021-12-19T21:34:49.942Z"
   },
   {
    "duration": 15,
    "start_time": "2021-12-19T21:34:50.032Z"
   },
   {
    "duration": 22,
    "start_time": "2021-12-19T21:34:50.049Z"
   },
   {
    "duration": 7,
    "start_time": "2021-12-19T21:34:50.074Z"
   },
   {
    "duration": 16,
    "start_time": "2021-12-19T21:34:50.083Z"
   },
   {
    "duration": 19,
    "start_time": "2021-12-19T21:34:50.101Z"
   },
   {
    "duration": 6,
    "start_time": "2021-12-19T21:34:50.123Z"
   },
   {
    "duration": 39,
    "start_time": "2021-12-19T21:34:50.131Z"
   },
   {
    "duration": 23,
    "start_time": "2021-12-19T21:34:50.172Z"
   },
   {
    "duration": 40,
    "start_time": "2021-12-19T21:34:50.197Z"
   },
   {
    "duration": 749,
    "start_time": "2021-12-19T21:34:50.263Z"
   },
   {
    "duration": 33,
    "start_time": "2021-12-19T21:34:51.014Z"
   },
   {
    "duration": 17,
    "start_time": "2021-12-19T21:34:51.049Z"
   },
   {
    "duration": 26,
    "start_time": "2021-12-19T21:34:51.068Z"
   },
   {
    "duration": 7,
    "start_time": "2021-12-19T21:34:51.096Z"
   },
   {
    "duration": 9,
    "start_time": "2021-12-19T21:34:51.105Z"
   },
   {
    "duration": 19,
    "start_time": "2021-12-19T21:34:51.115Z"
   },
   {
    "duration": 28,
    "start_time": "2021-12-19T21:34:51.136Z"
   },
   {
    "duration": 12,
    "start_time": "2021-12-19T21:34:51.168Z"
   },
   {
    "duration": 32,
    "start_time": "2021-12-19T21:34:51.182Z"
   },
   {
    "duration": 11,
    "start_time": "2021-12-19T21:34:51.217Z"
   },
   {
    "duration": 425,
    "start_time": "2021-12-19T21:34:51.233Z"
   },
   {
    "duration": 22,
    "start_time": "2021-12-19T21:34:51.661Z"
   },
   {
    "duration": 6,
    "start_time": "2021-12-19T21:34:51.684Z"
   },
   {
    "duration": 16,
    "start_time": "2021-12-19T21:34:51.691Z"
   },
   {
    "duration": 8,
    "start_time": "2021-12-19T21:34:51.708Z"
   },
   {
    "duration": 65,
    "start_time": "2021-12-19T21:34:51.718Z"
   },
   {
    "duration": 17,
    "start_time": "2021-12-19T21:34:51.784Z"
   },
   {
    "duration": 36,
    "start_time": "2021-12-19T21:34:51.803Z"
   },
   {
    "duration": 371,
    "start_time": "2021-12-19T21:34:51.840Z"
   },
   {
    "duration": 26,
    "start_time": "2021-12-19T21:34:52.213Z"
   },
   {
    "duration": 485,
    "start_time": "2021-12-19T21:34:52.241Z"
   },
   {
    "duration": 27,
    "start_time": "2021-12-19T21:34:52.728Z"
   },
   {
    "duration": 10,
    "start_time": "2021-12-19T21:34:52.767Z"
   },
   {
    "duration": 7,
    "start_time": "2021-12-19T21:34:52.781Z"
   },
   {
    "duration": 6,
    "start_time": "2021-12-19T21:34:52.789Z"
   },
   {
    "duration": 26,
    "start_time": "2021-12-19T21:34:52.797Z"
   },
   {
    "duration": 8,
    "start_time": "2021-12-19T21:34:52.826Z"
   },
   {
    "duration": 39,
    "start_time": "2021-12-19T21:34:52.836Z"
   },
   {
    "duration": 9,
    "start_time": "2021-12-19T21:34:52.877Z"
   },
   {
    "duration": 11,
    "start_time": "2021-12-19T21:34:52.888Z"
   },
   {
    "duration": 32,
    "start_time": "2021-12-19T21:34:52.901Z"
   },
   {
    "duration": 29,
    "start_time": "2021-12-19T21:34:52.935Z"
   },
   {
    "duration": 37,
    "start_time": "2021-12-19T21:34:52.966Z"
   },
   {
    "duration": 4,
    "start_time": "2021-12-19T21:34:53.005Z"
   },
   {
    "duration": 3340,
    "start_time": "2021-12-19T21:34:53.010Z"
   },
   {
    "duration": 11,
    "start_time": "2021-12-19T21:34:56.352Z"
   },
   {
    "duration": 5014,
    "start_time": "2021-12-19T21:34:56.365Z"
   },
   {
    "duration": 19,
    "start_time": "2021-12-19T21:35:01.384Z"
   },
   {
    "duration": 13,
    "start_time": "2021-12-19T21:35:01.404Z"
   },
   {
    "duration": 34,
    "start_time": "2021-12-19T21:35:01.419Z"
   },
   {
    "duration": 17,
    "start_time": "2021-12-19T21:35:01.454Z"
   },
   {
    "duration": 47,
    "start_time": "2021-12-19T21:35:01.473Z"
   },
   {
    "duration": 11,
    "start_time": "2021-12-19T21:35:01.523Z"
   },
   {
    "duration": 35,
    "start_time": "2021-12-19T21:35:01.536Z"
   },
   {
    "duration": 20,
    "start_time": "2021-12-19T21:35:01.573Z"
   },
   {
    "duration": 14,
    "start_time": "2021-12-19T21:35:01.596Z"
   },
   {
    "duration": 18,
    "start_time": "2021-12-19T21:35:01.613Z"
   },
   {
    "duration": 10,
    "start_time": "2021-12-19T21:35:01.633Z"
   },
   {
    "duration": 18,
    "start_time": "2021-12-19T21:35:01.665Z"
   },
   {
    "duration": 27,
    "start_time": "2021-12-19T21:35:01.686Z"
   },
   {
    "duration": 5,
    "start_time": "2021-12-19T21:35:01.715Z"
   },
   {
    "duration": 77,
    "start_time": "2021-12-19T21:35:01.722Z"
   },
   {
    "duration": 9,
    "start_time": "2021-12-19T21:35:01.800Z"
   },
   {
    "duration": 324,
    "start_time": "2021-12-19T21:35:01.810Z"
   },
   {
    "duration": 7,
    "start_time": "2021-12-19T21:35:02.136Z"
   },
   {
    "duration": 261,
    "start_time": "2021-12-19T21:35:02.148Z"
   },
   {
    "duration": 4,
    "start_time": "2021-12-19T21:35:02.411Z"
   },
   {
    "duration": 85,
    "start_time": "2021-12-19T21:35:02.416Z"
   },
   {
    "duration": 302,
    "start_time": "2021-12-19T21:35:02.502Z"
   },
   {
    "duration": 4,
    "start_time": "2021-12-19T21:35:02.805Z"
   },
   {
    "duration": 6,
    "start_time": "2021-12-19T21:35:02.811Z"
   },
   {
    "duration": 80,
    "start_time": "2021-12-19T21:35:02.818Z"
   },
   {
    "duration": 11,
    "start_time": "2021-12-19T21:35:02.900Z"
   },
   {
    "duration": 9,
    "start_time": "2021-12-19T21:35:02.912Z"
   },
   {
    "duration": 9,
    "start_time": "2021-12-19T21:35:02.923Z"
   },
   {
    "duration": 6,
    "start_time": "2021-12-19T21:35:02.934Z"
   },
   {
    "duration": 59,
    "start_time": "2021-12-19T21:35:02.942Z"
   },
   {
    "duration": 14,
    "start_time": "2021-12-19T21:35:03.002Z"
   },
   {
    "duration": 15,
    "start_time": "2021-12-19T21:35:03.017Z"
   },
   {
    "duration": 343,
    "start_time": "2021-12-19T21:35:03.034Z"
   },
   {
    "duration": 5,
    "start_time": "2021-12-19T21:35:03.379Z"
   },
   {
    "duration": 6,
    "start_time": "2021-12-19T21:35:03.386Z"
   },
   {
    "duration": 8,
    "start_time": "2021-12-19T21:35:03.394Z"
   },
   {
    "duration": 8,
    "start_time": "2021-12-19T21:35:03.405Z"
   },
   {
    "duration": 15,
    "start_time": "2021-12-19T21:35:03.415Z"
   },
   {
    "duration": 10,
    "start_time": "2021-12-19T21:35:03.432Z"
   },
   {
    "duration": 11,
    "start_time": "2021-12-19T21:35:48.517Z"
   },
   {
    "duration": 10,
    "start_time": "2021-12-19T21:35:55.668Z"
   },
   {
    "duration": 10,
    "start_time": "2021-12-19T21:36:01.644Z"
   },
   {
    "duration": 20,
    "start_time": "2021-12-19T21:36:14.495Z"
   },
   {
    "duration": 318,
    "start_time": "2021-12-19T21:36:37.774Z"
   },
   {
    "duration": 21,
    "start_time": "2021-12-19T21:36:52.227Z"
   },
   {
    "duration": -727,
    "start_time": "2021-12-19T21:37:26.610Z"
   },
   {
    "duration": 4902,
    "start_time": "2021-12-19T21:37:28.508Z"
   },
   {
    "duration": 193,
    "start_time": "2021-12-19T21:37:46.838Z"
   },
   {
    "duration": 213,
    "start_time": "2021-12-19T21:37:53.933Z"
   },
   {
    "duration": 30,
    "start_time": "2021-12-19T21:37:59.642Z"
   },
   {
    "duration": 11,
    "start_time": "2021-12-19T21:38:17.915Z"
   },
   {
    "duration": 14,
    "start_time": "2021-12-19T21:38:22.856Z"
   },
   {
    "duration": 5048,
    "start_time": "2021-12-19T21:38:32.991Z"
   },
   {
    "duration": 20,
    "start_time": "2021-12-19T21:38:38.822Z"
   },
   {
    "duration": 5442,
    "start_time": "2021-12-19T21:38:51.002Z"
   },
   {
    "duration": 5154,
    "start_time": "2021-12-19T21:39:01.474Z"
   },
   {
    "duration": 7,
    "start_time": "2021-12-19T21:39:55.902Z"
   },
   {
    "duration": 26,
    "start_time": "2021-12-19T21:40:15.663Z"
   },
   {
    "duration": 7,
    "start_time": "2021-12-19T21:40:25.516Z"
   },
   {
    "duration": 6,
    "start_time": "2021-12-19T21:40:38.316Z"
   },
   {
    "duration": 197,
    "start_time": "2021-12-19T21:40:44.680Z"
   },
   {
    "duration": 6,
    "start_time": "2021-12-19T21:40:49.053Z"
   },
   {
    "duration": 4,
    "start_time": "2021-12-19T21:41:05.606Z"
   },
   {
    "duration": 62,
    "start_time": "2021-12-19T21:41:45.559Z"
   },
   {
    "duration": 4690,
    "start_time": "2021-12-19T21:41:52.439Z"
   },
   {
    "duration": 9,
    "start_time": "2021-12-19T21:42:05.177Z"
   },
   {
    "duration": 21,
    "start_time": "2021-12-19T21:42:13.209Z"
   },
   {
    "duration": 20,
    "start_time": "2021-12-19T21:42:20.607Z"
   },
   {
    "duration": 8,
    "start_time": "2021-12-19T21:44:55.428Z"
   },
   {
    "duration": 6,
    "start_time": "2021-12-19T21:45:03.814Z"
   },
   {
    "duration": 14,
    "start_time": "2021-12-19T21:45:52.864Z"
   },
   {
    "duration": 71,
    "start_time": "2021-12-19T21:45:55.979Z"
   },
   {
    "duration": 392,
    "start_time": "2021-12-19T21:45:58.793Z"
   },
   {
    "duration": 31,
    "start_time": "2021-12-19T21:46:02.567Z"
   },
   {
    "duration": 1215,
    "start_time": "2021-12-19T21:46:26.693Z"
   },
   {
    "duration": 98,
    "start_time": "2021-12-19T21:46:27.910Z"
   },
   {
    "duration": 13,
    "start_time": "2021-12-19T21:46:28.014Z"
   },
   {
    "duration": 13,
    "start_time": "2021-12-19T21:46:28.029Z"
   },
   {
    "duration": 6,
    "start_time": "2021-12-19T21:46:28.044Z"
   },
   {
    "duration": 21,
    "start_time": "2021-12-19T21:46:28.052Z"
   },
   {
    "duration": 18,
    "start_time": "2021-12-19T21:46:28.076Z"
   },
   {
    "duration": 5,
    "start_time": "2021-12-19T21:46:28.096Z"
   },
   {
    "duration": 13,
    "start_time": "2021-12-19T21:46:28.102Z"
   },
   {
    "duration": 32,
    "start_time": "2021-12-19T21:46:28.117Z"
   },
   {
    "duration": 46,
    "start_time": "2021-12-19T21:46:28.164Z"
   },
   {
    "duration": 683,
    "start_time": "2021-12-19T21:46:28.211Z"
   },
   {
    "duration": 393,
    "start_time": "2021-12-19T21:46:28.895Z"
   },
   {
    "duration": 6,
    "start_time": "2021-12-19T21:46:29.289Z"
   },
   {
    "duration": 7,
    "start_time": "2021-12-19T21:46:29.297Z"
   },
   {
    "duration": 22,
    "start_time": "2021-12-19T21:46:29.305Z"
   },
   {
    "duration": 5,
    "start_time": "2021-12-19T21:46:29.329Z"
   },
   {
    "duration": 8,
    "start_time": "2021-12-19T21:46:29.335Z"
   },
   {
    "duration": 21,
    "start_time": "2021-12-19T21:46:29.364Z"
   },
   {
    "duration": 11,
    "start_time": "2021-12-19T21:46:29.386Z"
   },
   {
    "duration": 14,
    "start_time": "2021-12-19T21:46:29.399Z"
   },
   {
    "duration": 63,
    "start_time": "2021-12-19T21:46:29.417Z"
   },
   {
    "duration": 10,
    "start_time": "2021-12-19T21:46:29.483Z"
   },
   {
    "duration": 413,
    "start_time": "2021-12-19T21:46:29.494Z"
   },
   {
    "duration": 21,
    "start_time": "2021-12-19T21:46:29.909Z"
   },
   {
    "duration": 7,
    "start_time": "2021-12-19T21:46:29.932Z"
   },
   {
    "duration": 34,
    "start_time": "2021-12-19T21:46:29.940Z"
   },
   {
    "duration": 9,
    "start_time": "2021-12-19T21:46:29.976Z"
   },
   {
    "duration": 28,
    "start_time": "2021-12-19T21:46:29.987Z"
   },
   {
    "duration": 17,
    "start_time": "2021-12-19T21:46:30.017Z"
   },
   {
    "duration": 70,
    "start_time": "2021-12-19T21:46:30.035Z"
   },
   {
    "duration": 380,
    "start_time": "2021-12-19T21:46:30.107Z"
   },
   {
    "duration": 36,
    "start_time": "2021-12-19T21:46:30.490Z"
   },
   {
    "duration": 754,
    "start_time": "2021-12-19T21:46:30.529Z"
   },
   {
    "duration": 36,
    "start_time": "2021-12-19T21:46:31.285Z"
   },
   {
    "duration": 8,
    "start_time": "2021-12-19T21:46:31.323Z"
   },
   {
    "duration": 7,
    "start_time": "2021-12-19T21:46:31.333Z"
   },
   {
    "duration": 30,
    "start_time": "2021-12-19T21:46:31.342Z"
   },
   {
    "duration": 18,
    "start_time": "2021-12-19T21:46:31.374Z"
   },
   {
    "duration": 7,
    "start_time": "2021-12-19T21:46:31.394Z"
   },
   {
    "duration": 15,
    "start_time": "2021-12-19T21:46:31.403Z"
   },
   {
    "duration": 19,
    "start_time": "2021-12-19T21:46:31.420Z"
   },
   {
    "duration": 4,
    "start_time": "2021-12-19T21:46:31.441Z"
   },
   {
    "duration": 48,
    "start_time": "2021-12-19T21:46:31.447Z"
   },
   {
    "duration": 20,
    "start_time": "2021-12-19T21:46:31.496Z"
   },
   {
    "duration": 65,
    "start_time": "2021-12-19T21:46:31.518Z"
   },
   {
    "duration": 4,
    "start_time": "2021-12-19T21:46:31.588Z"
   },
   {
    "duration": 3334,
    "start_time": "2021-12-19T21:46:31.594Z"
   },
   {
    "duration": 6,
    "start_time": "2021-12-19T21:46:34.930Z"
   },
   {
    "duration": 4761,
    "start_time": "2021-12-19T21:46:34.938Z"
   },
   {
    "duration": 19,
    "start_time": "2021-12-19T21:46:39.701Z"
   },
   {
    "duration": 10,
    "start_time": "2021-12-19T21:46:39.722Z"
   },
   {
    "duration": 47,
    "start_time": "2021-12-19T21:46:39.733Z"
   },
   {
    "duration": 5,
    "start_time": "2021-12-19T21:46:39.782Z"
   },
   {
    "duration": 44,
    "start_time": "2021-12-19T21:46:39.788Z"
   },
   {
    "duration": 9,
    "start_time": "2021-12-19T21:46:39.834Z"
   },
   {
    "duration": 42,
    "start_time": "2021-12-19T21:46:39.844Z"
   },
   {
    "duration": 16,
    "start_time": "2021-12-19T21:46:39.887Z"
   },
   {
    "duration": 3,
    "start_time": "2021-12-19T21:46:39.905Z"
   },
   {
    "duration": 19,
    "start_time": "2021-12-19T21:46:39.910Z"
   },
   {
    "duration": 5,
    "start_time": "2021-12-19T21:46:39.931Z"
   },
   {
    "duration": 42,
    "start_time": "2021-12-19T21:46:39.938Z"
   },
   {
    "duration": 14,
    "start_time": "2021-12-19T21:46:39.983Z"
   },
   {
    "duration": 4,
    "start_time": "2021-12-19T21:46:39.999Z"
   },
   {
    "duration": 87,
    "start_time": "2021-12-19T21:46:40.005Z"
   },
   {
    "duration": 8,
    "start_time": "2021-12-19T21:46:40.094Z"
   },
   {
    "duration": 298,
    "start_time": "2021-12-19T21:46:40.107Z"
   },
   {
    "duration": 8,
    "start_time": "2021-12-19T21:46:40.407Z"
   },
   {
    "duration": 260,
    "start_time": "2021-12-19T21:46:40.416Z"
   },
   {
    "duration": 6,
    "start_time": "2021-12-19T21:46:40.678Z"
   },
   {
    "duration": 64,
    "start_time": "2021-12-19T21:46:40.685Z"
   },
   {
    "duration": 336,
    "start_time": "2021-12-19T21:46:40.751Z"
   },
   {
    "duration": 4,
    "start_time": "2021-12-19T21:46:41.088Z"
   },
   {
    "duration": 7,
    "start_time": "2021-12-19T21:46:41.094Z"
   },
   {
    "duration": 75,
    "start_time": "2021-12-19T21:46:41.102Z"
   },
   {
    "duration": 15,
    "start_time": "2021-12-19T21:46:41.178Z"
   },
   {
    "duration": 10,
    "start_time": "2021-12-19T21:46:41.195Z"
   },
   {
    "duration": 10,
    "start_time": "2021-12-19T21:46:41.207Z"
   },
   {
    "duration": 7,
    "start_time": "2021-12-19T21:46:41.218Z"
   },
   {
    "duration": 73,
    "start_time": "2021-12-19T21:46:41.226Z"
   },
   {
    "duration": 31,
    "start_time": "2021-12-19T21:46:41.301Z"
   },
   {
    "duration": 11,
    "start_time": "2021-12-19T21:46:41.334Z"
   },
   {
    "duration": 345,
    "start_time": "2021-12-19T21:46:41.347Z"
   },
   {
    "duration": 4,
    "start_time": "2021-12-19T21:46:41.693Z"
   },
   {
    "duration": 15,
    "start_time": "2021-12-19T21:46:41.698Z"
   },
   {
    "duration": 11,
    "start_time": "2021-12-19T21:46:41.715Z"
   },
   {
    "duration": 18,
    "start_time": "2021-12-19T21:46:41.728Z"
   },
   {
    "duration": 20,
    "start_time": "2021-12-19T21:46:41.747Z"
   },
   {
    "duration": 20,
    "start_time": "2021-12-19T21:46:41.769Z"
   },
   {
    "duration": 6,
    "start_time": "2021-12-19T21:49:31.615Z"
   },
   {
    "duration": 26,
    "start_time": "2021-12-19T21:50:58.013Z"
   },
   {
    "duration": 4,
    "start_time": "2021-12-19T21:51:33.744Z"
   },
   {
    "duration": 275,
    "start_time": "2021-12-19T21:52:12.773Z"
   },
   {
    "duration": 24,
    "start_time": "2021-12-19T21:52:19.903Z"
   },
   {
    "duration": 1270,
    "start_time": "2021-12-19T21:54:37.831Z"
   },
   {
    "duration": 109,
    "start_time": "2021-12-19T21:54:39.104Z"
   },
   {
    "duration": 19,
    "start_time": "2021-12-19T21:54:39.216Z"
   },
   {
    "duration": 22,
    "start_time": "2021-12-19T21:54:39.237Z"
   },
   {
    "duration": 6,
    "start_time": "2021-12-19T21:54:39.260Z"
   },
   {
    "duration": 7,
    "start_time": "2021-12-19T21:54:39.268Z"
   },
   {
    "duration": 18,
    "start_time": "2021-12-19T21:54:39.276Z"
   },
   {
    "duration": 5,
    "start_time": "2021-12-19T21:54:39.297Z"
   },
   {
    "duration": 16,
    "start_time": "2021-12-19T21:54:39.305Z"
   },
   {
    "duration": 56,
    "start_time": "2021-12-19T21:54:39.323Z"
   },
   {
    "duration": 44,
    "start_time": "2021-12-19T21:54:39.381Z"
   },
   {
    "duration": 706,
    "start_time": "2021-12-19T21:54:39.427Z"
   },
   {
    "duration": 633,
    "start_time": "2021-12-19T21:54:40.136Z"
   },
   {
    "duration": 9,
    "start_time": "2021-12-19T21:54:40.771Z"
   },
   {
    "duration": 7,
    "start_time": "2021-12-19T21:54:40.782Z"
   },
   {
    "duration": 18,
    "start_time": "2021-12-19T21:54:40.791Z"
   },
   {
    "duration": 6,
    "start_time": "2021-12-19T21:54:40.811Z"
   },
   {
    "duration": 9,
    "start_time": "2021-12-19T21:54:40.818Z"
   },
   {
    "duration": 46,
    "start_time": "2021-12-19T21:54:40.829Z"
   },
   {
    "duration": 13,
    "start_time": "2021-12-19T21:54:40.876Z"
   },
   {
    "duration": 19,
    "start_time": "2021-12-19T21:54:40.891Z"
   },
   {
    "duration": 31,
    "start_time": "2021-12-19T21:54:40.911Z"
   },
   {
    "duration": 11,
    "start_time": "2021-12-19T21:54:40.966Z"
   },
   {
    "duration": 497,
    "start_time": "2021-12-19T21:54:40.980Z"
   },
   {
    "duration": 14,
    "start_time": "2021-12-19T21:54:41.479Z"
   },
   {
    "duration": 7,
    "start_time": "2021-12-19T21:54:41.495Z"
   },
   {
    "duration": 11,
    "start_time": "2021-12-19T21:54:41.504Z"
   },
   {
    "duration": 6,
    "start_time": "2021-12-19T21:54:41.517Z"
   },
   {
    "duration": 57,
    "start_time": "2021-12-19T21:54:41.525Z"
   },
   {
    "duration": 16,
    "start_time": "2021-12-19T21:54:41.584Z"
   },
   {
    "duration": 33,
    "start_time": "2021-12-19T21:54:41.603Z"
   },
   {
    "duration": 394,
    "start_time": "2021-12-19T21:54:41.637Z"
   },
   {
    "duration": 39,
    "start_time": "2021-12-19T21:54:42.033Z"
   },
   {
    "duration": 495,
    "start_time": "2021-12-19T21:54:42.073Z"
   },
   {
    "duration": 33,
    "start_time": "2021-12-19T21:54:42.570Z"
   },
   {
    "duration": 8,
    "start_time": "2021-12-19T21:54:42.605Z"
   },
   {
    "duration": 3,
    "start_time": "2021-12-19T21:54:42.615Z"
   },
   {
    "duration": 6,
    "start_time": "2021-12-19T21:54:42.620Z"
   },
   {
    "duration": 47,
    "start_time": "2021-12-19T21:54:42.627Z"
   },
   {
    "duration": 9,
    "start_time": "2021-12-19T21:54:42.676Z"
   },
   {
    "duration": 9,
    "start_time": "2021-12-19T21:54:42.687Z"
   },
   {
    "duration": 7,
    "start_time": "2021-12-19T21:54:42.697Z"
   },
   {
    "duration": 6,
    "start_time": "2021-12-19T21:54:42.706Z"
   },
   {
    "duration": 69,
    "start_time": "2021-12-19T21:54:42.714Z"
   },
   {
    "duration": 19,
    "start_time": "2021-12-19T21:54:42.785Z"
   },
   {
    "duration": 59,
    "start_time": "2021-12-19T21:54:42.806Z"
   },
   {
    "duration": 5,
    "start_time": "2021-12-19T21:54:42.867Z"
   },
   {
    "duration": 3169,
    "start_time": "2021-12-19T21:54:42.873Z"
   },
   {
    "duration": 6,
    "start_time": "2021-12-19T21:54:46.044Z"
   },
   {
    "duration": 4418,
    "start_time": "2021-12-19T21:54:46.052Z"
   },
   {
    "duration": 17,
    "start_time": "2021-12-19T21:54:50.472Z"
   },
   {
    "duration": 7,
    "start_time": "2021-12-19T21:54:50.491Z"
   },
   {
    "duration": 32,
    "start_time": "2021-12-19T21:54:50.499Z"
   },
   {
    "duration": 4,
    "start_time": "2021-12-19T21:54:50.533Z"
   },
   {
    "duration": 45,
    "start_time": "2021-12-19T21:54:50.563Z"
   },
   {
    "duration": 9,
    "start_time": "2021-12-19T21:54:50.610Z"
   },
   {
    "duration": 19,
    "start_time": "2021-12-19T21:54:50.621Z"
   },
   {
    "duration": 16,
    "start_time": "2021-12-19T21:54:50.663Z"
   },
   {
    "duration": 3,
    "start_time": "2021-12-19T21:54:50.681Z"
   },
   {
    "duration": 20,
    "start_time": "2021-12-19T21:54:50.686Z"
   },
   {
    "duration": 5,
    "start_time": "2021-12-19T21:54:50.707Z"
   },
   {
    "duration": 23,
    "start_time": "2021-12-19T21:54:50.714Z"
   },
   {
    "duration": 36,
    "start_time": "2021-12-19T21:54:50.738Z"
   },
   {
    "duration": 4,
    "start_time": "2021-12-19T21:54:50.776Z"
   },
   {
    "duration": 59,
    "start_time": "2021-12-19T21:54:50.784Z"
   },
   {
    "duration": 23,
    "start_time": "2021-12-19T21:54:50.845Z"
   },
   {
    "duration": 275,
    "start_time": "2021-12-19T21:54:50.870Z"
   },
   {
    "duration": 8,
    "start_time": "2021-12-19T21:54:51.162Z"
   },
   {
    "duration": 252,
    "start_time": "2021-12-19T21:54:51.171Z"
   },
   {
    "duration": 7,
    "start_time": "2021-12-19T21:54:51.425Z"
   },
   {
    "duration": 113,
    "start_time": "2021-12-19T21:54:51.434Z"
   },
   {
    "duration": 432,
    "start_time": "2021-12-19T21:54:51.549Z"
   },
   {
    "duration": 6,
    "start_time": "2021-12-19T21:54:51.983Z"
   },
   {
    "duration": 5,
    "start_time": "2021-12-19T21:54:51.991Z"
   },
   {
    "duration": 67,
    "start_time": "2021-12-19T21:54:51.998Z"
   },
   {
    "duration": 12,
    "start_time": "2021-12-19T21:54:52.066Z"
   },
   {
    "duration": 8,
    "start_time": "2021-12-19T21:54:52.080Z"
   },
   {
    "duration": 20,
    "start_time": "2021-12-19T21:54:52.090Z"
   },
   {
    "duration": 5,
    "start_time": "2021-12-19T21:54:52.112Z"
   },
   {
    "duration": 44,
    "start_time": "2021-12-19T21:54:52.119Z"
   },
   {
    "duration": 14,
    "start_time": "2021-12-19T21:54:52.165Z"
   },
   {
    "duration": 15,
    "start_time": "2021-12-19T21:54:52.181Z"
   },
   {
    "duration": 313,
    "start_time": "2021-12-19T21:54:52.198Z"
   },
   {
    "duration": 3,
    "start_time": "2021-12-19T21:54:52.513Z"
   },
   {
    "duration": 7,
    "start_time": "2021-12-19T21:54:52.518Z"
   },
   {
    "duration": 7,
    "start_time": "2021-12-19T21:54:52.527Z"
   },
   {
    "duration": 27,
    "start_time": "2021-12-19T21:54:52.536Z"
   },
   {
    "duration": 9,
    "start_time": "2021-12-19T21:54:52.565Z"
   },
   {
    "duration": 6,
    "start_time": "2021-12-19T21:54:52.576Z"
   },
   {
    "duration": 1087,
    "start_time": "2021-12-19T21:56:28.916Z"
   },
   {
    "duration": 97,
    "start_time": "2021-12-19T21:56:30.005Z"
   },
   {
    "duration": 13,
    "start_time": "2021-12-19T21:56:30.104Z"
   },
   {
    "duration": 16,
    "start_time": "2021-12-19T21:56:30.120Z"
   },
   {
    "duration": 13,
    "start_time": "2021-12-19T21:56:30.138Z"
   },
   {
    "duration": 16,
    "start_time": "2021-12-19T21:56:30.153Z"
   },
   {
    "duration": 24,
    "start_time": "2021-12-19T21:56:30.171Z"
   },
   {
    "duration": 7,
    "start_time": "2021-12-19T21:56:30.199Z"
   },
   {
    "duration": 19,
    "start_time": "2021-12-19T21:56:30.208Z"
   },
   {
    "duration": 31,
    "start_time": "2021-12-19T21:56:30.229Z"
   },
   {
    "duration": 41,
    "start_time": "2021-12-19T21:56:30.263Z"
   },
   {
    "duration": 623,
    "start_time": "2021-12-19T21:56:30.306Z"
   },
   {
    "duration": 40,
    "start_time": "2021-12-19T21:56:30.931Z"
   },
   {
    "duration": 14,
    "start_time": "2021-12-19T21:56:30.973Z"
   },
   {
    "duration": 9,
    "start_time": "2021-12-19T21:56:30.989Z"
   },
   {
    "duration": 19,
    "start_time": "2021-12-19T21:56:31.000Z"
   },
   {
    "duration": 5,
    "start_time": "2021-12-19T21:56:31.022Z"
   },
   {
    "duration": 7,
    "start_time": "2021-12-19T21:56:31.029Z"
   },
   {
    "duration": 17,
    "start_time": "2021-12-19T21:56:31.064Z"
   },
   {
    "duration": 11,
    "start_time": "2021-12-19T21:56:31.083Z"
   },
   {
    "duration": 24,
    "start_time": "2021-12-19T21:56:31.097Z"
   },
   {
    "duration": 44,
    "start_time": "2021-12-19T21:56:31.123Z"
   },
   {
    "duration": 10,
    "start_time": "2021-12-19T21:56:31.172Z"
   },
   {
    "duration": 402,
    "start_time": "2021-12-19T21:56:31.185Z"
   },
   {
    "duration": 15,
    "start_time": "2021-12-19T21:56:31.589Z"
   },
   {
    "duration": 5,
    "start_time": "2021-12-19T21:56:31.606Z"
   },
   {
    "duration": 20,
    "start_time": "2021-12-19T21:56:31.613Z"
   },
   {
    "duration": 31,
    "start_time": "2021-12-19T21:56:31.635Z"
   },
   {
    "duration": 23,
    "start_time": "2021-12-19T21:56:31.668Z"
   },
   {
    "duration": 16,
    "start_time": "2021-12-19T21:56:31.692Z"
   },
   {
    "duration": 53,
    "start_time": "2021-12-19T21:56:31.710Z"
   },
   {
    "duration": 343,
    "start_time": "2021-12-19T21:56:31.765Z"
   },
   {
    "duration": 29,
    "start_time": "2021-12-19T21:56:32.110Z"
   },
   {
    "duration": 463,
    "start_time": "2021-12-19T21:56:32.142Z"
   },
   {
    "duration": 28,
    "start_time": "2021-12-19T21:56:32.608Z"
   },
   {
    "duration": 26,
    "start_time": "2021-12-19T21:56:32.638Z"
   },
   {
    "duration": 4,
    "start_time": "2021-12-19T21:56:32.666Z"
   },
   {
    "duration": 7,
    "start_time": "2021-12-19T21:56:32.672Z"
   },
   {
    "duration": 17,
    "start_time": "2021-12-19T21:56:32.681Z"
   },
   {
    "duration": 7,
    "start_time": "2021-12-19T21:56:32.700Z"
   },
   {
    "duration": 14,
    "start_time": "2021-12-19T21:56:32.708Z"
   },
   {
    "duration": 9,
    "start_time": "2021-12-19T21:56:32.724Z"
   },
   {
    "duration": 30,
    "start_time": "2021-12-19T21:56:32.735Z"
   },
   {
    "duration": 29,
    "start_time": "2021-12-19T21:56:32.767Z"
   },
   {
    "duration": 22,
    "start_time": "2021-12-19T21:56:32.797Z"
   },
   {
    "duration": 60,
    "start_time": "2021-12-19T21:56:32.821Z"
   },
   {
    "duration": 4,
    "start_time": "2021-12-19T21:56:32.883Z"
   },
   {
    "duration": 3216,
    "start_time": "2021-12-19T21:56:32.888Z"
   },
   {
    "duration": 6,
    "start_time": "2021-12-19T21:56:36.106Z"
   },
   {
    "duration": 4524,
    "start_time": "2021-12-19T21:56:36.113Z"
   },
   {
    "duration": 16,
    "start_time": "2021-12-19T21:56:40.639Z"
   },
   {
    "duration": 6,
    "start_time": "2021-12-19T21:56:40.663Z"
   },
   {
    "duration": 33,
    "start_time": "2021-12-19T21:56:40.671Z"
   },
   {
    "duration": 4,
    "start_time": "2021-12-19T21:56:40.705Z"
   },
   {
    "duration": 65,
    "start_time": "2021-12-19T21:56:40.710Z"
   },
   {
    "duration": 9,
    "start_time": "2021-12-19T21:56:40.777Z"
   },
   {
    "duration": 15,
    "start_time": "2021-12-19T21:56:40.787Z"
   },
   {
    "duration": 14,
    "start_time": "2021-12-19T21:56:40.804Z"
   },
   {
    "duration": 3,
    "start_time": "2021-12-19T21:56:40.819Z"
   },
   {
    "duration": 42,
    "start_time": "2021-12-19T21:56:40.823Z"
   },
   {
    "duration": 5,
    "start_time": "2021-12-19T21:56:40.867Z"
   },
   {
    "duration": 34,
    "start_time": "2021-12-19T21:56:40.873Z"
   },
   {
    "duration": 23,
    "start_time": "2021-12-19T21:56:40.908Z"
   },
   {
    "duration": 4,
    "start_time": "2021-12-19T21:56:40.933Z"
   },
   {
    "duration": 57,
    "start_time": "2021-12-19T21:56:40.938Z"
   },
   {
    "duration": 9,
    "start_time": "2021-12-19T21:56:40.996Z"
   },
   {
    "duration": 286,
    "start_time": "2021-12-19T21:56:41.006Z"
   },
   {
    "duration": 7,
    "start_time": "2021-12-19T21:56:41.296Z"
   },
   {
    "duration": 241,
    "start_time": "2021-12-19T21:56:41.305Z"
   },
   {
    "duration": 16,
    "start_time": "2021-12-19T21:56:41.548Z"
   },
   {
    "duration": 68,
    "start_time": "2021-12-19T21:56:41.565Z"
   },
   {
    "duration": 388,
    "start_time": "2021-12-19T21:56:41.635Z"
   },
   {
    "duration": 3,
    "start_time": "2021-12-19T21:56:42.025Z"
   },
   {
    "duration": 6,
    "start_time": "2021-12-19T21:56:42.030Z"
   },
   {
    "duration": 73,
    "start_time": "2021-12-19T21:56:42.037Z"
   },
   {
    "duration": 12,
    "start_time": "2021-12-19T21:56:42.112Z"
   },
   {
    "duration": 11,
    "start_time": "2021-12-19T21:56:42.126Z"
   },
   {
    "duration": 8,
    "start_time": "2021-12-19T21:56:42.138Z"
   },
   {
    "duration": 3,
    "start_time": "2021-12-19T21:56:42.164Z"
   },
   {
    "duration": 33,
    "start_time": "2021-12-19T21:56:42.168Z"
   },
   {
    "duration": 16,
    "start_time": "2021-12-19T21:56:42.203Z"
   },
   {
    "duration": 21,
    "start_time": "2021-12-19T21:56:42.221Z"
   },
   {
    "duration": 305,
    "start_time": "2021-12-19T21:56:42.243Z"
   },
   {
    "duration": 3,
    "start_time": "2021-12-19T21:56:42.550Z"
   },
   {
    "duration": 3,
    "start_time": "2021-12-19T21:56:42.563Z"
   },
   {
    "duration": 8,
    "start_time": "2021-12-19T21:56:42.568Z"
   },
   {
    "duration": 6,
    "start_time": "2021-12-19T21:56:42.578Z"
   },
   {
    "duration": 11,
    "start_time": "2021-12-19T21:56:42.586Z"
   },
   {
    "duration": 5,
    "start_time": "2021-12-19T21:56:42.599Z"
   },
   {
    "duration": 937,
    "start_time": "2021-12-19T21:57:40.901Z"
   },
   {
    "duration": 1502,
    "start_time": "2021-12-19T21:58:26.491Z"
   },
   {
    "duration": 110,
    "start_time": "2021-12-19T21:58:27.996Z"
   },
   {
    "duration": 13,
    "start_time": "2021-12-19T21:58:28.109Z"
   },
   {
    "duration": 45,
    "start_time": "2021-12-19T21:58:28.124Z"
   },
   {
    "duration": 14,
    "start_time": "2021-12-19T21:58:28.170Z"
   },
   {
    "duration": 33,
    "start_time": "2021-12-19T21:58:28.186Z"
   },
   {
    "duration": 43,
    "start_time": "2021-12-19T21:58:28.221Z"
   },
   {
    "duration": 10,
    "start_time": "2021-12-19T21:58:28.267Z"
   },
   {
    "duration": 39,
    "start_time": "2021-12-19T21:58:28.280Z"
   },
   {
    "duration": 33,
    "start_time": "2021-12-19T21:58:28.321Z"
   },
   {
    "duration": 60,
    "start_time": "2021-12-19T21:58:28.355Z"
   },
   {
    "duration": 615,
    "start_time": "2021-12-19T21:58:28.417Z"
   },
   {
    "duration": 306,
    "start_time": "2021-12-19T21:58:29.034Z"
   },
   {
    "duration": -730,
    "start_time": "2021-12-19T21:58:30.073Z"
   },
   {
    "duration": -735,
    "start_time": "2021-12-19T21:58:30.079Z"
   },
   {
    "duration": -741,
    "start_time": "2021-12-19T21:58:30.086Z"
   },
   {
    "duration": -750,
    "start_time": "2021-12-19T21:58:30.095Z"
   },
   {
    "duration": -756,
    "start_time": "2021-12-19T21:58:30.102Z"
   },
   {
    "duration": -762,
    "start_time": "2021-12-19T21:58:30.109Z"
   },
   {
    "duration": -774,
    "start_time": "2021-12-19T21:58:30.122Z"
   },
   {
    "duration": -780,
    "start_time": "2021-12-19T21:58:30.129Z"
   },
   {
    "duration": -796,
    "start_time": "2021-12-19T21:58:30.146Z"
   },
   {
    "duration": -802,
    "start_time": "2021-12-19T21:58:30.152Z"
   },
   {
    "duration": -807,
    "start_time": "2021-12-19T21:58:30.158Z"
   },
   {
    "duration": -814,
    "start_time": "2021-12-19T21:58:30.166Z"
   },
   {
    "duration": -818,
    "start_time": "2021-12-19T21:58:30.171Z"
   },
   {
    "duration": -826,
    "start_time": "2021-12-19T21:58:30.179Z"
   },
   {
    "duration": -830,
    "start_time": "2021-12-19T21:58:30.184Z"
   },
   {
    "duration": -833,
    "start_time": "2021-12-19T21:58:30.189Z"
   },
   {
    "duration": -838,
    "start_time": "2021-12-19T21:58:30.194Z"
   },
   {
    "duration": -842,
    "start_time": "2021-12-19T21:58:30.199Z"
   },
   {
    "duration": -846,
    "start_time": "2021-12-19T21:58:30.204Z"
   },
   {
    "duration": -851,
    "start_time": "2021-12-19T21:58:30.210Z"
   },
   {
    "duration": -854,
    "start_time": "2021-12-19T21:58:30.214Z"
   },
   {
    "duration": -858,
    "start_time": "2021-12-19T21:58:30.219Z"
   },
   {
    "duration": -862,
    "start_time": "2021-12-19T21:58:30.224Z"
   },
   {
    "duration": -866,
    "start_time": "2021-12-19T21:58:30.229Z"
   },
   {
    "duration": -869,
    "start_time": "2021-12-19T21:58:30.233Z"
   },
   {
    "duration": -873,
    "start_time": "2021-12-19T21:58:30.238Z"
   },
   {
    "duration": -877,
    "start_time": "2021-12-19T21:58:30.243Z"
   },
   {
    "duration": -893,
    "start_time": "2021-12-19T21:58:30.260Z"
   },
   {
    "duration": -897,
    "start_time": "2021-12-19T21:58:30.265Z"
   },
   {
    "duration": -902,
    "start_time": "2021-12-19T21:58:30.271Z"
   },
   {
    "duration": -905,
    "start_time": "2021-12-19T21:58:30.275Z"
   },
   {
    "duration": -909,
    "start_time": "2021-12-19T21:58:30.280Z"
   },
   {
    "duration": -913,
    "start_time": "2021-12-19T21:58:30.285Z"
   },
   {
    "duration": -917,
    "start_time": "2021-12-19T21:58:30.290Z"
   },
   {
    "duration": -921,
    "start_time": "2021-12-19T21:58:30.295Z"
   },
   {
    "duration": -925,
    "start_time": "2021-12-19T21:58:30.300Z"
   },
   {
    "duration": -929,
    "start_time": "2021-12-19T21:58:30.305Z"
   },
   {
    "duration": -933,
    "start_time": "2021-12-19T21:58:30.310Z"
   },
   {
    "duration": -936,
    "start_time": "2021-12-19T21:58:30.314Z"
   },
   {
    "duration": -940,
    "start_time": "2021-12-19T21:58:30.319Z"
   },
   {
    "duration": -944,
    "start_time": "2021-12-19T21:58:30.324Z"
   },
   {
    "duration": -948,
    "start_time": "2021-12-19T21:58:30.329Z"
   },
   {
    "duration": -952,
    "start_time": "2021-12-19T21:58:30.334Z"
   },
   {
    "duration": -956,
    "start_time": "2021-12-19T21:58:30.339Z"
   },
   {
    "duration": -960,
    "start_time": "2021-12-19T21:58:30.344Z"
   },
   {
    "duration": -964,
    "start_time": "2021-12-19T21:58:30.349Z"
   },
   {
    "duration": -967,
    "start_time": "2021-12-19T21:58:30.353Z"
   },
   {
    "duration": -981,
    "start_time": "2021-12-19T21:58:30.368Z"
   },
   {
    "duration": -985,
    "start_time": "2021-12-19T21:58:30.373Z"
   },
   {
    "duration": -990,
    "start_time": "2021-12-19T21:58:30.379Z"
   },
   {
    "duration": -994,
    "start_time": "2021-12-19T21:58:30.384Z"
   },
   {
    "duration": -999,
    "start_time": "2021-12-19T21:58:30.390Z"
   },
   {
    "duration": -1004,
    "start_time": "2021-12-19T21:58:30.396Z"
   },
   {
    "duration": -1009,
    "start_time": "2021-12-19T21:58:30.402Z"
   },
   {
    "duration": -1013,
    "start_time": "2021-12-19T21:58:30.407Z"
   },
   {
    "duration": -1018,
    "start_time": "2021-12-19T21:58:30.413Z"
   },
   {
    "duration": -1022,
    "start_time": "2021-12-19T21:58:30.418Z"
   },
   {
    "duration": -1021,
    "start_time": "2021-12-19T21:58:30.423Z"
   },
   {
    "duration": -1024,
    "start_time": "2021-12-19T21:58:30.427Z"
   },
   {
    "duration": -1029,
    "start_time": "2021-12-19T21:58:30.432Z"
   },
   {
    "duration": -1032,
    "start_time": "2021-12-19T21:58:30.436Z"
   },
   {
    "duration": -1037,
    "start_time": "2021-12-19T21:58:30.441Z"
   },
   {
    "duration": -1041,
    "start_time": "2021-12-19T21:58:30.446Z"
   },
   {
    "duration": -1045,
    "start_time": "2021-12-19T21:58:30.451Z"
   },
   {
    "duration": -993,
    "start_time": "2021-12-19T21:58:30.456Z"
   },
   {
    "duration": -996,
    "start_time": "2021-12-19T21:58:30.460Z"
   },
   {
    "duration": -1022,
    "start_time": "2021-12-19T21:58:30.487Z"
   },
   {
    "duration": -1026,
    "start_time": "2021-12-19T21:58:30.492Z"
   },
   {
    "duration": -1030,
    "start_time": "2021-12-19T21:58:30.497Z"
   },
   {
    "duration": -1034,
    "start_time": "2021-12-19T21:58:30.502Z"
   },
   {
    "duration": -1046,
    "start_time": "2021-12-19T21:58:30.514Z"
   },
   {
    "duration": -1050,
    "start_time": "2021-12-19T21:58:30.519Z"
   },
   {
    "duration": -1052,
    "start_time": "2021-12-19T21:58:30.523Z"
   },
   {
    "duration": -1056,
    "start_time": "2021-12-19T21:58:30.528Z"
   },
   {
    "duration": -1061,
    "start_time": "2021-12-19T21:58:30.533Z"
   },
   {
    "duration": -1065,
    "start_time": "2021-12-19T21:58:30.538Z"
   },
   {
    "duration": 204,
    "start_time": "2021-12-19T21:59:05.052Z"
   },
   {
    "duration": 1505,
    "start_time": "2021-12-19T21:59:37.146Z"
   },
   {
    "duration": 1217,
    "start_time": "2021-12-19T21:59:59.787Z"
   },
   {
    "duration": 88,
    "start_time": "2021-12-19T22:00:01.006Z"
   },
   {
    "duration": 13,
    "start_time": "2021-12-19T22:00:01.096Z"
   },
   {
    "duration": 61,
    "start_time": "2021-12-19T22:00:01.111Z"
   },
   {
    "duration": 105,
    "start_time": "2021-12-19T22:00:01.174Z"
   },
   {
    "duration": 21,
    "start_time": "2021-12-19T22:00:01.281Z"
   },
   {
    "duration": 60,
    "start_time": "2021-12-19T22:00:01.304Z"
   },
   {
    "duration": 33,
    "start_time": "2021-12-19T22:00:01.367Z"
   },
   {
    "duration": 44,
    "start_time": "2021-12-19T22:00:01.403Z"
   },
   {
    "duration": 48,
    "start_time": "2021-12-19T22:00:01.449Z"
   },
   {
    "duration": 53,
    "start_time": "2021-12-19T22:00:01.499Z"
   },
   {
    "duration": 620,
    "start_time": "2021-12-19T22:00:01.554Z"
   },
   {
    "duration": 987,
    "start_time": "2021-12-19T22:00:02.176Z"
   },
   {
    "duration": -716,
    "start_time": "2021-12-19T22:00:03.882Z"
   },
   {
    "duration": -720,
    "start_time": "2021-12-19T22:00:03.887Z"
   },
   {
    "duration": -724,
    "start_time": "2021-12-19T22:00:03.892Z"
   },
   {
    "duration": -730,
    "start_time": "2021-12-19T22:00:03.899Z"
   },
   {
    "duration": -734,
    "start_time": "2021-12-19T22:00:03.904Z"
   },
   {
    "duration": -738,
    "start_time": "2021-12-19T22:00:03.909Z"
   },
   {
    "duration": -742,
    "start_time": "2021-12-19T22:00:03.914Z"
   },
   {
    "duration": -746,
    "start_time": "2021-12-19T22:00:03.919Z"
   },
   {
    "duration": -750,
    "start_time": "2021-12-19T22:00:03.924Z"
   },
   {
    "duration": -754,
    "start_time": "2021-12-19T22:00:03.929Z"
   },
   {
    "duration": -758,
    "start_time": "2021-12-19T22:00:03.933Z"
   },
   {
    "duration": -762,
    "start_time": "2021-12-19T22:00:03.938Z"
   },
   {
    "duration": -766,
    "start_time": "2021-12-19T22:00:03.943Z"
   },
   {
    "duration": -773,
    "start_time": "2021-12-19T22:00:03.951Z"
   },
   {
    "duration": -779,
    "start_time": "2021-12-19T22:00:03.958Z"
   },
   {
    "duration": -787,
    "start_time": "2021-12-19T22:00:03.967Z"
   },
   {
    "duration": -792,
    "start_time": "2021-12-19T22:00:03.973Z"
   },
   {
    "duration": -809,
    "start_time": "2021-12-19T22:00:03.991Z"
   },
   {
    "duration": -814,
    "start_time": "2021-12-19T22:00:03.996Z"
   },
   {
    "duration": -819,
    "start_time": "2021-12-19T22:00:04.002Z"
   },
   {
    "duration": -822,
    "start_time": "2021-12-19T22:00:04.006Z"
   },
   {
    "duration": -826,
    "start_time": "2021-12-19T22:00:04.011Z"
   },
   {
    "duration": -830,
    "start_time": "2021-12-19T22:00:04.016Z"
   },
   {
    "duration": -834,
    "start_time": "2021-12-19T22:00:04.021Z"
   },
   {
    "duration": -838,
    "start_time": "2021-12-19T22:00:04.026Z"
   },
   {
    "duration": -842,
    "start_time": "2021-12-19T22:00:04.031Z"
   },
   {
    "duration": -846,
    "start_time": "2021-12-19T22:00:04.035Z"
   },
   {
    "duration": -850,
    "start_time": "2021-12-19T22:00:04.041Z"
   },
   {
    "duration": -854,
    "start_time": "2021-12-19T22:00:04.046Z"
   },
   {
    "duration": -858,
    "start_time": "2021-12-19T22:00:04.051Z"
   },
   {
    "duration": -864,
    "start_time": "2021-12-19T22:00:04.057Z"
   },
   {
    "duration": -869,
    "start_time": "2021-12-19T22:00:04.063Z"
   },
   {
    "duration": -874,
    "start_time": "2021-12-19T22:00:04.069Z"
   },
   {
    "duration": -880,
    "start_time": "2021-12-19T22:00:04.076Z"
   },
   {
    "duration": -884,
    "start_time": "2021-12-19T22:00:04.081Z"
   },
   {
    "duration": -891,
    "start_time": "2021-12-19T22:00:04.089Z"
   },
   {
    "duration": -904,
    "start_time": "2021-12-19T22:00:04.103Z"
   },
   {
    "duration": -909,
    "start_time": "2021-12-19T22:00:04.109Z"
   },
   {
    "duration": -913,
    "start_time": "2021-12-19T22:00:04.114Z"
   },
   {
    "duration": -917,
    "start_time": "2021-12-19T22:00:04.119Z"
   },
   {
    "duration": -921,
    "start_time": "2021-12-19T22:00:04.124Z"
   },
   {
    "duration": -928,
    "start_time": "2021-12-19T22:00:04.132Z"
   },
   {
    "duration": -933,
    "start_time": "2021-12-19T22:00:04.137Z"
   },
   {
    "duration": -937,
    "start_time": "2021-12-19T22:00:04.142Z"
   },
   {
    "duration": -941,
    "start_time": "2021-12-19T22:00:04.147Z"
   },
   {
    "duration": -890,
    "start_time": "2021-12-19T22:00:04.153Z"
   },
   {
    "duration": -892,
    "start_time": "2021-12-19T22:00:04.157Z"
   },
   {
    "duration": -896,
    "start_time": "2021-12-19T22:00:04.162Z"
   },
   {
    "duration": -900,
    "start_time": "2021-12-19T22:00:04.167Z"
   },
   {
    "duration": -904,
    "start_time": "2021-12-19T22:00:04.172Z"
   },
   {
    "duration": -907,
    "start_time": "2021-12-19T22:00:04.176Z"
   },
   {
    "duration": -912,
    "start_time": "2021-12-19T22:00:04.182Z"
   },
   {
    "duration": -915,
    "start_time": "2021-12-19T22:00:04.186Z"
   },
   {
    "duration": -1009,
    "start_time": "2021-12-19T22:00:04.282Z"
   },
   {
    "duration": -1013,
    "start_time": "2021-12-19T22:00:04.287Z"
   },
   {
    "duration": -1018,
    "start_time": "2021-12-19T22:00:04.293Z"
   },
   {
    "duration": -1022,
    "start_time": "2021-12-19T22:00:04.298Z"
   },
   {
    "duration": -1027,
    "start_time": "2021-12-19T22:00:04.304Z"
   },
   {
    "duration": -1031,
    "start_time": "2021-12-19T22:00:04.309Z"
   },
   {
    "duration": -1036,
    "start_time": "2021-12-19T22:00:04.315Z"
   },
   {
    "duration": -1232,
    "start_time": "2021-12-19T22:00:04.511Z"
   },
   {
    "duration": -1236,
    "start_time": "2021-12-19T22:00:04.516Z"
   },
   {
    "duration": -1254,
    "start_time": "2021-12-19T22:00:04.535Z"
   },
   {
    "duration": -1258,
    "start_time": "2021-12-19T22:00:04.540Z"
   },
   {
    "duration": -1262,
    "start_time": "2021-12-19T22:00:04.544Z"
   },
   {
    "duration": -1267,
    "start_time": "2021-12-19T22:00:04.550Z"
   },
   {
    "duration": -1291,
    "start_time": "2021-12-19T22:00:04.575Z"
   },
   {
    "duration": -1297,
    "start_time": "2021-12-19T22:00:04.581Z"
   },
   {
    "duration": -1300,
    "start_time": "2021-12-19T22:00:04.585Z"
   },
   {
    "duration": -1304,
    "start_time": "2021-12-19T22:00:04.590Z"
   },
   {
    "duration": -1308,
    "start_time": "2021-12-19T22:00:04.595Z"
   },
   {
    "duration": -1312,
    "start_time": "2021-12-19T22:00:04.600Z"
   },
   {
    "duration": -1317,
    "start_time": "2021-12-19T22:00:04.605Z"
   },
   {
    "duration": -1325,
    "start_time": "2021-12-19T22:00:04.614Z"
   },
   {
    "duration": -1333,
    "start_time": "2021-12-19T22:00:04.623Z"
   },
   {
    "duration": -1337,
    "start_time": "2021-12-19T22:00:04.628Z"
   },
   {
    "duration": 518,
    "start_time": "2021-12-19T22:00:31.579Z"
   },
   {
    "duration": 1169,
    "start_time": "2021-12-19T22:00:37.541Z"
   },
   {
    "duration": 89,
    "start_time": "2021-12-19T22:00:38.712Z"
   },
   {
    "duration": 13,
    "start_time": "2021-12-19T22:00:38.805Z"
   },
   {
    "duration": 18,
    "start_time": "2021-12-19T22:00:38.820Z"
   },
   {
    "duration": 6,
    "start_time": "2021-12-19T22:00:38.840Z"
   },
   {
    "duration": 20,
    "start_time": "2021-12-19T22:00:38.848Z"
   },
   {
    "duration": 26,
    "start_time": "2021-12-19T22:00:38.870Z"
   },
   {
    "duration": 13,
    "start_time": "2021-12-19T22:00:38.898Z"
   },
   {
    "duration": 14,
    "start_time": "2021-12-19T22:00:38.913Z"
   },
   {
    "duration": 35,
    "start_time": "2021-12-19T22:00:38.928Z"
   },
   {
    "duration": 40,
    "start_time": "2021-12-19T22:00:38.965Z"
   },
   {
    "duration": 628,
    "start_time": "2021-12-19T22:00:39.007Z"
   },
   {
    "duration": 519,
    "start_time": "2021-12-19T22:00:39.636Z"
   },
   {
    "duration": 11,
    "start_time": "2021-12-19T22:00:40.157Z"
   },
   {
    "duration": 10,
    "start_time": "2021-12-19T22:00:40.170Z"
   },
   {
    "duration": 46,
    "start_time": "2021-12-19T22:00:40.181Z"
   },
   {
    "duration": 7,
    "start_time": "2021-12-19T22:00:40.229Z"
   },
   {
    "duration": 307,
    "start_time": "2021-12-19T22:00:40.238Z"
   },
   {
    "duration": -761,
    "start_time": "2021-12-19T22:00:41.311Z"
   },
   {
    "duration": -763,
    "start_time": "2021-12-19T22:00:41.315Z"
   },
   {
    "duration": -768,
    "start_time": "2021-12-19T22:00:41.321Z"
   },
   {
    "duration": -772,
    "start_time": "2021-12-19T22:00:41.326Z"
   },
   {
    "duration": -775,
    "start_time": "2021-12-19T22:00:41.330Z"
   },
   {
    "duration": -780,
    "start_time": "2021-12-19T22:00:41.336Z"
   },
   {
    "duration": -784,
    "start_time": "2021-12-19T22:00:41.341Z"
   },
   {
    "duration": -792,
    "start_time": "2021-12-19T22:00:41.350Z"
   },
   {
    "duration": -797,
    "start_time": "2021-12-19T22:00:41.356Z"
   },
   {
    "duration": -802,
    "start_time": "2021-12-19T22:00:41.362Z"
   },
   {
    "duration": -805,
    "start_time": "2021-12-19T22:00:41.366Z"
   },
   {
    "duration": -811,
    "start_time": "2021-12-19T22:00:41.373Z"
   },
   {
    "duration": -815,
    "start_time": "2021-12-19T22:00:41.378Z"
   },
   {
    "duration": -821,
    "start_time": "2021-12-19T22:00:41.386Z"
   },
   {
    "duration": -826,
    "start_time": "2021-12-19T22:00:41.392Z"
   },
   {
    "duration": -830,
    "start_time": "2021-12-19T22:00:41.397Z"
   },
   {
    "duration": -860,
    "start_time": "2021-12-19T22:00:41.428Z"
   },
   {
    "duration": -865,
    "start_time": "2021-12-19T22:00:41.434Z"
   },
   {
    "duration": -869,
    "start_time": "2021-12-19T22:00:41.439Z"
   },
   {
    "duration": -875,
    "start_time": "2021-12-19T22:00:41.446Z"
   },
   {
    "duration": -881,
    "start_time": "2021-12-19T22:00:41.453Z"
   },
   {
    "duration": -887,
    "start_time": "2021-12-19T22:00:41.460Z"
   },
   {
    "duration": -892,
    "start_time": "2021-12-19T22:00:41.466Z"
   },
   {
    "duration": -895,
    "start_time": "2021-12-19T22:00:41.471Z"
   },
   {
    "duration": -898,
    "start_time": "2021-12-19T22:00:41.475Z"
   },
   {
    "duration": -903,
    "start_time": "2021-12-19T22:00:41.481Z"
   },
   {
    "duration": -906,
    "start_time": "2021-12-19T22:00:41.485Z"
   },
   {
    "duration": -910,
    "start_time": "2021-12-19T22:00:41.490Z"
   },
   {
    "duration": -914,
    "start_time": "2021-12-19T22:00:41.495Z"
   },
   {
    "duration": -918,
    "start_time": "2021-12-19T22:00:41.500Z"
   },
   {
    "duration": -922,
    "start_time": "2021-12-19T22:00:41.505Z"
   },
   {
    "duration": -926,
    "start_time": "2021-12-19T22:00:41.510Z"
   },
   {
    "duration": -930,
    "start_time": "2021-12-19T22:00:41.515Z"
   },
   {
    "duration": -936,
    "start_time": "2021-12-19T22:00:41.522Z"
   },
   {
    "duration": -948,
    "start_time": "2021-12-19T22:00:41.535Z"
   },
   {
    "duration": -953,
    "start_time": "2021-12-19T22:00:41.541Z"
   },
   {
    "duration": -957,
    "start_time": "2021-12-19T22:00:41.546Z"
   },
   {
    "duration": -962,
    "start_time": "2021-12-19T22:00:41.552Z"
   },
   {
    "duration": -965,
    "start_time": "2021-12-19T22:00:41.556Z"
   },
   {
    "duration": -969,
    "start_time": "2021-12-19T22:00:41.561Z"
   },
   {
    "duration": -973,
    "start_time": "2021-12-19T22:00:41.566Z"
   },
   {
    "duration": -977,
    "start_time": "2021-12-19T22:00:41.571Z"
   },
   {
    "duration": -983,
    "start_time": "2021-12-19T22:00:41.578Z"
   },
   {
    "duration": -988,
    "start_time": "2021-12-19T22:00:41.584Z"
   },
   {
    "duration": -991,
    "start_time": "2021-12-19T22:00:41.588Z"
   },
   {
    "duration": -996,
    "start_time": "2021-12-19T22:00:41.594Z"
   },
   {
    "duration": -999,
    "start_time": "2021-12-19T22:00:41.598Z"
   },
   {
    "duration": -1003,
    "start_time": "2021-12-19T22:00:41.603Z"
   },
   {
    "duration": -1007,
    "start_time": "2021-12-19T22:00:41.608Z"
   },
   {
    "duration": -1011,
    "start_time": "2021-12-19T22:00:41.613Z"
   },
   {
    "duration": -1016,
    "start_time": "2021-12-19T22:00:41.618Z"
   },
   {
    "duration": -960,
    "start_time": "2021-12-19T22:00:41.623Z"
   },
   {
    "duration": -963,
    "start_time": "2021-12-19T22:00:41.627Z"
   },
   {
    "duration": -968,
    "start_time": "2021-12-19T22:00:41.632Z"
   },
   {
    "duration": -979,
    "start_time": "2021-12-19T22:00:41.644Z"
   },
   {
    "duration": -984,
    "start_time": "2021-12-19T22:00:41.650Z"
   },
   {
    "duration": -988,
    "start_time": "2021-12-19T22:00:41.655Z"
   },
   {
    "duration": -992,
    "start_time": "2021-12-19T22:00:41.660Z"
   },
   {
    "duration": -997,
    "start_time": "2021-12-19T22:00:41.665Z"
   },
   {
    "duration": -1001,
    "start_time": "2021-12-19T22:00:41.670Z"
   },
   {
    "duration": -1003,
    "start_time": "2021-12-19T22:00:41.674Z"
   },
   {
    "duration": -1008,
    "start_time": "2021-12-19T22:00:41.680Z"
   },
   {
    "duration": -1011,
    "start_time": "2021-12-19T22:00:41.684Z"
   },
   {
    "duration": -1015,
    "start_time": "2021-12-19T22:00:41.689Z"
   },
   {
    "duration": -1019,
    "start_time": "2021-12-19T22:00:41.694Z"
   },
   {
    "duration": -1023,
    "start_time": "2021-12-19T22:00:41.699Z"
   },
   {
    "duration": -1026,
    "start_time": "2021-12-19T22:00:41.703Z"
   },
   {
    "duration": -1031,
    "start_time": "2021-12-19T22:00:41.709Z"
   },
   {
    "duration": -1034,
    "start_time": "2021-12-19T22:00:41.713Z"
   },
   {
    "duration": -1038,
    "start_time": "2021-12-19T22:00:41.718Z"
   },
   {
    "duration": -1042,
    "start_time": "2021-12-19T22:00:41.723Z"
   },
   {
    "duration": 1119,
    "start_time": "2021-12-19T22:02:16.522Z"
   },
   {
    "duration": 88,
    "start_time": "2021-12-19T22:02:17.643Z"
   },
   {
    "duration": 14,
    "start_time": "2021-12-19T22:02:17.733Z"
   },
   {
    "duration": 16,
    "start_time": "2021-12-19T22:02:17.749Z"
   },
   {
    "duration": 7,
    "start_time": "2021-12-19T22:02:17.767Z"
   },
   {
    "duration": 9,
    "start_time": "2021-12-19T22:02:17.776Z"
   },
   {
    "duration": 29,
    "start_time": "2021-12-19T22:02:17.787Z"
   },
   {
    "duration": 6,
    "start_time": "2021-12-19T22:02:17.818Z"
   },
   {
    "duration": 38,
    "start_time": "2021-12-19T22:02:17.826Z"
   },
   {
    "duration": 20,
    "start_time": "2021-12-19T22:02:17.866Z"
   },
   {
    "duration": 37,
    "start_time": "2021-12-19T22:02:17.888Z"
   },
   {
    "duration": 648,
    "start_time": "2021-12-19T22:02:17.926Z"
   },
   {
    "duration": 33,
    "start_time": "2021-12-19T22:02:18.575Z"
   },
   {
    "duration": 5,
    "start_time": "2021-12-19T22:02:18.610Z"
   },
   {
    "duration": 5,
    "start_time": "2021-12-19T22:02:18.617Z"
   },
   {
    "duration": 40,
    "start_time": "2021-12-19T22:02:18.624Z"
   },
   {
    "duration": 7,
    "start_time": "2021-12-19T22:02:18.666Z"
   },
   {
    "duration": 14,
    "start_time": "2021-12-19T22:02:18.675Z"
   },
   {
    "duration": 23,
    "start_time": "2021-12-19T22:02:18.691Z"
   },
   {
    "duration": 12,
    "start_time": "2021-12-19T22:02:18.716Z"
   },
   {
    "duration": 15,
    "start_time": "2021-12-19T22:02:18.730Z"
   },
   {
    "duration": 30,
    "start_time": "2021-12-19T22:02:18.763Z"
   },
   {
    "duration": 11,
    "start_time": "2021-12-19T22:02:18.798Z"
   },
   {
    "duration": 408,
    "start_time": "2021-12-19T22:02:18.811Z"
   },
   {
    "duration": 15,
    "start_time": "2021-12-19T22:02:19.221Z"
   },
   {
    "duration": 26,
    "start_time": "2021-12-19T22:02:19.237Z"
   },
   {
    "duration": 12,
    "start_time": "2021-12-19T22:02:19.265Z"
   },
   {
    "duration": 6,
    "start_time": "2021-12-19T22:02:19.279Z"
   },
   {
    "duration": 25,
    "start_time": "2021-12-19T22:02:19.286Z"
   },
   {
    "duration": 18,
    "start_time": "2021-12-19T22:02:19.313Z"
   },
   {
    "duration": 57,
    "start_time": "2021-12-19T22:02:19.333Z"
   },
   {
    "duration": 357,
    "start_time": "2021-12-19T22:02:19.392Z"
   },
   {
    "duration": 35,
    "start_time": "2021-12-19T22:02:19.750Z"
   },
   {
    "duration": 450,
    "start_time": "2021-12-19T22:02:19.786Z"
   },
   {
    "duration": 36,
    "start_time": "2021-12-19T22:02:20.238Z"
   },
   {
    "duration": 6,
    "start_time": "2021-12-19T22:02:20.275Z"
   },
   {
    "duration": 16,
    "start_time": "2021-12-19T22:02:20.283Z"
   },
   {
    "duration": 23,
    "start_time": "2021-12-19T22:02:20.300Z"
   },
   {
    "duration": 24,
    "start_time": "2021-12-19T22:02:20.325Z"
   },
   {
    "duration": 17,
    "start_time": "2021-12-19T22:02:20.351Z"
   },
   {
    "duration": 18,
    "start_time": "2021-12-19T22:02:20.370Z"
   },
   {
    "duration": 17,
    "start_time": "2021-12-19T22:02:20.390Z"
   },
   {
    "duration": 23,
    "start_time": "2021-12-19T22:02:20.409Z"
   },
   {
    "duration": 31,
    "start_time": "2021-12-19T22:02:20.434Z"
   },
   {
    "duration": 20,
    "start_time": "2021-12-19T22:02:20.467Z"
   },
   {
    "duration": 29,
    "start_time": "2021-12-19T22:02:20.489Z"
   },
   {
    "duration": 3,
    "start_time": "2021-12-19T22:02:20.520Z"
   },
   {
    "duration": 2888,
    "start_time": "2021-12-19T22:02:20.525Z"
   },
   {
    "duration": 5,
    "start_time": "2021-12-19T22:02:23.415Z"
   },
   {
    "duration": 5208,
    "start_time": "2021-12-19T22:02:23.422Z"
   },
   {
    "duration": 16,
    "start_time": "2021-12-19T22:02:28.632Z"
   },
   {
    "duration": 19,
    "start_time": "2021-12-19T22:02:28.650Z"
   },
   {
    "duration": 31,
    "start_time": "2021-12-19T22:02:28.671Z"
   },
   {
    "duration": 4,
    "start_time": "2021-12-19T22:02:28.704Z"
   },
   {
    "duration": 60,
    "start_time": "2021-12-19T22:02:28.710Z"
   },
   {
    "duration": 10,
    "start_time": "2021-12-19T22:02:28.772Z"
   },
   {
    "duration": 21,
    "start_time": "2021-12-19T22:02:28.784Z"
   },
   {
    "duration": 20,
    "start_time": "2021-12-19T22:02:28.807Z"
   },
   {
    "duration": 4,
    "start_time": "2021-12-19T22:02:28.829Z"
   },
   {
    "duration": 48,
    "start_time": "2021-12-19T22:02:28.835Z"
   },
   {
    "duration": 7,
    "start_time": "2021-12-19T22:02:28.885Z"
   },
   {
    "duration": 30,
    "start_time": "2021-12-19T22:02:28.894Z"
   },
   {
    "duration": 13,
    "start_time": "2021-12-19T22:02:28.926Z"
   },
   {
    "duration": 27,
    "start_time": "2021-12-19T22:02:28.941Z"
   },
   {
    "duration": 103,
    "start_time": "2021-12-19T22:02:28.971Z"
   },
   {
    "duration": 10,
    "start_time": "2021-12-19T22:02:29.077Z"
   },
   {
    "duration": 292,
    "start_time": "2021-12-19T22:02:29.089Z"
   },
   {
    "duration": 7,
    "start_time": "2021-12-19T22:02:29.385Z"
   },
   {
    "duration": 243,
    "start_time": "2021-12-19T22:02:29.395Z"
   },
   {
    "duration": 5,
    "start_time": "2021-12-19T22:02:29.640Z"
   },
   {
    "duration": 73,
    "start_time": "2021-12-19T22:02:29.646Z"
   },
   {
    "duration": 288,
    "start_time": "2021-12-19T22:02:29.721Z"
   },
   {
    "duration": 4,
    "start_time": "2021-12-19T22:02:30.010Z"
   },
   {
    "duration": 32,
    "start_time": "2021-12-19T22:02:30.016Z"
   },
   {
    "duration": 82,
    "start_time": "2021-12-19T22:02:30.050Z"
   },
   {
    "duration": 14,
    "start_time": "2021-12-19T22:02:30.134Z"
   },
   {
    "duration": 18,
    "start_time": "2021-12-19T22:02:30.150Z"
   },
   {
    "duration": 25,
    "start_time": "2021-12-19T22:02:30.170Z"
   },
   {
    "duration": 33,
    "start_time": "2021-12-19T22:02:30.197Z"
   },
   {
    "duration": 49,
    "start_time": "2021-12-19T22:02:30.232Z"
   },
   {
    "duration": 28,
    "start_time": "2021-12-19T22:02:30.283Z"
   },
   {
    "duration": 26,
    "start_time": "2021-12-19T22:02:30.313Z"
   },
   {
    "duration": 325,
    "start_time": "2021-12-19T22:02:30.340Z"
   },
   {
    "duration": 4,
    "start_time": "2021-12-19T22:02:30.666Z"
   },
   {
    "duration": 19,
    "start_time": "2021-12-19T22:02:30.672Z"
   },
   {
    "duration": 30,
    "start_time": "2021-12-19T22:02:30.693Z"
   },
   {
    "duration": 45,
    "start_time": "2021-12-19T22:02:30.725Z"
   },
   {
    "duration": 33,
    "start_time": "2021-12-19T22:02:30.772Z"
   },
   {
    "duration": 18,
    "start_time": "2021-12-19T22:02:30.807Z"
   },
   {
    "duration": 22,
    "start_time": "2021-12-19T22:03:34.711Z"
   },
   {
    "duration": 11,
    "start_time": "2021-12-19T22:03:44.061Z"
   },
   {
    "duration": 28,
    "start_time": "2021-12-19T22:04:15.220Z"
   },
   {
    "duration": 10,
    "start_time": "2021-12-19T22:04:24.424Z"
   },
   {
    "duration": 69,
    "start_time": "2021-12-19T22:04:40.758Z"
   },
   {
    "duration": 1905,
    "start_time": "2021-12-19T22:04:44.388Z"
   },
   {
    "duration": 12,
    "start_time": "2021-12-19T22:05:08.129Z"
   },
   {
    "duration": 22,
    "start_time": "2021-12-19T22:05:48.179Z"
   },
   {
    "duration": 7,
    "start_time": "2021-12-19T22:06:01.330Z"
   },
   {
    "duration": 23,
    "start_time": "2021-12-19T22:06:26.272Z"
   },
   {
    "duration": 13,
    "start_time": "2021-12-19T22:06:50.153Z"
   },
   {
    "duration": 16,
    "start_time": "2021-12-19T22:07:02.059Z"
   },
   {
    "duration": 755,
    "start_time": "2021-12-19T22:07:14.525Z"
   },
   {
    "duration": 20,
    "start_time": "2021-12-19T22:07:21.142Z"
   },
   {
    "duration": 1211,
    "start_time": "2021-12-19T22:07:29.095Z"
   },
   {
    "duration": 89,
    "start_time": "2021-12-19T22:07:30.308Z"
   },
   {
    "duration": 13,
    "start_time": "2021-12-19T22:07:30.399Z"
   },
   {
    "duration": 27,
    "start_time": "2021-12-19T22:07:30.414Z"
   },
   {
    "duration": 5,
    "start_time": "2021-12-19T22:07:30.443Z"
   },
   {
    "duration": 20,
    "start_time": "2021-12-19T22:07:30.450Z"
   },
   {
    "duration": 32,
    "start_time": "2021-12-19T22:07:30.471Z"
   },
   {
    "duration": 12,
    "start_time": "2021-12-19T22:07:30.505Z"
   },
   {
    "duration": 23,
    "start_time": "2021-12-19T22:07:30.519Z"
   },
   {
    "duration": 35,
    "start_time": "2021-12-19T22:07:30.544Z"
   },
   {
    "duration": 39,
    "start_time": "2021-12-19T22:07:30.581Z"
   },
   {
    "duration": 622,
    "start_time": "2021-12-19T22:07:30.622Z"
   },
   {
    "duration": 46,
    "start_time": "2021-12-19T22:07:31.246Z"
   },
   {
    "duration": 5,
    "start_time": "2021-12-19T22:07:31.293Z"
   },
   {
    "duration": 23,
    "start_time": "2021-12-19T22:07:31.299Z"
   },
   {
    "duration": 5,
    "start_time": "2021-12-19T22:07:31.324Z"
   },
   {
    "duration": 23,
    "start_time": "2021-12-19T22:07:31.331Z"
   },
   {
    "duration": 21,
    "start_time": "2021-12-19T22:07:31.356Z"
   },
   {
    "duration": 9,
    "start_time": "2021-12-19T22:07:31.379Z"
   },
   {
    "duration": 12,
    "start_time": "2021-12-19T22:07:31.390Z"
   },
   {
    "duration": 38,
    "start_time": "2021-12-19T22:07:31.404Z"
   },
   {
    "duration": 25,
    "start_time": "2021-12-19T22:07:31.444Z"
   },
   {
    "duration": 384,
    "start_time": "2021-12-19T22:07:31.474Z"
   },
   {
    "duration": 14,
    "start_time": "2021-12-19T22:07:31.864Z"
   },
   {
    "duration": 9,
    "start_time": "2021-12-19T22:07:31.879Z"
   },
   {
    "duration": 23,
    "start_time": "2021-12-19T22:07:31.889Z"
   },
   {
    "duration": 11,
    "start_time": "2021-12-19T22:07:31.914Z"
   },
   {
    "duration": 37,
    "start_time": "2021-12-19T22:07:31.927Z"
   },
   {
    "duration": 16,
    "start_time": "2021-12-19T22:07:31.966Z"
   },
   {
    "duration": 31,
    "start_time": "2021-12-19T22:07:31.984Z"
   },
   {
    "duration": 367,
    "start_time": "2021-12-19T22:07:32.017Z"
   },
   {
    "duration": 25,
    "start_time": "2021-12-19T22:07:32.386Z"
   },
   {
    "duration": 448,
    "start_time": "2021-12-19T22:07:32.413Z"
   },
   {
    "duration": 26,
    "start_time": "2021-12-19T22:07:32.863Z"
   },
   {
    "duration": 6,
    "start_time": "2021-12-19T22:07:32.890Z"
   },
   {
    "duration": 4,
    "start_time": "2021-12-19T22:07:32.898Z"
   },
   {
    "duration": 6,
    "start_time": "2021-12-19T22:07:32.904Z"
   },
   {
    "duration": 17,
    "start_time": "2021-12-19T22:07:32.912Z"
   },
   {
    "duration": 37,
    "start_time": "2021-12-19T22:07:32.931Z"
   },
   {
    "duration": 9,
    "start_time": "2021-12-19T22:07:32.970Z"
   },
   {
    "duration": 8,
    "start_time": "2021-12-19T22:07:32.981Z"
   },
   {
    "duration": 5,
    "start_time": "2021-12-19T22:07:32.991Z"
   },
   {
    "duration": 29,
    "start_time": "2021-12-19T22:07:32.998Z"
   },
   {
    "duration": 49,
    "start_time": "2021-12-19T22:07:33.029Z"
   },
   {
    "duration": 30,
    "start_time": "2021-12-19T22:07:33.079Z"
   },
   {
    "duration": 4,
    "start_time": "2021-12-19T22:07:33.110Z"
   },
   {
    "duration": 2907,
    "start_time": "2021-12-19T22:07:33.115Z"
   },
   {
    "duration": 5,
    "start_time": "2021-12-19T22:07:36.024Z"
   },
   {
    "duration": 4835,
    "start_time": "2021-12-19T22:07:36.031Z"
   },
   {
    "duration": 15,
    "start_time": "2021-12-19T22:07:40.868Z"
   },
   {
    "duration": 7,
    "start_time": "2021-12-19T22:07:40.885Z"
   },
   {
    "duration": 31,
    "start_time": "2021-12-19T22:07:40.894Z"
   },
   {
    "duration": 4,
    "start_time": "2021-12-19T22:07:40.927Z"
   },
   {
    "duration": 71,
    "start_time": "2021-12-19T22:07:40.933Z"
   },
   {
    "duration": 18,
    "start_time": "2021-12-19T22:07:41.006Z"
   },
   {
    "duration": 19,
    "start_time": "2021-12-19T22:07:41.026Z"
   },
   {
    "duration": 18,
    "start_time": "2021-12-19T22:07:41.046Z"
   },
   {
    "duration": 14,
    "start_time": "2021-12-19T22:07:41.065Z"
   },
   {
    "duration": 26,
    "start_time": "2021-12-19T22:07:41.080Z"
   },
   {
    "duration": 18,
    "start_time": "2021-12-19T22:07:41.108Z"
   },
   {
    "duration": 43,
    "start_time": "2021-12-19T22:07:41.128Z"
   },
   {
    "duration": 13,
    "start_time": "2021-12-19T22:07:41.173Z"
   },
   {
    "duration": 4,
    "start_time": "2021-12-19T22:07:41.188Z"
   },
   {
    "duration": 70,
    "start_time": "2021-12-19T22:07:41.194Z"
   },
   {
    "duration": 8,
    "start_time": "2021-12-19T22:07:41.266Z"
   },
   {
    "duration": 289,
    "start_time": "2021-12-19T22:07:41.275Z"
   },
   {
    "duration": 7,
    "start_time": "2021-12-19T22:07:41.566Z"
   },
   {
    "duration": 246,
    "start_time": "2021-12-19T22:07:41.578Z"
   },
   {
    "duration": 5,
    "start_time": "2021-12-19T22:07:41.826Z"
   },
   {
    "duration": 74,
    "start_time": "2021-12-19T22:07:41.832Z"
   },
   {
    "duration": 274,
    "start_time": "2021-12-19T22:07:41.908Z"
   },
   {
    "duration": 3,
    "start_time": "2021-12-19T22:07:42.184Z"
   },
   {
    "duration": 7,
    "start_time": "2021-12-19T22:07:42.189Z"
   },
   {
    "duration": 74,
    "start_time": "2021-12-19T22:07:42.198Z"
   },
   {
    "duration": 11,
    "start_time": "2021-12-19T22:07:42.274Z"
   },
   {
    "duration": 17,
    "start_time": "2021-12-19T22:07:42.287Z"
   },
   {
    "duration": 15,
    "start_time": "2021-12-19T22:07:42.306Z"
   },
   {
    "duration": 20,
    "start_time": "2021-12-19T22:07:42.323Z"
   },
   {
    "duration": 49,
    "start_time": "2021-12-19T22:07:42.344Z"
   },
   {
    "duration": 15,
    "start_time": "2021-12-19T22:07:42.394Z"
   },
   {
    "duration": 11,
    "start_time": "2021-12-19T22:07:42.411Z"
   },
   {
    "duration": 310,
    "start_time": "2021-12-19T22:07:42.424Z"
   },
   {
    "duration": 4,
    "start_time": "2021-12-19T22:07:42.735Z"
   },
   {
    "duration": 5,
    "start_time": "2021-12-19T22:07:42.740Z"
   },
   {
    "duration": 13,
    "start_time": "2021-12-19T22:07:42.764Z"
   },
   {
    "duration": 5,
    "start_time": "2021-12-19T22:07:42.778Z"
   },
   {
    "duration": 9,
    "start_time": "2021-12-19T22:07:42.785Z"
   },
   {
    "duration": 6,
    "start_time": "2021-12-19T22:07:42.795Z"
   },
   {
    "duration": 15,
    "start_time": "2021-12-19T22:09:43.113Z"
   },
   {
    "duration": 16,
    "start_time": "2021-12-19T22:09:53.076Z"
   },
   {
    "duration": 12,
    "start_time": "2021-12-19T22:11:20.816Z"
   },
   {
    "duration": 5,
    "start_time": "2021-12-19T22:11:53.596Z"
   },
   {
    "duration": 21,
    "start_time": "2021-12-19T22:12:56.310Z"
   },
   {
    "duration": 13,
    "start_time": "2021-12-19T22:13:23.014Z"
   },
   {
    "duration": 10,
    "start_time": "2021-12-19T22:13:27.009Z"
   },
   {
    "duration": 272,
    "start_time": "2021-12-19T22:13:36.762Z"
   },
   {
    "duration": 11,
    "start_time": "2021-12-19T22:13:40.479Z"
   },
   {
    "duration": 15,
    "start_time": "2021-12-19T22:14:14.257Z"
   },
   {
    "duration": 6,
    "start_time": "2021-12-19T22:14:17.542Z"
   },
   {
    "duration": 71,
    "start_time": "2021-12-19T22:14:32.392Z"
   },
   {
    "duration": 9,
    "start_time": "2021-12-19T22:14:35.898Z"
   },
   {
    "duration": 6,
    "start_time": "2021-12-19T22:14:38.269Z"
   },
   {
    "duration": 61,
    "start_time": "2021-12-19T22:14:45.990Z"
   },
   {
    "duration": 7,
    "start_time": "2021-12-19T22:14:48.882Z"
   },
   {
    "duration": 8,
    "start_time": "2021-12-19T22:15:09.695Z"
   },
   {
    "duration": 57,
    "start_time": "2021-12-19T22:18:31.299Z"
   },
   {
    "duration": 72,
    "start_time": "2021-12-19T22:18:53.914Z"
   },
   {
    "duration": 5,
    "start_time": "2021-12-19T22:19:22.462Z"
   },
   {
    "duration": 364,
    "start_time": "2021-12-19T22:34:37.115Z"
   },
   {
    "duration": 379,
    "start_time": "2021-12-19T22:34:48.657Z"
   },
   {
    "duration": 366,
    "start_time": "2021-12-19T22:34:56.426Z"
   },
   {
    "duration": 379,
    "start_time": "2021-12-19T22:35:06.195Z"
   }
  ],
  "kernelspec": {
   "display_name": "Python 3",
   "language": "python",
   "name": "python3"
  },
  "language_info": {
   "codemirror_mode": {
    "name": "ipython",
    "version": 3
   },
   "file_extension": ".py",
   "mimetype": "text/x-python",
   "name": "python",
   "nbconvert_exporter": "python",
   "pygments_lexer": "ipython3",
   "version": "3.8.3"
  },
  "toc": {
   "base_numbering": 1,
   "nav_menu": {},
   "number_sections": true,
   "sideBar": true,
   "skip_h1_title": true,
   "title_cell": "Table of Contents",
   "title_sidebar": "Contents",
   "toc_cell": false,
   "toc_position": {
    "height": "calc(100% - 180px)",
    "left": "10px",
    "top": "150px",
    "width": "341.3px"
   },
   "toc_section_display": true,
   "toc_window_display": true
  }
 },
 "nbformat": 4,
 "nbformat_minor": 4
}
