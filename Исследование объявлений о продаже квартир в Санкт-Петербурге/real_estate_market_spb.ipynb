{
 "cells": [
  {
   "cell_type": "markdown",
   "metadata": {},
   "source": [
    "# Исследование объявлений о продаже квартир в Санкт-Петербурге "
   ]
  },
  {
   "cell_type": "markdown",
   "metadata": {},
   "source": [
    "## Описание проекта:\n",
    "\n",
    "В исследовании используются данны с сервиса Яндекс Недвижимость — архив объявлений о продаже квартир в Санкт-Петербурге и соседних населённых пунктах за несколько лет. \n",
    "\n",
    "Цель - исследовать и опраделить признаки влияющие на рыночную стоимость объектов недвижимости. Что позволит построить автоматизированную систему: она отследит аномалии и мошенническую деятельность.\n",
    "\n",
    "По каждой квартире на продажу доступны два вида данных. Первые вписаны пользователем, вторые — получены автоматически на основе картографических данных. Например, расстояние до центра, аэропорта, ближайшего парка и водоёма.\n",
    "\n"
   ]
  },
  {
   "cell_type": "markdown",
   "metadata": {},
   "source": [
    "## Содержание:\n",
    "* [1.Открытие файла. Общая информация о данных.](#section_1)\n",
    "* [2.Предобработка данных](#section_2_1)\n",
    "    * [2.1 Замена нулевых значений.](#section_2_2)\n",
    "    * [2.2 Нахождение и замена аномальных значений.](#section_2_3)\n",
    "    * [2.3 Изменение типа данных.](#section_2_4)\n",
    "* [3.Добавление новых полей](#section_3)\n",
    "* [4.Исследование данных](#section_4)\n",
    "    * [4.1 Изучение параметров: площадь, цена, число комнат, высота потолков.](#section_4_1)\n",
    "    * [4.2 Время продажи квартиры.](#section_4_2)\n",
    "    * [4.3. Исследование стоимости](#section_4_3)\n",
    "    * [4.4. Населенные пункты с нибольшей и нименьшей стоимостью жилья.](#section_4_4)\n",
    "    * [4.5 Анализ зависимости стоимости квартир в Санкт - Петербурге.](#section_4_5)\n",
    "* [Общий вывод исследования](#section_5)\n"
   ]
  },
  {
   "cell_type": "markdown",
   "metadata": {},
   "source": [
    "## 1.Открытие файла. Общая информация о данных.<a class=\"anchor\" id=\"section_1\">"
   ]
  },
  {
   "cell_type": "code",
   "execution_count": 3,
   "metadata": {},
   "outputs": [],
   "source": [
    "import pandas as pd\n",
    "import matplotlib.pyplot as plt\n",
    "import numpy as np\n",
    "from scipy.stats.mstats import winsorize\n",
    "pd.options.display.float_format = '{:,.2f}'.format\n",
    "import warnings\n",
    "warnings.filterwarnings('ignore')\n",
    "import seaborn as sns"
   ]
  },
  {
   "cell_type": "code",
   "execution_count": 4,
   "metadata": {},
   "outputs": [
    {
     "data": {
      "text/plain": [
       "'----------------------------------------------'"
      ]
     },
     "metadata": {},
     "output_type": "display_data"
    },
    {
     "data": {
      "text/plain": [
       "'Количество дубликатов'"
      ]
     },
     "metadata": {},
     "output_type": "display_data"
    },
    {
     "data": {
      "text/plain": [
       "0"
      ]
     },
     "metadata": {},
     "output_type": "display_data"
    },
    {
     "data": {
      "text/plain": [
       "'----------------------------------------------'"
      ]
     },
     "metadata": {},
     "output_type": "display_data"
    },
    {
     "name": "stdout",
     "output_type": "stream",
     "text": [
      "<class 'pandas.core.frame.DataFrame'>\n",
      "RangeIndex: 23699 entries, 0 to 23698\n",
      "Data columns (total 22 columns):\n",
      " #   Column                Non-Null Count  Dtype  \n",
      "---  ------                --------------  -----  \n",
      " 0   total_images          23699 non-null  int64  \n",
      " 1   last_price            23699 non-null  float64\n",
      " 2   total_area            23699 non-null  float64\n",
      " 3   first_day_exposition  23699 non-null  object \n",
      " 4   rooms                 23699 non-null  int64  \n",
      " 5   ceiling_height        14504 non-null  float64\n",
      " 6   floors_total          23613 non-null  float64\n",
      " 7   living_area           21796 non-null  float64\n",
      " 8   floor                 23699 non-null  int64  \n",
      " 9   is_apartment          2775 non-null   object \n",
      " 10  studio                23699 non-null  bool   \n",
      " 11  open_plan             23699 non-null  bool   \n",
      " 12  kitchen_area          21421 non-null  float64\n",
      " 13  balcony               12180 non-null  float64\n",
      " 14  locality_name         23650 non-null  object \n",
      " 15  airports_nearest      18157 non-null  float64\n",
      " 16  cityCenters_nearest   18180 non-null  float64\n",
      " 17  parks_around3000      18181 non-null  float64\n",
      " 18  parks_nearest         8079 non-null   float64\n",
      " 19  ponds_around3000      18181 non-null  float64\n",
      " 20  ponds_nearest         9110 non-null   float64\n",
      " 21  days_exposition       20518 non-null  float64\n",
      "dtypes: bool(2), float64(14), int64(3), object(3)\n",
      "memory usage: 3.7+ MB\n"
     ]
    },
    {
     "data": {
      "text/html": [
       "<div>\n",
       "<style scoped>\n",
       "    .dataframe tbody tr th:only-of-type {\n",
       "        vertical-align: middle;\n",
       "    }\n",
       "\n",
       "    .dataframe tbody tr th {\n",
       "        vertical-align: top;\n",
       "    }\n",
       "\n",
       "    .dataframe thead th {\n",
       "        text-align: right;\n",
       "    }\n",
       "</style>\n",
       "<table border=\"1\" class=\"dataframe\">\n",
       "  <thead>\n",
       "    <tr style=\"text-align: right;\">\n",
       "      <th></th>\n",
       "      <th>total_images</th>\n",
       "      <th>last_price</th>\n",
       "      <th>total_area</th>\n",
       "      <th>rooms</th>\n",
       "      <th>ceiling_height</th>\n",
       "      <th>floors_total</th>\n",
       "      <th>living_area</th>\n",
       "      <th>floor</th>\n",
       "      <th>kitchen_area</th>\n",
       "      <th>balcony</th>\n",
       "      <th>airports_nearest</th>\n",
       "      <th>cityCenters_nearest</th>\n",
       "      <th>parks_around3000</th>\n",
       "      <th>parks_nearest</th>\n",
       "      <th>ponds_around3000</th>\n",
       "      <th>ponds_nearest</th>\n",
       "      <th>days_exposition</th>\n",
       "    </tr>\n",
       "  </thead>\n",
       "  <tbody>\n",
       "    <tr>\n",
       "      <th>count</th>\n",
       "      <td>23,699.00</td>\n",
       "      <td>23,699.00</td>\n",
       "      <td>23,699.00</td>\n",
       "      <td>23,699.00</td>\n",
       "      <td>14,504.00</td>\n",
       "      <td>23,613.00</td>\n",
       "      <td>21,796.00</td>\n",
       "      <td>23,699.00</td>\n",
       "      <td>21,421.00</td>\n",
       "      <td>12,180.00</td>\n",
       "      <td>18,157.00</td>\n",
       "      <td>18,180.00</td>\n",
       "      <td>18,181.00</td>\n",
       "      <td>8,079.00</td>\n",
       "      <td>18,181.00</td>\n",
       "      <td>9,110.00</td>\n",
       "      <td>20,518.00</td>\n",
       "    </tr>\n",
       "    <tr>\n",
       "      <th>mean</th>\n",
       "      <td>9.86</td>\n",
       "      <td>6,541,548.77</td>\n",
       "      <td>60.35</td>\n",
       "      <td>2.07</td>\n",
       "      <td>2.77</td>\n",
       "      <td>10.67</td>\n",
       "      <td>34.46</td>\n",
       "      <td>5.89</td>\n",
       "      <td>10.57</td>\n",
       "      <td>1.15</td>\n",
       "      <td>28,793.67</td>\n",
       "      <td>14,191.28</td>\n",
       "      <td>0.61</td>\n",
       "      <td>490.80</td>\n",
       "      <td>0.77</td>\n",
       "      <td>517.98</td>\n",
       "      <td>180.89</td>\n",
       "    </tr>\n",
       "    <tr>\n",
       "      <th>std</th>\n",
       "      <td>5.68</td>\n",
       "      <td>10,887,013.27</td>\n",
       "      <td>35.65</td>\n",
       "      <td>1.08</td>\n",
       "      <td>1.26</td>\n",
       "      <td>6.60</td>\n",
       "      <td>22.03</td>\n",
       "      <td>4.89</td>\n",
       "      <td>5.91</td>\n",
       "      <td>1.07</td>\n",
       "      <td>12,630.88</td>\n",
       "      <td>8,608.39</td>\n",
       "      <td>0.80</td>\n",
       "      <td>342.32</td>\n",
       "      <td>0.94</td>\n",
       "      <td>277.72</td>\n",
       "      <td>219.73</td>\n",
       "    </tr>\n",
       "    <tr>\n",
       "      <th>min</th>\n",
       "      <td>0.00</td>\n",
       "      <td>12,190.00</td>\n",
       "      <td>12.00</td>\n",
       "      <td>0.00</td>\n",
       "      <td>1.00</td>\n",
       "      <td>1.00</td>\n",
       "      <td>2.00</td>\n",
       "      <td>1.00</td>\n",
       "      <td>1.30</td>\n",
       "      <td>0.00</td>\n",
       "      <td>0.00</td>\n",
       "      <td>181.00</td>\n",
       "      <td>0.00</td>\n",
       "      <td>1.00</td>\n",
       "      <td>0.00</td>\n",
       "      <td>13.00</td>\n",
       "      <td>1.00</td>\n",
       "    </tr>\n",
       "    <tr>\n",
       "      <th>25%</th>\n",
       "      <td>6.00</td>\n",
       "      <td>3,400,000.00</td>\n",
       "      <td>40.00</td>\n",
       "      <td>1.00</td>\n",
       "      <td>2.52</td>\n",
       "      <td>5.00</td>\n",
       "      <td>18.60</td>\n",
       "      <td>2.00</td>\n",
       "      <td>7.00</td>\n",
       "      <td>0.00</td>\n",
       "      <td>18,585.00</td>\n",
       "      <td>9,238.00</td>\n",
       "      <td>0.00</td>\n",
       "      <td>288.00</td>\n",
       "      <td>0.00</td>\n",
       "      <td>294.00</td>\n",
       "      <td>45.00</td>\n",
       "    </tr>\n",
       "    <tr>\n",
       "      <th>50%</th>\n",
       "      <td>9.00</td>\n",
       "      <td>4,650,000.00</td>\n",
       "      <td>52.00</td>\n",
       "      <td>2.00</td>\n",
       "      <td>2.65</td>\n",
       "      <td>9.00</td>\n",
       "      <td>30.00</td>\n",
       "      <td>4.00</td>\n",
       "      <td>9.10</td>\n",
       "      <td>1.00</td>\n",
       "      <td>26,726.00</td>\n",
       "      <td>13,098.50</td>\n",
       "      <td>0.00</td>\n",
       "      <td>455.00</td>\n",
       "      <td>1.00</td>\n",
       "      <td>502.00</td>\n",
       "      <td>95.00</td>\n",
       "    </tr>\n",
       "    <tr>\n",
       "      <th>75%</th>\n",
       "      <td>14.00</td>\n",
       "      <td>6,800,000.00</td>\n",
       "      <td>69.90</td>\n",
       "      <td>3.00</td>\n",
       "      <td>2.80</td>\n",
       "      <td>16.00</td>\n",
       "      <td>42.30</td>\n",
       "      <td>8.00</td>\n",
       "      <td>12.00</td>\n",
       "      <td>2.00</td>\n",
       "      <td>37,273.00</td>\n",
       "      <td>16,293.00</td>\n",
       "      <td>1.00</td>\n",
       "      <td>612.00</td>\n",
       "      <td>1.00</td>\n",
       "      <td>729.00</td>\n",
       "      <td>232.00</td>\n",
       "    </tr>\n",
       "    <tr>\n",
       "      <th>max</th>\n",
       "      <td>50.00</td>\n",
       "      <td>763,000,000.00</td>\n",
       "      <td>900.00</td>\n",
       "      <td>19.00</td>\n",
       "      <td>100.00</td>\n",
       "      <td>60.00</td>\n",
       "      <td>409.70</td>\n",
       "      <td>33.00</td>\n",
       "      <td>112.00</td>\n",
       "      <td>5.00</td>\n",
       "      <td>84,869.00</td>\n",
       "      <td>65,968.00</td>\n",
       "      <td>3.00</td>\n",
       "      <td>3,190.00</td>\n",
       "      <td>3.00</td>\n",
       "      <td>1,344.00</td>\n",
       "      <td>1,580.00</td>\n",
       "    </tr>\n",
       "  </tbody>\n",
       "</table>\n",
       "</div>"
      ],
      "text/plain": [
       "       total_images     last_price  total_area     rooms  ceiling_height  \\\n",
       "count     23,699.00      23,699.00   23,699.00 23,699.00       14,504.00   \n",
       "mean           9.86   6,541,548.77       60.35      2.07            2.77   \n",
       "std            5.68  10,887,013.27       35.65      1.08            1.26   \n",
       "min            0.00      12,190.00       12.00      0.00            1.00   \n",
       "25%            6.00   3,400,000.00       40.00      1.00            2.52   \n",
       "50%            9.00   4,650,000.00       52.00      2.00            2.65   \n",
       "75%           14.00   6,800,000.00       69.90      3.00            2.80   \n",
       "max           50.00 763,000,000.00      900.00     19.00          100.00   \n",
       "\n",
       "       floors_total  living_area     floor  kitchen_area   balcony  \\\n",
       "count     23,613.00    21,796.00 23,699.00     21,421.00 12,180.00   \n",
       "mean          10.67        34.46      5.89         10.57      1.15   \n",
       "std            6.60        22.03      4.89          5.91      1.07   \n",
       "min            1.00         2.00      1.00          1.30      0.00   \n",
       "25%            5.00        18.60      2.00          7.00      0.00   \n",
       "50%            9.00        30.00      4.00          9.10      1.00   \n",
       "75%           16.00        42.30      8.00         12.00      2.00   \n",
       "max           60.00       409.70     33.00        112.00      5.00   \n",
       "\n",
       "       airports_nearest  cityCenters_nearest  parks_around3000  parks_nearest  \\\n",
       "count         18,157.00            18,180.00         18,181.00       8,079.00   \n",
       "mean          28,793.67            14,191.28              0.61         490.80   \n",
       "std           12,630.88             8,608.39              0.80         342.32   \n",
       "min                0.00               181.00              0.00           1.00   \n",
       "25%           18,585.00             9,238.00              0.00         288.00   \n",
       "50%           26,726.00            13,098.50              0.00         455.00   \n",
       "75%           37,273.00            16,293.00              1.00         612.00   \n",
       "max           84,869.00            65,968.00              3.00       3,190.00   \n",
       "\n",
       "       ponds_around3000  ponds_nearest  days_exposition  \n",
       "count         18,181.00       9,110.00        20,518.00  \n",
       "mean               0.77         517.98           180.89  \n",
       "std                0.94         277.72           219.73  \n",
       "min                0.00          13.00             1.00  \n",
       "25%                0.00         294.00            45.00  \n",
       "50%                1.00         502.00            95.00  \n",
       "75%                1.00         729.00           232.00  \n",
       "max                3.00       1,344.00         1,580.00  "
      ]
     },
     "execution_count": 4,
     "metadata": {},
     "output_type": "execute_result"
    }
   ],
   "source": [
    "df = pd.read_csv(r\"C:\\Users\\79520\\OneDrive\\Рабочий стол\\проекты YP\\Определение рыночной стоимости жилья\\real_estate_data.csv\", sep='\\t')\n",
    "display('----------------------------------------------')\n",
    "display('Количество дубликатов', df.duplicated().sum())\n",
    "display('----------------------------------------------')\n",
    "df.info()\n",
    "df.describe()\n"
   ]
  },
  {
   "cell_type": "markdown",
   "metadata": {},
   "source": [
    "Из представленной информации полагаю целесообразным более подробно изучить следующие данные:\n",
    "\n",
    "1. Столбцы с нулевыми значениями. Необходимо провести анализ характера пропусков, заменить значения, где это возмжно.\n",
    "2. Столбцы с аномальными занчениями:\n",
    "    * ceiling_height- слишком высокое максимальное значение"
   ]
  },
  {
   "cell_type": "markdown",
   "metadata": {},
   "source": [
    "## 2. Предобработка данных.<a class=\"anchor\" id=\"section_2_1\">"
   ]
  },
  {
   "cell_type": "markdown",
   "metadata": {},
   "source": [
    "### Замена нулевых значений<a class=\"anchor\" id=\"section_2_2\">"
   ]
  },
  {
   "cell_type": "markdown",
   "metadata": {},
   "source": [
    "Нулевые значений представлены в следующих столбцах:\n",
    "\n",
    "\n",
    "* living_area              1903 \n",
    "* kitchen_area             2278 \n",
    "* balcony                 11519 \n",
    "* airports_nearest         5542 \n",
    "* cityCenters_nearest      5519 \n",
    "* parks_around3000         5518\n",
    "* parks_nearest           15620 \n",
    "* ponds_around3000         5518 \n",
    "* ponds_nearest           14589 \n",
    "\n",
    "Считаю целесообразным \n",
    "1. Заменить пропущенные значения в столбцах с расстояниями до объектов, посчитав расстояний по населенным пунктам.\n",
    "2. Заменить пропуски в столбцах 'balcony' и 'is_apartmen' на 0 т.к. в некоторых квартирах может отсутствовать балкон, а 0 в столбце 'is_apartmen' говорит о том, что квартира не является апартаментами."
   ]
  },
  {
   "cell_type": "markdown",
   "metadata": {},
   "source": [
    "Последовательно применяем функцию для замены значений медианными к столбцам: airports_nearest,ponds_nearest, parks_nearest."
   ]
  },
  {
   "cell_type": "code",
   "execution_count": 5,
   "metadata": {},
   "outputs": [],
   "source": [
    "median_airports = df.groupby('locality_name')['airports_nearest'].median().to_dict()\n",
    " \n",
    "def airports(row):\n",
    "    if pd.isna(row['airports_nearest']):\n",
    "        return median_airports.get(row['locality_name'])\n",
    "    return row['airports_nearest']\n",
    " \n",
    "df['airports_nearest'] = df.apply(airports, axis=1)\n"
   ]
  },
  {
   "cell_type": "code",
   "execution_count": 6,
   "metadata": {},
   "outputs": [],
   "source": [
    "median_cityCenters_nearest = df.groupby('locality_name')['cityCenters_nearest'].median().to_dict()\n",
    " \n",
    "def cityCenters_nearest(row):\n",
    "    if pd.isna(row['cityCenters_nearest']):\n",
    "        return median_cityCenters_nearest.get(row['locality_name'])\n",
    "    return row['cityCenters_nearest']\n",
    " \n",
    "df['cityCenters_nearest'] = df.apply(cityCenters_nearest, axis=1)"
   ]
  },
  {
   "cell_type": "code",
   "execution_count": 7,
   "metadata": {},
   "outputs": [],
   "source": [
    "median_parks_nearest = df.groupby('locality_name')['parks_nearest'].median().to_dict()\n",
    " \n",
    "def parks(row):\n",
    "    if pd.isna(row['parks_nearest']):\n",
    "        return median_parks_nearest.get(row['locality_name'])\n",
    "    return row['parks_nearest']\n",
    " \n",
    "df['parks_nearest'] = df.apply(parks, axis=1)\n"
   ]
  },
  {
   "cell_type": "code",
   "execution_count": 8,
   "metadata": {},
   "outputs": [],
   "source": [
    "median_ponds_nearest = df.groupby('locality_name')['ponds_nearest'].median().to_dict()\n",
    " \n",
    "def ponds(row):\n",
    "    if pd.isna(row['ponds_nearest']):\n",
    "        return median_ponds_nearest.get(row['locality_name'])\n",
    "    return row['ponds_nearest']\n",
    " \n",
    "df['ponds_nearest'] = df.apply(ponds, axis=1)\n"
   ]
  },
  {
   "cell_type": "code",
   "execution_count": 9,
   "metadata": {},
   "outputs": [],
   "source": [
    "# заменим высоту потолков медианным значением спо квартирам с той же этажностью\n",
    "median_floors = df.groupby('floor')['ceiling_height'].median().to_dict()\n",
    " \n",
    "def ceiling_height_func(row):\n",
    "    if pd.isna(row['ceiling_height']):\n",
    "        return median_floors.get(row['floor'])\n",
    "    return row['ceiling_height']\n",
    " \n",
    "df['ceiling_height'] = df.apply(ceiling_height_func, axis=1)"
   ]
  },
  {
   "cell_type": "code",
   "execution_count": 10,
   "metadata": {},
   "outputs": [],
   "source": [
    "#Заменяем пропуски в значениях количества балконов и поле 'is_apartment' на 0\n",
    "df['balcony'] = df['balcony'].fillna(0)\n",
    "df['is_apartment'] = df['is_apartment'].fillna(0)"
   ]
  },
  {
   "cell_type": "code",
   "execution_count": 11,
   "metadata": {},
   "outputs": [],
   "source": [
    "#В строке столбце с местоположением есть незначительное количество нулевых значений, считаю целесообразным удалить строки.\n",
    "df.dropna(subset = ['locality_name'], inplace = True)"
   ]
  },
  {
   "cell_type": "code",
   "execution_count": 12,
   "metadata": {},
   "outputs": [
    {
     "name": "stdout",
     "output_type": "stream",
     "text": [
      "В среднем кухня занимает:18.7% от общей площади\n",
      "В среднем кухня занимает:56.4% от общей площади\n"
     ]
    }
   ],
   "source": [
    "# заменим площадь кухни на  0 в квартирах - студиях и свободной планировкой\n",
    "df['kitchen_area'] = df['kitchen_area'].mask(df['studio']| df.open_plan, 0)\n",
    "\n",
    "# для заполнения пропусках в living area и оставшихся в kithen area посчитаем среднее соотношение площадей и \n",
    "# применим это значение к пропущенным значениям\n",
    "df_with_kithen = df.query('kitchen_area > 0')\n",
    "df_with_kithen_median = (df_with_kithen['kitchen_area']/df_with_kithen['total_area']).mean()\n",
    "print(f'В среднем кухня занимает:{df_with_kithen_median:.1%} от общей площади')\n",
    "df['kitchen_area'] = df['kitchen_area'].fillna(df['total_area'] * df_with_kithen_median )\n",
    "\n",
    "\n",
    "# тоже самое проделаем для жилой площади\n",
    "df_livin_area = df.query('kitchen_area > 0')\n",
    "df_livin_area_median  = (df_livin_area['living_area']/df_livin_area['total_area']).mean()\n",
    "print(f'В среднем кухня занимает:{df_livin_area_median:.1%} от общей площади')\n",
    "df['living_area'] = df['living_area'].fillna(df['total_area'] * df_livin_area_median)\n"
   ]
  },
  {
   "cell_type": "code",
   "execution_count": 13,
   "metadata": {
    "scrolled": false
   },
   "outputs": [
    {
     "data": {
      "text/plain": [
       "total_images               0\n",
       "last_price                 0\n",
       "total_area                 0\n",
       "first_day_exposition       0\n",
       "rooms                      0\n",
       "ceiling_height             4\n",
       "floors_total              85\n",
       "living_area                0\n",
       "floor                      0\n",
       "is_apartment               0\n",
       "studio                     0\n",
       "open_plan                  0\n",
       "kitchen_area               0\n",
       "balcony                    0\n",
       "locality_name              0\n",
       "airports_nearest        5386\n",
       "cityCenters_nearest     5386\n",
       "parks_around3000        5510\n",
       "parks_nearest           5998\n",
       "ponds_around3000        5510\n",
       "ponds_nearest           5494\n",
       "days_exposition         3180\n",
       "dtype: int64"
      ]
     },
     "execution_count": 13,
     "metadata": {},
     "output_type": "execute_result"
    }
   ],
   "source": [
    "df.isna().sum()"
   ]
  },
  {
   "cell_type": "markdown",
   "metadata": {},
   "source": [
    "### Вывод."
   ]
  },
  {
   "cell_type": "markdown",
   "metadata": {},
   "source": [
    "В результате применения функции заменяющей значения на медианные в столбцах с расстояниями до объекта, а так же заменой пропущенных значений в столбцах balcony и is_apartment удалось заvенить достаточное количество пропущенных значений на релевантные."
   ]
  },
  {
   "cell_type": "markdown",
   "metadata": {},
   "source": [
    "### 2.3 Нахождение и замена аномальных значений. <a class=\"anchor\" id=\"section_2_3\">"
   ]
  },
  {
   "cell_type": "code",
   "execution_count": 14,
   "metadata": {},
   "outputs": [
    {
     "data": {
      "text/html": [
       "<div>\n",
       "<style scoped>\n",
       "    .dataframe tbody tr th:only-of-type {\n",
       "        vertical-align: middle;\n",
       "    }\n",
       "\n",
       "    .dataframe tbody tr th {\n",
       "        vertical-align: top;\n",
       "    }\n",
       "\n",
       "    .dataframe thead th {\n",
       "        text-align: right;\n",
       "    }\n",
       "</style>\n",
       "<table border=\"1\" class=\"dataframe\">\n",
       "  <thead>\n",
       "    <tr style=\"text-align: right;\">\n",
       "      <th></th>\n",
       "      <th>total_images</th>\n",
       "      <th>last_price</th>\n",
       "      <th>total_area</th>\n",
       "      <th>rooms</th>\n",
       "      <th>ceiling_height</th>\n",
       "      <th>floors_total</th>\n",
       "      <th>living_area</th>\n",
       "      <th>floor</th>\n",
       "      <th>kitchen_area</th>\n",
       "      <th>balcony</th>\n",
       "      <th>airports_nearest</th>\n",
       "      <th>cityCenters_nearest</th>\n",
       "      <th>parks_around3000</th>\n",
       "      <th>parks_nearest</th>\n",
       "      <th>ponds_around3000</th>\n",
       "      <th>ponds_nearest</th>\n",
       "      <th>days_exposition</th>\n",
       "    </tr>\n",
       "  </thead>\n",
       "  <tbody>\n",
       "    <tr>\n",
       "      <th>count</th>\n",
       "      <td>23,650.00</td>\n",
       "      <td>23,650.00</td>\n",
       "      <td>23,650.00</td>\n",
       "      <td>23,650.00</td>\n",
       "      <td>23,646.00</td>\n",
       "      <td>23,565.00</td>\n",
       "      <td>23,650.00</td>\n",
       "      <td>23,650.00</td>\n",
       "      <td>23,650.00</td>\n",
       "      <td>23,650.00</td>\n",
       "      <td>18,264.00</td>\n",
       "      <td>18,264.00</td>\n",
       "      <td>18,140.00</td>\n",
       "      <td>17,652.00</td>\n",
       "      <td>18,140.00</td>\n",
       "      <td>18,156.00</td>\n",
       "      <td>20,470.00</td>\n",
       "    </tr>\n",
       "    <tr>\n",
       "      <th>mean</th>\n",
       "      <td>9.86</td>\n",
       "      <td>6,541,126.90</td>\n",
       "      <td>60.33</td>\n",
       "      <td>2.07</td>\n",
       "      <td>2.72</td>\n",
       "      <td>10.68</td>\n",
       "      <td>34.55</td>\n",
       "      <td>5.89</td>\n",
       "      <td>10.52</td>\n",
       "      <td>0.59</td>\n",
       "      <td>28,873.68</td>\n",
       "      <td>14,238.31</td>\n",
       "      <td>0.61</td>\n",
       "      <td>475.97</td>\n",
       "      <td>0.77</td>\n",
       "      <td>509.42</td>\n",
       "      <td>180.75</td>\n",
       "    </tr>\n",
       "    <tr>\n",
       "      <th>std</th>\n",
       "      <td>5.68</td>\n",
       "      <td>10,896,399.18</td>\n",
       "      <td>35.66</td>\n",
       "      <td>1.08</td>\n",
       "      <td>0.99</td>\n",
       "      <td>6.59</td>\n",
       "      <td>22.33</td>\n",
       "      <td>4.88</td>\n",
       "      <td>6.14</td>\n",
       "      <td>0.96</td>\n",
       "      <td>12,680.04</td>\n",
       "      <td>8,624.46</td>\n",
       "      <td>0.80</td>\n",
       "      <td>235.65</td>\n",
       "      <td>0.94</td>\n",
       "      <td>200.36</td>\n",
       "      <td>219.78</td>\n",
       "    </tr>\n",
       "    <tr>\n",
       "      <th>min</th>\n",
       "      <td>0.00</td>\n",
       "      <td>12,190.00</td>\n",
       "      <td>12.00</td>\n",
       "      <td>0.00</td>\n",
       "      <td>1.00</td>\n",
       "      <td>1.00</td>\n",
       "      <td>2.00</td>\n",
       "      <td>1.00</td>\n",
       "      <td>0.00</td>\n",
       "      <td>0.00</td>\n",
       "      <td>0.00</td>\n",
       "      <td>181.00</td>\n",
       "      <td>0.00</td>\n",
       "      <td>1.00</td>\n",
       "      <td>0.00</td>\n",
       "      <td>13.00</td>\n",
       "      <td>1.00</td>\n",
       "    </tr>\n",
       "    <tr>\n",
       "      <th>25%</th>\n",
       "      <td>6.00</td>\n",
       "      <td>3,400,000.00</td>\n",
       "      <td>40.00</td>\n",
       "      <td>1.00</td>\n",
       "      <td>2.60</td>\n",
       "      <td>5.00</td>\n",
       "      <td>19.00</td>\n",
       "      <td>2.00</td>\n",
       "      <td>7.00</td>\n",
       "      <td>0.00</td>\n",
       "      <td>18,625.00</td>\n",
       "      <td>9,289.00</td>\n",
       "      <td>0.00</td>\n",
       "      <td>428.50</td>\n",
       "      <td>0.00</td>\n",
       "      <td>462.00</td>\n",
       "      <td>45.00</td>\n",
       "    </tr>\n",
       "    <tr>\n",
       "      <th>50%</th>\n",
       "      <td>9.00</td>\n",
       "      <td>4,650,000.00</td>\n",
       "      <td>52.00</td>\n",
       "      <td>2.00</td>\n",
       "      <td>2.65</td>\n",
       "      <td>9.00</td>\n",
       "      <td>30.00</td>\n",
       "      <td>4.00</td>\n",
       "      <td>9.00</td>\n",
       "      <td>0.00</td>\n",
       "      <td>26,757.50</td>\n",
       "      <td>13,107.00</td>\n",
       "      <td>0.00</td>\n",
       "      <td>460.00</td>\n",
       "      <td>1.00</td>\n",
       "      <td>503.00</td>\n",
       "      <td>95.00</td>\n",
       "    </tr>\n",
       "    <tr>\n",
       "      <th>75%</th>\n",
       "      <td>14.00</td>\n",
       "      <td>6,799,000.00</td>\n",
       "      <td>69.70</td>\n",
       "      <td>3.00</td>\n",
       "      <td>2.70</td>\n",
       "      <td>16.00</td>\n",
       "      <td>42.08</td>\n",
       "      <td>8.00</td>\n",
       "      <td>12.00</td>\n",
       "      <td>1.00</td>\n",
       "      <td>37,348.00</td>\n",
       "      <td>16,318.25</td>\n",
       "      <td>1.00</td>\n",
       "      <td>460.00</td>\n",
       "      <td>1.00</td>\n",
       "      <td>561.00</td>\n",
       "      <td>231.00</td>\n",
       "    </tr>\n",
       "    <tr>\n",
       "      <th>max</th>\n",
       "      <td>50.00</td>\n",
       "      <td>763,000,000.00</td>\n",
       "      <td>900.00</td>\n",
       "      <td>19.00</td>\n",
       "      <td>100.00</td>\n",
       "      <td>60.00</td>\n",
       "      <td>409.70</td>\n",
       "      <td>33.00</td>\n",
       "      <td>112.00</td>\n",
       "      <td>5.00</td>\n",
       "      <td>84,869.00</td>\n",
       "      <td>65,968.00</td>\n",
       "      <td>3.00</td>\n",
       "      <td>3,190.00</td>\n",
       "      <td>3.00</td>\n",
       "      <td>1,344.00</td>\n",
       "      <td>1,580.00</td>\n",
       "    </tr>\n",
       "  </tbody>\n",
       "</table>\n",
       "</div>"
      ],
      "text/plain": [
       "       total_images     last_price  total_area     rooms  ceiling_height  \\\n",
       "count     23,650.00      23,650.00   23,650.00 23,650.00       23,646.00   \n",
       "mean           9.86   6,541,126.90       60.33      2.07            2.72   \n",
       "std            5.68  10,896,399.18       35.66      1.08            0.99   \n",
       "min            0.00      12,190.00       12.00      0.00            1.00   \n",
       "25%            6.00   3,400,000.00       40.00      1.00            2.60   \n",
       "50%            9.00   4,650,000.00       52.00      2.00            2.65   \n",
       "75%           14.00   6,799,000.00       69.70      3.00            2.70   \n",
       "max           50.00 763,000,000.00      900.00     19.00          100.00   \n",
       "\n",
       "       floors_total  living_area     floor  kitchen_area   balcony  \\\n",
       "count     23,565.00    23,650.00 23,650.00     23,650.00 23,650.00   \n",
       "mean          10.68        34.55      5.89         10.52      0.59   \n",
       "std            6.59        22.33      4.88          6.14      0.96   \n",
       "min            1.00         2.00      1.00          0.00      0.00   \n",
       "25%            5.00        19.00      2.00          7.00      0.00   \n",
       "50%            9.00        30.00      4.00          9.00      0.00   \n",
       "75%           16.00        42.08      8.00         12.00      1.00   \n",
       "max           60.00       409.70     33.00        112.00      5.00   \n",
       "\n",
       "       airports_nearest  cityCenters_nearest  parks_around3000  parks_nearest  \\\n",
       "count         18,264.00            18,264.00         18,140.00      17,652.00   \n",
       "mean          28,873.68            14,238.31              0.61         475.97   \n",
       "std           12,680.04             8,624.46              0.80         235.65   \n",
       "min                0.00               181.00              0.00           1.00   \n",
       "25%           18,625.00             9,289.00              0.00         428.50   \n",
       "50%           26,757.50            13,107.00              0.00         460.00   \n",
       "75%           37,348.00            16,318.25              1.00         460.00   \n",
       "max           84,869.00            65,968.00              3.00       3,190.00   \n",
       "\n",
       "       ponds_around3000  ponds_nearest  days_exposition  \n",
       "count         18,140.00      18,156.00        20,470.00  \n",
       "mean               0.77         509.42           180.75  \n",
       "std                0.94         200.36           219.78  \n",
       "min                0.00          13.00             1.00  \n",
       "25%                0.00         462.00            45.00  \n",
       "50%                1.00         503.00            95.00  \n",
       "75%                1.00         561.00           231.00  \n",
       "max                3.00       1,344.00         1,580.00  "
      ]
     },
     "execution_count": 14,
     "metadata": {},
     "output_type": "execute_result"
    }
   ],
   "source": [
    "df.describe()"
   ]
  },
  {
   "cell_type": "markdown",
   "metadata": {},
   "source": [
    "Из сводной таблице выидим, что максимальное значение в столбце 'ceiling_height' явно отличается от возможного. Необходимо более детально исследовать данные."
   ]
  },
  {
   "cell_type": "code",
   "execution_count": 15,
   "metadata": {},
   "outputs": [
    {
     "data": {
      "text/plain": [
       "22869   100.00\n",
       "3148     32.00\n",
       "22336    32.00\n",
       "21377    27.50\n",
       "5246     27.00\n",
       "21824    27.00\n",
       "10773    27.00\n",
       "4876     27.00\n",
       "20478    27.00\n",
       "17857    27.00\n",
       "22938    27.00\n",
       "5807     27.00\n",
       "5669     26.00\n",
       "4643     25.00\n",
       "14382    25.00\n",
       "Name: ceiling_height, dtype: float64"
      ]
     },
     "execution_count": 15,
     "metadata": {},
     "output_type": "execute_result"
    }
   ],
   "source": [
    "df['ceiling_height'].sort_values(ascending = False).head(15)"
   ]
  },
  {
   "cell_type": "markdown",
   "metadata": {},
   "source": [
    "В данных указаны неправдоподобные результаты, вероятная причина - в некоторых наблюдениях использовалась отличная мера измерения. \n",
    "\n",
    "Решение проблемы - делим значения больше 10 на 10, тем самым приводим наблюдения к одной еденице - метру."
   ]
  },
  {
   "cell_type": "code",
   "execution_count": 16,
   "metadata": {},
   "outputs": [
    {
     "data": {
      "text/plain": [
       "22869   10.00\n",
       "5863     8.30\n",
       "3474     8.00\n",
       "15743    8.00\n",
       "17442    8.00\n",
       "20264    6.00\n",
       "21227    5.80\n",
       "1388     5.60\n",
       "7578     5.50\n",
       "1026     5.30\n",
       "12628    5.30\n",
       "464      5.20\n",
       "1053     5.00\n",
       "21923    4.90\n",
       "2802     4.80\n",
       "Name: ceiling_height, dtype: float64"
      ]
     },
     "execution_count": 16,
     "metadata": {},
     "output_type": "execute_result"
    }
   ],
   "source": [
    "df.loc[df['ceiling_height'] > 10, 'ceiling_height'] = df.loc[df['ceiling_height'] > 10, 'ceiling_height'] /10\n",
    "df['ceiling_height'].sort_values(ascending = False).head(15)"
   ]
  },
  {
   "cell_type": "markdown",
   "metadata": {},
   "source": [
    "## Вывод.\n",
    "Были выявлены аномальные значния в данных о высоте потолков, змененены на релевантные."
   ]
  },
 
  {
   "cell_type": "markdown",
   "metadata": {},
   "source": [
    "### 2.4. Изменение типа данных. <a class=\"anchor\" id=\"section_2_4\">"
   ]
  },
  {
   "cell_type": "code",
   "execution_count": 17,
   "metadata": {},
   "outputs": [
    {
     "name": "stdout",
     "output_type": "stream",
     "text": [
      "<class 'pandas.core.frame.DataFrame'>\n",
      "Int64Index: 23650 entries, 0 to 23698\n",
      "Data columns (total 22 columns):\n",
      " #   Column                Non-Null Count  Dtype  \n",
      "---  ------                --------------  -----  \n",
      " 0   total_images          23650 non-null  int64  \n",
      " 1   last_price            23650 non-null  float64\n",
      " 2   total_area            23650 non-null  float64\n",
      " 3   first_day_exposition  23650 non-null  object \n",
      " 4   rooms                 23650 non-null  int64  \n",
      " 5   ceiling_height        23646 non-null  float64\n",
      " 6   floors_total          23565 non-null  float64\n",
      " 7   living_area           23650 non-null  float64\n",
      " 8   floor                 23650 non-null  int64  \n",
      " 9   is_apartment          23650 non-null  object \n",
      " 10  studio                23650 non-null  bool   \n",
      " 11  open_plan             23650 non-null  bool   \n",
      " 12  kitchen_area          23650 non-null  float64\n",
      " 13  balcony               23650 non-null  float64\n",
      " 14  locality_name         23650 non-null  object \n",
      " 15  airports_nearest      18264 non-null  float64\n",
      " 16  cityCenters_nearest   18264 non-null  float64\n",
      " 17  parks_around3000      18140 non-null  float64\n",
      " 18  parks_nearest         17652 non-null  float64\n",
      " 19  ponds_around3000      18140 non-null  float64\n",
      " 20  ponds_nearest         18156 non-null  float64\n",
      " 21  days_exposition       20470 non-null  float64\n",
      "dtypes: bool(2), float64(14), int64(3), object(3)\n",
      "memory usage: 3.8+ MB\n"
     ]
    }
   ],
   "source": [
    "df.info()\n"
   ]
  },
  {
   "cell_type": "markdown",
   "metadata": {},
   "source": [
    "Из таблицы видно, что некоторые типы данных указаны некорретно, что может привести к появлению проблем при дальнейшем исследовании. \n",
    "\n",
    "Необходимо изменить данные в следующих столбцах: \n",
    "* floors_total, \n",
    "* is_apartment, \n",
    "* balcony, \n",
    "* first_day_exposition, \n",
    "* ponds_around3000, \n",
    "* parks_around3000\n",
    "* days_exposition"
   ]
  },
  {
   "cell_type": "code",
   "execution_count": 18,
   "metadata": {
    "scrolled": false
   },
   "outputs": [
    {
     "name": "stdout",
     "output_type": "stream",
     "text": [
      "<class 'pandas.core.frame.DataFrame'>\n",
      "Int64Index: 23650 entries, 0 to 23698\n",
      "Data columns (total 22 columns):\n",
      " #   Column                Non-Null Count  Dtype         \n",
      "---  ------                --------------  -----         \n",
      " 0   total_images          23650 non-null  int64         \n",
      " 1   last_price            23650 non-null  float64       \n",
      " 2   total_area            23650 non-null  float64       \n",
      " 3   first_day_exposition  23650 non-null  datetime64[ns]\n",
      " 4   rooms                 23650 non-null  int64         \n",
      " 5   ceiling_height        23646 non-null  float64       \n",
      " 6   floors_total          23650 non-null  int32         \n",
      " 7   living_area           23650 non-null  float64       \n",
      " 8   floor                 23650 non-null  int64         \n",
      " 9   is_apartment          23650 non-null  bool          \n",
      " 10  studio                23650 non-null  bool          \n",
      " 11  open_plan             23650 non-null  bool          \n",
      " 12  kitchen_area          23650 non-null  float64       \n",
      " 13  balcony               23650 non-null  int32         \n",
      " 14  locality_name         23650 non-null  object        \n",
      " 15  airports_nearest      18264 non-null  float64       \n",
      " 16  cityCenters_nearest   18264 non-null  float64       \n",
      " 17  parks_around3000      23650 non-null  int32         \n",
      " 18  parks_nearest         17652 non-null  float64       \n",
      " 19  ponds_around3000      23650 non-null  int32         \n",
      " 20  ponds_nearest         18156 non-null  float64       \n",
      " 21  days_exposition       23650 non-null  int32         \n",
      "dtypes: bool(3), datetime64[ns](1), float64(9), int32(5), int64(3), object(1)\n",
      "memory usage: 3.2+ MB\n"
     ]
    }
   ],
   "source": [
    "df['floors_total'] = df['floors_total'].fillna(0)\n",
    "\n",
    "# прежде чем менять типы данных в остальным стообцах, так же заменим пропуски в них на \"0\" т.к. nan препятствует изменению формата\n",
    "\n",
    "df['ponds_around3000'] = df['ponds_around3000'].fillna(0) \n",
    "df['parks_around3000']= df['parks_around3000'].fillna(0)\n",
    "df['days_exposition'] = df['days_exposition'].fillna(-1)\n",
    "df['ponds_around3000'] = df['ponds_around3000'].astype('int')\n",
    "df['parks_around3000'] = df['parks_around3000'].astype('int')\n",
    "df['balcony'] = df['balcony'].astype('int')\n",
    "df['floors_total'] = df['balcony'].astype('int')\n",
    "df['days_exposition'] = df['days_exposition'].astype(int)\n",
    "df['is_apartment'] = df['is_apartment'].astype('bool')\n",
    "\n",
    "#приводим дату к формату времени, исключив часы-минуты-секунды т.к. значение их 00-00-00\n",
    "df['first_day_exposition'] = pd.to_datetime(df['first_day_exposition'], format = '%Y-%m-%d')\n",
    "\n",
    "#проверяем полученный результат\n",
    "df.info()\n"
   ]
  },
  {
   "cell_type": "markdown",
   "metadata": {},
   "source": [
    "### Вывод:\n",
    "\n",
    "Форматы данных были скорректироаны для удобной работы в дальнейшем. Пропуски в поле 'days_exposition' были заменены на отрицательное значени, т.к. замену на ноль в этом случае сичтаю некооректной - могут бытть реальные нулевы значения."
   ]
  },
  {
   "cell_type": "markdown",
   "metadata": {},
   "source": [
    "## 3. Добавление новых полей.<a class=\"anchor\" id=\"section_3\">"
   ]
  },
  {
   "cell_type": "code",
   "execution_count": 19,
   "metadata": {
    "scrolled": true
   },
   "outputs": [],
   "source": [
    "# расчет цены квадратного метра\n",
    "df['cost_per_metrs'] = df['last_price']/df['total_area'] "
   ]
  },
  {
   "cell_type": "code",
   "execution_count": 20,
   "metadata": {},
   "outputs": [],
   "source": [
    "# извлечение времени\n",
    "df['year_first_day_exposition'] = df['first_day_exposition'].dt.year\n",
    "df['day_first_day_exposition'] = df['first_day_exposition'].dt.weekday\n",
    "df['month_first_day_exposition'] = df['first_day_exposition'].dt.month"
   ]
  },
  {
   "cell_type": "code",
   "execution_count": 21,
   "metadata": {},
   "outputs": [],
   "source": [
    "# категоризация по этажам, добавление столбца с категориями\n",
    "def floor_type(row):\n",
    "    floor = row['floor']\n",
    "    last_flor = row['floors_total']\n",
    "    if floor == 1:\n",
    "        return 'первый'\n",
    "    if floor  == last_flor:\n",
    "        return 'последний'\n",
    "    else:\n",
    "        return 'другой'\n",
    "    \n",
    "df['floor_type_column'] = df.apply(floor_type, axis=1)"
   ]
  },
  {
   "cell_type": "code",
   "execution_count": 20,
   "metadata": {},
   "outputs": [],
   "source": [
    "# соотношение площадей\n",
    "df['living_total_ration'] = df['living_area']/df['total_area']\n",
    "df['kitchen_total_ratiom'] = df['kitchen_area']/df['total_area']"
   ]
  },
  {
   "cell_type": "markdown",
   "metadata": {},
   "source": [
    "### Вывод.\n",
    "Были добавлены новые поля: 'floor_type_column', 'year_first_day_exposition', 'day_first_day_exposition', 'month_first_day_exposition' необходимые для дальнейшего исследования."
   ]
  },
  {
   "cell_type": "markdown",
   "metadata": {},
   "source": [
    "## 4. Исследование данных<a class=\"anchor\" id=\"section_4\">"
   ]
  },
  {
   "cell_type": "markdown",
   "metadata": {},
   "source": [
    "### 4.1 Изучение параметров: площадь, цена, число комнат, высота потолков.<a class=\"anchor\" id=\"section_4_1\">"
   ]
  },
  {
   "cell_type": "code",
   "execution_count": 28,
   "metadata": {
    "scrolled": false
   },
   "outputs": [
    {
     "data": {
      "image/png": "[encoded data removed]",
      "text/plain": [
       "<Figure size 1080x504 with 1 Axes>"
      ]
     },
     "metadata": {
      "needs_background": "light"
     },
     "output_type": "display_data"
    },
    {
     "data": {
      "image/png": "[encoded data removed]",
      "text/plain": [
       "<Figure size 1080x504 with 1 Axes>"
      ]
     },
     "metadata": {
      "needs_background": "light"
     },
     "output_type": "display_data"
    },
    {
     "data": {
      "image/png": "[encoded data removed]",
      "text/plain": [
       "<Figure size 1080x504 with 1 Axes>"
      ]
     },
     "metadata": {
      "needs_background": "light"
     },
     "output_type": "display_data"
    },
    {
     "data": {
      "image/png": "[encoded data removed]",
      "text/plain": [
       "<Figure size 1080x504 with 1 Axes>"
      ]
     },
     "metadata": {
      "needs_background": "light"
     },
     "output_type": "display_data"
    }
   ],
   "source": [
    "# строим гистограммы для изучаемых параметров\n",
    "# для того, чтобы отбросить выбросы ограничим наблюдаемые значения интервалом от 5 до 95%\n",
    "\n",
    "columns = ['total_area', 'last_price', 'rooms', 'ceiling_height']\n",
    "names =['Распределение общей площади', 'Распределение цены', 'Распределение количества комнат', 'Распределение высоты потолков']\n",
    "xlabel = ['Общая площадь', 'Цена', 'Количество комнат', 'Высота потолков']\n",
    "for i in range(len(columns)):\n",
    "    q1 =  df[columns[i]].quantile(0.05)\n",
    "    q2 = df[columns[i]].quantile(0.95)\n",
    "    ranges = (q1, q2)\n",
    "    df.plot(y = columns[i], kind = 'hist', bins = 100, grid=True, figsize = (15,7), range = ranges, title = names[i], legend = False)\n",
    "    plt.xlabel(xlabel[i])\n",
    "    plt.ylabel('Распределение')\n",
    "    df[columns[i]].describe()\n",
    "    "
   ]
  },
  {
   "cell_type": "markdown",
   "metadata": {},
   "source": [
    "### Вывод.\n",
    "\n",
    "В результате анализа построенных гистограмм можем утверждать, что наиболее распространены объявления о продаже квартир с площадью до 65 кв.м. имеющие до 3-х комнат с преобладающей высотой потолков в 2.5 метра."
   ]
  },
  {
   "cell_type": "markdown",
   "metadata": {},
   "source": [
    "### 4.2 Время продажи квартиры.<a class=\"anchor\" id=\"section_4_2\">"
   ]
  },
  {
   "cell_type": "code",
   "execution_count": 29,
   "metadata": {
    "scrolled": true
   },
   "outputs": [
    {
     "name": "stdout",
     "output_type": "stream",
     "text": [
      "count   20,470.00\n",
      "mean       180.75\n",
      "std        219.78\n",
      "min          1.00\n",
      "25%         45.00\n",
      "50%         95.00\n",
      "75%        231.00\n",
      "max      1,580.00\n",
      "Name: days_exposition, dtype: float64\n"
     ]
    },
    {
     "data": {
      "image/png": "[encoded data removed]",
      "text/plain": [
       "<Figure size 1080x504 with 1 Axes>"
      ]
     },
     "metadata": {
      "needs_background": "light"
     },
     "output_type": "display_data"
    }
   ],
   "source": [
    "#изучаем время продажи квартир\n",
    "#сразу отбросим строки,которые ранее были заменены на -1\n",
    "df['days_exposition'] = df.loc[df['days_exposition'] > 0, 'days_exposition']\n",
    "\n",
    "df['days_exposition'].plot(kind = 'hist', bins = 100, grid=True, figsize = (15,7))\n",
    "plt.xlabel('День побликации объявления')\n",
    "plt.ylabel('Распределение')\n",
    "plt.title(\"Распределение по дню публикации объявления\")\n",
    "\n",
    "\n",
    "print(df['days_exposition'].describe())\n"
   ]
  },
  {
   "cell_type": "code",
   "execution_count": 23,
   "metadata": {},
   "outputs": [
    {
     "data": {
      "text/plain": [
       "Text(0.5, 0, 'День публикации объявления.')"
      ]
     },
     "execution_count": 23,
     "metadata": {},
     "output_type": "execute_result"
    },
    {
     "data": {
      "image/png": "[encoded data removed]",
      "text/plain": [
       "<Figure size 1152x432 with 1 Axes>"
      ]
     },
     "metadata": {
      "needs_background": "light"
     },
     "output_type": "display_data"
    }
   ],
   "source": [
    "# для определения отклоняющихся значений построим ящик с усами\n",
    "plt.figure(figsize=(16, 6))\n",
    "plt.title('Диаграмма размахам по дню публикации объявления.')\n",
    "sns.boxplot(df['days_exposition'])\n",
    "plt.xlabel(\"День публикации объявления.\")\n"
   ]
  },
  {
   "cell_type": "markdown",
   "metadata": {},
   "source": [
    "Из анализа графика boxpolt видим, что нижний 'ус' упирается в '0' - минимальное значение. \n",
    "Верхний около 500 - 1.5 межквартильного размаха, добавленного к 3-му квартилю, все остальное сичтаем вбросами. \n",
    "Дополнительно построим гистограмму огрничившись значениями от 0 до 500"
   ]
  },
  {
   "cell_type": "code",
   "execution_count": 30,
   "metadata": {},
   "outputs": [
    {
     "data": {
      "image/png": "[encoded data removed]",
      "text/plain": [
       "<Figure size 1080x504 with 1 Axes>"
      ]
     },
     "metadata": {
      "needs_background": "light"
     },
     "output_type": "display_data"
    }
   ],
   "source": [
    "# гистограмма для парамаетра 'days exposition'\n",
    "df['days_exposition'].plot(kind = 'hist', bins = 100, grid=True, figsize = (15,7))\n",
    "plt.xlabel('День побликации объявления')\n",
    "plt.ylabel('Распределение')\n",
    "plt.title(\"Распределение по дню публикации объявления\");\n"
   ]
  },
  {
   "cell_type": "code",
   "execution_count": 31,
   "metadata": {},
   "outputs": [
    {
     "data": {
      "image/png": "[encoded data removed]",
      "text/plain": [
       "<Figure size 1080x504 with 1 Axes>"
      ]
     },
     "metadata": {
      "needs_background": "light"
     },
     "output_type": "display_data"
    }
   ],
   "source": [
    "# более детально изучим отрезок от 0 до 100\n",
    "df['days_exposition'].plot(kind = 'hist', bins = 100, grid=True, figsize = (15,7), range = (0,100))\n",
    "plt.xlabel('День побликации объявления')\n",
    "plt.ylabel('Распределение')\n",
    "plt.title(\"Распределение по дню публикации объявления\");\n"
   ]
  },
  {
   "cell_type": "markdown",
   "metadata": {},
   "source": [
    "Детально изучив данные видим, что имеются значения, явно отклоняющиеся от нормальных: - 45, 60, 90. дней.\n",
    "Исключим их из выборки, сохраним новые значения в отдельный фрейм. "
   ]
  },
  {
   "cell_type": "code",
   "execution_count": 32,
   "metadata": {},
   "outputs": [
    {
     "data": {
      "image/png": "[encoded data removed]",
      "text/plain": [
       "<Figure size 1080x504 with 1 Axes>"
      ]
     },
     "metadata": {
      "needs_background": "light"
     },
     "output_type": "display_data"
    }
   ],
   "source": [
    "df = df.query('days_exposition != 60 and days_exposition != 45 and days_exposition != 90' )\n",
    "df['days_exposition'].plot(kind = 'hist', bins = 100, grid=True, figsize = (15,7), range = (0,500))\n",
    "plt.xlabel('День побликации объявления')\n",
    "plt.ylabel('Распределение')\n",
    "plt.title(\"Распределение по дню публикации объявления\");\n"
   ]
  },
  {
   "cell_type": "code",
   "execution_count": 27,
   "metadata": {},
   "outputs": [
    {
     "data": {
      "text/html": [
       "<div>\n",
       "<style scoped>\n",
       "    .dataframe tbody tr th:only-of-type {\n",
       "        vertical-align: middle;\n",
       "    }\n",
       "\n",
       "    .dataframe tbody tr th {\n",
       "        vertical-align: top;\n",
       "    }\n",
       "\n",
       "    .dataframe thead th {\n",
       "        text-align: right;\n",
       "    }\n",
       "</style>\n",
       "<table border=\"1\" class=\"dataframe\">\n",
       "  <thead>\n",
       "    <tr style=\"text-align: right;\">\n",
       "      <th></th>\n",
       "      <th>days_exposition</th>\n",
       "    </tr>\n",
       "    <tr>\n",
       "      <th>day_first_day_exposition</th>\n",
       "      <th></th>\n",
       "    </tr>\n",
       "  </thead>\n",
       "  <tbody>\n",
       "    <tr>\n",
       "      <td>2</td>\n",
       "      <td>200.31</td>\n",
       "    </tr>\n",
       "    <tr>\n",
       "      <td>3</td>\n",
       "      <td>196.42</td>\n",
       "    </tr>\n",
       "    <tr>\n",
       "      <td>0</td>\n",
       "      <td>194.49</td>\n",
       "    </tr>\n",
       "    <tr>\n",
       "      <td>1</td>\n",
       "      <td>193.34</td>\n",
       "    </tr>\n",
       "    <tr>\n",
       "      <td>5</td>\n",
       "      <td>183.35</td>\n",
       "    </tr>\n",
       "    <tr>\n",
       "      <td>6</td>\n",
       "      <td>181.59</td>\n",
       "    </tr>\n",
       "    <tr>\n",
       "      <td>4</td>\n",
       "      <td>181.04</td>\n",
       "    </tr>\n",
       "  </tbody>\n",
       "</table>\n",
       "</div>"
      ],
      "text/plain": [
       "                          days_exposition\n",
       "day_first_day_exposition                 \n",
       "2                                  200.31\n",
       "3                                  196.42\n",
       "0                                  194.49\n",
       "1                                  193.34\n",
       "5                                  183.35\n",
       "6                                  181.59\n",
       "4                                  181.04"
      ]
     },
     "execution_count": 27,
     "metadata": {},
     "output_type": "execute_result"
    },
    {
     "data": {
      "image/png": "[encoded data removed]",
      "text/plain": [
       "<Figure size 1080x576 with 1 Axes>"
      ]
     },
     "metadata": {
      "needs_background": "light"
     },
     "output_type": "display_data"
    }
   ],
   "source": [
    "# проследим зависимость дня публикации и продолжительности объявления.\n",
    "# для этого построим сводную таблицу по полям 'day_first_day_exposition' и days_exposition' и график\n",
    "\n",
    "(\n",
    "df\n",
    "    .pivot_table(index = 'day_first_day_exposition',\n",
    "    values = 'days_exposition', aggfunc ='mean')\n",
    "    .plot(figsize =(15, 8), kind ='bar', ylim = (175,210), legend = False)\n",
    "      \n",
    ")\n",
    "plt.xlabel('День публикации объявления')\n",
    "plt.ylabel('Количество дней до снятия')\n",
    "plt.title('Зависимость продолжительности публикации объявления от дня размещения')    \n",
    "\n",
    "(\n",
    "df\n",
    "    .pivot_table(index = 'day_first_day_exposition',\n",
    "    values = 'days_exposition', aggfunc ='mean').sort_values(by= 'days_exposition' ,ascending = False)\n",
    "    \n",
    ")"
   ]
  },
  {
   "cell_type": "markdown",
   "metadata": {},
   "source": [
    "### Вывод.\n",
    "\n",
    "Изучив время продажи квартиру, можем заключить, что большая часть объявлений держатся ориентироочно месяц, в дальнейшем наблюдаем постепенный спад. \n",
    "Примечательно, что объвления с самым большм временем публикаци чаще выкладываются в среду, хотя зависимость в этом пункте скорее случайна."
   ]
  },
  {
   "cell_type": "markdown",
   "metadata": {},
   "source": [
    "### 4.3. Исследование стоимости.<a class=\"anchor\" id=\"section_4_3\">"
   ]
  },
  {
   "cell_type": "code",
   "execution_count": 1,
   "metadata": {},
   "outputs": [
    {
     "ename": "NameError",
     "evalue": "name 'df' is not defined",
     "output_type": "error",
     "traceback": [
      "\u001b[0;31m---------------------------------------------------------------------------\u001b[0m",
      "\u001b[0;31mNameError\u001b[0m                                 Traceback (most recent call last)",
      "\u001b[0;32m<ipython-input-1-4eebd566cc06>\u001b[0m in \u001b[0;36m<module>\u001b[0;34m\u001b[0m\n\u001b[1;32m      1\u001b[0m \u001b[0;31m# для определения общих зависимостей построим матрицу корреляции по необходимым полям\u001b[0m\u001b[0;34m\u001b[0m\u001b[0;34m\u001b[0m\u001b[0;34m\u001b[0m\u001b[0m\n\u001b[0;32m----> 2\u001b[0;31m matrix_df = df[['last_price',\\\n\u001b[0m\u001b[1;32m      3\u001b[0m                 \u001b[0;34m'total_area'\u001b[0m\u001b[0;34m,\u001b[0m\u001b[0;31m\\\u001b[0m\u001b[0;34m\u001b[0m\u001b[0;34m\u001b[0m\u001b[0m\n\u001b[1;32m      4\u001b[0m                 \u001b[0;34m'cityCenters_nearest'\u001b[0m\u001b[0;34m,\u001b[0m\u001b[0;31m\\\u001b[0m\u001b[0;34m\u001b[0m\u001b[0;34m\u001b[0m\u001b[0m\n\u001b[1;32m      5\u001b[0m                 \u001b[0;34m'day_first_day_exposition'\u001b[0m\u001b[0;34m,\u001b[0m\u001b[0;31m\\\u001b[0m\u001b[0;34m\u001b[0m\u001b[0;34m\u001b[0m\u001b[0m\n",
      "\u001b[0;31mNameError\u001b[0m: name 'df' is not defined"
     ]
    }
   ],
   "source": [
    "# для определения общих зависимостей построим матрицу корреляции по необходимым полям\n",
    "matrix_df = df[['last_price',\\\n",
    "                'total_area',\\\n",
    "                'cityCenters_nearest',\\\n",
    "                'day_first_day_exposition',\\\n",
    "                'month_first_day_exposition',\\\n",
    "                'year_first_day_exposition',\\\n",
    "                'rooms',\\\n",
    "                'floors_total',\\\n",
    "               'ceiling_height']]\n",
    "\n",
    "matrix_df.corr().style.background_gradient(cmap = 'coolwarm')"
   ]
  },
  {
   "cell_type": "code",
   "execution_count": 33,
   "metadata": {
    "scrolled": false
   },
   "outputs": [
    {
     "data": {
      "image/png": "[encoded data removed]",
      "text/plain": [
       "<Figure size 1080x504 with 1 Axes>"
      ]
     },
     "metadata": {
      "needs_background": "light"
     },
     "output_type": "display_data"
    },
    {
     "data": {
      "image/png": "[encoded data removed]",
      "text/plain": [
       "<Figure size 1080x504 with 1 Axes>"
      ]
     },
     "metadata": {
      "needs_background": "light"
     },
     "output_type": "display_data"
    }
   ],
   "source": [
    "# так же построим диаграммы рассеяния для более детального изучения\n",
    "x_names = ['общая площадь', 'расстояние до центра']\n",
    "columns_for_price = ['total_area', 'cityCenters_nearest']\n",
    "titles = ['Зависимость цены от площади квартиры', 'Зависимость цены от расстояния до центра']\n",
    "for i in range(2):\n",
    "    df.plot(y='last_price', x = columns_for_price[i],  kind='scatter', figsize=(15,7))\n",
    "    plt.xlabel(x_names[i])\n",
    "    plt.ylabel('цена')\n",
    "    plt.title(titles[i])\n",
    "    plt.show()\n",
    "    "
   ]
  },
  {
   "cell_type": "code",
   "execution_count": 34,
   "metadata": {
    "scrolled": true
   },
   "outputs": [
    {
     "data": {
      "image/png": "[encoded data removed]",
      "text/plain": [
       "<Figure size 1080x576 with 1 Axes>"
      ]
     },
     "metadata": {
      "needs_background": "light"
     },
     "output_type": "display_data"
    },
    {
     "data": {
      "image/png": "[encoded data removed]",
      "text/plain": [
       "<Figure size 1080x576 with 1 Axes>"
      ]
     },
     "metadata": {
      "needs_background": "light"
     },
     "output_type": "display_data"
    },
    {
     "data": {
      "image/png": "[encoded data removed]",
      "text/plain": [
       "<Figure size 1080x576 with 1 Axes>"
      ]
     },
     "metadata": {
      "needs_background": "light"
     },
     "output_type": "display_data"
    }
   ],
   "source": [
    "x_names = ['месяц публикации', 'год публикации','количество этажей']\n",
    "columns_for_price = ['month_first_day_exposition', 'year_first_day_exposition','floor_type_column']\n",
    "titles = names = ['Цена в зависимости от месяца публикации', 'Цена в зависимости от года публикации', 'Цена в зависимости от количества этажей']\n",
    "for i in range(3):\n",
    "    df.groupby(columns_for_price[i])['last_price'].mean().plot(kind = 'bar', figsize=(15,8))\n",
    "    plt.xlabel(x_names[i])\n",
    "    plt.ylabel('цена')\n",
    "    plt.title(titles[i])\n",
    "    plt.ylim(5000000,8000000)\n",
    "    plt.show()    \n"
   ]
  },
  {
   "cell_type": "code",
   "execution_count": 31,
   "metadata": {},
   "outputs": [
    {
     "data": {
      "text/html": [
       "<div>\n",
       "<style scoped>\n",
       "    .dataframe tbody tr th:only-of-type {\n",
       "        vertical-align: middle;\n",
       "    }\n",
       "\n",
       "    .dataframe tbody tr th {\n",
       "        vertical-align: top;\n",
       "    }\n",
       "\n",
       "    .dataframe thead th {\n",
       "        text-align: right;\n",
       "    }\n",
       "</style>\n",
       "<table border=\"1\" class=\"dataframe\">\n",
       "  <thead>\n",
       "    <tr style=\"text-align: right;\">\n",
       "      <th></th>\n",
       "      <th>total_images</th>\n",
       "      <th>last_price</th>\n",
       "      <th>total_area</th>\n",
       "      <th>rooms</th>\n",
       "      <th>ceiling_height</th>\n",
       "      <th>floors_total</th>\n",
       "      <th>living_area</th>\n",
       "      <th>floor</th>\n",
       "      <th>kitchen_area</th>\n",
       "      <th>balcony</th>\n",
       "      <th>...</th>\n",
       "      <th>parks_nearest</th>\n",
       "      <th>ponds_around3000</th>\n",
       "      <th>ponds_nearest</th>\n",
       "      <th>days_exposition</th>\n",
       "      <th>cost_per_metrs</th>\n",
       "      <th>year_first_day_exposition</th>\n",
       "      <th>day_first_day_exposition</th>\n",
       "      <th>month_first_day_exposition</th>\n",
       "      <th>living_total_ration</th>\n",
       "      <th>kitchen_total_ratiom</th>\n",
       "    </tr>\n",
       "  </thead>\n",
       "  <tbody>\n",
       "    <tr>\n",
       "      <td>count</td>\n",
       "      <td>22,030.00</td>\n",
       "      <td>22,030.00</td>\n",
       "      <td>22,030.00</td>\n",
       "      <td>22,030.00</td>\n",
       "      <td>22,026.00</td>\n",
       "      <td>22,030.00</td>\n",
       "      <td>22,030.00</td>\n",
       "      <td>22,030.00</td>\n",
       "      <td>22,030.00</td>\n",
       "      <td>22,030.00</td>\n",
       "      <td>...</td>\n",
       "      <td>16,618.00</td>\n",
       "      <td>22,030.00</td>\n",
       "      <td>17,080.00</td>\n",
       "      <td>18,850.00</td>\n",
       "      <td>22,030.00</td>\n",
       "      <td>22,030.00</td>\n",
       "      <td>22,030.00</td>\n",
       "      <td>22,030.00</td>\n",
       "      <td>22,030.00</td>\n",
       "      <td>22,030.00</td>\n",
       "    </tr>\n",
       "    <tr>\n",
       "      <td>mean</td>\n",
       "      <td>9.99</td>\n",
       "      <td>6,614,089.00</td>\n",
       "      <td>60.61</td>\n",
       "      <td>2.08</td>\n",
       "      <td>2.70</td>\n",
       "      <td>0.59</td>\n",
       "      <td>34.71</td>\n",
       "      <td>5.88</td>\n",
       "      <td>10.54</td>\n",
       "      <td>0.59</td>\n",
       "      <td>...</td>\n",
       "      <td>475.18</td>\n",
       "      <td>0.60</td>\n",
       "      <td>509.06</td>\n",
       "      <td>191.51</td>\n",
       "      <td>99,960.07</td>\n",
       "      <td>2,017.36</td>\n",
       "      <td>2.55</td>\n",
       "      <td>6.41</td>\n",
       "      <td>0.56</td>\n",
       "      <td>0.19</td>\n",
       "    </tr>\n",
       "    <tr>\n",
       "      <td>std</td>\n",
       "      <td>5.67</td>\n",
       "      <td>11,150,011.49</td>\n",
       "      <td>36.15</td>\n",
       "      <td>1.08</td>\n",
       "      <td>0.24</td>\n",
       "      <td>0.96</td>\n",
       "      <td>22.61</td>\n",
       "      <td>4.87</td>\n",
       "      <td>6.22</td>\n",
       "      <td>0.96</td>\n",
       "      <td>...</td>\n",
       "      <td>233.59</td>\n",
       "      <td>0.89</td>\n",
       "      <td>200.24</td>\n",
       "      <td>225.77</td>\n",
       "      <td>50,293.78</td>\n",
       "      <td>1.06</td>\n",
       "      <td>1.78</td>\n",
       "      <td>3.48</td>\n",
       "      <td>0.10</td>\n",
       "      <td>0.07</td>\n",
       "    </tr>\n",
       "    <tr>\n",
       "      <td>min</td>\n",
       "      <td>0.00</td>\n",
       "      <td>12,190.00</td>\n",
       "      <td>12.00</td>\n",
       "      <td>0.00</td>\n",
       "      <td>1.00</td>\n",
       "      <td>0.00</td>\n",
       "      <td>2.00</td>\n",
       "      <td>1.00</td>\n",
       "      <td>0.00</td>\n",
       "      <td>0.00</td>\n",
       "      <td>...</td>\n",
       "      <td>1.00</td>\n",
       "      <td>0.00</td>\n",
       "      <td>13.00</td>\n",
       "      <td>1.00</td>\n",
       "      <td>111.83</td>\n",
       "      <td>2,014.00</td>\n",
       "      <td>0.00</td>\n",
       "      <td>1.00</td>\n",
       "      <td>0.02</td>\n",
       "      <td>0.00</td>\n",
       "    </tr>\n",
       "    <tr>\n",
       "      <td>25%</td>\n",
       "      <td>6.00</td>\n",
       "      <td>3,450,000.00</td>\n",
       "      <td>40.00</td>\n",
       "      <td>1.00</td>\n",
       "      <td>2.60</td>\n",
       "      <td>0.00</td>\n",
       "      <td>19.00</td>\n",
       "      <td>2.00</td>\n",
       "      <td>7.00</td>\n",
       "      <td>0.00</td>\n",
       "      <td>...</td>\n",
       "      <td>428.50</td>\n",
       "      <td>0.00</td>\n",
       "      <td>461.75</td>\n",
       "      <td>41.00</td>\n",
       "      <td>77,178.43</td>\n",
       "      <td>2,017.00</td>\n",
       "      <td>1.00</td>\n",
       "      <td>3.00</td>\n",
       "      <td>0.50</td>\n",
       "      <td>0.13</td>\n",
       "    </tr>\n",
       "    <tr>\n",
       "      <td>50%</td>\n",
       "      <td>10.00</td>\n",
       "      <td>4,690,000.00</td>\n",
       "      <td>52.00</td>\n",
       "      <td>2.00</td>\n",
       "      <td>2.65</td>\n",
       "      <td>0.00</td>\n",
       "      <td>30.00</td>\n",
       "      <td>4.00</td>\n",
       "      <td>9.00</td>\n",
       "      <td>0.00</td>\n",
       "      <td>...</td>\n",
       "      <td>460.00</td>\n",
       "      <td>0.00</td>\n",
       "      <td>503.00</td>\n",
       "      <td>110.00</td>\n",
       "      <td>95,238.10</td>\n",
       "      <td>2,017.00</td>\n",
       "      <td>3.00</td>\n",
       "      <td>6.00</td>\n",
       "      <td>0.56</td>\n",
       "      <td>0.18</td>\n",
       "    </tr>\n",
       "    <tr>\n",
       "      <td>75%</td>\n",
       "      <td>14.00</td>\n",
       "      <td>6,800,000.00</td>\n",
       "      <td>70.00</td>\n",
       "      <td>3.00</td>\n",
       "      <td>2.71</td>\n",
       "      <td>1.00</td>\n",
       "      <td>42.30</td>\n",
       "      <td>8.00</td>\n",
       "      <td>12.00</td>\n",
       "      <td>1.00</td>\n",
       "      <td>...</td>\n",
       "      <td>460.00</td>\n",
       "      <td>1.00</td>\n",
       "      <td>557.00</td>\n",
       "      <td>252.00</td>\n",
       "      <td>114,580.73</td>\n",
       "      <td>2,018.00</td>\n",
       "      <td>4.00</td>\n",
       "      <td>10.00</td>\n",
       "      <td>0.63</td>\n",
       "      <td>0.23</td>\n",
       "    </tr>\n",
       "    <tr>\n",
       "      <td>max</td>\n",
       "      <td>50.00</td>\n",
       "      <td>763,000,000.00</td>\n",
       "      <td>900.00</td>\n",
       "      <td>19.00</td>\n",
       "      <td>10.00</td>\n",
       "      <td>5.00</td>\n",
       "      <td>409.70</td>\n",
       "      <td>33.00</td>\n",
       "      <td>112.00</td>\n",
       "      <td>5.00</td>\n",
       "      <td>...</td>\n",
       "      <td>3,190.00</td>\n",
       "      <td>3.00</td>\n",
       "      <td>1,344.00</td>\n",
       "      <td>1,580.00</td>\n",
       "      <td>1,907,500.00</td>\n",
       "      <td>2,019.00</td>\n",
       "      <td>6.00</td>\n",
       "      <td>12.00</td>\n",
       "      <td>1.00</td>\n",
       "      <td>0.79</td>\n",
       "    </tr>\n",
       "  </tbody>\n",
       "</table>\n",
       "<p>8 rows × 23 columns</p>\n",
       "</div>"
      ],
      "text/plain": [
       "       total_images     last_price  total_area     rooms  ceiling_height  \\\n",
       "count     22,030.00      22,030.00   22,030.00 22,030.00       22,026.00   \n",
       "mean           9.99   6,614,089.00       60.61      2.08            2.70   \n",
       "std            5.67  11,150,011.49       36.15      1.08            0.24   \n",
       "min            0.00      12,190.00       12.00      0.00            1.00   \n",
       "25%            6.00   3,450,000.00       40.00      1.00            2.60   \n",
       "50%           10.00   4,690,000.00       52.00      2.00            2.65   \n",
       "75%           14.00   6,800,000.00       70.00      3.00            2.71   \n",
       "max           50.00 763,000,000.00      900.00     19.00           10.00   \n",
       "\n",
       "       floors_total  living_area     floor  kitchen_area   balcony  ...  \\\n",
       "count     22,030.00    22,030.00 22,030.00     22,030.00 22,030.00  ...   \n",
       "mean           0.59        34.71      5.88         10.54      0.59  ...   \n",
       "std            0.96        22.61      4.87          6.22      0.96  ...   \n",
       "min            0.00         2.00      1.00          0.00      0.00  ...   \n",
       "25%            0.00        19.00      2.00          7.00      0.00  ...   \n",
       "50%            0.00        30.00      4.00          9.00      0.00  ...   \n",
       "75%            1.00        42.30      8.00         12.00      1.00  ...   \n",
       "max            5.00       409.70     33.00        112.00      5.00  ...   \n",
       "\n",
       "       parks_nearest  ponds_around3000  ponds_nearest  days_exposition  \\\n",
       "count      16,618.00         22,030.00      17,080.00        18,850.00   \n",
       "mean          475.18              0.60         509.06           191.51   \n",
       "std           233.59              0.89         200.24           225.77   \n",
       "min             1.00              0.00          13.00             1.00   \n",
       "25%           428.50              0.00         461.75            41.00   \n",
       "50%           460.00              0.00         503.00           110.00   \n",
       "75%           460.00              1.00         557.00           252.00   \n",
       "max         3,190.00              3.00       1,344.00         1,580.00   \n",
       "\n",
       "       cost_per_metrs  year_first_day_exposition  day_first_day_exposition  \\\n",
       "count       22,030.00                  22,030.00                 22,030.00   \n",
       "mean        99,960.07                   2,017.36                      2.55   \n",
       "std         50,293.78                       1.06                      1.78   \n",
       "min            111.83                   2,014.00                      0.00   \n",
       "25%         77,178.43                   2,017.00                      1.00   \n",
       "50%         95,238.10                   2,017.00                      3.00   \n",
       "75%        114,580.73                   2,018.00                      4.00   \n",
       "max      1,907,500.00                   2,019.00                      6.00   \n",
       "\n",
       "       month_first_day_exposition  living_total_ration  kitchen_total_ratiom  \n",
       "count                   22,030.00            22,030.00             22,030.00  \n",
       "mean                         6.41                 0.56                  0.19  \n",
       "std                          3.48                 0.10                  0.07  \n",
       "min                          1.00                 0.02                  0.00  \n",
       "25%                          3.00                 0.50                  0.13  \n",
       "50%                          6.00                 0.56                  0.18  \n",
       "75%                         10.00                 0.63                  0.23  \n",
       "max                         12.00                 1.00                  0.79  \n",
       "\n",
       "[8 rows x 23 columns]"
      ]
     },
     "execution_count": 31,
     "metadata": {},
     "output_type": "execute_result"
    }
   ],
   "source": [
    "# еще раз взглянем на общую картину данных\n",
    "df.describe()\n"
   ]
  },
  {
   "cell_type": "code",
   "execution_count": 32,
   "metadata": {},
   "outputs": [
    {
     "data": {
      "text/html": [
       "<div>\n",
       "<style scoped>\n",
       "    .dataframe tbody tr th:only-of-type {\n",
       "        vertical-align: middle;\n",
       "    }\n",
       "\n",
       "    .dataframe tbody tr th {\n",
       "        vertical-align: top;\n",
       "    }\n",
       "\n",
       "    .dataframe thead th {\n",
       "        text-align: right;\n",
       "    }\n",
       "</style>\n",
       "<table border=\"1\" class=\"dataframe\">\n",
       "  <thead>\n",
       "    <tr style=\"text-align: right;\">\n",
       "      <th></th>\n",
       "      <th>total_images</th>\n",
       "      <th>last_price</th>\n",
       "      <th>total_area</th>\n",
       "      <th>rooms</th>\n",
       "      <th>ceiling_height</th>\n",
       "      <th>floors_total</th>\n",
       "      <th>living_area</th>\n",
       "      <th>floor</th>\n",
       "      <th>kitchen_area</th>\n",
       "      <th>balcony</th>\n",
       "      <th>...</th>\n",
       "      <th>parks_nearest</th>\n",
       "      <th>ponds_around3000</th>\n",
       "      <th>ponds_nearest</th>\n",
       "      <th>days_exposition</th>\n",
       "      <th>cost_per_metrs</th>\n",
       "      <th>year_first_day_exposition</th>\n",
       "      <th>day_first_day_exposition</th>\n",
       "      <th>month_first_day_exposition</th>\n",
       "      <th>living_total_ration</th>\n",
       "      <th>kitchen_total_ratiom</th>\n",
       "    </tr>\n",
       "  </thead>\n",
       "  <tbody>\n",
       "    <tr>\n",
       "      <td>count</td>\n",
       "      <td>21,073.00</td>\n",
       "      <td>21,073.00</td>\n",
       "      <td>21,073.00</td>\n",
       "      <td>21,073.00</td>\n",
       "      <td>21,073.00</td>\n",
       "      <td>21,073.00</td>\n",
       "      <td>21,073.00</td>\n",
       "      <td>21,073.00</td>\n",
       "      <td>21,073.00</td>\n",
       "      <td>21,073.00</td>\n",
       "      <td>...</td>\n",
       "      <td>15,682.00</td>\n",
       "      <td>21,073.00</td>\n",
       "      <td>16,143.00</td>\n",
       "      <td>18,161.00</td>\n",
       "      <td>21,073.00</td>\n",
       "      <td>21,073.00</td>\n",
       "      <td>21,073.00</td>\n",
       "      <td>21,073.00</td>\n",
       "      <td>21,073.00</td>\n",
       "      <td>21,073.00</td>\n",
       "    </tr>\n",
       "    <tr>\n",
       "      <td>mean</td>\n",
       "      <td>9.90</td>\n",
       "      <td>5,353,751.83</td>\n",
       "      <td>55.65</td>\n",
       "      <td>1.98</td>\n",
       "      <td>2.68</td>\n",
       "      <td>0.60</td>\n",
       "      <td>31.83</td>\n",
       "      <td>5.90</td>\n",
       "      <td>9.92</td>\n",
       "      <td>0.60</td>\n",
       "      <td>...</td>\n",
       "      <td>476.59</td>\n",
       "      <td>0.56</td>\n",
       "      <td>512.88</td>\n",
       "      <td>187.36</td>\n",
       "      <td>95,261.07</td>\n",
       "      <td>2,017.37</td>\n",
       "      <td>2.56</td>\n",
       "      <td>6.41</td>\n",
       "      <td>0.56</td>\n",
       "      <td>0.19</td>\n",
       "    </tr>\n",
       "    <tr>\n",
       "      <td>std</td>\n",
       "      <td>5.59</td>\n",
       "      <td>3,068,986.48</td>\n",
       "      <td>21.72</td>\n",
       "      <td>0.93</td>\n",
       "      <td>0.19</td>\n",
       "      <td>0.96</td>\n",
       "      <td>14.69</td>\n",
       "      <td>4.88</td>\n",
       "      <td>4.63</td>\n",
       "      <td>0.96</td>\n",
       "      <td>...</td>\n",
       "      <td>230.60</td>\n",
       "      <td>0.86</td>\n",
       "      <td>197.97</td>\n",
       "      <td>221.62</td>\n",
       "      <td>32,288.73</td>\n",
       "      <td>1.05</td>\n",
       "      <td>1.78</td>\n",
       "      <td>3.48</td>\n",
       "      <td>0.10</td>\n",
       "      <td>0.07</td>\n",
       "    </tr>\n",
       "    <tr>\n",
       "      <td>min</td>\n",
       "      <td>0.00</td>\n",
       "      <td>12,190.00</td>\n",
       "      <td>15.00</td>\n",
       "      <td>0.00</td>\n",
       "      <td>2.00</td>\n",
       "      <td>0.00</td>\n",
       "      <td>2.00</td>\n",
       "      <td>1.00</td>\n",
       "      <td>0.00</td>\n",
       "      <td>0.00</td>\n",
       "      <td>...</td>\n",
       "      <td>1.00</td>\n",
       "      <td>0.00</td>\n",
       "      <td>13.00</td>\n",
       "      <td>1.00</td>\n",
       "      <td>111.83</td>\n",
       "      <td>2,014.00</td>\n",
       "      <td>0.00</td>\n",
       "      <td>1.00</td>\n",
       "      <td>0.04</td>\n",
       "      <td>0.00</td>\n",
       "    </tr>\n",
       "    <tr>\n",
       "      <td>25%</td>\n",
       "      <td>6.00</td>\n",
       "      <td>3,400,000.00</td>\n",
       "      <td>39.70</td>\n",
       "      <td>1.00</td>\n",
       "      <td>2.60</td>\n",
       "      <td>0.00</td>\n",
       "      <td>18.60</td>\n",
       "      <td>2.00</td>\n",
       "      <td>7.00</td>\n",
       "      <td>0.00</td>\n",
       "      <td>...</td>\n",
       "      <td>432.00</td>\n",
       "      <td>0.00</td>\n",
       "      <td>474.00</td>\n",
       "      <td>40.00</td>\n",
       "      <td>76,458.75</td>\n",
       "      <td>2,017.00</td>\n",
       "      <td>1.00</td>\n",
       "      <td>3.00</td>\n",
       "      <td>0.50</td>\n",
       "      <td>0.14</td>\n",
       "    </tr>\n",
       "    <tr>\n",
       "      <td>50%</td>\n",
       "      <td>10.00</td>\n",
       "      <td>4,550,000.00</td>\n",
       "      <td>50.70</td>\n",
       "      <td>2.00</td>\n",
       "      <td>2.65</td>\n",
       "      <td>0.00</td>\n",
       "      <td>30.00</td>\n",
       "      <td>4.00</td>\n",
       "      <td>9.00</td>\n",
       "      <td>0.00</td>\n",
       "      <td>...</td>\n",
       "      <td>460.00</td>\n",
       "      <td>0.00</td>\n",
       "      <td>503.00</td>\n",
       "      <td>107.00</td>\n",
       "      <td>94,444.44</td>\n",
       "      <td>2,017.00</td>\n",
       "      <td>3.00</td>\n",
       "      <td>6.00</td>\n",
       "      <td>0.56</td>\n",
       "      <td>0.18</td>\n",
       "    </tr>\n",
       "    <tr>\n",
       "      <td>75%</td>\n",
       "      <td>14.00</td>\n",
       "      <td>6,450,000.00</td>\n",
       "      <td>66.90</td>\n",
       "      <td>3.00</td>\n",
       "      <td>2.70</td>\n",
       "      <td>1.00</td>\n",
       "      <td>40.80</td>\n",
       "      <td>8.00</td>\n",
       "      <td>11.40</td>\n",
       "      <td>1.00</td>\n",
       "      <td>...</td>\n",
       "      <td>460.00</td>\n",
       "      <td>1.00</td>\n",
       "      <td>561.00</td>\n",
       "      <td>245.00</td>\n",
       "      <td>112,500.00</td>\n",
       "      <td>2,018.00</td>\n",
       "      <td>4.00</td>\n",
       "      <td>10.00</td>\n",
       "      <td>0.63</td>\n",
       "      <td>0.23</td>\n",
       "    </tr>\n",
       "    <tr>\n",
       "      <td>max</td>\n",
       "      <td>50.00</td>\n",
       "      <td>20,000,000.00</td>\n",
       "      <td>150.00</td>\n",
       "      <td>5.00</td>\n",
       "      <td>3.98</td>\n",
       "      <td>5.00</td>\n",
       "      <td>128.00</td>\n",
       "      <td>30.00</td>\n",
       "      <td>64.00</td>\n",
       "      <td>5.00</td>\n",
       "      <td>...</td>\n",
       "      <td>3,190.00</td>\n",
       "      <td>3.00</td>\n",
       "      <td>1,344.00</td>\n",
       "      <td>1,580.00</td>\n",
       "      <td>355,555.56</td>\n",
       "      <td>2,019.00</td>\n",
       "      <td>6.00</td>\n",
       "      <td>12.00</td>\n",
       "      <td>1.00</td>\n",
       "      <td>0.79</td>\n",
       "    </tr>\n",
       "  </tbody>\n",
       "</table>\n",
       "<p>8 rows × 23 columns</p>\n",
       "</div>"
      ],
      "text/plain": [
       "       total_images    last_price  total_area     rooms  ceiling_height  \\\n",
       "count     21,073.00     21,073.00   21,073.00 21,073.00       21,073.00   \n",
       "mean           9.90  5,353,751.83       55.65      1.98            2.68   \n",
       "std            5.59  3,068,986.48       21.72      0.93            0.19   \n",
       "min            0.00     12,190.00       15.00      0.00            2.00   \n",
       "25%            6.00  3,400,000.00       39.70      1.00            2.60   \n",
       "50%           10.00  4,550,000.00       50.70      2.00            2.65   \n",
       "75%           14.00  6,450,000.00       66.90      3.00            2.70   \n",
       "max           50.00 20,000,000.00      150.00      5.00            3.98   \n",
       "\n",
       "       floors_total  living_area     floor  kitchen_area   balcony  ...  \\\n",
       "count     21,073.00    21,073.00 21,073.00     21,073.00 21,073.00  ...   \n",
       "mean           0.60        31.83      5.90          9.92      0.60  ...   \n",
       "std            0.96        14.69      4.88          4.63      0.96  ...   \n",
       "min            0.00         2.00      1.00          0.00      0.00  ...   \n",
       "25%            0.00        18.60      2.00          7.00      0.00  ...   \n",
       "50%            0.00        30.00      4.00          9.00      0.00  ...   \n",
       "75%            1.00        40.80      8.00         11.40      1.00  ...   \n",
       "max            5.00       128.00     30.00         64.00      5.00  ...   \n",
       "\n",
       "       parks_nearest  ponds_around3000  ponds_nearest  days_exposition  \\\n",
       "count      15,682.00         21,073.00      16,143.00        18,161.00   \n",
       "mean          476.59              0.56         512.88           187.36   \n",
       "std           230.60              0.86         197.97           221.62   \n",
       "min             1.00              0.00          13.00             1.00   \n",
       "25%           432.00              0.00         474.00            40.00   \n",
       "50%           460.00              0.00         503.00           107.00   \n",
       "75%           460.00              1.00         561.00           245.00   \n",
       "max         3,190.00              3.00       1,344.00         1,580.00   \n",
       "\n",
       "       cost_per_metrs  year_first_day_exposition  day_first_day_exposition  \\\n",
       "count       21,073.00                  21,073.00                 21,073.00   \n",
       "mean        95,261.07                   2,017.37                      2.56   \n",
       "std         32,288.73                       1.05                      1.78   \n",
       "min            111.83                   2,014.00                      0.00   \n",
       "25%         76,458.75                   2,017.00                      1.00   \n",
       "50%         94,444.44                   2,017.00                      3.00   \n",
       "75%        112,500.00                   2,018.00                      4.00   \n",
       "max        355,555.56                   2,019.00                      6.00   \n",
       "\n",
       "       month_first_day_exposition  living_total_ration  kitchen_total_ratiom  \n",
       "count                   21,073.00            21,073.00             21,073.00  \n",
       "mean                         6.41                 0.56                  0.19  \n",
       "std                          3.48                 0.10                  0.07  \n",
       "min                          1.00                 0.04                  0.00  \n",
       "25%                          3.00                 0.50                  0.14  \n",
       "50%                          6.00                 0.56                  0.18  \n",
       "75%                         10.00                 0.63                  0.23  \n",
       "max                         12.00                 1.00                  0.79  \n",
       "\n",
       "[8 rows x 23 columns]"
      ]
     },
     "execution_count": 32,
     "metadata": {},
     "output_type": "execute_result"
    }
   ],
   "source": [
    "# ограничим некоторые значения разумными пределами\n",
    "df_clean = df.query('15 <= total_area <= 150')\n",
    "df_clean = df_clean.query('last_price <= 20000000')\n",
    "df_clean = df_clean.query('rooms <= 5')\n",
    "df_clean = df_clean.query('1.8 < ceiling_height < 4')\n",
    "\n",
    "df_clean.describe()"
   ]
  },
  {
   "cell_type": "markdown",
   "metadata": {},
   "source": [
    "### Вывод:\n",
    "\n",
    "Из полученных гистограграмм и матрицы корреляции можем сделать следующие выводы:\n",
    "\n",
    "* 1. Имеет место практически линейна зависимость стоимости от площади квартиры, чем больше площадь, тем больше цена\n",
    "* 2. Квартиры с большей стоиммостью по общей выборке распологаются на удалении в 20-35 км от центра.\n",
    "* 3. Объявления с большей стоимостью чаще выкладываются на конец года - 12-й месяц.\n",
    "* 4. в 14 -м и 15- м годах цены на недвижимость были максимальными.\n",
    "* 5. Квартиры на первом этаже продаются значительно реже, чем на последнем."
   ]
  },
  {
   "cell_type": "markdown",
   "metadata": {},
   "source": [
    "### 4.4. Населенные пункты с наибольшей и наименьшей стоимостью жилья.<a class=\"anchor\" id=\"section_4_4\">"
   ]
  },
  {
   "cell_type": "code",
   "execution_count": 33,
   "metadata": {},
   "outputs": [
    {
     "name": "stdout",
     "output_type": "stream",
     "text": [
      "                 count       mean\n",
      "locality_name                    \n",
      "Санкт-Петербург  14827 114,880.63\n",
      "               count      mean\n",
      "locality_name                 \n",
      "Выборг           209 58,113.82\n"
     ]
    }
   ],
   "source": [
    "top_loc = (\n",
    "    df.pivot_table(index = 'locality_name' , \n",
    "                   values = 'cost_per_metrs',aggfunc = ('count','mean'))\n",
    "    .sort_values(by='count', ascending = False)\n",
    "    .head(10)\n",
    ")\n",
    "print(top_loc[top_loc['mean'] == top_loc['mean'].max()])\n",
    "print(top_loc[top_loc['mean'] == top_loc['mean'].min()])\n",
    "# df.sort_values(by)"
   ]
  },
  {
   "cell_type": "markdown",
   "metadata": {},
   "source": [
    "### Вывод:\n",
    "Насиленный пункт с наибольшей стоимостью за кв.м - Санкт -Петербург, с наименьшей - Выборг."
   ]
  },
  {
   "cell_type": "markdown",
   "metadata": {},
   "source": [
    "### 4.5 Анализ зависимости стоимости квартир в Санкт - Петербурге.<a class=\"anchor\" id=\"section_4_5\">"
   ]
  },
  {
   "cell_type": "code",
   "execution_count": 35,
   "metadata": {},
   "outputs": [
    {
     "data": {
      "image/png": "[encoded data removed]",
      "text/plain": [
       "<Figure size 1080x504 with 1 Axes>"
      ]
     },
     "metadata": {
      "needs_background": "light"
     },
     "output_type": "display_data"
    }
   ],
   "source": [
    "# выделим отдельный столбец с значениями удаленности от центра спб в км., построим график, для определния границ центра\n",
    "spb_df = df.loc[df['locality_name'] == 'Санкт-Петербург']\n",
    "\n",
    "spb_df['int_city_centre_km'] = (spb_df['cityCenters_nearest'].astype(int)/1000).round()\n",
    "\n",
    "price_area = spb_df.groupby('int_city_centre_km')['last_price'].mean()\n",
    "\n",
    "plt.figure(figsize=(15,7))\n",
    "plt.title(\"Изменение стоимости недвижимости в зависимости от удаленности от центра в Санкт - Петербурге.\")\n",
    "plt.xlabel(\"Удаление от центра (км)\")\n",
    "plt.ylabel(\"Цена\")\n",
    "plt.plot(price_area.index, price_area.values)\n",
    "plt.show;"
   ]
  },
  {
   "cell_type": "markdown",
   "metadata": {},
   "source": [
    "Сильные изменения в графике наблюжаются после 9 км, считаю что радиуc в 9 км можно считать центром."
   ]
  },
  {
   "cell_type": "code",
   "execution_count": 37,
   "metadata": {},
   "outputs": [
    {
     "data": {
      "text/html": [
       "<style  type=\"text/css\" >\n",
       "    #T_7067b2c6_98d6_11ec_b90b_5c3a459dbac0row0_col0 {\n",
       "            background-color:  #b40426;\n",
       "            color:  #f1f1f1;\n",
       "        }    #T_7067b2c6_98d6_11ec_b90b_5c3a459dbac0row0_col1 {\n",
       "            background-color:  #f7b194;\n",
       "            color:  #000000;\n",
       "        }    #T_7067b2c6_98d6_11ec_b90b_5c3a459dbac0row0_col2 {\n",
       "            background-color:  #cfdaea;\n",
       "            color:  #000000;\n",
       "        }    #T_7067b2c6_98d6_11ec_b90b_5c3a459dbac0row0_col3 {\n",
       "            background-color:  #6180e9;\n",
       "            color:  #000000;\n",
       "        }    #T_7067b2c6_98d6_11ec_b90b_5c3a459dbac0row0_col4 {\n",
       "            background-color:  #445acc;\n",
       "            color:  #f1f1f1;\n",
       "        }    #T_7067b2c6_98d6_11ec_b90b_5c3a459dbac0row0_col5 {\n",
       "            background-color:  #a1c0ff;\n",
       "            color:  #000000;\n",
       "        }    #T_7067b2c6_98d6_11ec_b90b_5c3a459dbac0row0_col6 {\n",
       "            background-color:  #6384eb;\n",
       "            color:  #000000;\n",
       "        }    #T_7067b2c6_98d6_11ec_b90b_5c3a459dbac0row1_col0 {\n",
       "            background-color:  #f7b89c;\n",
       "            color:  #000000;\n",
       "        }    #T_7067b2c6_98d6_11ec_b90b_5c3a459dbac0row1_col1 {\n",
       "            background-color:  #b40426;\n",
       "            color:  #f1f1f1;\n",
       "        }    #T_7067b2c6_98d6_11ec_b90b_5c3a459dbac0row1_col2 {\n",
       "            background-color:  #f08a6c;\n",
       "            color:  #000000;\n",
       "        }    #T_7067b2c6_98d6_11ec_b90b_5c3a459dbac0row1_col3 {\n",
       "            background-color:  #516ddb;\n",
       "            color:  #000000;\n",
       "        }    #T_7067b2c6_98d6_11ec_b90b_5c3a459dbac0row1_col4 {\n",
       "            background-color:  #3b4cc0;\n",
       "            color:  #f1f1f1;\n",
       "        }    #T_7067b2c6_98d6_11ec_b90b_5c3a459dbac0row1_col5 {\n",
       "            background-color:  #bfd3f6;\n",
       "            color:  #000000;\n",
       "        }    #T_7067b2c6_98d6_11ec_b90b_5c3a459dbac0row1_col6 {\n",
       "            background-color:  #516ddb;\n",
       "            color:  #000000;\n",
       "        }    #T_7067b2c6_98d6_11ec_b90b_5c3a459dbac0row2_col0 {\n",
       "            background-color:  #bcd2f7;\n",
       "            color:  #000000;\n",
       "        }    #T_7067b2c6_98d6_11ec_b90b_5c3a459dbac0row2_col1 {\n",
       "            background-color:  #f18f71;\n",
       "            color:  #000000;\n",
       "        }    #T_7067b2c6_98d6_11ec_b90b_5c3a459dbac0row2_col2 {\n",
       "            background-color:  #b40426;\n",
       "            color:  #f1f1f1;\n",
       "        }    #T_7067b2c6_98d6_11ec_b90b_5c3a459dbac0row2_col3 {\n",
       "            background-color:  #4257c9;\n",
       "            color:  #f1f1f1;\n",
       "        }    #T_7067b2c6_98d6_11ec_b90b_5c3a459dbac0row2_col4 {\n",
       "            background-color:  #3e51c5;\n",
       "            color:  #f1f1f1;\n",
       "        }    #T_7067b2c6_98d6_11ec_b90b_5c3a459dbac0row2_col5 {\n",
       "            background-color:  #b7cff9;\n",
       "            color:  #000000;\n",
       "        }    #T_7067b2c6_98d6_11ec_b90b_5c3a459dbac0row2_col6 {\n",
       "            background-color:  #3b4cc0;\n",
       "            color:  #f1f1f1;\n",
       "        }    #T_7067b2c6_98d6_11ec_b90b_5c3a459dbac0row3_col0 {\n",
       "            background-color:  #3b4cc0;\n",
       "            color:  #f1f1f1;\n",
       "        }    #T_7067b2c6_98d6_11ec_b90b_5c3a459dbac0row3_col1 {\n",
       "            background-color:  #3b4cc0;\n",
       "            color:  #f1f1f1;\n",
       "        }    #T_7067b2c6_98d6_11ec_b90b_5c3a459dbac0row3_col2 {\n",
       "            background-color:  #3b4cc0;\n",
       "            color:  #f1f1f1;\n",
       "        }    #T_7067b2c6_98d6_11ec_b90b_5c3a459dbac0row3_col3 {\n",
       "            background-color:  #b40426;\n",
       "            color:  #f1f1f1;\n",
       "        }    #T_7067b2c6_98d6_11ec_b90b_5c3a459dbac0row3_col4 {\n",
       "            background-color:  #5e7de7;\n",
       "            color:  #000000;\n",
       "        }    #T_7067b2c6_98d6_11ec_b90b_5c3a459dbac0row3_col5 {\n",
       "            background-color:  #3b4cc0;\n",
       "            color:  #f1f1f1;\n",
       "        }    #T_7067b2c6_98d6_11ec_b90b_5c3a459dbac0row3_col6 {\n",
       "            background-color:  #84a7fc;\n",
       "            color:  #000000;\n",
       "        }    #T_7067b2c6_98d6_11ec_b90b_5c3a459dbac0row4_col0 {\n",
       "            background-color:  #445acc;\n",
       "            color:  #f1f1f1;\n",
       "        }    #T_7067b2c6_98d6_11ec_b90b_5c3a459dbac0row4_col1 {\n",
       "            background-color:  #4961d2;\n",
       "            color:  #f1f1f1;\n",
       "        }    #T_7067b2c6_98d6_11ec_b90b_5c3a459dbac0row4_col2 {\n",
       "            background-color:  #5d7ce6;\n",
       "            color:  #000000;\n",
       "        }    #T_7067b2c6_98d6_11ec_b90b_5c3a459dbac0row4_col3 {\n",
       "            background-color:  #84a7fc;\n",
       "            color:  #000000;\n",
       "        }    #T_7067b2c6_98d6_11ec_b90b_5c3a459dbac0row4_col4 {\n",
       "            background-color:  #b40426;\n",
       "            color:  #f1f1f1;\n",
       "        }    #T_7067b2c6_98d6_11ec_b90b_5c3a459dbac0row4_col5 {\n",
       "            background-color:  #7ea1fa;\n",
       "            color:  #000000;\n",
       "        }    #T_7067b2c6_98d6_11ec_b90b_5c3a459dbac0row4_col6 {\n",
       "            background-color:  #485fd1;\n",
       "            color:  #f1f1f1;\n",
       "        }    #T_7067b2c6_98d6_11ec_b90b_5c3a459dbac0row5_col0 {\n",
       "            background-color:  #7ea1fa;\n",
       "            color:  #000000;\n",
       "        }    #T_7067b2c6_98d6_11ec_b90b_5c3a459dbac0row5_col1 {\n",
       "            background-color:  #afcafc;\n",
       "            color:  #000000;\n",
       "        }    #T_7067b2c6_98d6_11ec_b90b_5c3a459dbac0row5_col2 {\n",
       "            background-color:  #b2ccfb;\n",
       "            color:  #000000;\n",
       "        }    #T_7067b2c6_98d6_11ec_b90b_5c3a459dbac0row5_col3 {\n",
       "            background-color:  #3b4cc0;\n",
       "            color:  #f1f1f1;\n",
       "        }    #T_7067b2c6_98d6_11ec_b90b_5c3a459dbac0row5_col4 {\n",
       "            background-color:  #5977e3;\n",
       "            color:  #000000;\n",
       "        }    #T_7067b2c6_98d6_11ec_b90b_5c3a459dbac0row5_col5 {\n",
       "            background-color:  #b40426;\n",
       "            color:  #f1f1f1;\n",
       "        }    #T_7067b2c6_98d6_11ec_b90b_5c3a459dbac0row5_col6 {\n",
       "            background-color:  #455cce;\n",
       "            color:  #f1f1f1;\n",
       "        }    #T_7067b2c6_98d6_11ec_b90b_5c3a459dbac0row6_col0 {\n",
       "            background-color:  #6180e9;\n",
       "            color:  #000000;\n",
       "        }    #T_7067b2c6_98d6_11ec_b90b_5c3a459dbac0row6_col1 {\n",
       "            background-color:  #5f7fe8;\n",
       "            color:  #000000;\n",
       "        }    #T_7067b2c6_98d6_11ec_b90b_5c3a459dbac0row6_col2 {\n",
       "            background-color:  #5875e1;\n",
       "            color:  #000000;\n",
       "        }    #T_7067b2c6_98d6_11ec_b90b_5c3a459dbac0row6_col3 {\n",
       "            background-color:  #a3c2fe;\n",
       "            color:  #000000;\n",
       "        }    #T_7067b2c6_98d6_11ec_b90b_5c3a459dbac0row6_col4 {\n",
       "            background-color:  #465ecf;\n",
       "            color:  #f1f1f1;\n",
       "        }    #T_7067b2c6_98d6_11ec_b90b_5c3a459dbac0row6_col5 {\n",
       "            background-color:  #6a8bef;\n",
       "            color:  #000000;\n",
       "        }    #T_7067b2c6_98d6_11ec_b90b_5c3a459dbac0row6_col6 {\n",
       "            background-color:  #b40426;\n",
       "            color:  #f1f1f1;\n",
       "        }</style><table id=\"T_7067b2c6_98d6_11ec_b90b_5c3a459dbac0\" ><thead>    <tr>        <th class=\"blank level0\" ></th>        <th class=\"col_heading level0 col0\" >last_price</th>        <th class=\"col_heading level0 col1\" >total_area</th>        <th class=\"col_heading level0 col2\" >rooms</th>        <th class=\"col_heading level0 col3\" >cityCenters_nearest</th>        <th class=\"col_heading level0 col4\" >year_first_day_exposition</th>        <th class=\"col_heading level0 col5\" >ceiling_height</th>        <th class=\"col_heading level0 col6\" >floors_total</th>    </tr></thead><tbody>\n",
       "                <tr>\n",
       "                        <th id=\"T_7067b2c6_98d6_11ec_b90b_5c3a459dbac0level0_row0\" class=\"row_heading level0 row0\" >last_price</th>\n",
       "                        <td id=\"T_7067b2c6_98d6_11ec_b90b_5c3a459dbac0row0_col0\" class=\"data row0 col0\" >1.000000</td>\n",
       "                        <td id=\"T_7067b2c6_98d6_11ec_b90b_5c3a459dbac0row0_col1\" class=\"data row0 col1\" >0.641210</td>\n",
       "                        <td id=\"T_7067b2c6_98d6_11ec_b90b_5c3a459dbac0row0_col2\" class=\"data row0 col2\" >0.342488</td>\n",
       "                        <td id=\"T_7067b2c6_98d6_11ec_b90b_5c3a459dbac0row0_col3\" class=\"data row0 col3\" >-0.077092</td>\n",
       "                        <td id=\"T_7067b2c6_98d6_11ec_b90b_5c3a459dbac0row0_col4\" class=\"data row0 col4\" >-0.043402</td>\n",
       "                        <td id=\"T_7067b2c6_98d6_11ec_b90b_5c3a459dbac0row0_col5\" class=\"data row0 col5\" >0.147363</td>\n",
       "                        <td id=\"T_7067b2c6_98d6_11ec_b90b_5c3a459dbac0row0_col6\" class=\"data row0 col6\" >0.057488</td>\n",
       "            </tr>\n",
       "            <tr>\n",
       "                        <th id=\"T_7067b2c6_98d6_11ec_b90b_5c3a459dbac0level0_row1\" class=\"row_heading level0 row1\" >total_area</th>\n",
       "                        <td id=\"T_7067b2c6_98d6_11ec_b90b_5c3a459dbac0row1_col0\" class=\"data row1 col0\" >0.641210</td>\n",
       "                        <td id=\"T_7067b2c6_98d6_11ec_b90b_5c3a459dbac0row1_col1\" class=\"data row1 col1\" >1.000000</td>\n",
       "                        <td id=\"T_7067b2c6_98d6_11ec_b90b_5c3a459dbac0row1_col2\" class=\"data row1 col2\" >0.745545</td>\n",
       "                        <td id=\"T_7067b2c6_98d6_11ec_b90b_5c3a459dbac0row1_col3\" class=\"data row1 col3\" >-0.136091</td>\n",
       "                        <td id=\"T_7067b2c6_98d6_11ec_b90b_5c3a459dbac0row1_col4\" class=\"data row1 col4\" >-0.079822</td>\n",
       "                        <td id=\"T_7067b2c6_98d6_11ec_b90b_5c3a459dbac0row1_col5\" class=\"data row1 col5\" >0.260022</td>\n",
       "                        <td id=\"T_7067b2c6_98d6_11ec_b90b_5c3a459dbac0row1_col6\" class=\"data row1 col6\" >-0.000462</td>\n",
       "            </tr>\n",
       "            <tr>\n",
       "                        <th id=\"T_7067b2c6_98d6_11ec_b90b_5c3a459dbac0level0_row2\" class=\"row_heading level0 row2\" >rooms</th>\n",
       "                        <td id=\"T_7067b2c6_98d6_11ec_b90b_5c3a459dbac0row2_col0\" class=\"data row2 col0\" >0.342488</td>\n",
       "                        <td id=\"T_7067b2c6_98d6_11ec_b90b_5c3a459dbac0row2_col1\" class=\"data row2 col1\" >0.745545</td>\n",
       "                        <td id=\"T_7067b2c6_98d6_11ec_b90b_5c3a459dbac0row2_col2\" class=\"data row2 col2\" >1.000000</td>\n",
       "                        <td id=\"T_7067b2c6_98d6_11ec_b90b_5c3a459dbac0row2_col3\" class=\"data row2 col3\" >-0.200152</td>\n",
       "                        <td id=\"T_7067b2c6_98d6_11ec_b90b_5c3a459dbac0row2_col4\" class=\"data row2 col4\" >-0.065314</td>\n",
       "                        <td id=\"T_7067b2c6_98d6_11ec_b90b_5c3a459dbac0row2_col5\" class=\"data row2 col5\" >0.226837</td>\n",
       "                        <td id=\"T_7067b2c6_98d6_11ec_b90b_5c3a459dbac0row2_col6\" class=\"data row2 col6\" >-0.084565</td>\n",
       "            </tr>\n",
       "            <tr>\n",
       "                        <th id=\"T_7067b2c6_98d6_11ec_b90b_5c3a459dbac0level0_row3\" class=\"row_heading level0 row3\" >cityCenters_nearest</th>\n",
       "                        <td id=\"T_7067b2c6_98d6_11ec_b90b_5c3a459dbac0row3_col0\" class=\"data row3 col0\" >-0.077092</td>\n",
       "                        <td id=\"T_7067b2c6_98d6_11ec_b90b_5c3a459dbac0row3_col1\" class=\"data row3 col1\" >-0.136091</td>\n",
       "                        <td id=\"T_7067b2c6_98d6_11ec_b90b_5c3a459dbac0row3_col2\" class=\"data row3 col2\" >-0.200152</td>\n",
       "                        <td id=\"T_7067b2c6_98d6_11ec_b90b_5c3a459dbac0row3_col3\" class=\"data row3 col3\" >1.000000</td>\n",
       "                        <td id=\"T_7067b2c6_98d6_11ec_b90b_5c3a459dbac0row3_col4\" class=\"data row3 col4\" >0.044813</td>\n",
       "                        <td id=\"T_7067b2c6_98d6_11ec_b90b_5c3a459dbac0row3_col5\" class=\"data row3 col5\" >-0.229860</td>\n",
       "                        <td id=\"T_7067b2c6_98d6_11ec_b90b_5c3a459dbac0row3_col6\" class=\"data row3 col6\" >0.158594</td>\n",
       "            </tr>\n",
       "            <tr>\n",
       "                        <th id=\"T_7067b2c6_98d6_11ec_b90b_5c3a459dbac0level0_row4\" class=\"row_heading level0 row4\" >year_first_day_exposition</th>\n",
       "                        <td id=\"T_7067b2c6_98d6_11ec_b90b_5c3a459dbac0row4_col0\" class=\"data row4 col0\" >-0.043402</td>\n",
       "                        <td id=\"T_7067b2c6_98d6_11ec_b90b_5c3a459dbac0row4_col1\" class=\"data row4 col1\" >-0.079822</td>\n",
       "                        <td id=\"T_7067b2c6_98d6_11ec_b90b_5c3a459dbac0row4_col2\" class=\"data row4 col2\" >-0.065314</td>\n",
       "                        <td id=\"T_7067b2c6_98d6_11ec_b90b_5c3a459dbac0row4_col3\" class=\"data row4 col3\" >0.044813</td>\n",
       "                        <td id=\"T_7067b2c6_98d6_11ec_b90b_5c3a459dbac0row4_col4\" class=\"data row4 col4\" >1.000000</td>\n",
       "                        <td id=\"T_7067b2c6_98d6_11ec_b90b_5c3a459dbac0row4_col5\" class=\"data row4 col5\" >0.028839</td>\n",
       "                        <td id=\"T_7067b2c6_98d6_11ec_b90b_5c3a459dbac0row4_col6\" class=\"data row4 col6\" >-0.036782</td>\n",
       "            </tr>\n",
       "            <tr>\n",
       "                        <th id=\"T_7067b2c6_98d6_11ec_b90b_5c3a459dbac0level0_row5\" class=\"row_heading level0 row5\" >ceiling_height</th>\n",
       "                        <td id=\"T_7067b2c6_98d6_11ec_b90b_5c3a459dbac0row5_col0\" class=\"data row5 col0\" >0.147363</td>\n",
       "                        <td id=\"T_7067b2c6_98d6_11ec_b90b_5c3a459dbac0row5_col1\" class=\"data row5 col1\" >0.260022</td>\n",
       "                        <td id=\"T_7067b2c6_98d6_11ec_b90b_5c3a459dbac0row5_col2\" class=\"data row5 col2\" >0.226837</td>\n",
       "                        <td id=\"T_7067b2c6_98d6_11ec_b90b_5c3a459dbac0row5_col3\" class=\"data row5 col3\" >-0.229860</td>\n",
       "                        <td id=\"T_7067b2c6_98d6_11ec_b90b_5c3a459dbac0row5_col4\" class=\"data row5 col4\" >0.028839</td>\n",
       "                        <td id=\"T_7067b2c6_98d6_11ec_b90b_5c3a459dbac0row5_col5\" class=\"data row5 col5\" >1.000000</td>\n",
       "                        <td id=\"T_7067b2c6_98d6_11ec_b90b_5c3a459dbac0row5_col6\" class=\"data row5 col6\" >-0.045826</td>\n",
       "            </tr>\n",
       "            <tr>\n",
       "                        <th id=\"T_7067b2c6_98d6_11ec_b90b_5c3a459dbac0level0_row6\" class=\"row_heading level0 row6\" >floors_total</th>\n",
       "                        <td id=\"T_7067b2c6_98d6_11ec_b90b_5c3a459dbac0row6_col0\" class=\"data row6 col0\" >0.057488</td>\n",
       "                        <td id=\"T_7067b2c6_98d6_11ec_b90b_5c3a459dbac0row6_col1\" class=\"data row6 col1\" >-0.000462</td>\n",
       "                        <td id=\"T_7067b2c6_98d6_11ec_b90b_5c3a459dbac0row6_col2\" class=\"data row6 col2\" >-0.084565</td>\n",
       "                        <td id=\"T_7067b2c6_98d6_11ec_b90b_5c3a459dbac0row6_col3\" class=\"data row6 col3\" >0.158594</td>\n",
       "                        <td id=\"T_7067b2c6_98d6_11ec_b90b_5c3a459dbac0row6_col4\" class=\"data row6 col4\" >-0.036782</td>\n",
       "                        <td id=\"T_7067b2c6_98d6_11ec_b90b_5c3a459dbac0row6_col5\" class=\"data row6 col5\" >-0.045826</td>\n",
       "                        <td id=\"T_7067b2c6_98d6_11ec_b90b_5c3a459dbac0row6_col6\" class=\"data row6 col6\" >1.000000</td>\n",
       "            </tr>\n",
       "    </tbody></table>"
      ],
      "text/plain": [
       "<pandas.io.formats.style.Styler at 0x1aba586f880>"
      ]
     },
     "execution_count": 37,
     "metadata": {},
     "output_type": "execute_result"
    }
   ],
   "source": [
    "#выделим квартиры в центре\n",
    "spb_center =  spb_df.query('int_city_centre_km < 9')\n",
    "\n",
    "# ограничим датафрейм необходимыми данными для построения матрицы диаграмм рассеяния\n",
    "df_matrix_spb = spb_center[['last_price', 'total_area', 'rooms', 'cityCenters_nearest','year_first_day_exposition','ceiling_height','floors_total']]\n",
    "# pd.plotting.scatter_matrix(df_matrix_spb, figsize=(15, 15))\n",
    "\n",
    "#так же построим матрицу коррелляции\n",
    "df_matrix_spb.corr().style.background_gradient(cmap = 'coolwarm')\n",
    "\n"
   ]
  },
  {
   "cell_type": "markdown",
   "metadata": {},
   "source": [
    "Для более детального изучения построим аналогичные построенным ранее графики для данных по центру Санкт - Петербурга."
   ]
  },
  {
   "cell_type": "code",
   "execution_count": 38,
   "metadata": {},
   "outputs": [
    {
     "data": {
      "image/png": "[encoded data removed]",
      "text/plain": [
       "<Figure size 1080x432 with 1 Axes>"
      ]
     },
     "metadata": {
      "needs_background": "light"
     },
     "output_type": "display_data"
    },
    {
     "data": {
      "image/png": "[encoded data removed]",
      "text/plain": [
       "<Figure size 1080x432 with 1 Axes>"
      ]
     },
     "metadata": {
      "needs_background": "light"
     },
     "output_type": "display_data"
    }
   ],
   "source": [
    "x_names = ['общая площадь', 'расстояние до центра']\n",
    "columns_for_price = ['total_area', 'cityCenters_nearest']\n",
    "titles = ['Зависимость цены от площади квартиры в центре Санкт -Петербурга', 'Зависимость цены от расстояния до центра (центр Санкт -Петербурга)']\n",
    "for i in range(2):\n",
    "    spb_center.plot(y='last_price', x = columns_for_price[i],  kind='scatter', figsize=(15,6))\n",
    "    plt.xlabel(x_names[i])\n",
    "    plt.ylabel('цена')\n",
    "    plt.title(titles[i])\n",
    "    plt.show()\n",
    "    "
   ]
  },
  {
   "cell_type": "code",
   "execution_count": 43,
   "metadata": {},
   "outputs": [
    {
     "data": {
      "image/png": "[encoded data removed]",
      "text/plain": [
       "<Figure size 1080x576 with 1 Axes>"
      ]
     },
     "metadata": {
      "needs_background": "light"
     },
     "output_type": "display_data"
    },
    {
     "data": {
      "image/png": "[encoded data removed]",
      "text/plain": [
       "<Figure size 1080x576 with 1 Axes>"
      ]
     },
     "metadata": {
      "needs_background": "light"
     },
     "output_type": "display_data"
    },
    {
     "data": {
      "image/png": "[encoded data removed]",
      "text/plain": [
       "<Figure size 1080x576 with 1 Axes>"
      ]
     },
     "metadata": {
      "needs_background": "light"
     },
     "output_type": "display_data"
    }
   ],
   "source": [
    "x_names = ['месяц публикации', 'год публикации','количество этажей']\n",
    "columns_for_price = ['month_first_day_exposition', 'year_first_day_exposition','floor_type_column']\n",
    "titles = ['Цена в зависимости от месяца публикации', 'Цена в зависимости от года публикации', 'Цена в зависимости от количества этажей']\n",
    "for i in range(3):\n",
    "    spb_center.groupby(columns_for_price[i])['last_price'].mean().plot(kind = 'bar', figsize=(15,8))\n",
    "    plt.xlabel(x_names[i])\n",
    "    plt.ylabel('цена')\n",
    "    plt.title(titles[i])\n",
    "    plt.ylim(10000000,20000000)\n",
    "    plt.show() "
   ]
  },
  {
   "cell_type": "markdown",
   "metadata": {},
   "source": [
    "### Вывод:\n",
    "\n",
    "Проанализировав данные о продаже квартир в Санкт - Петербурге удалось определить:\n",
    "* 1. Центром города считается удаление на радиус 9 км, за границами радиуса цены за кв.м значительно падают.\n",
    "* 2. Исходя из анализа графиков и коэффициента корреляции, можно сказать, что на цену в центре Санкт- Петербурга в меньшей степени влияет площадь, относительно остальных данных. Имеет место та же линейная зависимость, но коэффициент корреляции меньше - 0.643 в центре, 0.653 в общей выборке.\n",
    "* 3. Относительно года публикации объявления, месяца и количества этажей значимых изменений не замечено. По данным показателям данные примерно те же, что и для остальных регионов.\n",
    "* 4. В центре города меньше влияние таких факторов как: количество комнат (коэффициенты корреляции -0.34 и 0.36), высота потолков ( 0.24, 0.37)"
   ]
  },
  {
   "cell_type": "markdown",
   "metadata": {},
   "source": [
    "## Общий вывод исследования. <a class=\"anchor\" id=\"section_5\">"
   ]
  },
  {
   "cell_type": "markdown",
   "metadata": {},
   "source": [
    "В процессе анализа была проведена работа по очистке данных от некорретных значений, заполнению пропущенных медианными по группам или нулевыми, где не было возможности найти релевантные показатели.\n",
    "\n",
    " Входе анализа удалось сделать следубщие выводы по общему массиву данных:\n",
    " \n",
    "* Имеет место практически линейна зависимость стоимости от площади квартиры, чем больше площадь, тем больше цена\n",
    "* Квартиры с большей стоиммостью по общей выборке распологаются на удалении в 20-35 км от центра.\n",
    "* Объявления с большей стоимостью чаще выкладываются на конец года - 12-й месяц.\n",
    "* В 14 -м и 15- м годах цены на недвижимость были максимальными.\n",
    "* Квартиры на первом этаже продаются значительно реже, чем на последнем.\n",
    " \n",
    " Также, в сравнении с выборкой по объявлениям о продаже недвижимости в центре Санкт -Питербурга было определно, что:\n",
    " \n",
    "* 1. На цену на недвижимость в центре Санкт- Петербурга в меньшей степени влияет площадь, относительно остальных данных. Имеет место таже линейная зависимость, но коэффициент корреляции меньше - 0.643 в центре, 0.653 в общей выборке.\n",
    "* 2. В центре города меньше влияние таких факторов как: количество комнат (коэффициенты корреляции -0.34 и 0.36), высота потолков ( 0.24, 0.37)\n",
    " \n",
    "Меньшее влияние описанных показателей на стоимость недвижимости в центре Санкт - Питербурга может быть обусловлено непосредственно местоположением недвижимости: в исследуемом радиусе удаленность от центра является решающим фактором в определении стоимости жилья, в некоторой мере оттеняя такие факторы как: площадь, количество этажей, высота потолков.\n",
    "В тоже время такие показатели как дата публикации объявления (день, месяц, год), зависимость от этажа, распределены в выборке равномерно."
   ]
  }
 ],
 "metadata": {
  "kernelspec": {
   "display_name": "Python 3",
   "language": "python",
   "name": "python3"
  },
  "language_info": {
   "codemirror_mode": {
    "name": "ipython",
    "version": 3
   },
   "file_extension": ".py",
   "mimetype": "text/x-python",
   "name": "python",
   "nbconvert_exporter": "python",
   "pygments_lexer": "ipython3",
   "version": "3.8.3"
  },
  "toc": {
   "base_numbering": 1,
   "nav_menu": {},
   "number_sections": false,
   "sideBar": true,
   "skip_h1_title": true,
   "title_cell": "Table of Contents",
   "title_sidebar": "Contents",
   "toc_cell": false,
   "toc_position": {},
   "toc_section_display": true,
   "toc_window_display": true
  }
 },
 "nbformat": 4,
 "nbformat_minor": 4
}
