{
 "cells": [
  {
   "cell_type": "markdown",
   "metadata": {},
   "source": [
    "# Исследование надёжности заёмщиков\n",
    "\n",
    "## Описание проекта:\n",
    "\n",
    "Заказчик — кредитный отдел банка. Цель проекта - изучение факторов (возраст, пол, уровень дохода и т.д.) влияющих на погашения кредита в срок. \n",
    "\n",
    "Входные данные от банка — статистика о платёжеспособности клиентов.\n",
    "\n",
    "Результаты исследования будут учтены при построении модели **кредитного скоринга** — специальной системы, которая оценивает способность потенциального заёмщика вернуть кредит банку."
   ]
  },
  {
   "cell_type": "markdown",
   "metadata": {},
   "source": [
    "## Содержание:\n",
    "* [Общая информация о данных.](#section_1)\n",
    "* [Предобработка данных:](#section_2_1)\n",
    "    * [Замена типа данных.](#section_2_2)\n",
    "    * [Обработка дубликатов.](#section_2_3)\n",
    "    * [Лемматизация.](#section_2_4)\n",
    "    * [Категоризация данных.](#section_2_5)\n",
    "* [Анализ данных:](#section_3_1)\n",
    "    * [Зависимость между наличием детей и возвратом кредита в срок.](#section_3_1)\n",
    "    * [Зависимость между семейным положением и возвратом кредита в срок.](#section_3_2)\n",
    "    * [Зависимость между уровнем дохода и возвратом кредита в срок.](#section_3_3)\n",
    "    * [Как разные цели кредита влияют на его возврат в срок?](#section_3_4)\n",
    "* [Общий вывод](#section_4)\n"
   ]
  },
  {
   "cell_type": "markdown",
   "metadata": {},
   "source": [
    "## Общая информация о данных.<a class=\"anchor\" id=\"section_1\">"
   ]
  },
  {
   "cell_type": "code",
   "execution_count": 17,
   "metadata": {},
   "outputs": [],
   "source": [
    "import pandas as pd\n",
    "import numpy as np\n",
    "from pymystem3 import Mystem"
   ]
  },
  {
   "cell_type": "code",
   "execution_count": 2,
   "metadata": {},
   "outputs": [
    {
     "name": "stdout",
     "output_type": "stream",
     "text": [
      "<class 'pandas.core.frame.DataFrame'>\n",
      "RangeIndex: 21525 entries, 0 to 21524\n",
      "Data columns (total 12 columns):\n",
      "children            21525 non-null int64\n",
      "days_employed       19351 non-null float64\n",
      "dob_years           21525 non-null int64\n",
      "education           21525 non-null object\n",
      "education_id        21525 non-null int64\n",
      "family_status       21525 non-null object\n",
      "family_status_id    21525 non-null int64\n",
      "gender              21525 non-null object\n",
      "income_type         21525 non-null object\n",
      "debt                21525 non-null int64\n",
      "total_income        19351 non-null float64\n",
      "purpose             21525 non-null object\n",
      "dtypes: float64(2), int64(5), object(5)\n",
      "memory usage: 2.0+ MB\n"
     ]
    },
    {
     "data": {
      "text/html": [
       "<div>\n",
       "<style scoped>\n",
       "    .dataframe tbody tr th:only-of-type {\n",
       "        vertical-align: middle;\n",
       "    }\n",
       "\n",
       "    .dataframe tbody tr th {\n",
       "        vertical-align: top;\n",
       "    }\n",
       "\n",
       "    .dataframe thead th {\n",
       "        text-align: right;\n",
       "    }\n",
       "</style>\n",
       "<table border=\"1\" class=\"dataframe\">\n",
       "  <thead>\n",
       "    <tr style=\"text-align: right;\">\n",
       "      <th></th>\n",
       "      <th>children</th>\n",
       "      <th>days_employed</th>\n",
       "      <th>dob_years</th>\n",
       "      <th>education_id</th>\n",
       "      <th>family_status_id</th>\n",
       "      <th>debt</th>\n",
       "      <th>total_income</th>\n",
       "    </tr>\n",
       "  </thead>\n",
       "  <tbody>\n",
       "    <tr>\n",
       "      <td>count</td>\n",
       "      <td>21525.000000</td>\n",
       "      <td>19351.000000</td>\n",
       "      <td>21525.000000</td>\n",
       "      <td>21525.000000</td>\n",
       "      <td>21525.000000</td>\n",
       "      <td>21525.000000</td>\n",
       "      <td>1.935100e+04</td>\n",
       "    </tr>\n",
       "    <tr>\n",
       "      <td>mean</td>\n",
       "      <td>0.538908</td>\n",
       "      <td>63046.497661</td>\n",
       "      <td>43.293380</td>\n",
       "      <td>0.817236</td>\n",
       "      <td>0.972544</td>\n",
       "      <td>0.080883</td>\n",
       "      <td>1.674223e+05</td>\n",
       "    </tr>\n",
       "    <tr>\n",
       "      <td>std</td>\n",
       "      <td>1.381587</td>\n",
       "      <td>140827.311974</td>\n",
       "      <td>12.574584</td>\n",
       "      <td>0.548138</td>\n",
       "      <td>1.420324</td>\n",
       "      <td>0.272661</td>\n",
       "      <td>1.029716e+05</td>\n",
       "    </tr>\n",
       "    <tr>\n",
       "      <td>min</td>\n",
       "      <td>-1.000000</td>\n",
       "      <td>-18388.949901</td>\n",
       "      <td>0.000000</td>\n",
       "      <td>0.000000</td>\n",
       "      <td>0.000000</td>\n",
       "      <td>0.000000</td>\n",
       "      <td>2.066726e+04</td>\n",
       "    </tr>\n",
       "    <tr>\n",
       "      <td>25%</td>\n",
       "      <td>0.000000</td>\n",
       "      <td>-2747.423625</td>\n",
       "      <td>33.000000</td>\n",
       "      <td>1.000000</td>\n",
       "      <td>0.000000</td>\n",
       "      <td>0.000000</td>\n",
       "      <td>1.030532e+05</td>\n",
       "    </tr>\n",
       "    <tr>\n",
       "      <td>50%</td>\n",
       "      <td>0.000000</td>\n",
       "      <td>-1203.369529</td>\n",
       "      <td>42.000000</td>\n",
       "      <td>1.000000</td>\n",
       "      <td>0.000000</td>\n",
       "      <td>0.000000</td>\n",
       "      <td>1.450179e+05</td>\n",
       "    </tr>\n",
       "    <tr>\n",
       "      <td>75%</td>\n",
       "      <td>1.000000</td>\n",
       "      <td>-291.095954</td>\n",
       "      <td>53.000000</td>\n",
       "      <td>1.000000</td>\n",
       "      <td>1.000000</td>\n",
       "      <td>0.000000</td>\n",
       "      <td>2.034351e+05</td>\n",
       "    </tr>\n",
       "    <tr>\n",
       "      <td>max</td>\n",
       "      <td>20.000000</td>\n",
       "      <td>401755.400475</td>\n",
       "      <td>75.000000</td>\n",
       "      <td>4.000000</td>\n",
       "      <td>4.000000</td>\n",
       "      <td>1.000000</td>\n",
       "      <td>2.265604e+06</td>\n",
       "    </tr>\n",
       "  </tbody>\n",
       "</table>\n",
       "</div>"
      ],
      "text/plain": [
       "           children  days_employed     dob_years  education_id  \\\n",
       "count  21525.000000   19351.000000  21525.000000  21525.000000   \n",
       "mean       0.538908   63046.497661     43.293380      0.817236   \n",
       "std        1.381587  140827.311974     12.574584      0.548138   \n",
       "min       -1.000000  -18388.949901      0.000000      0.000000   \n",
       "25%        0.000000   -2747.423625     33.000000      1.000000   \n",
       "50%        0.000000   -1203.369529     42.000000      1.000000   \n",
       "75%        1.000000    -291.095954     53.000000      1.000000   \n",
       "max       20.000000  401755.400475     75.000000      4.000000   \n",
       "\n",
       "       family_status_id          debt  total_income  \n",
       "count      21525.000000  21525.000000  1.935100e+04  \n",
       "mean           0.972544      0.080883  1.674223e+05  \n",
       "std            1.420324      0.272661  1.029716e+05  \n",
       "min            0.000000      0.000000  2.066726e+04  \n",
       "25%            0.000000      0.000000  1.030532e+05  \n",
       "50%            0.000000      0.000000  1.450179e+05  \n",
       "75%            1.000000      0.000000  2.034351e+05  \n",
       "max            4.000000      1.000000  2.265604e+06  "
      ]
     },
     "execution_count": 2,
     "metadata": {},
     "output_type": "execute_result"
    }
   ],
   "source": [
    "df = pd.read_csv('/datasets/data.csv')\n",
    "df.info()\n",
    "df.describe()"
   ]
  },
  {
   "cell_type": "markdown",
   "metadata": {},
   "source": [
    "### Вывод <a class=\"anchor\" id=\"conclusion_1\">\n",
    "Файл содержит 2525 строк и 12 столбцов. \n",
    "    \n",
    "Типы данных в столбцах: \n",
    "* вещественные числа- 2, \n",
    "* целочисленные значения -5, \n",
    "* объекты -5.\n",
    "\n",
    "В таблице представлены следующая информация о заемщиках:\n",
    "    \n",
    "* количество детей в семье\n",
    "* общий трудовой стаж в днях\n",
    "* возраст клиента в годах\n",
    "* уровень образования клиента\n",
    "* идентификатор уровня образования\n",
    "* семейное положение\n",
    "* идентификатор семейного положения\n",
    "* пол клиента\n",
    "* тип занятости\n",
    "* имел ли задолженность по возврату кредитов\n",
    "* ежемесячный доход\n",
    "* цель получения кредита\n",
    "    \n",
    "Прежде чем приступать к анализу необходима тщательная предобработка т.к. данные содержат некорректные значения, что может повлиять на результаты исследования."
   ]
  },
  {
   "cell_type": "markdown",
   "metadata": {},
   "source": [
    "## Предобработка данных. <a class = \"anchor\" id ='section_2'>"
   ]
  },
  {
   "cell_type": "markdown",
   "metadata": {},
   "source": [
    "### Обработка пропусков<a class = \"anchor\" id ='section_2_1'>"
   ]
  },
  {
   "cell_type": "code",
   "execution_count": 3,
   "metadata": {},
   "outputs": [
    {
     "data": {
      "text/plain": [
       "children            0\n",
       "days_employed       0\n",
       "dob_years           0\n",
       "education           0\n",
       "education_id        0\n",
       "family_status       0\n",
       "family_status_id    0\n",
       "gender              0\n",
       "income_type         0\n",
       "debt                0\n",
       "total_income        0\n",
       "purpose             0\n",
       "dtype: int64"
      ]
     },
     "execution_count": 3,
     "metadata": {},
     "output_type": "execute_result"
    }
   ],
   "source": [
    "df['days_employed'] = df['days_employed'].fillna(0)\n",
    "\n",
    "median_incomes = df.groupby('income_type')['total_income'].median().to_dict()\n",
    "\n",
    "def filler_func(row):\n",
    "    if pd.isna(row['total_income']):\n",
    "         return median_incomes[row['income_type']]\n",
    "    return row['total_income']\n",
    "\n",
    "df['total_income'] = df.apply(filler_func, axis=1)\n",
    "\n",
    "df.isnull().sum()"
   ]
  },
  {
   "cell_type": "markdown",
   "metadata": {},
   "source": [
    "### Вывод"
   ]
  },
  {
   "cell_type": "markdown",
   "metadata": {},
   "source": [
    "Пропущенные значения в столбце 'days_employed'ачения были заменены на \"0\". Значения в столбце 'total_income' были заменены на медиану от значений сгруппированных по типу занятости. Отсутсвующие значения могли быть обусловлены ошибками при вводе или нежеланием/невозможностью клиентов разглашать информацию. "
   ]
  },
  {
   "cell_type": "markdown",
   "metadata": {},
   "source": [
    "### Замена типа данных<a class = \"anchor\" id ='section_2_2'>"
   ]
  },
  {
   "cell_type": "code",
   "execution_count": 4,
   "metadata": {},
   "outputs": [],
   "source": [
    "#для корректной работы с данными неободимо заменить типо float на int, \n",
    "#меняем данный сразу во всем столбце при помощи метода astype()\n",
    "\n",
    "df['days_employed'] = abs(df['days_employed'].astype(int))\n",
    "df['total_income'] =abs(df['total_income'].astype(int))"
   ]
  },
  {
   "cell_type": "markdown",
   "metadata": {},
   "source": [
    "### Вывод"
   ]
  },
  {
   "cell_type": "markdown",
   "metadata": {},
   "source": [
    "При знакомстве с данными были выявлены аномальные значения: отрицательный трудовой стаж, отрицательные значения в по столбце 'children'. Столбцы были обработаны функцией, заменяющей отрицательные значения на положительные. Так же дыли изменены вещественные значения на целочисленные.\n",
    "\n",
    "Ошибки могли появится в процессе выгрузки данных, либо при ошибочном заполнеии полей при сборе."
   ]
  },
  {
   "cell_type": "markdown",
   "metadata": {},
   "source": [
    "### Обработка дубликатов<a class = \"anchor\" id ='section_2_3'>"
   ]
  },
  {
   "cell_type": "code",
   "execution_count": 5,
   "metadata": {},
   "outputs": [],
   "source": [
    "# в столбце 'education' приводим значения к одному регисстру\n",
    "# в данном случае нас интересуют полные дубликаты, поэтому используем метод drop_duplicates + reset_index для переиндексации строк\n",
    "\n",
    "df['education'] = df['education'].str.lower()\n",
    "df = df.drop_duplicates().reset_index(drop = True)\n"
   ]
  },
  {
   "cell_type": "markdown",
   "metadata": {},
   "source": [
    "### Вывод"
   ]
  },
  {
   "cell_type": "markdown",
   "metadata": {},
   "source": [
    "Посредствам применения метода drop_duplicates были удалены полные дубликаты строк во всем фрейме. Дубликаты могли появится на этапе копирования или переноса данных либо же данные о некоторых клиентах могли полностью совпасть."
   ]
  },
  {
   "cell_type": "markdown",
   "metadata": {},
   "source": [
    "### Лемматизация<a class = \"anchor\" id ='section_2_4'>"
   ]
  },
  {
   "cell_type": "code",
   "execution_count": 6,
   "metadata": {},
   "outputs": [],
   "source": [
    "m = Mystem()\n",
    "\n",
    "def lemmatisizer(row):\n",
    "    return m.lemmatize(row['purpose'])\n",
    "\n",
    "df['lemmatisized'] = df.apply(lemmatisizer, axis=1)\n"
   ]
  },
  {
   "cell_type": "markdown",
   "metadata": {},
   "source": [
    "### Вывод"
   ]
  },
  {
   "cell_type": "markdown",
   "metadata": {},
   "source": [
    "В результате лемматизации значений в столбце 'purpose' получаем новый столбец с леммами, необходимый для последующей категоризации."
   ]
  },
  {
   "cell_type": "markdown",
   "metadata": {},
   "source": [
    "## Категоризация <a class = \"anchor\" id ='section_2_5'>"
   ]
  },
  {
   "cell_type": "code",
   "execution_count": 7,
   "metadata": {},
   "outputs": [
    {
     "data": {
      "text/html": [
       "<div>\n",
       "<style scoped>\n",
       "    .dataframe tbody tr th:only-of-type {\n",
       "        vertical-align: middle;\n",
       "    }\n",
       "\n",
       "    .dataframe tbody tr th {\n",
       "        vertical-align: top;\n",
       "    }\n",
       "\n",
       "    .dataframe thead th {\n",
       "        text-align: right;\n",
       "    }\n",
       "</style>\n",
       "<table border=\"1\" class=\"dataframe\">\n",
       "  <thead>\n",
       "    <tr style=\"text-align: right;\">\n",
       "      <th></th>\n",
       "      <th>children</th>\n",
       "      <th>days_employed</th>\n",
       "      <th>dob_years</th>\n",
       "      <th>education</th>\n",
       "      <th>education_id</th>\n",
       "      <th>family_status</th>\n",
       "      <th>family_status_id</th>\n",
       "      <th>gender</th>\n",
       "      <th>income_type</th>\n",
       "      <th>debt</th>\n",
       "      <th>total_income</th>\n",
       "      <th>purpose</th>\n",
       "      <th>lemmatisized</th>\n",
       "      <th>categorized_purpose</th>\n",
       "    </tr>\n",
       "  </thead>\n",
       "  <tbody>\n",
       "    <tr>\n",
       "      <td>0</td>\n",
       "      <td>1</td>\n",
       "      <td>8437</td>\n",
       "      <td>42</td>\n",
       "      <td>высшее</td>\n",
       "      <td>0</td>\n",
       "      <td>женат / замужем</td>\n",
       "      <td>0</td>\n",
       "      <td>F</td>\n",
       "      <td>сотрудник</td>\n",
       "      <td>0</td>\n",
       "      <td>253875</td>\n",
       "      <td>покупка жилья</td>\n",
       "      <td>[покупка,  , жилье, \\n]</td>\n",
       "      <td>недвижимость</td>\n",
       "    </tr>\n",
       "    <tr>\n",
       "      <td>1</td>\n",
       "      <td>1</td>\n",
       "      <td>4024</td>\n",
       "      <td>36</td>\n",
       "      <td>среднее</td>\n",
       "      <td>1</td>\n",
       "      <td>женат / замужем</td>\n",
       "      <td>0</td>\n",
       "      <td>F</td>\n",
       "      <td>сотрудник</td>\n",
       "      <td>0</td>\n",
       "      <td>112080</td>\n",
       "      <td>приобретение автомобиля</td>\n",
       "      <td>[приобретение,  , автомобиль, \\n]</td>\n",
       "      <td>автомобиль</td>\n",
       "    </tr>\n",
       "    <tr>\n",
       "      <td>2</td>\n",
       "      <td>0</td>\n",
       "      <td>5623</td>\n",
       "      <td>33</td>\n",
       "      <td>среднее</td>\n",
       "      <td>1</td>\n",
       "      <td>женат / замужем</td>\n",
       "      <td>0</td>\n",
       "      <td>M</td>\n",
       "      <td>сотрудник</td>\n",
       "      <td>0</td>\n",
       "      <td>145885</td>\n",
       "      <td>покупка жилья</td>\n",
       "      <td>[покупка,  , жилье, \\n]</td>\n",
       "      <td>недвижимость</td>\n",
       "    </tr>\n",
       "    <tr>\n",
       "      <td>3</td>\n",
       "      <td>3</td>\n",
       "      <td>4124</td>\n",
       "      <td>32</td>\n",
       "      <td>среднее</td>\n",
       "      <td>1</td>\n",
       "      <td>женат / замужем</td>\n",
       "      <td>0</td>\n",
       "      <td>M</td>\n",
       "      <td>сотрудник</td>\n",
       "      <td>0</td>\n",
       "      <td>267628</td>\n",
       "      <td>дополнительное образование</td>\n",
       "      <td>[дополнительный,  , образование, \\n]</td>\n",
       "      <td>образование</td>\n",
       "    </tr>\n",
       "    <tr>\n",
       "      <td>4</td>\n",
       "      <td>0</td>\n",
       "      <td>340266</td>\n",
       "      <td>53</td>\n",
       "      <td>среднее</td>\n",
       "      <td>1</td>\n",
       "      <td>гражданский брак</td>\n",
       "      <td>1</td>\n",
       "      <td>F</td>\n",
       "      <td>пенсионер</td>\n",
       "      <td>0</td>\n",
       "      <td>158616</td>\n",
       "      <td>сыграть свадьбу</td>\n",
       "      <td>[сыграть,  , свадьба, \\n]</td>\n",
       "      <td>свадьба</td>\n",
       "    </tr>\n",
       "  </tbody>\n",
       "</table>\n",
       "</div>"
      ],
      "text/plain": [
       "   children  days_employed  dob_years education  education_id  \\\n",
       "0         1           8437         42    высшее             0   \n",
       "1         1           4024         36   среднее             1   \n",
       "2         0           5623         33   среднее             1   \n",
       "3         3           4124         32   среднее             1   \n",
       "4         0         340266         53   среднее             1   \n",
       "\n",
       "      family_status  family_status_id gender income_type  debt  total_income  \\\n",
       "0   женат / замужем                 0      F   сотрудник     0        253875   \n",
       "1   женат / замужем                 0      F   сотрудник     0        112080   \n",
       "2   женат / замужем                 0      M   сотрудник     0        145885   \n",
       "3   женат / замужем                 0      M   сотрудник     0        267628   \n",
       "4  гражданский брак                 1      F   пенсионер     0        158616   \n",
       "\n",
       "                      purpose                          lemmatisized  \\\n",
       "0               покупка жилья               [покупка,  , жилье, \\n]   \n",
       "1     приобретение автомобиля     [приобретение,  , автомобиль, \\n]   \n",
       "2               покупка жилья               [покупка,  , жилье, \\n]   \n",
       "3  дополнительное образование  [дополнительный,  , образование, \\n]   \n",
       "4             сыграть свадьбу             [сыграть,  , свадьба, \\n]   \n",
       "\n",
       "  categorized_purpose  \n",
       "0        недвижимость  \n",
       "1          автомобиль  \n",
       "2        недвижимость  \n",
       "3         образование  \n",
       "4             свадьба  "
      ]
     },
     "execution_count": 7,
     "metadata": {},
     "output_type": "execute_result"
    }
   ],
   "source": [
    "\n",
    "def categorized(purpose):\n",
    "    if 'автомобиль' in purpose or 'aвто' in purpose:\n",
    "        return 'автомобиль'\n",
    "    if 'свадьба' in purpose:\n",
    "        return 'свадьба'\n",
    "    if 'образование'in purpose:\n",
    "        return 'образование'\n",
    "    if 'недвижимость'in purpose or 'квартира'in purpose or 'дом' in purpose or 'жилье' in purpose:\n",
    "        return 'недвижимость'\n",
    "    return 'другое'\n",
    "\n",
    "df['categorized_purpose'] = df['lemmatisized'].apply(categorized)\n",
    "\n",
    "df.head(5)"
   ]
  },
  {
   "cell_type": "markdown",
   "metadata": {},
   "source": [
    "### Вывод"
   ]
  },
  {
   "cell_type": "markdown",
   "metadata": {},
   "source": [
    "По результатам лемматизации была проведена категоризация объектов, необходимая для дальнейших расчетов."
   ]
  },
  {
   "cell_type": "markdown",
   "metadata": {},
   "source": [
    "## Анализ данных<a class = \"anchor\" id ='section_3_1'>"
   ]
  },
  {
   "cell_type": "markdown",
   "metadata": {},
   "source": [
    "### - Есть ли зависимость между наличием детей и возвратом кредита в срок?<a class = \"anchor\" id ='section_3_2'>\n"
   ]
  },
  {
   "cell_type": "code",
   "execution_count": 8,
   "metadata": {},
   "outputs": [
    {
     "name": "stdout",
     "output_type": "stream",
     "text": [
      "Доля имевших задолженность с детьми: 9.21 %\n",
      "Доля имевших задолженность без детей 7.54 %\n",
      "Люди без детей возвращают кредит в срок на 1.66 % чаще.\n"
     ]
    },
    {
     "data": {
      "text/html": [
       "<div>\n",
       "<style scoped>\n",
       "    .dataframe tbody tr th:only-of-type {\n",
       "        vertical-align: middle;\n",
       "    }\n",
       "\n",
       "    .dataframe tbody tr th {\n",
       "        vertical-align: top;\n",
       "    }\n",
       "\n",
       "    .dataframe thead th {\n",
       "        text-align: right;\n",
       "    }\n",
       "</style>\n",
       "<table border=\"1\" class=\"dataframe\">\n",
       "  <thead>\n",
       "    <tr style=\"text-align: right;\">\n",
       "      <th></th>\n",
       "      <th>нет задолженности</th>\n",
       "      <th>есть задолженность</th>\n",
       "      <th>доля имевших задолженность</th>\n",
       "      <th>доля без задолженности</th>\n",
       "    </tr>\n",
       "    <tr>\n",
       "      <th>categorized_сhildren</th>\n",
       "      <th></th>\n",
       "      <th></th>\n",
       "      <th></th>\n",
       "      <th></th>\n",
       "    </tr>\n",
       "  </thead>\n",
       "  <tbody>\n",
       "    <tr>\n",
       "      <td>есть дети</td>\n",
       "      <td>6685</td>\n",
       "      <td>678</td>\n",
       "      <td>9.208203</td>\n",
       "      <td>90.791797</td>\n",
       "    </tr>\n",
       "    <tr>\n",
       "      <td>нет детей</td>\n",
       "      <td>13028</td>\n",
       "      <td>1063</td>\n",
       "      <td>7.543822</td>\n",
       "      <td>92.456178</td>\n",
       "    </tr>\n",
       "  </tbody>\n",
       "</table>\n",
       "</div>"
      ],
      "text/plain": [
       "                      нет задолженности  есть задолженность  \\\n",
       "categorized_сhildren                                          \n",
       "есть дети                          6685                 678   \n",
       "нет детей                         13028                1063   \n",
       "\n",
       "                      доля имевших задолженность  доля без задолженности  \n",
       "categorized_сhildren                                                      \n",
       "есть дети                               9.208203               90.791797  \n",
       "нет детей                               7.543822               92.456178  "
      ]
     },
     "execution_count": 8,
     "metadata": {},
     "output_type": "execute_result"
    }
   ],
   "source": [
    "#проводим категоризацию для удобства\n",
    "def categorizing_children(row):\n",
    "    if row == 0:\n",
    "        return 'нет детей'\n",
    "    if row > 0:\n",
    "        return 'есть дети'\n",
    "    return 'другое'\n",
    "df['categorized_сhildren'] = df['children'].apply(categorizing_children)    \n",
    "\n",
    "#составляем сводную таблицу                        \n",
    "children_df = df.pivot_table(index = ['categorized_сhildren'], columns='debt', values ='children', aggfunc='count')\n",
    "\n",
    "#заменяем названия колонок\n",
    "children_df.set_axis(['нет задолженности','есть задолженность'], axis = 'columns',inplace = True)\n",
    "\n",
    "#расчитывает долю\n",
    "children_df['доля имевших задолженность'] = (children_df['есть задолженность'] * 100)/ (children_df['нет задолженности'] + children_df['есть задолженность'])\n",
    "children_df['доля без задолженности'] = (children_df['нет задолженности'] * 100)/ (children_df['нет задолженности'] + children_df['есть задолженность'])\n",
    "\n",
    "print('Доля имевших задолженность с детьми: {:.2f}'.format(children_df['доля имевших задолженность'][0]),'%')\n",
    "print('Доля имевших задолженность без детей {:.2f}'.format(children_df['доля имевших задолженность'][1]),'%')\n",
    "\n",
    "#расчитываем разницу между долями\n",
    "difference_children = children_df['доля имевших задолженность'][0] - children_df['доля имевших задолженность'][1]\n",
    "\n",
    "print('Люди без детей возвращают кредит в срок на {:.2f}'.format(difference_children),'% чаще.')\n",
    "children_df\n",
    "\n"
   ]
  },
  {
   "cell_type": "markdown",
   "metadata": {},
   "source": [
    "### Вывод"
   ]
  },
  {
   "cell_type": "markdown",
   "metadata": {},
   "source": [
    "В результате анализа было определено - клиенты, не имеющие детей, возвращат задолженность в срок на 1.67 % чаще."
   ]
  },
  {
   "cell_type": "markdown",
   "metadata": {},
   "source": [
    "### - Есть ли зависимость между семейным положением и возвратом кредита в срок? <a class = \"anchor\" id ='section_3_3'>"
   ]
  },
  {
   "cell_type": "code",
   "execution_count": 9,
   "metadata": {},
   "outputs": [
    {
     "data": {
      "text/html": [
       "<div>\n",
       "<style scoped>\n",
       "    .dataframe tbody tr th:only-of-type {\n",
       "        vertical-align: middle;\n",
       "    }\n",
       "\n",
       "    .dataframe tbody tr th {\n",
       "        vertical-align: top;\n",
       "    }\n",
       "\n",
       "    .dataframe thead th {\n",
       "        text-align: right;\n",
       "    }\n",
       "</style>\n",
       "<table border=\"1\" class=\"dataframe\">\n",
       "  <thead>\n",
       "    <tr style=\"text-align: right;\">\n",
       "      <th></th>\n",
       "      <th>нет задолженности</th>\n",
       "      <th>есть задолженность</th>\n",
       "      <th>доля имевших задолженность</th>\n",
       "      <th>доля без задолженности</th>\n",
       "    </tr>\n",
       "    <tr>\n",
       "      <th>family_status</th>\n",
       "      <th></th>\n",
       "      <th></th>\n",
       "      <th></th>\n",
       "      <th></th>\n",
       "    </tr>\n",
       "  </thead>\n",
       "  <tbody>\n",
       "    <tr>\n",
       "      <td>Не женат / не замужем</td>\n",
       "      <td>2536</td>\n",
       "      <td>274</td>\n",
       "      <td>9.750890</td>\n",
       "      <td>90.249110</td>\n",
       "    </tr>\n",
       "    <tr>\n",
       "      <td>гражданский брак</td>\n",
       "      <td>3763</td>\n",
       "      <td>388</td>\n",
       "      <td>9.347145</td>\n",
       "      <td>90.652855</td>\n",
       "    </tr>\n",
       "    <tr>\n",
       "      <td>женат / замужем</td>\n",
       "      <td>11408</td>\n",
       "      <td>931</td>\n",
       "      <td>7.545182</td>\n",
       "      <td>92.454818</td>\n",
       "    </tr>\n",
       "    <tr>\n",
       "      <td>в разводе</td>\n",
       "      <td>1110</td>\n",
       "      <td>85</td>\n",
       "      <td>7.112971</td>\n",
       "      <td>92.887029</td>\n",
       "    </tr>\n",
       "    <tr>\n",
       "      <td>вдовец / вдова</td>\n",
       "      <td>896</td>\n",
       "      <td>63</td>\n",
       "      <td>6.569343</td>\n",
       "      <td>93.430657</td>\n",
       "    </tr>\n",
       "  </tbody>\n",
       "</table>\n",
       "</div>"
      ],
      "text/plain": [
       "                       нет задолженности  есть задолженность  \\\n",
       "family_status                                                  \n",
       "Не женат / не замужем               2536                 274   \n",
       "гражданский брак                    3763                 388   \n",
       "женат / замужем                    11408                 931   \n",
       "в разводе                           1110                  85   \n",
       "вдовец / вдова                       896                  63   \n",
       "\n",
       "                       доля имевших задолженность  доля без задолженности  \n",
       "family_status                                                              \n",
       "Не женат / не замужем                    9.750890               90.249110  \n",
       "гражданский брак                         9.347145               90.652855  \n",
       "женат / замужем                          7.545182               92.454818  \n",
       "в разводе                                7.112971               92.887029  \n",
       "вдовец / вдова                           6.569343               93.430657  "
      ]
     },
     "execution_count": 9,
     "metadata": {},
     "output_type": "execute_result"
    }
   ],
   "source": [
    "# расчет по аналогии с предыдущим\n",
    "family_df = df.pivot_table(index = ['family_status'], columns = 'debt', values = 'family_status_id', aggfunc = 'count')\n",
    "family_df.set_axis(['нет задолженности','есть задолженность'], axis = 'columns',inplace = True)\n",
    "family_df['доля имевших задолженность'] = (family_df['есть задолженность'] * 100)/ (family_df['нет задолженности'] + family_df['есть задолженность'])\n",
    "family_df['доля без задолженности'] = (family_df['нет задолженности'] * 100)/ (family_df['нет задолженности'] + family_df['есть задолженность'])\n",
    "\n",
    "# сортируем для нагядности\n",
    "family_df.sort_values(by = 'доля имевших задолженность', ascending = False)"
   ]
  },
  {
   "cell_type": "markdown",
   "metadata": {},
   "source": [
    "### Вывод"
   ]
  },
  {
   "cell_type": "markdown",
   "metadata": {},
   "source": [
    "В результате анализа удалось выяснить, что максимальный процент клиентов имевших задолженность наблюдается в категории 'Не женат / не замужем' - 9.7%, далее, клиенты, состоящие в гражданском браке - 9.3%, женатые и замужние -7.5%. \n",
    "\n",
    "Сымыми надежными заемщиками являются находящиеся в разводе - 7.1% и вдовцы/вдовы - 6.5%."
   ]
  },
  {
   "cell_type": "markdown",
   "metadata": {},
   "source": [
    "### - Есть ли зависимость между уровнем дохода и возвратом кредита в срок? <a class = \"anchor\" id ='section_3_4'>\n",
    "\n"
   ]
  },
  {
   "cell_type": "code",
   "execution_count": 10,
   "metadata": {},
   "outputs": [
    {
     "data": {
      "text/html": [
       "<div>\n",
       "<style scoped>\n",
       "    .dataframe tbody tr th:only-of-type {\n",
       "        vertical-align: middle;\n",
       "    }\n",
       "\n",
       "    .dataframe tbody tr th {\n",
       "        vertical-align: top;\n",
       "    }\n",
       "\n",
       "    .dataframe thead th {\n",
       "        text-align: right;\n",
       "    }\n",
       "</style>\n",
       "<table border=\"1\" class=\"dataframe\">\n",
       "  <thead>\n",
       "    <tr style=\"text-align: right;\">\n",
       "      <th></th>\n",
       "      <th>нет задолженности</th>\n",
       "      <th>есть задолженность</th>\n",
       "      <th>доля имевших задолженность</th>\n",
       "      <th>доля без задолженности</th>\n",
       "    </tr>\n",
       "    <tr>\n",
       "      <th>categorized_income</th>\n",
       "      <th></th>\n",
       "      <th></th>\n",
       "      <th></th>\n",
       "      <th></th>\n",
       "    </tr>\n",
       "  </thead>\n",
       "  <tbody>\n",
       "    <tr>\n",
       "      <td>от 120к до 145к</td>\n",
       "      <td>3548</td>\n",
       "      <td>351</td>\n",
       "      <td>9.002308</td>\n",
       "      <td>90.997692</td>\n",
       "    </tr>\n",
       "    <tr>\n",
       "      <td>от 90к до 120к</td>\n",
       "      <td>3559</td>\n",
       "      <td>324</td>\n",
       "      <td>8.344064</td>\n",
       "      <td>91.655936</td>\n",
       "    </tr>\n",
       "    <tr>\n",
       "      <td>от 145к до 185к</td>\n",
       "      <td>3879</td>\n",
       "      <td>351</td>\n",
       "      <td>8.297872</td>\n",
       "      <td>91.702128</td>\n",
       "    </tr>\n",
       "    <tr>\n",
       "      <td>от 185к до 235к</td>\n",
       "      <td>2573</td>\n",
       "      <td>227</td>\n",
       "      <td>8.107143</td>\n",
       "      <td>91.892857</td>\n",
       "    </tr>\n",
       "    <tr>\n",
       "      <td>меньше 90к</td>\n",
       "      <td>3086</td>\n",
       "      <td>262</td>\n",
       "      <td>7.825568</td>\n",
       "      <td>92.174432</td>\n",
       "    </tr>\n",
       "    <tr>\n",
       "      <td>больше 235к</td>\n",
       "      <td>3068</td>\n",
       "      <td>226</td>\n",
       "      <td>6.860959</td>\n",
       "      <td>93.139041</td>\n",
       "    </tr>\n",
       "  </tbody>\n",
       "</table>\n",
       "</div>"
      ],
      "text/plain": [
       "                    нет задолженности  есть задолженность  \\\n",
       "categorized_income                                          \n",
       "от 120к до 145к                  3548                 351   \n",
       "от 90к до 120к                   3559                 324   \n",
       "от 145к до 185к                  3879                 351   \n",
       "от 185к до 235к                  2573                 227   \n",
       "меньше 90к                       3086                 262   \n",
       "больше 235к                      3068                 226   \n",
       "\n",
       "                    доля имевших задолженность  доля без задолженности  \n",
       "categorized_income                                                      \n",
       "от 120к до 145к                       9.002308               90.997692  \n",
       "от 90к до 120к                        8.344064               91.655936  \n",
       "от 145к до 185к                       8.297872               91.702128  \n",
       "от 185к до 235к                       8.107143               91.892857  \n",
       "меньше 90к                            7.825568               92.174432  \n",
       "больше 235к                           6.860959               93.139041  "
      ]
     },
     "execution_count": 10,
     "metadata": {},
     "output_type": "execute_result"
    }
   ],
   "source": [
    "# для выделения категорий некорректно просто целочисленно разделить максимальное сумму дохода на количествокатегорий\n",
    "# поэтому шаг был выбран произвольно, ориентировался на медиану \n",
    "\n",
    "#print(df['total_income'].median())\n",
    "\n",
    "def categorizing_total_income(row):\n",
    "    if row <= 90000:\n",
    "        return 'меньше 90к'\n",
    "    if row > 90000 and row <= 120000:\n",
    "        return 'от 90к до 120к'\n",
    "    if row > 120000 and row <= 145000:\n",
    "        return 'от 120к до 145к'\n",
    "    if row > 145000 and row <= 185000:\n",
    "        return 'от 145к до 185к'\n",
    "    if row > 185000 and row <= 235000:\n",
    "        return 'от 185к до 235к'\n",
    "    if row > 235000:\n",
    "        return 'больше 235к'\n",
    "    return 'другое'\n",
    "\n",
    "df['categorized_income'] = df['total_income'].apply(categorizing_total_income)\n",
    "\n",
    "total_income_df = df.pivot_table(index = ['categorized_income'], columns='debt', values ='total_income', aggfunc='count')\n",
    "total_income_df.set_axis(['нет задолженности','есть задолженность'], axis = 'columns',inplace = True)\n",
    "total_income_df['доля имевших задолженность'] = (total_income_df['есть задолженность'] * 100)/ (total_income_df['нет задолженности'] + total_income_df['есть задолженность'])\n",
    "total_income_df['доля без задолженности'] = (total_income_df['нет задолженности'] * 100)/ (total_income_df['нет задолженности'] + total_income_df['есть задолженность'])\n",
    "\n",
    "total_income_df.sort_values(by = 'доля имевших задолженность', ascending = False)\n",
    "\n",
    "\n"
   ]
  },
  {
   "cell_type": "markdown",
   "metadata": {},
   "source": [
    "### Вывод"
   ]
  },
  {
   "cell_type": "markdown",
   "metadata": {},
   "source": [
    "В результате анализа удалось определить, что самая высокая доля клиентов - 9% имеют общий доход в интерваое от 120 до 145 тысяч рублей. Наиболее надежными заемщиками являются клиенты с оченьвысоким доходом - больше 235 тысяч или же, напротив, с низким - до 90 тысяч рублей."
   ]
  },
  {
   "cell_type": "markdown",
   "metadata": {},
   "source": [
    "### - Как разные цели кредита влияют на его возврат в срок?<a class = \"anchor\" id ='section_3_5'>"
   ]
  },
  {
   "cell_type": "code",
   "execution_count": 11,
   "metadata": {},
   "outputs": [
    {
     "data": {
      "text/html": [
       "<div>\n",
       "<style scoped>\n",
       "    .dataframe tbody tr th:only-of-type {\n",
       "        vertical-align: middle;\n",
       "    }\n",
       "\n",
       "    .dataframe tbody tr th {\n",
       "        vertical-align: top;\n",
       "    }\n",
       "\n",
       "    .dataframe thead th {\n",
       "        text-align: right;\n",
       "    }\n",
       "</style>\n",
       "<table border=\"1\" class=\"dataframe\">\n",
       "  <thead>\n",
       "    <tr style=\"text-align: right;\">\n",
       "      <th></th>\n",
       "      <th>нет задолженности</th>\n",
       "      <th>есть задолженность</th>\n",
       "      <th>доля имевших задолженность</th>\n",
       "      <th>доля без задолженности</th>\n",
       "    </tr>\n",
       "    <tr>\n",
       "      <th>categorized_purpose</th>\n",
       "      <th></th>\n",
       "      <th></th>\n",
       "      <th></th>\n",
       "      <th></th>\n",
       "    </tr>\n",
       "  </thead>\n",
       "  <tbody>\n",
       "    <tr>\n",
       "      <td>автомобиль</td>\n",
       "      <td>3903</td>\n",
       "      <td>403</td>\n",
       "      <td>9.359034</td>\n",
       "      <td>90.640966</td>\n",
       "    </tr>\n",
       "    <tr>\n",
       "      <td>образование</td>\n",
       "      <td>3643</td>\n",
       "      <td>370</td>\n",
       "      <td>9.220035</td>\n",
       "      <td>90.779965</td>\n",
       "    </tr>\n",
       "    <tr>\n",
       "      <td>свадьба</td>\n",
       "      <td>2138</td>\n",
       "      <td>186</td>\n",
       "      <td>8.003442</td>\n",
       "      <td>91.996558</td>\n",
       "    </tr>\n",
       "    <tr>\n",
       "      <td>недвижимость</td>\n",
       "      <td>10029</td>\n",
       "      <td>782</td>\n",
       "      <td>7.233373</td>\n",
       "      <td>92.766627</td>\n",
       "    </tr>\n",
       "  </tbody>\n",
       "</table>\n",
       "</div>"
      ],
      "text/plain": [
       "                     нет задолженности  есть задолженность  \\\n",
       "categorized_purpose                                          \n",
       "автомобиль                        3903                 403   \n",
       "образование                       3643                 370   \n",
       "свадьба                           2138                 186   \n",
       "недвижимость                     10029                 782   \n",
       "\n",
       "                     доля имевших задолженность  доля без задолженности  \n",
       "categorized_purpose                                                      \n",
       "автомобиль                             9.359034               90.640966  \n",
       "образование                            9.220035               90.779965  \n",
       "свадьба                                8.003442               91.996558  \n",
       "недвижимость                           7.233373               92.766627  "
      ]
     },
     "execution_count": 11,
     "metadata": {},
     "output_type": "execute_result"
    }
   ],
   "source": [
    "df_purpose = df.pivot_table(index = ['categorized_purpose'], columns='debt', values ='purpose', aggfunc='count')\n",
    "df_purpose.set_axis(['нет задолженности','есть задолженность'], axis = 'columns',inplace = True)\n",
    "df_purpose['доля имевших задолженность'] = (df_purpose['есть задолженность'] * 100)/ (df_purpose['нет задолженности'] + df_purpose['есть задолженность'])\n",
    "df_purpose['доля без задолженности'] = (df_purpose['нет задолженности'] * 100)/ (df_purpose['нет задолженности'] + df_purpose['есть задолженность'])\n",
    "df_purpose.sort_values(by = 'доля имевших задолженность', ascending = False)\n",
    "\n"
   ]
  },
  {
   "cell_type": "markdown",
   "metadata": {},
   "source": [
    "### Вывод"
   ]
  },
  {
   "cell_type": "markdown",
   "metadata": {},
   "source": [
    "В зависимости от цели кредита самыми надежными заемщиками являются клиенты, бравшие заем на недвижимость - 7.2 % не имевших задолженность. \n",
    "Самая большая доля клиентов имевших задолженность приходится на категорию обозначевших целью кредита авто - 9.3%."
   ]
  },
  {
   "cell_type": "markdown",
   "metadata": {},
   "source": [
    "## Общий вывод <a class = \"anchor\" id ='section_4'>"
   ]
  },
  {
   "cell_type": "markdown",
   "metadata": {},
   "source": [
    "В результате исследования удалось обнаружить следующие зависимости:\n",
    "\n",
    "* Клиенты, не имеющие детей, возвращают задолженность в срок на 1.67 % чаще.\n",
    "\n",
    "* Самая высокая доля клиентов не вернувших займ в срок- 9% имеют общий доход в интервале от 120 до 145 тысяч рублей. Большая доля клиентов не имевших просроченной задолженности получают доход либо больше 235 тысяч либо же, до 90 тысяч рублей.\n",
    "\n",
    "* В зависимости от семейного положения прослеживается следующая корреляция: максимальный процент клиентов имевших задолженность наблюдается в категории 'Не женат / не замужем' - 9.7%, далее, клиенты, состоящие в гражданском браке - 9.3%, женатые и замужние -7.5%. Меньший процент клиентов н имевших задолженность находядятся в разводе - 7.1% либо являются вдовцами/вдовами - 6.5%.\n",
    "\n",
    "* В зависимости от цели кредита меньшая доля клиентов с непогашенной ранее задолженностью - бравшие заем на недвижимость - 7.2 % не имевших задолженность. Самая большая доля клиентов имевших задолженность приходится на категорию обозначивших целью кредита 'авто' - 9.3%.\n",
    "\n",
    "Опираясь на результаты исследования можно утверждать, что самыми надежными заемщиками являются люди не имеющие детей, бывшие в браке, определяющие целью кредита недвижимость и получающие суммарный доход либо более 235, либо менее 90 тыс. рублей.\n",
    "\n",
    "Нежелательными заемщиками являются клиенты с детьми,и не состоящие в браке, определяющие цель кредита как образование' или 'авто' и получающие суммарный доход в интервале от 120 до 145 тыс. рублей.\n"
   ]
  }
 ],
 "metadata": {
  "ExecuteTimeLog": [
   {
    "duration": 539,
    "start_time": "2022-02-28T20:12:04.901Z"
   },
   {
    "duration": 78,
    "start_time": "2022-02-28T20:12:05.442Z"
   },
   {
    "duration": 322,
    "start_time": "2022-02-28T20:12:05.522Z"
   },
   {
    "duration": 18,
    "start_time": "2022-02-28T20:12:05.846Z"
   },
   {
    "duration": 40,
    "start_time": "2022-02-28T20:12:05.865Z"
   },
   {
    "duration": 4067,
    "start_time": "2022-02-28T20:12:05.906Z"
   },
   {
    "duration": 28,
    "start_time": "2022-02-28T20:12:09.975Z"
   },
   {
    "duration": 34,
    "start_time": "2022-02-28T20:12:10.006Z"
   },
   {
    "duration": 20,
    "start_time": "2022-02-28T20:12:10.041Z"
   },
   {
    "duration": 54,
    "start_time": "2022-02-28T20:12:10.063Z"
   },
   {
    "duration": 21,
    "start_time": "2022-02-28T20:12:10.118Z"
   },
   {
    "duration": 5,
    "start_time": "2022-02-28T20:15:47.425Z"
   },
   {
    "duration": 4,
    "start_time": "2022-02-28T20:16:13.414Z"
   },
   {
    "duration": 5,
    "start_time": "2022-02-28T20:16:30.306Z"
   }
  ],
  "kernelspec": {
   "display_name": "Python 3",
   "language": "python",
   "name": "python3"
  },
  "language_info": {
   "codemirror_mode": {
    "name": "ipython",
    "version": 3
   },
   "file_extension": ".py",
   "mimetype": "text/x-python",
   "name": "python",
   "nbconvert_exporter": "python",
   "pygments_lexer": "ipython3",
   "version": "3.8.3"
  },
  "toc": {
   "base_numbering": 1,
   "nav_menu": {},
   "number_sections": true,
   "sideBar": true,
   "skip_h1_title": true,
   "title_cell": "Table of Contents",
   "title_sidebar": "Contents",
   "toc_cell": false,
   "toc_position": {
    "height": "calc(100% - 180px)",
    "left": "10px",
    "top": "150px",
    "width": "341.333px"
   },
   "toc_section_display": true,
   "toc_window_display": true
  }
 },
 "nbformat": 4,
 "nbformat_minor": 2
}
